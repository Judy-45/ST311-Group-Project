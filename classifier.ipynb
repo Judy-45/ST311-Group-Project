{
 "cells": [
  {
   "cell_type": "code",
   "execution_count": 2,
   "id": "bc4cdfbb",
   "metadata": {},
   "outputs": [],
   "source": [
    "# Audio Processing Script for 4s Classification Preparation\n",
    "import os\n",
    "import random\n",
    "import numpy as np\n",
    "import pandas as pd\n",
    "import soundfile as sf\n",
    "from pathlib import Path\n",
    "from pydub import AudioSegment\n",
    "from tqdm import tqdm\n",
    "from pydub.silence import split_on_silence\n",
    "\n",
    "import torch\n",
    "import torchaudio\n",
    "from torch import nn\n",
    "from torch.utils.data import Dataset, DataLoader\n",
    "from torchvision import models\n",
    "from torchaudio.transforms import MelSpectrogram, AmplitudeToDB\n",
    "from sklearn.preprocessing import MultiLabelBinarizer\n",
    "from itertools import combinations\n",
    "from torchaudio import load, save\n",
    "\n",
    "device = torch.device(\"cuda\" if torch.cuda.is_available() else \"cpu\")"
   ]
  },
  {
   "cell_type": "markdown",
   "id": "29a1d2be",
   "metadata": {},
   "source": [
    "# Process Audios"
   ]
  },
  {
   "cell_type": "code",
   "execution_count": null,
   "id": "a59c5e48",
   "metadata": {},
   "outputs": [],
   "source": [
    "# Configuration\n",
    "data_root = Path(\"E:/LSE/ST311/ST311-Group-Project/data/classifier\")\n",
    "processed_root = Path(\"E:/LSE/ST311/ST311-Group-Project/processed_data\")\n",
    "sample_rate = 16000\n",
    "random.seed(123)\n",
    "\n",
    "\n",
    "# Helper functions\n",
    "def convert_to_wav_and_load(filepath):\n",
    "    try:\n",
    "        audio = AudioSegment.from_file(filepath)\n",
    "        audio = audio.set_frame_rate(sample_rate).set_channels(1)\n",
    "        return audio\n",
    "    except Exception as e:\n",
    "        print(f\"Error converting {filepath}: {e}\")\n",
    "        return None\n",
    "\n",
    "def pad_with_gaussian_noise(audio_segment, target_ms=4000):\n",
    "    duration = len(audio_segment)\n",
    "    padding_needed = target_ms - duration\n",
    "    if padding_needed <= 0:\n",
    "        return audio_segment\n",
    "    noise = (np.random.normal(0, 10, int(padding_needed * sample_rate / 1000))\n",
    "             .astype(np.int16)\n",
    "             .tobytes())\n",
    "    noise_segment = AudioSegment(\n",
    "        noise,\n",
    "        frame_rate=sample_rate,\n",
    "        sample_width=2,\n",
    "        channels=1\n",
    "    )\n",
    "    return audio_segment + noise_segment\n",
    "\n",
    "def save_segment(audio_segment, save_path):\n",
    "    audio_segment.export(save_path, format=\"wav\")\n",
    "    \n",
    "def augment_segment_noise_or_shift(segment, sample_rate=16000, target_ms=4000):\n",
    "    '''Apply either noise or start-shift augmentation to an audio segment'''\n",
    "    method = random.choice([\"noise\", \"shift\"])\n",
    "    if method == \"noise\":\n",
    "        noise = (np.random.normal(0, 10, len(segment.get_array_of_samples()))\n",
    "                 .astype(np.int16)\n",
    "                 .tobytes())\n",
    "        noise_seg = AudioSegment(\n",
    "            noise,\n",
    "            frame_rate=sample_rate,\n",
    "            sample_width=2,\n",
    "            channels=1\n",
    "        )\n",
    "        return segment.overlay(noise_seg)\n",
    "    else:  # shift\n",
    "        max_shift_ms = 500  # shift max 0.5s\n",
    "        shift = random.randint(100, max_shift_ms)\n",
    "        silence_padding = AudioSegment.silent(duration=shift)\n",
    "        shifted = silence_padding + segment\n",
    "        return shifted[-target_ms:] if len(shifted) > target_ms else shifted"
   ]
  },
  {
   "cell_type": "code",
   "execution_count": 8,
   "id": "0872c075",
   "metadata": {},
   "outputs": [],
   "source": [
    "# Process and collect segments\n",
    "animal_data = {}\n",
    "def generate_silence(duration_ms):\n",
    "    return AudioSegment.silent(duration=duration_ms)\n",
    "\n",
    "for folder in data_root.glob(\"*\"):\n",
    "    if not folder.is_dir():\n",
    "        continue\n",
    "    label = folder.name.lower() # extract labels according to folder name\n",
    "    if label not in animal_data:\n",
    "        animal_data[label] = []\n",
    "\n",
    "    for file in folder.rglob(\"*.*\"):\n",
    "        if file.suffix.lower() not in [\".wav\", \".m4a\", \".mp3\", \".mp4\", \"mepg\"]:\n",
    "            continue\n",
    "        audio = convert_to_wav_and_load(file)\n",
    "        if not audio:\n",
    "            continue\n",
    "\n",
    "        chunks = split_on_silence(audio, silence_thresh=-40, min_silence_len=500, keep_silence=100)\n",
    "\n",
    "        def is_truly_silent(chunk, silence_threshold_db=-40, min_length_ms=1500):\n",
    "            return len(chunk) >= min_length_ms and chunk.dBFS < silence_threshold_db\n",
    "\n",
    "        for chunk in chunks:\n",
    "            if len(chunk) >= 500 and not is_truly_silent(chunk):  # keep chunks whose length equals to or longer than 500ms\n",
    "                if len(chunk) >= 4000:\n",
    "                    for i in range(0, len(chunk) - 3999, 4000):\n",
    "                        seg = chunk[i:i + 4000]\n",
    "                        animal_data[label].append(seg)\n",
    "                else:\n",
    "                    padded = pad_with_gaussian_noise(chunk, 4000)\n",
    "                    animal_data[label].append(padded)"
   ]
  },
  {
   "cell_type": "code",
   "execution_count": null,
   "id": "6179bccd",
   "metadata": {},
   "outputs": [
    {
     "name": "stdout",
     "output_type": "stream",
     "text": [
      "[bird] original: 997, saved: 997\n",
      "[cat] original: 1840, saved: 1840\n",
      "[cow] original: 393, saved: 393\n",
      "[dog] original: 1093, saved: 1093\n",
      "[elephant] original: 672, saved: 672\n",
      "[horse] original: 735, saved: 735\n",
      "[lion] original: 683, saved: 683\n",
      "[sheep] original: 413, saved: 413\n"
     ]
    }
   ],
   "source": [
    "# Save all the segments with their labels\n",
    "csv_entries = []\n",
    "\n",
    "for label, segments in animal_data.items():\n",
    "    random.shuffle(segments)\n",
    "    original_count = len(segments)\n",
    "    segments_to_save = segments\n",
    "\n",
    "    # save_dir\n",
    "    out_dir = processed_root / label\n",
    "    out_dir.mkdir(parents=True, exist_ok=True)\n",
    "\n",
    "    print(f\"[{label}] original: {original_count}, saved: {len(segments_to_save)}\")  # print the number of segments\n",
    "\n",
    "    for idx, seg in enumerate(segments_to_save):\n",
    "        name = f\"{label}_{idx+1:04d}.wav\"\n",
    "        save_path = out_dir / name\n",
    "        save_segment(seg, save_path)\n",
    "        csv_entries.append({\"file\": name, \"label\": label})\n",
    "\n",
    "df = pd.DataFrame(csv_entries)\n",
    "df.to_csv(processed_root / \"dataset.csv\", index=False)"
   ]
  },
  {
   "cell_type": "markdown",
   "id": "a95f6a99",
   "metadata": {},
   "source": [
    "# Prepare Dataest"
   ]
  },
  {
   "cell_type": "code",
   "execution_count": 3,
   "id": "fb032e4f",
   "metadata": {},
   "outputs": [],
   "source": [
    "# Split dataset into train/test sets\n",
    "def create_balanced_splits_from_master(csv_path, max_per_class=700, train_ratio=0.8, seed=123):\n",
    "    \"\"\"\n",
    "    Create train/test CSV splits from a master dataset.csv.\n",
    "    \n",
    "    max_per_class: the highest number of samples a class's train set could have (randomly sampled if more)\n",
    "    \"\"\"\n",
    "    df_all = pd.read_csv(csv_path)\n",
    "    grouped = df_all.groupby('label')\n",
    "\n",
    "    train_rows = []\n",
    "    test_rows = []\n",
    "\n",
    "    for label, group in grouped:\n",
    "        group = group.sample(frac=1.0, random_state=seed).reset_index(drop=True)\n",
    "        if len(group) > max_per_class:\n",
    "            group = group.iloc[:max_per_class]\n",
    "\n",
    "        split_point = int(len(group) * train_ratio)\n",
    "        train_rows.extend(group.iloc[:split_point].to_dict('records'))\n",
    "        test_rows.extend(group.iloc[split_point:].to_dict('records'))\n",
    "\n",
    "    df_train = pd.DataFrame(train_rows)\n",
    "    df_test = pd.DataFrame(test_rows)\n",
    "    \n",
    "    return df_train, df_test\n",
    "\n",
    "def prepare_balanced_dataset(master_dataset, split_dir, target_per_class=700, train_ratio=0.8, seed=123):\n",
    "    \"\"\"\n",
    "    Create a balanced train/test split from a master dataset CSV.\n",
    "\n",
    "    Args:\n",
    "        processed_root (Path): Path to the root directory where dataset.csv exists.\n",
    "        target_per_class (int): Max samples per class to keep.\n",
    "        train_ratio (float): Ratio of data used for training.\n",
    "        seed (int): Random seed for reproducibility.\n",
    "    \"\"\"            \n",
    "    df_train, df_test = create_balanced_splits_from_master(master_dataset, max_per_class=target_per_class, train_ratio=train_ratio, seed=seed)\n",
    "    \n",
    "    df_train.to_csv(split_dir / \"train.csv\", index=False)\n",
    "    df_test.to_csv(split_dir / \"test.csv\", index=False)\n",
    "    \n",
    "    train_csv = split_dir / \"train.csv\"\n",
    "    test_csv = split_dir / \"test.csv\"\n",
    "        \n",
    "    print(f\"Train CSV saved to: {train_csv}\")\n",
    "    print(f\"Test CSV saved to: {test_csv}\")\n",
    "    \n",
    "    return train_csv, test_csv\n"
   ]
  },
  {
   "cell_type": "markdown",
   "id": "5ca8c202",
   "metadata": {},
   "source": [
    "## Augment on Sheep Data"
   ]
  },
  {
   "cell_type": "code",
   "execution_count": null,
   "id": "8a24f230",
   "metadata": {},
   "outputs": [],
   "source": [
    "csv_path = Path(\"E:/LSE/ST311/ST311-Group-Project/csv_files\")\n",
    "master_dataset = csv_path / \"dataset.csv\"\n",
    "\n",
    "# new destination for augmented data\n",
    "new_csv_file = csv_path / \"dataset_augmented.csv\"\n",
    "\n",
    "# load CSV\n",
    "master_df = pd.read_csv(master_dataset)\n",
    "augmented_entries = []\n",
    "\n",
    "# set augmentation count (30% of the original sheep data)\n",
    "sheep_df = master_df[master_df['label'] == 'sheep']\n",
    "augment_count = int(0.5 * len(sheep_df))\n",
    "\n",
    "def augment_with_noise(filepath):\n",
    "    waveform, sr = torchaudio.load(filepath)\n",
    "    noise = 0.02 * torch.randn_like(waveform)\n",
    "    return waveform + noise, sr\n",
    "\n",
    "for i in range(augment_count):\n",
    "    row = sheep_df.sample(n=1).iloc[0]\n",
    "    filepath = processed_root / row['label'] / row['file']\n",
    "    waveform_aug, sr = augment_with_noise(filepath)\n",
    "\n",
    "    new_name = row['file'].replace(\".wav\", f\"_aug{i+1}.wav\")\n",
    "    new_path = processed_root / row['label'] / new_name\n",
    "    torchaudio.save(new_path.as_posix(), waveform_aug, sr)\n",
    "\n",
    "    augmented_entries.append({\"file\": new_name, \"label\": \"sheep\"})\n",
    "\n",
    "df_aug = pd.DataFrame(augmented_entries)\n",
    "df_combined = pd.concat([df, df_aug], ignore_index=True)\n",
    "df_combined.to_csv(new_csv_file, index=False)"
   ]
  },
  {
   "cell_type": "code",
   "execution_count": 49,
   "id": "5e81b6a1",
   "metadata": {},
   "outputs": [
    {
     "name": "stdout",
     "output_type": "stream",
     "text": [
      "label\n",
      "cat         1840\n",
      "dog         1093\n",
      "bird         997\n",
      "horse        735\n",
      "lion         683\n",
      "elephant     672\n",
      "sheep        619\n",
      "cow          393\n",
      "Name: count, dtype: int64\n"
     ]
    }
   ],
   "source": [
    "csv_path = Path(\"E:/LSE/ST311/ST311-Group-Project/csv_files\")\n",
    "csv_file = csv_path / 'dataset_augmented.csv'\n",
    "df = pd.read_csv(csv_file)\n",
    "\n",
    "print(df['label'].value_counts())"
   ]
  },
  {
   "cell_type": "markdown",
   "id": "906fc8c4",
   "metadata": {},
   "source": [
    "# Build Model"
   ]
  },
  {
   "cell_type": "markdown",
   "id": "57827ec7",
   "metadata": {},
   "source": [
    "## Model Structure"
   ]
  },
  {
   "cell_type": "markdown",
   "id": "a24252ce",
   "metadata": {},
   "source": [
    "### ResNet"
   ]
  },
  {
   "cell_type": "code",
   "execution_count": 4,
   "id": "5def2bcc",
   "metadata": {},
   "outputs": [],
   "source": [
    "class ResNetClassifier(nn.Module):\n",
    "    # Replacing original ResNet18's last layer with a custom classifier for multi-label classification\n",
    "    def __init__(self, num_classes, use_dropout=False, dropout_rate=0.3):\n",
    "        super().__init__()\n",
    "        # Load a pretrained ResNet18 and modify the first and last layers\n",
    "        resnet = models.resnet18(pretrained=True)\n",
    "        resnet.conv1 = nn.Conv2d(1, 64, kernel_size=7, stride=2, padding=3, bias=False)\n",
    "        self.backbone = nn.Sequential(*list(resnet.children())[:-1])  # remove last layer(avg pool and fc) because we will use our own mlb classifier\n",
    "\n",
    "        layers = [\n",
    "            nn.Flatten(),# (B, 512, 1, 1) -> (B, 512)\n",
    "            nn.Linear(512, 256),\n",
    "            nn.ReLU()# apply ReLU activation function to introduce non-linearity\n",
    "        ]\n",
    "        if use_dropout:\n",
    "            layers.append(nn.Dropout(p=dropout_rate))\n",
    "        layers.append(nn.Linear(256, num_classes))# output logits for BCEWithLogitsLoss\n",
    "        \n",
    "        self.classifier = nn.Sequential(*layers)\n",
    "        \n",
    "    def forward(self, x):\n",
    "        x = self.backbone(x)\n",
    "        x = self.classifier(x)\n",
    "        return x"
   ]
  },
  {
   "cell_type": "markdown",
   "id": "7a31478e",
   "metadata": {},
   "source": [
    "### ResNet with Transformer"
   ]
  },
  {
   "cell_type": "code",
   "execution_count": 5,
   "id": "39a82182",
   "metadata": {},
   "outputs": [],
   "source": [
    "class ResNetTransformerClassifier(nn.Module):\n",
    "    # The ResNet backbone is used to extract features from the spectrograms, and the transformer processes the sequence of features\n",
    "    def __init__(self, num_classes, transformer_dim=512, \n",
    "                 num_heads=4, num_layers=2, use_dropout=False, dropout_rate=0.3):\n",
    "        super().__init__()\n",
    "        resnet = models.resnet18(pretrained=True)\n",
    "        resnet.conv1 = nn.Conv2d(1, 64, kernel_size=7, stride=2, padding=3, bias=False)\n",
    "        self.backbone = nn.Sequential(*list(resnet.children())[:-2])# remove the last two layers since we only need the feature extractor\n",
    "        # average pool is more stable and robust than max pool for the transformer input\n",
    "        self.pool = nn.AdaptiveAvgPool2d((32, 1))# reduce the feature map to (32, 1) to match the transformer input size\n",
    "        self.flatten = nn.Flatten(2)# flatten to (batch_size, feature_dim, seq_len)\n",
    "        self.transpose = lambda x: x.transpose(1, 2)# transpose to (batch_size, seq_len, feature_dim)\n",
    "                \n",
    "        # build the transformer encoder with self-attention mechanism and feed-forward network\n",
    "        encoder_layer = nn.TransformerEncoderLayer(d_model=transformer_dim, nhead=num_heads, batch_first=True)\n",
    "        self.transformer = nn.TransformerEncoder(encoder_layer, num_layers=num_layers)\n",
    "        \n",
    "        layers = [\n",
    "            nn.Linear(transformer_dim, 256),\n",
    "            nn.ReLU()\n",
    "        ]\n",
    "        if use_dropout:\n",
    "            layers.append(nn.Dropout(p=dropout_rate))\n",
    "        layers.append(nn.Linear(256, num_classes))\n",
    "\n",
    "        self.classifier = nn.Sequential(*layers)\n",
    "        \n",
    "    def forward(self, x):\n",
    "        x = self.backbone(x)\n",
    "        # transform feature map to (batch_size, seq_len, feature_dim) for transformer input\n",
    "        x = self.pool(x)\n",
    "        x = self.flatten(x)\n",
    "        x = self.transpose(x)\n",
    "        x = self.transformer(x)\n",
    "        x = x.mean(dim=1)# averaging the features across the sequence length\n",
    "        x = self.classifier(x)\n",
    "        return x"
   ]
  },
  {
   "cell_type": "markdown",
   "id": "75011080",
   "metadata": {},
   "source": [
    "## Metrics"
   ]
  },
  {
   "cell_type": "code",
   "execution_count": 6,
   "id": "ca7bb0b1",
   "metadata": {},
   "outputs": [],
   "source": [
    "# Metrics function\n",
    "def compute_ap(y_true, y_score):\n",
    "    \"\"\"\n",
    "    Compute average precision for one class using torch only.\n",
    "    \"\"\"\n",
    "    # Sort by predicted score\n",
    "    sorted_indices = torch.argsort(y_score, descending=True)\n",
    "    y_true = y_true[sorted_indices]\n",
    "\n",
    "    correct = 0\n",
    "    total = 0\n",
    "    precision_sum = 0\n",
    "\n",
    "    for i in range(len(y_true)):\n",
    "        if y_true[i] == 1:\n",
    "            correct += 1\n",
    "            precision = correct / (i + 1)\n",
    "            precision_sum += precision\n",
    "            total += 1\n",
    "\n",
    "    if total == 0:\n",
    "        return torch.tensor(0.0)\n",
    "    return precision_sum / total\n",
    "\n",
    "def multilabel_metrics(y_pred, y_true, threshold=0.5, eps=1e-8):\n",
    "    y_pred = torch.sigmoid(y_pred)\n",
    "    y_pred_bin = (y_pred > threshold).float()\n",
    "\n",
    "    tp = (y_pred_bin * y_true).sum(dim=0)\n",
    "    fp = (y_pred_bin * (1 - y_true)).sum(dim=0)\n",
    "    fn = ((1 - y_pred_bin) * y_true).sum(dim=0)\n",
    "\n",
    "    precision = tp / (tp + fp + eps)\n",
    "    recall = tp / (tp + fn + eps)\n",
    "    f1 = 2 * precision * recall / (precision + recall + eps)\n",
    "\n",
    "    # Compute mAP (pure torch version)\n",
    "    macro_ap = 0\n",
    "    for i in range(y_true.size(1)):  # for each class\n",
    "        ap = compute_ap(y_true[:, i], y_pred[:, i])\n",
    "        macro_ap += ap\n",
    "    macro_ap /= y_true.size(1)\n",
    "\n",
    "    return (\n",
    "        precision.mean().item(),\n",
    "        recall.mean().item(),\n",
    "        f1.mean().item(),\n",
    "        macro_ap,\n",
    "        precision,\n",
    "        recall,\n",
    "        f1\n",
    "    )"
   ]
  },
  {
   "cell_type": "markdown",
   "id": "690f088c",
   "metadata": {},
   "source": [
    "## Load Data and Set Configuration"
   ]
  },
  {
   "cell_type": "code",
   "execution_count": 8,
   "id": "d4f5b1d1",
   "metadata": {},
   "outputs": [],
   "source": [
    "n_mels = 128\n",
    "n_fft = 1024\n",
    "hop_length = 512\n",
    "target_duration_sec = 4\n",
    "sample_rate = 16000\n",
    "target_length = sample_rate * target_duration_sec\n",
    "\n",
    "# Preprocessing transforms\n",
    "mel_transform = nn.Sequential(\n",
    "    MelSpectrogram(sample_rate=sample_rate, n_fft=n_fft, hop_length=hop_length, n_mels=n_mels),\n",
    "    AmplitudeToDB()\n",
    ")\n",
    "\n",
    "class AudioDataset(Dataset):\n",
    "    def __init__(self, the_df, audio_dir, label_matrix, input_length):\n",
    "        self.df = the_df\n",
    "        self.audio_dir = audio_dir\n",
    "        self.label_matrix = torch.tensor(label_matrix, dtype=torch.float32)\n",
    "        self.input_length = input_length\n",
    "\n",
    "    def __len__(self):\n",
    "        return len(self.df)\n",
    "\n",
    "    def __getitem__(self, idx):\n",
    "        row = self.df.iloc[idx]\n",
    "        if '_mix_' in row['file']:\n",
    "            filepath = self.audio_dir / \"mixed\" / row['file']\n",
    "        else:\n",
    "            filepath = self.audio_dir / row['label'] / row['file']\n",
    "        waveform, sr = torchaudio.load(filepath)\n",
    "        if waveform.shape[1] < self.input_length:\n",
    "            waveform = torch.nn.functional.pad(waveform, (0, self.input_length - waveform.shape[1]))\n",
    "        elif waveform.shape[1] > self.input_length:\n",
    "            waveform = waveform[:, :self.input_length]\n",
    "        mel_spec = mel_transform(waveform).squeeze(0)\n",
    "        label_vec = self.label_matrix[idx]\n",
    "        return mel_spec.unsqueeze(0), label_vec\n",
    "    \n",
    "def setup_dataloaders(train_csv_path, test_csv_path, audio_root, batch_size=16, val_ratio=0.1, input_length=64000):\n",
    "    df_all = pd.read_csv(train_csv_path)\n",
    "    df_all['label_list'] = df_all['label'].str.split(',')\n",
    "\n",
    "    mlb = MultiLabelBinarizer()\n",
    "    label_matrix_all = mlb.fit_transform(df_all['label_list'])\n",
    "\n",
    "    # Shuffle both df_all and label_matrix_all in the same order\n",
    "    shuffled_indices = np.random.RandomState(seed=123).permutation(len(df_all))\n",
    "    df_all = df_all.iloc[shuffled_indices].reset_index(drop=True)\n",
    "    label_matrix_all = label_matrix_all[shuffled_indices]\n",
    "\n",
    "    # Split\n",
    "    split_point = int(len(df_all) * (1 - val_ratio))\n",
    "    df_train = df_all.iloc[:split_point].reset_index(drop=True)\n",
    "    df_val = df_all.iloc[split_point:].reset_index(drop=True)\n",
    "\n",
    "    label_matrix_train = label_matrix_all[:split_point]\n",
    "    label_matrix_val = label_matrix_all[split_point:]\n",
    "\n",
    "    train_set = AudioDataset(df_train, audio_root, label_matrix_train, input_length)\n",
    "    val_set = AudioDataset(df_val, audio_root, label_matrix_val, input_length)\n",
    "\n",
    "    train_loader = DataLoader(train_set, batch_size=batch_size, shuffle=True)\n",
    "    val_loader = DataLoader(val_set, batch_size=batch_size)\n",
    "\n",
    "    df_test = pd.read_csv(test_csv_path)\n",
    "    df_test['label_list'] = df_test['label'].str.split(',')\n",
    "    label_matrix_test = mlb.transform(df_test['label_list'])\n",
    "\n",
    "    test_set = AudioDataset(df_test, audio_root, label_matrix_test, input_length)\n",
    "    test_loader = DataLoader(test_set, batch_size=batch_size)\n",
    "\n",
    "    return train_loader, val_loader, test_loader, mlb.classes_, label_matrix_train\n"
   ]
  },
  {
   "cell_type": "markdown",
   "id": "3e80efff",
   "metadata": {},
   "source": [
    "# Training"
   ]
  },
  {
   "cell_type": "markdown",
   "id": "48d1b9d9",
   "metadata": {},
   "source": [
    "## ResNet TransformerClassifier\n",
    "\n",
    "Batch size = 32, learning rate = 1e-4"
   ]
  },
  {
   "cell_type": "code",
   "execution_count": 171,
   "id": "3221973a",
   "metadata": {},
   "outputs": [
    {
     "name": "stdout",
     "output_type": "stream",
     "text": [
      "Train CSV saved to: E:\\LSE\\ST311\\ST311-Group-Project\\csv_files\\augmented_splits\\train.csv\n",
      "Test CSV saved to: E:\\LSE\\ST311\\ST311-Group-Project\\csv_files\\augmented_splits\\test.csv\n"
     ]
    },
    {
     "name": "stderr",
     "output_type": "stream",
     "text": [
      "d:\\miniconda\\envs\\st311_final\\lib\\site-packages\\torchvision\\models\\_utils.py:208: UserWarning: The parameter 'pretrained' is deprecated since 0.13 and may be removed in the future, please use 'weights' instead.\n",
      "  warnings.warn(\n",
      "d:\\miniconda\\envs\\st311_final\\lib\\site-packages\\torchvision\\models\\_utils.py:223: UserWarning: Arguments other than a weight enum or `None` for 'weights' are deprecated since 0.13 and may be removed in the future. The current behavior is equivalent to passing `weights=ResNet18_Weights.IMAGENET1K_V1`. You can also use `weights=ResNet18_Weights.DEFAULT` to get the most up-to-date weights.\n",
      "  warnings.warn(msg)\n"
     ]
    }
   ],
   "source": [
    "target_per_class = 700\n",
    "train_ratio = 0.8\n",
    "\n",
    "aug_split_dir = csv_path / \"augmented_splits\"\n",
    "\n",
    "a_train_csv, a_test_csv = prepare_balanced_dataset(master_dataset=new_csv_file,\n",
    "                                               split_dir=aug_split_dir,\n",
    "                                               target_per_class=target_per_class, train_ratio=train_ratio)\n",
    "\n",
    "num_epochs = 100\n",
    "early_stop_patience = 10\n",
    "learning_rate = 1e-4\n",
    "batch_size = 32\n",
    "\n",
    "train_loader, val_loader, test_loader,all_labels, train_label_matrix = setup_dataloaders(\n",
    "    train_csv_path=a_train_csv,\n",
    "    test_csv_path=a_test_csv,\n",
    "    audio_root=processed_root,\n",
    "    batch_size=batch_size,\n",
    "    val_ratio=0.1\n",
    ")\n",
    "\n",
    "label_to_index = {label: i for i, label in enumerate(all_labels)}\n",
    "index_to_label = {i: label for i, label in enumerate(all_labels)}\n",
    "\n",
    "label_counts = train_label_matrix.sum(axis=0)\n",
    "total_samples = train_label_matrix.shape[0]\n",
    "num_classes = train_label_matrix.shape[1]\n",
    "\n",
    "pos_weight = total_samples / (label_counts)\n",
    "pos_weight = torch.tensor(pos_weight, dtype=torch.float32).to(device)\n",
    "\n",
    "# Model\n",
    "model = ResNetTransformerClassifier(num_classes).to(device)\n",
    "criterion = nn.BCEWithLogitsLoss(pos_weight=pos_weight)\n",
    "optimizer = torch.optim.Adam(model.parameters(), lr=learning_rate)"
   ]
  },
  {
   "cell_type": "code",
   "execution_count": 172,
   "id": "c8937994",
   "metadata": {},
   "outputs": [
    {
     "name": "stderr",
     "output_type": "stream",
     "text": [
      "Epoch 1/100:   0%|          | 0/117 [00:00<?, ?it/s]"
     ]
    },
    {
     "name": "stderr",
     "output_type": "stream",
     "text": [
      "Epoch 1/100: 100%|██████████| 117/117 [00:15<00:00,  7.69it/s, loss=0.645]\n"
     ]
    },
    {
     "name": "stdout",
     "output_type": "stream",
     "text": [
      "Val Loss: 0.3523, Map:0.9317, Macro P: 0.7071, R: 0.9297, F1: 0.7951\n",
      "Per-class F1:\n",
      "  bird: P=0.891, R=0.934, F1=0.912\n",
      "  cat: P=0.730, R=0.885, F1=0.800\n",
      "  cow: P=0.550, R=1.000, F1=0.710\n",
      "  dog: P=0.783, R=0.922, F1=0.847\n",
      "  elephant: P=0.759, R=0.804, F1=0.781\n",
      "  horse: P=0.747, R=0.937, F1=0.831\n",
      "  lion: P=0.679, R=1.000, F1=0.809\n",
      "  sheep: P=0.518, R=0.957, F1=0.672\n",
      "Saved best model.\n"
     ]
    },
    {
     "name": "stderr",
     "output_type": "stream",
     "text": [
      "Epoch 2/100: 100%|██████████| 117/117 [00:14<00:00,  7.84it/s, loss=0.233]\n"
     ]
    },
    {
     "name": "stdout",
     "output_type": "stream",
     "text": [
      "Val Loss: 0.2342, Map:0.9653, Macro P: 0.8268, R: 0.9543, F1: 0.8811\n",
      "Per-class F1:\n",
      "  bird: P=0.934, R=0.934, F1=0.934\n",
      "  cat: P=0.758, R=0.962, F1=0.847\n",
      "  cow: P=0.912, R=0.939, F1=0.925\n",
      "  dog: P=0.904, R=0.922, F1=0.913\n",
      "  elephant: P=0.685, R=0.980, F1=0.806\n",
      "  horse: P=0.697, R=0.984, F1=0.816\n",
      "  lion: P=0.792, R=1.000, F1=0.884\n",
      "  sheep: P=0.933, R=0.913, F1=0.923\n",
      "Saved best model.\n"
     ]
    },
    {
     "name": "stderr",
     "output_type": "stream",
     "text": [
      "Epoch 3/100: 100%|██████████| 117/117 [00:15<00:00,  7.70it/s, loss=0.127]\n"
     ]
    },
    {
     "name": "stdout",
     "output_type": "stream",
     "text": [
      "Val Loss: 0.2010, Map:0.9645, Macro P: 0.8465, R: 0.9626, F1: 0.8987\n",
      "Per-class F1:\n",
      "  bird: P=1.000, R=0.967, F1=0.983\n",
      "  cat: P=0.696, R=0.923, F1=0.793\n",
      "  cow: P=0.909, R=0.909, F1=0.909\n",
      "  dog: P=0.817, R=0.961, F1=0.883\n",
      "  elephant: P=0.823, R=1.000, F1=0.903\n",
      "  horse: P=0.805, R=0.984, F1=0.886\n",
      "  lion: P=0.877, R=1.000, F1=0.934\n",
      "  sheep: P=0.846, R=0.957, F1=0.898\n",
      "Saved best model.\n"
     ]
    },
    {
     "name": "stderr",
     "output_type": "stream",
     "text": [
      "Epoch 4/100: 100%|██████████| 117/117 [00:15<00:00,  7.74it/s, loss=0.113]\n"
     ]
    },
    {
     "name": "stdout",
     "output_type": "stream",
     "text": [
      "Val Loss: 0.1645, Map:0.9798, Macro P: 0.8612, R: 0.9611, F1: 0.9027\n",
      "Per-class F1:\n",
      "  bird: P=0.935, R=0.951, F1=0.943\n",
      "  cat: P=0.959, R=0.904, F1=0.931\n",
      "  cow: P=0.600, R=1.000, F1=0.750\n",
      "  dog: P=0.942, R=0.961, F1=0.951\n",
      "  elephant: P=0.980, R=0.980, F1=0.980\n",
      "  horse: P=0.808, R=0.937, F1=0.868\n",
      "  lion: P=0.864, R=1.000, F1=0.927\n",
      "  sheep: P=0.800, R=0.957, F1=0.871\n",
      "Saved best model.\n"
     ]
    },
    {
     "name": "stderr",
     "output_type": "stream",
     "text": [
      "Epoch 5/100: 100%|██████████| 117/117 [00:15<00:00,  7.68it/s, loss=0.0839]\n"
     ]
    },
    {
     "name": "stdout",
     "output_type": "stream",
     "text": [
      "Val Loss: 0.1198, Map:0.9859, Macro P: 0.8902, R: 0.9813, F1: 0.9327\n",
      "Per-class F1:\n",
      "  bird: P=0.968, R=0.984, F1=0.976\n",
      "  cat: P=0.909, R=0.962, F1=0.935\n",
      "  cow: P=0.892, R=1.000, F1=0.943\n",
      "  dog: P=0.862, R=0.980, F1=0.917\n",
      "  elephant: P=0.806, R=0.980, F1=0.885\n",
      "  horse: P=0.838, R=0.984, F1=0.905\n",
      "  lion: P=0.889, R=0.982, F1=0.933\n",
      "  sheep: P=0.957, R=0.978, F1=0.968\n",
      "Saved best model.\n"
     ]
    },
    {
     "name": "stderr",
     "output_type": "stream",
     "text": [
      "Epoch 6/100: 100%|██████████| 117/117 [00:14<00:00,  7.81it/s, loss=0.0834]\n"
     ]
    },
    {
     "name": "stdout",
     "output_type": "stream",
     "text": [
      "Val Loss: 0.1750, Map:0.9723, Macro P: 0.8697, R: 0.9553, F1: 0.9093\n",
      "Per-class F1:\n",
      "  bird: P=0.984, R=0.984, F1=0.984\n",
      "  cat: P=0.926, R=0.962, F1=0.943\n",
      "  cow: P=0.775, R=0.939, F1=0.849\n",
      "  dog: P=0.891, R=0.961, F1=0.925\n",
      "  elephant: P=0.904, R=0.922, F1=0.913\n",
      "  horse: P=0.831, R=0.937, F1=0.881\n",
      "  lion: P=0.875, R=0.982, F1=0.926\n",
      "  sheep: P=0.772, R=0.957, F1=0.854\n",
      "No improvement. Patience: 1/10\n"
     ]
    },
    {
     "name": "stderr",
     "output_type": "stream",
     "text": [
      "Epoch 7/100: 100%|██████████| 117/117 [00:15<00:00,  7.77it/s, loss=0.049] \n"
     ]
    },
    {
     "name": "stdout",
     "output_type": "stream",
     "text": [
      "Val Loss: 0.1907, Map:0.976, Macro P: 0.9050, R: 0.9499, F1: 0.9262\n",
      "Per-class F1:\n",
      "  bird: P=0.935, R=0.951, F1=0.943\n",
      "  cat: P=0.941, R=0.923, F1=0.932\n",
      "  cow: P=0.914, R=0.970, F1=0.941\n",
      "  dog: P=0.889, R=0.941, F1=0.914\n",
      "  elephant: P=0.962, R=1.000, F1=0.981\n",
      "  horse: P=0.831, R=0.937, F1=0.881\n",
      "  lion: P=0.833, R=0.965, F1=0.894\n",
      "  sheep: P=0.933, R=0.913, F1=0.923\n",
      "No improvement. Patience: 2/10\n"
     ]
    },
    {
     "name": "stderr",
     "output_type": "stream",
     "text": [
      "Epoch 8/100: 100%|██████████| 117/117 [00:15<00:00,  7.65it/s, loss=0.0508]\n"
     ]
    },
    {
     "name": "stdout",
     "output_type": "stream",
     "text": [
      "Val Loss: 0.1610, Map:0.9809, Macro P: 0.9081, R: 0.9597, F1: 0.9310\n",
      "Per-class F1:\n",
      "  bird: P=0.937, R=0.967, F1=0.952\n",
      "  cat: P=0.941, R=0.923, F1=0.932\n",
      "  cow: P=0.786, R=1.000, F1=0.880\n",
      "  dog: P=0.926, R=0.980, F1=0.952\n",
      "  elephant: P=0.877, R=0.980, F1=0.926\n",
      "  horse: P=0.909, R=0.952, F1=0.930\n",
      "  lion: P=0.889, R=0.982, F1=0.933\n",
      "  sheep: P=1.000, R=0.891, F1=0.943\n",
      "No improvement. Patience: 3/10\n"
     ]
    },
    {
     "name": "stderr",
     "output_type": "stream",
     "text": [
      "Epoch 9/100: 100%|██████████| 117/117 [00:15<00:00,  7.48it/s, loss=0.0407]\n"
     ]
    },
    {
     "name": "stdout",
     "output_type": "stream",
     "text": [
      "Val Loss: 0.1758, Map:0.9894, Macro P: 0.8983, R: 0.9555, F1: 0.9233\n",
      "Per-class F1:\n",
      "  bird: P=0.966, R=0.934, F1=0.950\n",
      "  cat: P=1.000, R=0.904, F1=0.949\n",
      "  cow: P=0.914, R=0.970, F1=0.941\n",
      "  dog: P=0.941, R=0.941, F1=0.941\n",
      "  elephant: P=0.806, R=0.980, F1=0.885\n",
      "  horse: P=0.922, R=0.937, F1=0.929\n",
      "  lion: P=0.803, R=1.000, F1=0.891\n",
      "  sheep: P=0.833, R=0.978, F1=0.900\n",
      "No improvement. Patience: 4/10\n"
     ]
    },
    {
     "name": "stderr",
     "output_type": "stream",
     "text": [
      "Epoch 10/100: 100%|██████████| 117/117 [00:15<00:00,  7.44it/s, loss=0.0466]\n"
     ]
    },
    {
     "name": "stdout",
     "output_type": "stream",
     "text": [
      "Val Loss: 0.1713, Map:0.9716, Macro P: 0.8996, R: 0.9610, F1: 0.9273\n",
      "Per-class F1:\n",
      "  bird: P=0.952, R=0.967, F1=0.959\n",
      "  cat: P=1.000, R=0.885, F1=0.939\n",
      "  cow: P=0.941, R=0.970, F1=0.955\n",
      "  dog: P=0.828, R=0.941, F1=0.881\n",
      "  elephant: P=0.906, R=0.941, F1=0.923\n",
      "  horse: P=0.886, R=0.984, F1=0.932\n",
      "  lion: P=0.864, R=1.000, F1=0.927\n",
      "  sheep: P=0.821, R=1.000, F1=0.902\n",
      "No improvement. Patience: 5/10\n"
     ]
    },
    {
     "name": "stderr",
     "output_type": "stream",
     "text": [
      "Epoch 11/100: 100%|██████████| 117/117 [00:15<00:00,  7.48it/s, loss=0.0445]\n"
     ]
    },
    {
     "name": "stdout",
     "output_type": "stream",
     "text": [
      "Val Loss: 0.1730, Map:0.983, Macro P: 0.9118, R: 0.9514, F1: 0.9307\n",
      "Per-class F1:\n",
      "  bird: P=0.951, R=0.951, F1=0.951\n",
      "  cat: P=0.920, R=0.885, F1=0.902\n",
      "  cow: P=0.943, R=1.000, F1=0.971\n",
      "  dog: P=0.907, R=0.961, F1=0.933\n",
      "  elephant: P=0.902, R=0.902, F1=0.902\n",
      "  horse: P=0.882, R=0.952, F1=0.916\n",
      "  lion: P=0.889, R=0.982, F1=0.933\n",
      "  sheep: P=0.900, R=0.978, F1=0.938\n",
      "No improvement. Patience: 6/10\n"
     ]
    },
    {
     "name": "stderr",
     "output_type": "stream",
     "text": [
      "Epoch 12/100: 100%|██████████| 117/117 [00:15<00:00,  7.46it/s, loss=0.0282]\n"
     ]
    },
    {
     "name": "stdout",
     "output_type": "stream",
     "text": [
      "Val Loss: 0.1758, Map:0.9834, Macro P: 0.9185, R: 0.9566, F1: 0.9362\n",
      "Per-class F1:\n",
      "  bird: P=0.967, R=0.967, F1=0.967\n",
      "  cat: P=0.940, R=0.904, F1=0.922\n",
      "  cow: P=0.825, R=1.000, F1=0.904\n",
      "  dog: P=0.942, R=0.961, F1=0.951\n",
      "  elephant: P=0.926, R=0.980, F1=0.952\n",
      "  horse: P=0.881, R=0.937, F1=0.908\n",
      "  lion: P=0.931, R=0.947, F1=0.939\n",
      "  sheep: P=0.936, R=0.957, F1=0.946\n",
      "No improvement. Patience: 7/10\n"
     ]
    },
    {
     "name": "stderr",
     "output_type": "stream",
     "text": [
      "Epoch 13/100: 100%|██████████| 117/117 [00:15<00:00,  7.45it/s, loss=0.0198]\n"
     ]
    },
    {
     "name": "stdout",
     "output_type": "stream",
     "text": [
      "Val Loss: 0.1948, Map:0.9847, Macro P: 0.8847, R: 0.9519, F1: 0.9150\n",
      "Per-class F1:\n",
      "  bird: P=1.000, R=0.902, F1=0.948\n",
      "  cat: P=0.847, R=0.962, F1=0.901\n",
      "  cow: P=0.917, R=1.000, F1=0.957\n",
      "  dog: P=0.923, R=0.941, F1=0.932\n",
      "  elephant: P=0.781, R=0.980, F1=0.870\n",
      "  horse: P=0.891, R=0.905, F1=0.898\n",
      "  lion: P=0.885, R=0.947, F1=0.915\n",
      "  sheep: P=0.833, R=0.978, F1=0.900\n",
      "No improvement. Patience: 8/10\n"
     ]
    },
    {
     "name": "stderr",
     "output_type": "stream",
     "text": [
      "Epoch 14/100: 100%|██████████| 117/117 [00:15<00:00,  7.41it/s, loss=0.0648]\n"
     ]
    },
    {
     "name": "stdout",
     "output_type": "stream",
     "text": [
      "Val Loss: 0.2363, Map:0.9765, Macro P: 0.8533, R: 0.9392, F1: 0.8917\n",
      "Per-class F1:\n",
      "  bird: P=0.949, R=0.918, F1=0.933\n",
      "  cat: P=0.920, R=0.885, F1=0.902\n",
      "  cow: P=0.780, R=0.970, F1=0.865\n",
      "  dog: P=0.860, R=0.961, F1=0.907\n",
      "  elephant: P=0.923, R=0.941, F1=0.932\n",
      "  horse: P=0.756, R=0.984, F1=0.855\n",
      "  lion: P=0.820, R=0.877, F1=0.847\n",
      "  sheep: P=0.818, R=0.978, F1=0.891\n",
      "No improvement. Patience: 9/10\n"
     ]
    },
    {
     "name": "stderr",
     "output_type": "stream",
     "text": [
      "Epoch 15/100: 100%|██████████| 117/117 [00:15<00:00,  7.47it/s, loss=0.0508]\n"
     ]
    },
    {
     "name": "stdout",
     "output_type": "stream",
     "text": [
      "Val Loss: 0.0948, Map:0.9881, Macro P: 0.9171, R: 0.9821, F1: 0.9477\n",
      "Per-class F1:\n",
      "  bird: P=0.968, R=0.984, F1=0.976\n",
      "  cat: P=0.961, R=0.942, F1=0.951\n",
      "  cow: P=0.892, R=1.000, F1=0.943\n",
      "  dog: P=0.943, R=0.980, F1=0.962\n",
      "  elephant: P=0.879, R=1.000, F1=0.936\n",
      "  horse: P=0.938, R=0.968, F1=0.953\n",
      "  lion: P=0.903, R=0.982, F1=0.941\n",
      "  sheep: P=0.852, R=1.000, F1=0.920\n",
      "Saved best model.\n"
     ]
    },
    {
     "name": "stderr",
     "output_type": "stream",
     "text": [
      "Epoch 16/100: 100%|██████████| 117/117 [00:18<00:00,  6.40it/s, loss=0.0504]\n"
     ]
    },
    {
     "name": "stdout",
     "output_type": "stream",
     "text": [
      "Val Loss: 0.1462, Map:0.9848, Macro P: 0.8958, R: 0.9655, F1: 0.9273\n",
      "Per-class F1:\n",
      "  bird: P=0.983, R=0.967, F1=0.975\n",
      "  cat: P=0.980, R=0.942, F1=0.961\n",
      "  cow: P=0.914, R=0.970, F1=0.941\n",
      "  dog: P=0.925, R=0.961, F1=0.942\n",
      "  elephant: P=0.773, R=1.000, F1=0.872\n",
      "  horse: P=0.855, R=0.937, F1=0.894\n",
      "  lion: P=0.915, R=0.947, F1=0.931\n",
      "  sheep: P=0.821, R=1.000, F1=0.902\n",
      "No improvement. Patience: 1/10\n"
     ]
    },
    {
     "name": "stderr",
     "output_type": "stream",
     "text": [
      "Epoch 17/100: 100%|██████████| 117/117 [00:16<00:00,  7.27it/s, loss=0.011] \n"
     ]
    },
    {
     "name": "stdout",
     "output_type": "stream",
     "text": [
      "Val Loss: 0.1290, Map:0.9922, Macro P: 0.9292, R: 0.9666, F1: 0.9468\n",
      "Per-class F1:\n",
      "  bird: P=0.984, R=0.984, F1=0.984\n",
      "  cat: P=0.980, R=0.923, F1=0.950\n",
      "  cow: P=0.842, R=0.970, F1=0.901\n",
      "  dog: P=0.906, R=0.941, F1=0.923\n",
      "  elephant: P=0.962, R=0.980, F1=0.971\n",
      "  horse: P=0.923, R=0.952, F1=0.938\n",
      "  lion: P=0.918, R=0.982, F1=0.949\n",
      "  sheep: P=0.920, R=1.000, F1=0.958\n",
      "No improvement. Patience: 2/10\n"
     ]
    },
    {
     "name": "stderr",
     "output_type": "stream",
     "text": [
      "Epoch 18/100: 100%|██████████| 117/117 [00:15<00:00,  7.44it/s, loss=0.00784]\n"
     ]
    },
    {
     "name": "stdout",
     "output_type": "stream",
     "text": [
      "Val Loss: 0.1297, Map:0.9927, Macro P: 0.9448, R: 0.9747, F1: 0.9586\n",
      "Per-class F1:\n",
      "  bird: P=0.967, R=0.951, F1=0.959\n",
      "  cat: P=1.000, R=0.923, F1=0.960\n",
      "  cow: P=0.971, R=1.000, F1=0.985\n",
      "  dog: P=0.942, R=0.961, F1=0.951\n",
      "  elephant: P=0.943, R=0.980, F1=0.962\n",
      "  horse: P=0.863, R=1.000, F1=0.926\n",
      "  lion: P=0.933, R=0.982, F1=0.957\n",
      "  sheep: P=0.939, R=1.000, F1=0.968\n",
      "No improvement. Patience: 3/10\n"
     ]
    },
    {
     "name": "stderr",
     "output_type": "stream",
     "text": [
      "Epoch 19/100: 100%|██████████| 117/117 [00:16<00:00,  7.26it/s, loss=0.0237]\n"
     ]
    },
    {
     "name": "stdout",
     "output_type": "stream",
     "text": [
      "Val Loss: 0.1214, Map:0.9893, Macro P: 0.9362, R: 0.9754, F1: 0.9550\n",
      "Per-class F1:\n",
      "  bird: P=0.983, R=0.951, F1=0.967\n",
      "  cat: P=0.891, R=0.942, F1=0.916\n",
      "  cow: P=0.943, R=1.000, F1=0.971\n",
      "  dog: P=0.909, R=0.980, F1=0.943\n",
      "  elephant: P=0.962, R=0.980, F1=0.971\n",
      "  horse: P=0.899, R=0.984, F1=0.939\n",
      "  lion: P=0.965, R=0.965, F1=0.965\n",
      "  sheep: P=0.939, R=1.000, F1=0.968\n",
      "No improvement. Patience: 4/10\n"
     ]
    },
    {
     "name": "stderr",
     "output_type": "stream",
     "text": [
      "Epoch 20/100: 100%|██████████| 117/117 [00:15<00:00,  7.41it/s, loss=0.00536]\n"
     ]
    },
    {
     "name": "stdout",
     "output_type": "stream",
     "text": [
      "Val Loss: 0.1267, Map:0.9917, Macro P: 0.9487, R: 0.9707, F1: 0.9589\n",
      "Per-class F1:\n",
      "  bird: P=1.000, R=0.951, F1=0.975\n",
      "  cat: P=0.941, R=0.923, F1=0.932\n",
      "  cow: P=0.892, R=1.000, F1=0.943\n",
      "  dog: P=0.907, R=0.961, F1=0.933\n",
      "  elephant: P=0.962, R=1.000, F1=0.981\n",
      "  horse: P=0.952, R=0.952, F1=0.952\n",
      "  lion: P=0.934, R=1.000, F1=0.966\n",
      "  sheep: P=1.000, R=0.978, F1=0.989\n",
      "No improvement. Patience: 5/10\n"
     ]
    },
    {
     "name": "stderr",
     "output_type": "stream",
     "text": [
      "Epoch 21/100: 100%|██████████| 117/117 [00:15<00:00,  7.38it/s, loss=0.0127] \n"
     ]
    },
    {
     "name": "stdout",
     "output_type": "stream",
     "text": [
      "Val Loss: 0.1155, Map:0.995, Macro P: 0.9325, R: 0.9736, F1: 0.9509\n",
      "Per-class F1:\n",
      "  bird: P=0.983, R=0.967, F1=0.975\n",
      "  cat: P=0.961, R=0.942, F1=0.951\n",
      "  cow: P=1.000, R=0.970, F1=0.985\n",
      "  dog: P=0.769, R=0.980, F1=0.862\n",
      "  elephant: P=0.895, R=1.000, F1=0.944\n",
      "  horse: P=0.968, R=0.968, F1=0.968\n",
      "  lion: P=0.966, R=0.982, F1=0.974\n",
      "  sheep: P=0.918, R=0.978, F1=0.947\n",
      "No improvement. Patience: 6/10\n"
     ]
    },
    {
     "name": "stderr",
     "output_type": "stream",
     "text": [
      "Epoch 22/100: 100%|██████████| 117/117 [00:16<00:00,  7.24it/s, loss=0.00938]\n"
     ]
    },
    {
     "name": "stdout",
     "output_type": "stream",
     "text": [
      "Val Loss: 0.1697, Map:0.9903, Macro P: 0.9483, R: 0.9642, F1: 0.9560\n",
      "Per-class F1:\n",
      "  bird: P=0.983, R=0.951, F1=0.967\n",
      "  cat: P=0.925, R=0.942, F1=0.933\n",
      "  cow: P=0.941, R=0.970, F1=0.955\n",
      "  dog: P=0.961, R=0.961, F1=0.961\n",
      "  elephant: P=1.000, R=1.000, F1=1.000\n",
      "  horse: P=0.924, R=0.968, F1=0.946\n",
      "  lion: P=0.917, R=0.965, F1=0.940\n",
      "  sheep: P=0.936, R=0.957, F1=0.946\n",
      "No improvement. Patience: 7/10\n"
     ]
    },
    {
     "name": "stderr",
     "output_type": "stream",
     "text": [
      "Epoch 23/100: 100%|██████████| 117/117 [00:15<00:00,  7.36it/s, loss=0.0265]\n"
     ]
    },
    {
     "name": "stdout",
     "output_type": "stream",
     "text": [
      "Val Loss: 0.0971, Map:0.9918, Macro P: 0.9461, R: 0.9797, F1: 0.9619\n",
      "Per-class F1:\n",
      "  bird: P=0.983, R=0.951, F1=0.967\n",
      "  cat: P=0.961, R=0.942, F1=0.951\n",
      "  cow: P=0.971, R=1.000, F1=0.985\n",
      "  dog: P=0.864, R=1.000, F1=0.927\n",
      "  elephant: P=0.911, R=1.000, F1=0.953\n",
      "  horse: P=0.939, R=0.984, F1=0.961\n",
      "  lion: P=0.982, R=0.982, F1=0.982\n",
      "  sheep: P=0.957, R=0.978, F1=0.968\n",
      "No improvement. Patience: 8/10\n"
     ]
    },
    {
     "name": "stderr",
     "output_type": "stream",
     "text": [
      "Epoch 24/100: 100%|██████████| 117/117 [00:15<00:00,  7.48it/s, loss=0.0282]\n"
     ]
    },
    {
     "name": "stdout",
     "output_type": "stream",
     "text": [
      "Val Loss: 0.2854, Map:0.9644, Macro P: 0.9016, R: 0.9427, F1: 0.9183\n",
      "Per-class F1:\n",
      "  bird: P=0.966, R=0.934, F1=0.950\n",
      "  cat: P=0.959, R=0.904, F1=0.931\n",
      "  cow: P=1.000, R=0.848, F1=0.918\n",
      "  dog: P=0.833, R=0.980, F1=0.901\n",
      "  elephant: P=0.909, R=0.980, F1=0.943\n",
      "  horse: P=0.897, R=0.968, F1=0.931\n",
      "  lion: P=0.885, R=0.947, F1=0.915\n",
      "  sheep: P=0.763, R=0.978, F1=0.857\n",
      "No improvement. Patience: 9/10\n"
     ]
    },
    {
     "name": "stderr",
     "output_type": "stream",
     "text": [
      "Epoch 25/100: 100%|██████████| 117/117 [00:15<00:00,  7.50it/s, loss=0.0268]\n"
     ]
    },
    {
     "name": "stdout",
     "output_type": "stream",
     "text": [
      "Val Loss: 0.2450, Map:0.9712, Macro P: 0.9160, R: 0.9517, F1: 0.9326\n",
      "Per-class F1:\n",
      "  bird: P=0.938, R=0.984, F1=0.960\n",
      "  cat: P=0.940, R=0.904, F1=0.922\n",
      "  cow: P=0.912, R=0.939, F1=0.925\n",
      "  dog: P=0.847, R=0.980, F1=0.909\n",
      "  elephant: P=0.943, R=0.980, F1=0.962\n",
      "  horse: P=0.966, R=0.905, F1=0.934\n",
      "  lion: P=0.902, R=0.965, F1=0.932\n",
      "  sheep: P=0.880, R=0.957, F1=0.917\n",
      "No improvement. Patience: 10/10\n",
      "Early stopping.\n"
     ]
    }
   ],
   "source": [
    "model_save_dir = Path(\"E:/LSE/ST311/ST311-Group-Project/experiment/aug_restran\")\n",
    "model_save_dir.mkdir(parents=True, exist_ok=True)\n",
    "best_loss = float('inf')\n",
    "patience_counter = 0\n",
    "\n",
    "for epoch in range(num_epochs):\n",
    "    model.train()\n",
    "    total_loss = 0\n",
    "    loop = tqdm(train_loader, desc=f\"Epoch {epoch+1}/{num_epochs}\")\n",
    "    for inputs, targets in loop:\n",
    "        inputs, targets = inputs.to(device), targets.to(device)\n",
    "        outputs = model(inputs)\n",
    "        loss = criterion(outputs, targets)\n",
    "        optimizer.zero_grad()\n",
    "        loss.backward()\n",
    "        optimizer.step()\n",
    "        total_loss += loss.item()\n",
    "        loop.set_postfix(loss=total_loss / (loop.n + 1))\n",
    "\n",
    "    model.eval()\n",
    "    all_preds, all_targets = [], []\n",
    "    with torch.no_grad():\n",
    "        for inputs, targets in val_loader:\n",
    "            inputs, targets = inputs.to(device), targets.to(device)\n",
    "            outputs = model(inputs)\n",
    "            all_preds.append(outputs)\n",
    "            all_targets.append(targets)\n",
    "\n",
    "    all_preds = torch.cat(all_preds)\n",
    "    all_targets = torch.cat(all_targets)\n",
    "    val_loss = criterion(all_preds, all_targets).item()\n",
    "    macro_p, macro_r, macro_f1, macro_map, p_class, r_class, f_class = multilabel_metrics(all_preds, all_targets)\n",
    "\n",
    "    print(f\"Val Loss: {val_loss:.4f}, Map:{round(macro_map,4)}, Macro P: {macro_p:.4f}, R: {macro_r:.4f}, F1: {macro_f1:.4f}\")\n",
    "    print(\"Per-class F1:\")\n",
    "    for i, label in index_to_label.items():\n",
    "        print(f\"  {label}: P={p_class[i]:.3f}, R={r_class[i]:.3f}, F1={f_class[i]:.3f}\")\n",
    "\n",
    "    if val_loss < best_loss:\n",
    "        best_loss = val_loss\n",
    "        patience_counter = 0\n",
    "        torch.save(model.state_dict(), model_save_dir / f\"resnet_transformer_f1_{macro_f1:.4f}.pth\")\n",
    "        print(\"Saved best model.\")\n",
    "    else:\n",
    "        patience_counter += 1\n",
    "        print(f\"No improvement. Patience: {patience_counter}/{early_stop_patience}\")\n",
    "\n",
    "    if patience_counter >= early_stop_patience:\n",
    "        print(\"Early stopping.\")\n",
    "        break\n"
   ]
  },
  {
   "cell_type": "markdown",
   "id": "8d623516",
   "metadata": {},
   "source": [
    "## ResNetTransformer Classifier with dropout\n",
    "\n",
    "Batch size = 32, learning rate = 1e-4, dropout rate = 0.3\n",
    "\n",
    "In case we will need to solve overfitting issue in second stage, we also trained the models with dropout to ensure there are corresponding weights"
   ]
  },
  {
   "cell_type": "code",
   "execution_count": 198,
   "id": "547f44c1",
   "metadata": {},
   "outputs": [
    {
     "name": "stderr",
     "output_type": "stream",
     "text": [
      "d:\\miniconda\\envs\\st311_final\\lib\\site-packages\\torchvision\\models\\_utils.py:208: UserWarning: The parameter 'pretrained' is deprecated since 0.13 and may be removed in the future, please use 'weights' instead.\n",
      "  warnings.warn(\n",
      "d:\\miniconda\\envs\\st311_final\\lib\\site-packages\\torchvision\\models\\_utils.py:223: UserWarning: Arguments other than a weight enum or `None` for 'weights' are deprecated since 0.13 and may be removed in the future. The current behavior is equivalent to passing `weights=ResNet18_Weights.IMAGENET1K_V1`. You can also use `weights=ResNet18_Weights.DEFAULT` to get the most up-to-date weights.\n",
      "  warnings.warn(msg)\n",
      "Epoch 1/100: 100%|██████████| 117/117 [00:14<00:00,  8.01it/s, loss=0.663]\n"
     ]
    },
    {
     "name": "stdout",
     "output_type": "stream",
     "text": [
      "Val Loss: 0.3281, Map:0.9549, Macro P: 0.7161, R: 0.9516, F1: 0.7998\n",
      "Per-class F1:\n",
      "  bird: P=0.847, R=1.000, F1=0.917\n",
      "  cat: P=0.836, R=0.885, F1=0.860\n",
      "  cow: P=0.471, R=1.000, F1=0.641\n",
      "  dog: P=0.957, R=0.882, F1=0.918\n",
      "  elephant: P=0.640, R=0.941, F1=0.762\n",
      "  horse: P=0.864, R=0.905, F1=0.884\n",
      "  lion: P=0.671, R=1.000, F1=0.803\n",
      "  sheep: P=0.442, R=1.000, F1=0.613\n",
      "Saved best model.\n"
     ]
    },
    {
     "name": "stderr",
     "output_type": "stream",
     "text": [
      "Epoch 2/100: 100%|██████████| 117/117 [00:14<00:00,  7.93it/s, loss=0.245]\n"
     ]
    },
    {
     "name": "stdout",
     "output_type": "stream",
     "text": [
      "Val Loss: 0.2419, Map:0.9555, Macro P: 0.7889, R: 0.9490, F1: 0.8559\n",
      "Per-class F1:\n",
      "  bird: P=0.967, R=0.967, F1=0.967\n",
      "  cat: P=0.727, R=0.923, F1=0.814\n",
      "  cow: P=0.516, R=0.970, F1=0.674\n",
      "  dog: P=0.803, R=0.961, F1=0.875\n",
      "  elephant: P=0.845, R=0.961, F1=0.899\n",
      "  horse: P=0.787, R=0.937, F1=0.855\n",
      "  lion: P=0.862, R=0.982, F1=0.918\n",
      "  sheep: P=0.804, R=0.891, F1=0.845\n",
      "Saved best model.\n"
     ]
    },
    {
     "name": "stderr",
     "output_type": "stream",
     "text": [
      "Epoch 3/100: 100%|██████████| 117/117 [00:14<00:00,  7.85it/s, loss=0.156]\n"
     ]
    },
    {
     "name": "stdout",
     "output_type": "stream",
     "text": [
      "Val Loss: 0.1508, Map:0.9825, Macro P: 0.8783, R: 0.9647, F1: 0.9185\n",
      "Per-class F1:\n",
      "  bird: P=0.897, R=1.000, F1=0.946\n",
      "  cat: P=0.918, R=0.865, F1=0.891\n",
      "  cow: P=0.892, R=1.000, F1=0.943\n",
      "  dog: P=0.862, R=0.980, F1=0.917\n",
      "  elephant: P=0.926, R=0.980, F1=0.952\n",
      "  horse: P=0.845, R=0.952, F1=0.896\n",
      "  lion: P=0.824, R=0.982, F1=0.896\n",
      "  sheep: P=0.863, R=0.957, F1=0.907\n",
      "Saved best model.\n"
     ]
    },
    {
     "name": "stderr",
     "output_type": "stream",
     "text": [
      "Epoch 4/100: 100%|██████████| 117/117 [00:15<00:00,  7.72it/s, loss=0.127]\n"
     ]
    },
    {
     "name": "stdout",
     "output_type": "stream",
     "text": [
      "Val Loss: 0.1363, Map:0.981, Macro P: 0.8833, R: 0.9669, F1: 0.9217\n",
      "Per-class F1:\n",
      "  bird: P=1.000, R=0.967, F1=0.983\n",
      "  cat: P=0.821, R=0.885, F1=0.852\n",
      "  cow: P=0.917, R=1.000, F1=0.957\n",
      "  dog: P=0.877, R=0.980, F1=0.926\n",
      "  elephant: P=0.810, R=1.000, F1=0.895\n",
      "  horse: P=0.924, R=0.968, F1=0.946\n",
      "  lion: P=0.803, R=1.000, F1=0.891\n",
      "  sheep: P=0.915, R=0.935, F1=0.925\n",
      "Saved best model.\n"
     ]
    },
    {
     "name": "stderr",
     "output_type": "stream",
     "text": [
      "Epoch 5/100: 100%|██████████| 117/117 [00:15<00:00,  7.49it/s, loss=0.0591]\n"
     ]
    },
    {
     "name": "stdout",
     "output_type": "stream",
     "text": [
      "Val Loss: 0.1577, Map:0.9823, Macro P: 0.9113, R: 0.9625, F1: 0.9358\n",
      "Per-class F1:\n",
      "  bird: P=0.924, R=1.000, F1=0.961\n",
      "  cat: P=0.906, R=0.923, F1=0.914\n",
      "  cow: P=0.889, R=0.970, F1=0.928\n",
      "  dog: P=0.906, R=0.941, F1=0.923\n",
      "  elephant: P=0.911, R=1.000, F1=0.953\n",
      "  horse: P=0.873, R=0.984, F1=0.925\n",
      "  lion: P=0.947, R=0.947, F1=0.947\n",
      "  sheep: P=0.935, R=0.935, F1=0.935\n",
      "No improvement. Patience: 1/10\n"
     ]
    },
    {
     "name": "stderr",
     "output_type": "stream",
     "text": [
      "Epoch 6/100: 100%|██████████| 117/117 [00:15<00:00,  7.79it/s, loss=0.0498]\n"
     ]
    },
    {
     "name": "stdout",
     "output_type": "stream",
     "text": [
      "Val Loss: 0.2462, Map:0.9508, Macro P: 0.9003, R: 0.9387, F1: 0.9165\n",
      "Per-class F1:\n",
      "  bird: P=1.000, R=0.984, F1=0.992\n",
      "  cat: P=0.776, R=0.865, F1=0.818\n",
      "  cow: P=0.909, R=0.909, F1=0.909\n",
      "  dog: P=0.906, R=0.941, F1=0.923\n",
      "  elephant: P=0.895, R=1.000, F1=0.944\n",
      "  horse: P=0.827, R=0.984, F1=0.899\n",
      "  lion: P=0.891, R=1.000, F1=0.942\n",
      "  sheep: P=1.000, R=0.826, F1=0.905\n",
      "No improvement. Patience: 2/10\n"
     ]
    },
    {
     "name": "stderr",
     "output_type": "stream",
     "text": [
      "Epoch 7/100: 100%|██████████| 117/117 [00:15<00:00,  7.70it/s, loss=0.0887]\n"
     ]
    },
    {
     "name": "stdout",
     "output_type": "stream",
     "text": [
      "Val Loss: 0.1612, Map:0.9822, Macro P: 0.9080, R: 0.9661, F1: 0.9345\n",
      "Per-class F1:\n",
      "  bird: P=0.938, R=1.000, F1=0.968\n",
      "  cat: P=0.959, R=0.904, F1=0.931\n",
      "  cow: P=0.825, R=1.000, F1=0.904\n",
      "  dog: P=0.891, R=0.961, F1=0.925\n",
      "  elephant: P=0.925, R=0.961, F1=0.942\n",
      "  horse: P=0.910, R=0.968, F1=0.938\n",
      "  lion: P=0.838, R=1.000, F1=0.912\n",
      "  sheep: P=0.977, R=0.935, F1=0.956\n",
      "No improvement. Patience: 3/10\n"
     ]
    },
    {
     "name": "stderr",
     "output_type": "stream",
     "text": [
      "Epoch 8/100: 100%|██████████| 117/117 [00:15<00:00,  7.76it/s, loss=0.0891]\n"
     ]
    },
    {
     "name": "stdout",
     "output_type": "stream",
     "text": [
      "Val Loss: 0.1586, Map:0.9834, Macro P: 0.9173, R: 0.9614, F1: 0.9376\n",
      "Per-class F1:\n",
      "  bird: P=0.968, R=1.000, F1=0.984\n",
      "  cat: P=0.907, R=0.942, F1=0.925\n",
      "  cow: P=0.889, R=0.970, F1=0.928\n",
      "  dog: P=0.847, R=0.980, F1=0.909\n",
      "  elephant: P=0.907, R=0.961, F1=0.933\n",
      "  horse: P=0.938, R=0.968, F1=0.953\n",
      "  lion: P=0.905, R=1.000, F1=0.950\n",
      "  sheep: P=0.976, R=0.870, F1=0.920\n",
      "No improvement. Patience: 4/10\n"
     ]
    },
    {
     "name": "stderr",
     "output_type": "stream",
     "text": [
      "Epoch 9/100: 100%|██████████| 117/117 [00:16<00:00,  7.28it/s, loss=0.0484]\n"
     ]
    },
    {
     "name": "stdout",
     "output_type": "stream",
     "text": [
      "Val Loss: 0.2577, Map:0.9758, Macro P: 0.8887, R: 0.9393, F1: 0.9092\n",
      "Per-class F1:\n",
      "  bird: P=0.984, R=0.984, F1=0.984\n",
      "  cat: P=0.978, R=0.865, F1=0.918\n",
      "  cow: P=0.969, R=0.939, F1=0.954\n",
      "  dog: P=0.923, R=0.941, F1=0.932\n",
      "  elephant: P=0.781, R=0.980, F1=0.870\n",
      "  horse: P=0.765, R=0.984, F1=0.861\n",
      "  lion: P=0.906, R=0.842, F1=0.873\n",
      "  sheep: P=0.804, R=0.978, F1=0.882\n",
      "No improvement. Patience: 5/10\n"
     ]
    },
    {
     "name": "stderr",
     "output_type": "stream",
     "text": [
      "Epoch 10/100: 100%|██████████| 117/117 [00:16<00:00,  7.19it/s, loss=0.0377]\n"
     ]
    },
    {
     "name": "stdout",
     "output_type": "stream",
     "text": [
      "Val Loss: 0.1543, Map:0.9833, Macro P: 0.9197, R: 0.9688, F1: 0.9429\n",
      "Per-class F1:\n",
      "  bird: P=0.924, R=1.000, F1=0.961\n",
      "  cat: P=0.960, R=0.923, F1=0.941\n",
      "  cow: P=0.892, R=1.000, F1=0.943\n",
      "  dog: P=0.959, R=0.922, F1=0.940\n",
      "  elephant: P=0.911, R=1.000, F1=0.953\n",
      "  horse: P=0.912, R=0.984, F1=0.947\n",
      "  lion: P=0.902, R=0.965, F1=0.932\n",
      "  sheep: P=0.898, R=0.957, F1=0.926\n",
      "No improvement. Patience: 6/10\n"
     ]
    },
    {
     "name": "stderr",
     "output_type": "stream",
     "text": [
      "Epoch 11/100: 100%|██████████| 117/117 [00:16<00:00,  7.22it/s, loss=0.0332]\n"
     ]
    },
    {
     "name": "stdout",
     "output_type": "stream",
     "text": [
      "Val Loss: 0.2064, Map:0.9809, Macro P: 0.9258, R: 0.9645, F1: 0.9433\n",
      "Per-class F1:\n",
      "  bird: P=0.938, R=1.000, F1=0.968\n",
      "  cat: P=1.000, R=0.865, F1=0.928\n",
      "  cow: P=0.943, R=1.000, F1=0.971\n",
      "  dog: P=0.845, R=0.961, F1=0.899\n",
      "  elephant: P=0.927, R=1.000, F1=0.962\n",
      "  horse: P=0.871, R=0.968, F1=0.917\n",
      "  lion: P=0.965, R=0.965, F1=0.965\n",
      "  sheep: P=0.917, R=0.957, F1=0.936\n",
      "No improvement. Patience: 7/10\n"
     ]
    },
    {
     "name": "stderr",
     "output_type": "stream",
     "text": [
      "Epoch 12/100: 100%|██████████| 117/117 [00:15<00:00,  7.61it/s, loss=0.0291]\n"
     ]
    },
    {
     "name": "stdout",
     "output_type": "stream",
     "text": [
      "Val Loss: 0.3385, Map:0.9423, Macro P: 0.8866, R: 0.9349, F1: 0.9087\n",
      "Per-class F1:\n",
      "  bird: P=0.953, R=1.000, F1=0.976\n",
      "  cat: P=0.960, R=0.923, F1=0.941\n",
      "  cow: P=0.875, R=0.848, F1=0.862\n",
      "  dog: P=0.906, R=0.941, F1=0.923\n",
      "  elephant: P=0.877, R=0.980, F1=0.926\n",
      "  horse: P=0.857, R=0.952, F1=0.902\n",
      "  lion: P=0.893, R=0.877, F1=0.885\n",
      "  sheep: P=0.772, R=0.957, F1=0.854\n",
      "No improvement. Patience: 8/10\n"
     ]
    },
    {
     "name": "stderr",
     "output_type": "stream",
     "text": [
      "Epoch 13/100: 100%|██████████| 117/117 [00:15<00:00,  7.41it/s, loss=0.0437]\n"
     ]
    },
    {
     "name": "stdout",
     "output_type": "stream",
     "text": [
      "Val Loss: 0.1613, Map:0.9792, Macro P: 0.9274, R: 0.9675, F1: 0.9464\n",
      "Per-class F1:\n",
      "  bird: P=1.000, R=0.967, F1=0.983\n",
      "  cat: P=0.860, R=0.942, F1=0.899\n",
      "  cow: P=0.917, R=1.000, F1=0.957\n",
      "  dog: P=0.891, R=0.961, F1=0.925\n",
      "  elephant: P=0.911, R=1.000, F1=0.953\n",
      "  horse: P=0.952, R=0.952, F1=0.952\n",
      "  lion: P=0.933, R=0.982, F1=0.957\n",
      "  sheep: P=0.956, R=0.935, F1=0.945\n",
      "No improvement. Patience: 9/10\n"
     ]
    },
    {
     "name": "stderr",
     "output_type": "stream",
     "text": [
      "Epoch 14/100: 100%|██████████| 117/117 [00:15<00:00,  7.37it/s, loss=0.0337]\n"
     ]
    },
    {
     "name": "stdout",
     "output_type": "stream",
     "text": [
      "Val Loss: 0.2158, Map:0.9651, Macro P: 0.9203, R: 0.9627, F1: 0.9392\n",
      "Per-class F1:\n",
      "  bird: P=0.983, R=0.934, F1=0.958\n",
      "  cat: P=0.906, R=0.923, F1=0.914\n",
      "  cow: P=0.868, R=1.000, F1=0.930\n",
      "  dog: P=0.790, R=0.961, F1=0.867\n",
      "  elephant: P=1.000, R=0.980, F1=0.990\n",
      "  horse: P=0.910, R=0.968, F1=0.938\n",
      "  lion: P=0.905, R=1.000, F1=0.950\n",
      "  sheep: P=1.000, R=0.935, F1=0.966\n",
      "No improvement. Patience: 10/10\n",
      "Early stopping.\n"
     ]
    }
   ],
   "source": [
    "model = ResNetTransformerClassifier(num_classes,use_dropout=True).to(device)\n",
    "criterion = nn.BCEWithLogitsLoss(pos_weight=pos_weight)\n",
    "optimizer = torch.optim.Adam(model.parameters(), lr=learning_rate)\n",
    "\n",
    "model_save_dir = Path(\"E:/LSE/ST311/ST311-Group-Project/experiment/aug_restran\")\n",
    "model_save_dir.mkdir(parents=True, exist_ok=True)\n",
    "best_loss = float('inf')\n",
    "patience_counter = 0\n",
    "\n",
    "for epoch in range(num_epochs):\n",
    "    model.train()\n",
    "    total_loss = 0\n",
    "    loop = tqdm(train_loader, desc=f\"Epoch {epoch+1}/{num_epochs}\")\n",
    "    for inputs, targets in loop:\n",
    "        inputs, targets = inputs.to(device), targets.to(device)\n",
    "        outputs = model(inputs)\n",
    "        loss = criterion(outputs, targets)\n",
    "        optimizer.zero_grad()\n",
    "        loss.backward()\n",
    "        optimizer.step()\n",
    "        total_loss += loss.item()\n",
    "        loop.set_postfix(loss=total_loss / (loop.n + 1))\n",
    "\n",
    "    model.eval()\n",
    "    all_preds, all_targets = [], []\n",
    "    with torch.no_grad():\n",
    "        for inputs, targets in val_loader:\n",
    "            inputs, targets = inputs.to(device), targets.to(device)\n",
    "            outputs = model(inputs)\n",
    "            all_preds.append(outputs)\n",
    "            all_targets.append(targets)\n",
    "\n",
    "    all_preds = torch.cat(all_preds)\n",
    "    all_targets = torch.cat(all_targets)\n",
    "    val_loss = criterion(all_preds, all_targets).item()\n",
    "    macro_p, macro_r, macro_f1, macro_map, p_class, r_class, f_class = multilabel_metrics(all_preds, all_targets)\n",
    "\n",
    "    print(f\"Val Loss: {val_loss:.4f}, Map:{round(macro_map,4)}, Macro P: {macro_p:.4f}, R: {macro_r:.4f}, F1: {macro_f1:.4f}\")\n",
    "    print(\"Per-class F1:\")\n",
    "    for i, label in index_to_label.items():\n",
    "        print(f\"  {label}: P={p_class[i]:.3f}, R={r_class[i]:.3f}, F1={f_class[i]:.3f}\")\n",
    "\n",
    "    if val_loss < best_loss:\n",
    "        best_loss = val_loss\n",
    "        patience_counter = 0\n",
    "        torch.save(model.state_dict(), model_save_dir / f\"resnet_transformer_dp_f1_{macro_f1:.4f}.pth\")\n",
    "        print(\"Saved best model.\")\n",
    "    else:\n",
    "        patience_counter += 1\n",
    "        print(f\"No improvement. Patience: {patience_counter}/{early_stop_patience}\")\n",
    "\n",
    "    if patience_counter >= early_stop_patience:\n",
    "        print(\"Early stopping.\")\n",
    "        break\n"
   ]
  },
  {
   "cell_type": "markdown",
   "id": "e82ab6a2",
   "metadata": {},
   "source": [
    "## ResNet TransformerClassifier\n",
    "\n",
    "Batch size = 32, learning rate = 3e-5"
   ]
  },
  {
   "cell_type": "code",
   "execution_count": 16,
   "id": "cdc2721c",
   "metadata": {},
   "outputs": [
    {
     "name": "stderr",
     "output_type": "stream",
     "text": [
      "d:\\miniconda\\envs\\st311_final\\lib\\site-packages\\torchvision\\models\\_utils.py:208: UserWarning: The parameter 'pretrained' is deprecated since 0.13 and may be removed in the future, please use 'weights' instead.\n",
      "  warnings.warn(\n",
      "d:\\miniconda\\envs\\st311_final\\lib\\site-packages\\torchvision\\models\\_utils.py:223: UserWarning: Arguments other than a weight enum or `None` for 'weights' are deprecated since 0.13 and may be removed in the future. The current behavior is equivalent to passing `weights=ResNet18_Weights.IMAGENET1K_V1`. You can also use `weights=ResNet18_Weights.DEFAULT` to get the most up-to-date weights.\n",
      "  warnings.warn(msg)\n",
      "Epoch 1/100: 100%|██████████| 117/117 [00:15<00:00,  7.72it/s, loss=0.91] \n"
     ]
    },
    {
     "name": "stdout",
     "output_type": "stream",
     "text": [
      "Val Loss: 0.5625, Map:0.8738, Macro P: 0.5150, R: 0.9394, F1: 0.6586\n",
      "Per-class F1:\n",
      "  bird: P=0.685, R=1.000, F1=0.813\n",
      "  cat: P=0.662, R=0.865, F1=0.750\n",
      "  cow: P=0.478, R=0.970, F1=0.640\n",
      "  dog: P=0.568, R=0.902, F1=0.697\n",
      "  elephant: P=0.398, R=0.882, F1=0.549\n",
      "  horse: P=0.387, R=0.952, F1=0.550\n",
      "  lion: P=0.478, R=0.965, F1=0.640\n",
      "  sheep: P=0.464, R=0.978, F1=0.629\n",
      "Saved best model.\n"
     ]
    },
    {
     "name": "stderr",
     "output_type": "stream",
     "text": [
      "Epoch 2/100: 100%|██████████| 117/117 [00:14<00:00,  7.83it/s, loss=0.443]\n"
     ]
    },
    {
     "name": "stdout",
     "output_type": "stream",
     "text": [
      "Val Loss: 0.3188, Map:0.9513, Macro P: 0.7256, R: 0.9607, F1: 0.8209\n",
      "Per-class F1:\n",
      "  bird: P=0.882, R=0.984, F1=0.930\n",
      "  cat: P=0.842, R=0.923, F1=0.881\n",
      "  cow: P=0.541, R=1.000, F1=0.702\n",
      "  dog: P=0.828, R=0.941, F1=0.881\n",
      "  elephant: P=0.620, R=0.961, F1=0.754\n",
      "  horse: P=0.707, R=0.921, F1=0.800\n",
      "  lion: P=0.663, R=1.000, F1=0.797\n",
      "  sheep: P=0.721, R=0.957, F1=0.822\n",
      "Saved best model.\n"
     ]
    },
    {
     "name": "stderr",
     "output_type": "stream",
     "text": [
      "Epoch 3/100: 100%|██████████| 117/117 [00:15<00:00,  7.41it/s, loss=0.228]\n"
     ]
    },
    {
     "name": "stdout",
     "output_type": "stream",
     "text": [
      "Val Loss: 0.2363, Map:0.9691, Macro P: 0.8064, R: 0.9522, F1: 0.8708\n",
      "Per-class F1:\n",
      "  bird: P=0.938, R=1.000, F1=0.968\n",
      "  cat: P=0.855, R=0.904, F1=0.879\n",
      "  cow: P=0.653, R=0.970, F1=0.780\n",
      "  dog: P=0.766, R=0.961, F1=0.852\n",
      "  elephant: P=0.750, R=0.941, F1=0.835\n",
      "  horse: P=0.866, R=0.921, F1=0.892\n",
      "  lion: P=0.809, R=0.965, F1=0.880\n",
      "  sheep: P=0.815, R=0.957, F1=0.880\n",
      "Saved best model.\n"
     ]
    },
    {
     "name": "stderr",
     "output_type": "stream",
     "text": [
      "Epoch 4/100: 100%|██████████| 117/117 [00:16<00:00,  7.19it/s, loss=0.125]\n"
     ]
    },
    {
     "name": "stdout",
     "output_type": "stream",
     "text": [
      "Val Loss: 0.1905, Map:0.9759, Macro P: 0.8854, R: 0.9514, F1: 0.9164\n",
      "Per-class F1:\n",
      "  bird: P=0.953, R=1.000, F1=0.976\n",
      "  cat: P=0.870, R=0.904, F1=0.887\n",
      "  cow: P=0.889, R=0.970, F1=0.928\n",
      "  dog: P=0.923, R=0.941, F1=0.932\n",
      "  elephant: P=0.857, R=0.941, F1=0.897\n",
      "  horse: P=0.892, R=0.921, F1=0.906\n",
      "  lion: P=0.803, R=1.000, F1=0.891\n",
      "  sheep: P=0.896, R=0.935, F1=0.915\n",
      "Saved best model.\n"
     ]
    },
    {
     "name": "stderr",
     "output_type": "stream",
     "text": [
      "Epoch 5/100: 100%|██████████| 117/117 [00:16<00:00,  7.02it/s, loss=0.0705]\n"
     ]
    },
    {
     "name": "stdout",
     "output_type": "stream",
     "text": [
      "Val Loss: 0.1836, Map:0.9731, Macro P: 0.8950, R: 0.9573, F1: 0.9244\n",
      "Per-class F1:\n",
      "  bird: P=0.968, R=1.000, F1=0.984\n",
      "  cat: P=0.870, R=0.904, F1=0.887\n",
      "  cow: P=0.941, R=0.970, F1=0.955\n",
      "  dog: P=0.860, R=0.961, F1=0.907\n",
      "  elephant: P=0.862, R=0.980, F1=0.917\n",
      "  horse: P=0.934, R=0.905, F1=0.919\n",
      "  lion: P=0.862, R=0.982, F1=0.918\n",
      "  sheep: P=0.863, R=0.957, F1=0.907\n",
      "Saved best model.\n"
     ]
    },
    {
     "name": "stderr",
     "output_type": "stream",
     "text": [
      "Epoch 6/100: 100%|██████████| 117/117 [00:16<00:00,  7.16it/s, loss=0.0457]\n"
     ]
    },
    {
     "name": "stdout",
     "output_type": "stream",
     "text": [
      "Val Loss: 0.1804, Map:0.9766, Macro P: 0.9332, R: 0.9567, F1: 0.9444\n",
      "Per-class F1:\n",
      "  bird: P=0.968, R=1.000, F1=0.984\n",
      "  cat: P=0.960, R=0.923, F1=0.941\n",
      "  cow: P=0.969, R=0.939, F1=0.954\n",
      "  dog: P=0.907, R=0.961, F1=0.933\n",
      "  elephant: P=0.961, R=0.961, F1=0.961\n",
      "  horse: P=0.882, R=0.952, F1=0.916\n",
      "  lion: P=0.903, R=0.982, F1=0.941\n",
      "  sheep: P=0.915, R=0.935, F1=0.925\n",
      "Saved best model.\n"
     ]
    },
    {
     "name": "stderr",
     "output_type": "stream",
     "text": [
      "Epoch 7/100: 100%|██████████| 117/117 [00:16<00:00,  7.17it/s, loss=0.0318]\n"
     ]
    },
    {
     "name": "stdout",
     "output_type": "stream",
     "text": [
      "Val Loss: 0.1714, Map:0.9792, Macro P: 0.9320, R: 0.9587, F1: 0.9446\n",
      "Per-class F1:\n",
      "  bird: P=0.984, R=1.000, F1=0.992\n",
      "  cat: P=0.941, R=0.923, F1=0.932\n",
      "  cow: P=1.000, R=0.939, F1=0.969\n",
      "  dog: P=0.907, R=0.961, F1=0.933\n",
      "  elephant: P=0.942, R=0.961, F1=0.951\n",
      "  horse: P=0.910, R=0.968, F1=0.938\n",
      "  lion: P=0.875, R=0.982, F1=0.926\n",
      "  sheep: P=0.896, R=0.935, F1=0.915\n",
      "Saved best model.\n"
     ]
    },
    {
     "name": "stderr",
     "output_type": "stream",
     "text": [
      "Epoch 8/100: 100%|██████████| 117/117 [00:15<00:00,  7.32it/s, loss=0.0213]\n"
     ]
    },
    {
     "name": "stdout",
     "output_type": "stream",
     "text": [
      "Val Loss: 0.1783, Map:0.9805, Macro P: 0.9377, R: 0.9495, F1: 0.9424\n",
      "Per-class F1:\n",
      "  bird: P=0.984, R=1.000, F1=0.992\n",
      "  cat: P=0.940, R=0.904, F1=0.922\n",
      "  cow: P=1.000, R=0.909, F1=0.952\n",
      "  dog: P=0.925, R=0.961, F1=0.942\n",
      "  elephant: P=0.980, R=0.941, F1=0.960\n",
      "  horse: P=0.897, R=0.968, F1=0.931\n",
      "  lion: P=0.864, R=1.000, F1=0.927\n",
      "  sheep: P=0.913, R=0.913, F1=0.913\n",
      "No improvement. Patience: 1/10\n"
     ]
    },
    {
     "name": "stderr",
     "output_type": "stream",
     "text": [
      "Epoch 9/100: 100%|██████████| 117/117 [00:16<00:00,  6.95it/s, loss=0.0159]\n"
     ]
    },
    {
     "name": "stdout",
     "output_type": "stream",
     "text": [
      "Val Loss: 0.1766, Map:0.98, Macro P: 0.9409, R: 0.9557, F1: 0.9476\n",
      "Per-class F1:\n",
      "  bird: P=0.984, R=1.000, F1=0.992\n",
      "  cat: P=0.939, R=0.885, F1=0.911\n",
      "  cow: P=1.000, R=0.970, F1=0.985\n",
      "  dog: P=0.925, R=0.961, F1=0.942\n",
      "  elephant: P=0.961, R=0.961, F1=0.961\n",
      "  horse: P=0.909, R=0.952, F1=0.930\n",
      "  lion: P=0.875, R=0.982, F1=0.926\n",
      "  sheep: P=0.935, R=0.935, F1=0.935\n",
      "No improvement. Patience: 2/10\n"
     ]
    },
    {
     "name": "stderr",
     "output_type": "stream",
     "text": [
      "Epoch 10/100: 100%|██████████| 117/117 [00:18<00:00,  6.40it/s, loss=0.0227]\n"
     ]
    },
    {
     "name": "stdout",
     "output_type": "stream",
     "text": [
      "Val Loss: 0.1755, Map:0.9782, Macro P: 0.9280, R: 0.9582, F1: 0.9422\n",
      "Per-class F1:\n",
      "  bird: P=0.984, R=0.984, F1=0.984\n",
      "  cat: P=0.873, R=0.923, F1=0.897\n",
      "  cow: P=1.000, R=0.970, F1=0.985\n",
      "  dog: P=0.925, R=0.961, F1=0.942\n",
      "  elephant: P=0.941, R=0.941, F1=0.941\n",
      "  horse: P=0.923, R=0.952, F1=0.938\n",
      "  lion: P=0.864, R=1.000, F1=0.927\n",
      "  sheep: P=0.915, R=0.935, F1=0.925\n",
      "No improvement. Patience: 3/10\n"
     ]
    },
    {
     "name": "stderr",
     "output_type": "stream",
     "text": [
      "Epoch 11/100: 100%|██████████| 117/117 [00:18<00:00,  6.47it/s, loss=0.0241]\n"
     ]
    },
    {
     "name": "stdout",
     "output_type": "stream",
     "text": [
      "Val Loss: 0.2167, Map:0.9765, Macro P: 0.9181, R: 0.9453, F1: 0.9305\n",
      "Per-class F1:\n",
      "  bird: P=0.967, R=0.967, F1=0.967\n",
      "  cat: P=0.904, R=0.904, F1=0.904\n",
      "  cow: P=1.000, R=0.939, F1=0.969\n",
      "  dog: P=0.940, R=0.922, F1=0.931\n",
      "  elephant: P=0.891, R=0.961, F1=0.925\n",
      "  horse: P=0.833, R=0.952, F1=0.889\n",
      "  lion: P=0.875, R=0.982, F1=0.926\n",
      "  sheep: P=0.935, R=0.935, F1=0.935\n",
      "No improvement. Patience: 4/10\n"
     ]
    },
    {
     "name": "stderr",
     "output_type": "stream",
     "text": [
      "Epoch 12/100: 100%|██████████| 117/117 [00:17<00:00,  6.83it/s, loss=0.0143]\n"
     ]
    },
    {
     "name": "stdout",
     "output_type": "stream",
     "text": [
      "Val Loss: 0.2247, Map:0.9798, Macro P: 0.9211, R: 0.9410, F1: 0.9292\n",
      "Per-class F1:\n",
      "  bird: P=0.952, R=0.967, F1=0.959\n",
      "  cat: P=0.959, R=0.904, F1=0.931\n",
      "  cow: P=1.000, R=0.909, F1=0.952\n",
      "  dog: P=0.820, R=0.980, F1=0.893\n",
      "  elephant: P=0.941, R=0.941, F1=0.941\n",
      "  horse: P=0.934, R=0.905, F1=0.919\n",
      "  lion: P=0.846, R=0.965, F1=0.902\n",
      "  sheep: P=0.917, R=0.957, F1=0.936\n",
      "No improvement. Patience: 5/10\n"
     ]
    },
    {
     "name": "stderr",
     "output_type": "stream",
     "text": [
      "Epoch 13/100: 100%|██████████| 117/117 [00:16<00:00,  6.98it/s, loss=0.0274]\n"
     ]
    },
    {
     "name": "stdout",
     "output_type": "stream",
     "text": [
      "Val Loss: 0.1912, Map:0.9777, Macro P: 0.9026, R: 0.9499, F1: 0.9241\n",
      "Per-class F1:\n",
      "  bird: P=0.910, R=1.000, F1=0.953\n",
      "  cat: P=0.885, R=0.885, F1=0.885\n",
      "  cow: P=1.000, R=0.939, F1=0.969\n",
      "  dog: P=0.873, R=0.941, F1=0.906\n",
      "  elephant: P=0.857, R=0.941, F1=0.897\n",
      "  horse: P=0.937, R=0.937, F1=0.937\n",
      "  lion: P=0.803, R=1.000, F1=0.891\n",
      "  sheep: P=0.957, R=0.957, F1=0.957\n",
      "No improvement. Patience: 6/10\n"
     ]
    },
    {
     "name": "stderr",
     "output_type": "stream",
     "text": [
      "Epoch 14/100: 100%|██████████| 117/117 [00:16<00:00,  7.13it/s, loss=0.0368]\n"
     ]
    },
    {
     "name": "stdout",
     "output_type": "stream",
     "text": [
      "Val Loss: 0.1509, Map:0.9777, Macro P: 0.9393, R: 0.9609, F1: 0.9494\n",
      "Per-class F1:\n",
      "  bird: P=0.984, R=1.000, F1=0.992\n",
      "  cat: P=0.960, R=0.923, F1=0.941\n",
      "  cow: P=0.969, R=0.939, F1=0.954\n",
      "  dog: P=0.925, R=0.961, F1=0.942\n",
      "  elephant: P=0.960, R=0.941, F1=0.950\n",
      "  horse: P=0.939, R=0.984, F1=0.961\n",
      "  lion: P=0.862, R=0.982, F1=0.918\n",
      "  sheep: P=0.917, R=0.957, F1=0.936\n",
      "Saved best model.\n"
     ]
    },
    {
     "name": "stderr",
     "output_type": "stream",
     "text": [
      "Epoch 15/100: 100%|██████████| 117/117 [00:15<00:00,  7.33it/s, loss=0.0211]\n"
     ]
    },
    {
     "name": "stdout",
     "output_type": "stream",
     "text": [
      "Val Loss: 0.2206, Map:0.9739, Macro P: 0.9216, R: 0.9476, F1: 0.9340\n",
      "Per-class F1:\n",
      "  bird: P=1.000, R=1.000, F1=1.000\n",
      "  cat: P=0.940, R=0.904, F1=0.922\n",
      "  cow: P=0.909, R=0.909, F1=0.909\n",
      "  dog: P=0.877, R=0.980, F1=0.926\n",
      "  elephant: P=0.941, R=0.941, F1=0.941\n",
      "  horse: P=0.910, R=0.968, F1=0.938\n",
      "  lion: P=0.902, R=0.965, F1=0.932\n",
      "  sheep: P=0.894, R=0.913, F1=0.903\n",
      "No improvement. Patience: 1/10\n"
     ]
    },
    {
     "name": "stderr",
     "output_type": "stream",
     "text": [
      "Epoch 16/100: 100%|██████████| 117/117 [00:16<00:00,  7.19it/s, loss=0.019] \n"
     ]
    },
    {
     "name": "stdout",
     "output_type": "stream",
     "text": [
      "Val Loss: 0.2470, Map:0.9688, Macro P: 0.9283, R: 0.9493, F1: 0.9382\n",
      "Per-class F1:\n",
      "  bird: P=1.000, R=0.967, F1=0.983\n",
      "  cat: P=0.923, R=0.923, F1=0.923\n",
      "  cow: P=0.909, R=0.909, F1=0.909\n",
      "  dog: P=0.943, R=0.980, F1=0.962\n",
      "  elephant: P=0.961, R=0.961, F1=0.961\n",
      "  horse: P=0.894, R=0.937, F1=0.915\n",
      "  lion: P=0.862, R=0.982, F1=0.918\n",
      "  sheep: P=0.935, R=0.935, F1=0.935\n",
      "No improvement. Patience: 2/10\n"
     ]
    },
    {
     "name": "stderr",
     "output_type": "stream",
     "text": [
      "Epoch 17/100: 100%|██████████| 117/117 [00:16<00:00,  7.26it/s, loss=0.0178]\n"
     ]
    },
    {
     "name": "stdout",
     "output_type": "stream",
     "text": [
      "Val Loss: 0.2417, Map:0.9763, Macro P: 0.9223, R: 0.9480, F1: 0.9345\n",
      "Per-class F1:\n",
      "  bird: P=0.968, R=0.984, F1=0.976\n",
      "  cat: P=0.906, R=0.923, F1=0.914\n",
      "  cow: P=0.939, R=0.939, F1=0.939\n",
      "  dog: P=0.942, R=0.961, F1=0.951\n",
      "  elephant: P=0.907, R=0.961, F1=0.933\n",
      "  horse: P=0.921, R=0.921, F1=0.921\n",
      "  lion: P=0.862, R=0.982, F1=0.918\n",
      "  sheep: P=0.933, R=0.913, F1=0.923\n",
      "No improvement. Patience: 3/10\n"
     ]
    },
    {
     "name": "stderr",
     "output_type": "stream",
     "text": [
      "Epoch 18/100: 100%|██████████| 117/117 [00:16<00:00,  6.94it/s, loss=0.00773]\n"
     ]
    },
    {
     "name": "stdout",
     "output_type": "stream",
     "text": [
      "Val Loss: 0.2541, Map:0.9742, Macro P: 0.9105, R: 0.9464, F1: 0.9274\n",
      "Per-class F1:\n",
      "  bird: P=0.984, R=0.984, F1=0.984\n",
      "  cat: P=0.941, R=0.923, F1=0.932\n",
      "  cow: P=0.909, R=0.909, F1=0.909\n",
      "  dog: P=0.942, R=0.961, F1=0.951\n",
      "  elephant: P=0.941, R=0.941, F1=0.941\n",
      "  horse: P=0.894, R=0.937, F1=0.915\n",
      "  lion: P=0.862, R=0.982, F1=0.918\n",
      "  sheep: P=0.811, R=0.935, F1=0.869\n",
      "No improvement. Patience: 4/10\n"
     ]
    },
    {
     "name": "stderr",
     "output_type": "stream",
     "text": [
      "Epoch 19/100: 100%|██████████| 117/117 [00:17<00:00,  6.88it/s, loss=0.0069] \n"
     ]
    },
    {
     "name": "stdout",
     "output_type": "stream",
     "text": [
      "Val Loss: 0.2556, Map:0.9741, Macro P: 0.9292, R: 0.9445, F1: 0.9364\n",
      "Per-class F1:\n",
      "  bird: P=1.000, R=0.984, F1=0.992\n",
      "  cat: P=0.941, R=0.923, F1=0.932\n",
      "  cow: P=0.938, R=0.909, F1=0.923\n",
      "  dog: P=0.907, R=0.961, F1=0.933\n",
      "  elephant: P=0.923, R=0.941, F1=0.932\n",
      "  horse: P=0.921, R=0.921, F1=0.921\n",
      "  lion: P=0.889, R=0.982, F1=0.933\n",
      "  sheep: P=0.915, R=0.935, F1=0.925\n",
      "No improvement. Patience: 5/10\n"
     ]
    },
    {
     "name": "stderr",
     "output_type": "stream",
     "text": [
      "Epoch 20/100: 100%|██████████| 117/117 [00:16<00:00,  7.18it/s, loss=0.00443]\n"
     ]
    },
    {
     "name": "stdout",
     "output_type": "stream",
     "text": [
      "Val Loss: 0.2540, Map:0.9788, Macro P: 0.9396, R: 0.9502, F1: 0.9443\n",
      "Per-class F1:\n",
      "  bird: P=1.000, R=0.984, F1=0.992\n",
      "  cat: P=0.941, R=0.923, F1=0.932\n",
      "  cow: P=0.939, R=0.939, F1=0.939\n",
      "  dog: P=0.925, R=0.961, F1=0.942\n",
      "  elephant: P=1.000, R=0.941, F1=0.970\n",
      "  horse: P=0.922, R=0.937, F1=0.929\n",
      "  lion: P=0.875, R=0.982, F1=0.926\n",
      "  sheep: P=0.915, R=0.935, F1=0.925\n",
      "No improvement. Patience: 6/10\n"
     ]
    },
    {
     "name": "stderr",
     "output_type": "stream",
     "text": [
      "Epoch 21/100: 100%|██████████| 117/117 [00:17<00:00,  6.77it/s, loss=0.0124] \n"
     ]
    },
    {
     "name": "stdout",
     "output_type": "stream",
     "text": [
      "Val Loss: 0.2579, Map:0.9813, Macro P: 0.9377, R: 0.9486, F1: 0.9414\n",
      "Per-class F1:\n",
      "  bird: P=1.000, R=0.984, F1=0.992\n",
      "  cat: P=0.925, R=0.942, F1=0.933\n",
      "  cow: P=0.968, R=0.909, F1=0.938\n",
      "  dog: P=0.907, R=0.961, F1=0.933\n",
      "  elephant: P=1.000, R=0.961, F1=0.980\n",
      "  horse: P=0.937, R=0.937, F1=0.937\n",
      "  lion: P=0.789, R=0.982, F1=0.875\n",
      "  sheep: P=0.977, R=0.913, F1=0.944\n",
      "No improvement. Patience: 7/10\n"
     ]
    },
    {
     "name": "stderr",
     "output_type": "stream",
     "text": [
      "Epoch 22/100: 100%|██████████| 117/117 [00:15<00:00,  7.35it/s, loss=0.0481]\n"
     ]
    },
    {
     "name": "stdout",
     "output_type": "stream",
     "text": [
      "Val Loss: 0.2081, Map:0.9808, Macro P: 0.9033, R: 0.9490, F1: 0.9244\n",
      "Per-class F1:\n",
      "  bird: P=0.968, R=1.000, F1=0.984\n",
      "  cat: P=0.959, R=0.904, F1=0.931\n",
      "  cow: P=0.800, R=0.970, F1=0.877\n",
      "  dog: P=0.891, R=0.961, F1=0.925\n",
      "  elephant: P=0.941, R=0.941, F1=0.941\n",
      "  horse: P=0.879, R=0.921, F1=0.899\n",
      "  lion: P=0.875, R=0.982, F1=0.926\n",
      "  sheep: P=0.913, R=0.913, F1=0.913\n",
      "No improvement. Patience: 8/10\n"
     ]
    },
    {
     "name": "stderr",
     "output_type": "stream",
     "text": [
      "Epoch 23/100: 100%|██████████| 117/117 [00:16<00:00,  7.29it/s, loss=0.00951]\n"
     ]
    },
    {
     "name": "stdout",
     "output_type": "stream",
     "text": [
      "Val Loss: 0.2003, Map:0.9805, Macro P: 0.9015, R: 0.9612, F1: 0.9293\n",
      "Per-class F1:\n",
      "  bird: P=0.984, R=1.000, F1=0.992\n",
      "  cat: P=0.906, R=0.923, F1=0.914\n",
      "  cow: P=0.762, R=0.970, F1=0.853\n",
      "  dog: P=0.923, R=0.941, F1=0.932\n",
      "  elephant: P=0.943, R=0.980, F1=0.962\n",
      "  horse: P=0.881, R=0.937, F1=0.908\n",
      "  lion: P=0.933, R=0.982, F1=0.957\n",
      "  sheep: P=0.880, R=0.957, F1=0.917\n",
      "No improvement. Patience: 9/10\n"
     ]
    },
    {
     "name": "stderr",
     "output_type": "stream",
     "text": [
      "Epoch 24/100: 100%|██████████| 117/117 [00:16<00:00,  6.89it/s, loss=0.00808]\n"
     ]
    },
    {
     "name": "stdout",
     "output_type": "stream",
     "text": [
      "Val Loss: 0.2440, Map:0.9794, Macro P: 0.9326, R: 0.9499, F1: 0.9401\n",
      "Per-class F1:\n",
      "  bird: P=0.984, R=1.000, F1=0.992\n",
      "  cat: P=0.979, R=0.885, F1=0.929\n",
      "  cow: P=0.969, R=0.939, F1=0.954\n",
      "  dog: P=0.875, R=0.961, F1=0.916\n",
      "  elephant: P=0.961, R=0.961, F1=0.961\n",
      "  horse: P=0.937, R=0.937, F1=0.937\n",
      "  lion: P=0.862, R=0.982, F1=0.918\n",
      "  sheep: P=0.896, R=0.935, F1=0.915\n",
      "No improvement. Patience: 10/10\n",
      "Early stopping.\n"
     ]
    }
   ],
   "source": [
    "num_epochs = 100\n",
    "early_stop_patience = 10\n",
    "batch_size = 32\n",
    "\n",
    "csv_path = Path(\"E:/LSE/ST311/ST311-Group-Project/csv_files\")\n",
    "aug_split_dir = csv_path / \"augmented_splits\"\n",
    "processed_root = Path(\"E:/LSE/ST311/ST311-Group-Project/processed_data\")\n",
    "\n",
    "a_train_csv = aug_split_dir / \"train.csv\"\n",
    "a_test_csv = aug_split_dir / \"test.csv\"\n",
    "\n",
    "train_loader, val_loader, test_loader,all_labels, train_label_matrix = setup_dataloaders(\n",
    "    train_csv_path=a_train_csv,\n",
    "    test_csv_path=a_test_csv,\n",
    "    audio_root=processed_root,\n",
    "    batch_size=batch_size,\n",
    "    val_ratio=0.1\n",
    ")\n",
    "\n",
    "label_to_index = {label: i for i, label in enumerate(all_labels)}\n",
    "index_to_label = {i: label for i, label in enumerate(all_labels)}\n",
    "\n",
    "label_counts = train_label_matrix.sum(axis=0)\n",
    "total_samples = train_label_matrix.shape[0]\n",
    "num_classes = train_label_matrix.shape[1]\n",
    "\n",
    "pos_weight = total_samples / (label_counts)\n",
    "pos_weight = torch.tensor(pos_weight, dtype=torch.float32).to(device)\n",
    "\n",
    "learning_rate = 3e-5\n",
    "model = ResNetTransformerClassifier(num_classes).to(device)\n",
    "criterion = nn.BCEWithLogitsLoss(pos_weight=pos_weight)\n",
    "optimizer = torch.optim.Adam(model.parameters(), lr=learning_rate)\n",
    "\n",
    "model_save_dir = Path(\"E:/LSE/ST311/ST311-Group-Project/experiment/aug_restrans\")\n",
    "model_save_dir.mkdir(parents=True, exist_ok=True)\n",
    "best_loss = float('inf')\n",
    "patience_counter = 0\n",
    "\n",
    "for epoch in range(num_epochs):\n",
    "    model.train()\n",
    "    total_loss = 0\n",
    "    loop = tqdm(train_loader, desc=f\"Epoch {epoch+1}/{num_epochs}\")\n",
    "    for inputs, targets in loop:\n",
    "        inputs, targets = inputs.to(device), targets.to(device)\n",
    "        outputs = model(inputs)\n",
    "        loss = criterion(outputs, targets)\n",
    "        optimizer.zero_grad()\n",
    "        loss.backward()\n",
    "        optimizer.step()\n",
    "        total_loss += loss.item()\n",
    "        loop.set_postfix(loss=total_loss / (loop.n + 1))\n",
    "\n",
    "    model.eval()\n",
    "    all_preds, all_targets = [], []\n",
    "    with torch.no_grad():\n",
    "        for inputs, targets in val_loader:\n",
    "            inputs, targets = inputs.to(device), targets.to(device)\n",
    "            outputs = model(inputs)\n",
    "            all_preds.append(outputs)\n",
    "            all_targets.append(targets)\n",
    "\n",
    "    all_preds = torch.cat(all_preds)\n",
    "    all_targets = torch.cat(all_targets)\n",
    "    val_loss = criterion(all_preds, all_targets).item()\n",
    "    macro_p, macro_r, macro_f1, macro_map, p_class, r_class, f_class = multilabel_metrics(all_preds, all_targets)\n",
    "\n",
    "    print(f\"Val Loss: {val_loss:.4f}, Map:{round(macro_map,4)}, Macro P: {macro_p:.4f}, R: {macro_r:.4f}, F1: {macro_f1:.4f}\")\n",
    "    print(\"Per-class F1:\")\n",
    "    for i, label in index_to_label.items():\n",
    "        print(f\"  {label}: P={p_class[i]:.3f}, R={r_class[i]:.3f}, F1={f_class[i]:.3f}\")\n",
    "\n",
    "    if val_loss < best_loss:\n",
    "        best_loss = val_loss\n",
    "        patience_counter = 0\n",
    "        torch.save(model.state_dict(), model_save_dir / f\"resnettrans_3e_5_f1_{macro_f1:.4f}.pth\")\n",
    "        print(\"Saved best model.\")\n",
    "    else:\n",
    "        patience_counter += 1\n",
    "        print(f\"No improvement. Patience: {patience_counter}/{early_stop_patience}\")\n",
    "\n",
    "    if patience_counter >= early_stop_patience:\n",
    "        print(\"Early stopping.\")\n",
    "        break\n"
   ]
  },
  {
   "cell_type": "markdown",
   "id": "eee30beb",
   "metadata": {},
   "source": [
    "## ResNet Classifier\n",
    "\n",
    "Batch size = 32, learning rate = 1e-4"
   ]
  },
  {
   "cell_type": "code",
   "execution_count": 173,
   "id": "e591f549",
   "metadata": {},
   "outputs": [
    {
     "name": "stderr",
     "output_type": "stream",
     "text": [
      "Epoch 1/100: 100%|██████████| 117/117 [00:11<00:00, 10.14it/s, loss=0.648]\n"
     ]
    },
    {
     "name": "stdout",
     "output_type": "stream",
     "text": [
      "Val Loss: 0.2979, Map:0.9371, Macro P: 0.7525, R: 0.9394, F1: 0.8281\n",
      "Per-class F1:\n",
      "  bird: P=0.906, R=0.951, F1=0.928\n",
      "  cat: P=0.868, R=0.885, F1=0.876\n",
      "  cow: P=0.795, R=0.939, F1=0.861\n",
      "  dog: P=0.810, R=0.922, F1=0.862\n",
      "  elephant: P=0.452, R=0.922, F1=0.606\n",
      "  horse: P=0.776, R=0.937, F1=0.849\n",
      "  lion: P=0.709, R=0.982, F1=0.824\n",
      "  sheep: P=0.703, R=0.978, F1=0.818\n",
      "Saved best model.\n"
     ]
    },
    {
     "name": "stderr",
     "output_type": "stream",
     "text": [
      "Epoch 2/100: 100%|██████████| 117/117 [00:11<00:00, 10.10it/s, loss=0.22] \n"
     ]
    },
    {
     "name": "stdout",
     "output_type": "stream",
     "text": [
      "Val Loss: 0.1577, Map:0.9842, Macro P: 0.8373, R: 0.9681, F1: 0.8963\n",
      "Per-class F1:\n",
      "  bird: P=0.952, R=0.967, F1=0.959\n",
      "  cat: P=0.790, R=0.942, F1=0.860\n",
      "  cow: P=0.865, R=0.970, F1=0.914\n",
      "  dog: P=0.907, R=0.961, F1=0.933\n",
      "  elephant: P=0.735, R=0.980, F1=0.840\n",
      "  horse: P=0.871, R=0.968, F1=0.917\n",
      "  lion: P=0.792, R=1.000, F1=0.884\n",
      "  sheep: P=0.786, R=0.957, F1=0.863\n",
      "Saved best model.\n"
     ]
    },
    {
     "name": "stderr",
     "output_type": "stream",
     "text": [
      "Epoch 3/100: 100%|██████████| 117/117 [00:11<00:00,  9.99it/s, loss=0.111]\n"
     ]
    },
    {
     "name": "stdout",
     "output_type": "stream",
     "text": [
      "Val Loss: 0.1714, Map:0.981, Macro P: 0.8832, R: 0.9611, F1: 0.9192\n",
      "Per-class F1:\n",
      "  bird: P=0.983, R=0.951, F1=0.967\n",
      "  cat: P=0.902, R=0.885, F1=0.893\n",
      "  cow: P=0.941, R=0.970, F1=0.955\n",
      "  dog: P=0.831, R=0.961, F1=0.891\n",
      "  elephant: P=0.860, R=0.961, F1=0.907\n",
      "  horse: P=0.849, R=0.984, F1=0.912\n",
      "  lion: P=0.851, R=1.000, F1=0.919\n",
      "  sheep: P=0.849, R=0.978, F1=0.909\n",
      "No improvement. Patience: 1/10\n"
     ]
    },
    {
     "name": "stderr",
     "output_type": "stream",
     "text": [
      "Epoch 4/100: 100%|██████████| 117/117 [00:11<00:00, 10.02it/s, loss=0.0696]\n"
     ]
    },
    {
     "name": "stdout",
     "output_type": "stream",
     "text": [
      "Val Loss: 0.1178, Map:0.99, Macro P: 0.9118, R: 0.9694, F1: 0.9387\n",
      "Per-class F1:\n",
      "  bird: P=1.000, R=0.984, F1=0.992\n",
      "  cat: P=0.922, R=0.904, F1=0.913\n",
      "  cow: P=0.971, R=1.000, F1=0.985\n",
      "  dog: P=0.907, R=0.961, F1=0.933\n",
      "  elephant: P=0.823, R=1.000, F1=0.903\n",
      "  horse: P=0.859, R=0.968, F1=0.910\n",
      "  lion: P=0.933, R=0.982, F1=0.957\n",
      "  sheep: P=0.880, R=0.957, F1=0.917\n",
      "Saved best model.\n"
     ]
    },
    {
     "name": "stderr",
     "output_type": "stream",
     "text": [
      "Epoch 5/100: 100%|██████████| 117/117 [00:11<00:00,  9.95it/s, loss=0.0486]\n"
     ]
    },
    {
     "name": "stdout",
     "output_type": "stream",
     "text": [
      "Val Loss: 0.1290, Map:0.9855, Macro P: 0.9341, R: 0.9649, F1: 0.9488\n",
      "Per-class F1:\n",
      "  bird: P=0.938, R=1.000, F1=0.968\n",
      "  cat: P=0.980, R=0.942, F1=0.961\n",
      "  cow: P=0.909, R=0.909, F1=0.909\n",
      "  dog: P=0.940, R=0.922, F1=0.931\n",
      "  elephant: P=0.962, R=1.000, F1=0.981\n",
      "  horse: P=0.938, R=0.968, F1=0.953\n",
      "  lion: P=0.905, R=1.000, F1=0.950\n",
      "  sheep: P=0.900, R=0.978, F1=0.938\n",
      "No improvement. Patience: 1/10\n"
     ]
    },
    {
     "name": "stderr",
     "output_type": "stream",
     "text": [
      "Epoch 6/100: 100%|██████████| 117/117 [00:11<00:00,  9.93it/s, loss=0.0295]\n"
     ]
    },
    {
     "name": "stdout",
     "output_type": "stream",
     "text": [
      "Val Loss: 0.1239, Map:0.9908, Macro P: 0.9403, R: 0.9689, F1: 0.9538\n",
      "Per-class F1:\n",
      "  bird: P=0.923, R=0.984, F1=0.952\n",
      "  cat: P=0.941, R=0.923, F1=0.932\n",
      "  cow: P=0.943, R=1.000, F1=0.971\n",
      "  dog: P=1.000, R=0.941, F1=0.970\n",
      "  elephant: P=0.877, R=0.980, F1=0.926\n",
      "  horse: P=0.969, R=0.984, F1=0.976\n",
      "  lion: P=0.933, R=0.982, F1=0.957\n",
      "  sheep: P=0.936, R=0.957, F1=0.946\n",
      "No improvement. Patience: 2/10\n"
     ]
    },
    {
     "name": "stderr",
     "output_type": "stream",
     "text": [
      "Epoch 7/100: 100%|██████████| 117/117 [00:11<00:00,  9.84it/s, loss=0.0236]\n"
     ]
    },
    {
     "name": "stdout",
     "output_type": "stream",
     "text": [
      "Val Loss: 0.1314, Map:0.9915, Macro P: 0.9364, R: 0.9653, F1: 0.9494\n",
      "Per-class F1:\n",
      "  bird: P=0.984, R=0.984, F1=0.984\n",
      "  cat: P=0.958, R=0.885, F1=0.920\n",
      "  cow: P=0.846, R=1.000, F1=0.917\n",
      "  dog: P=0.941, R=0.941, F1=0.941\n",
      "  elephant: P=0.895, R=1.000, F1=0.944\n",
      "  horse: P=0.923, R=0.952, F1=0.938\n",
      "  lion: P=0.966, R=0.982, F1=0.974\n",
      "  sheep: P=0.978, R=0.978, F1=0.978\n",
      "No improvement. Patience: 3/10\n"
     ]
    },
    {
     "name": "stderr",
     "output_type": "stream",
     "text": [
      "Epoch 8/100: 100%|██████████| 117/117 [00:11<00:00,  9.80it/s, loss=0.0181]\n"
     ]
    },
    {
     "name": "stdout",
     "output_type": "stream",
     "text": [
      "Val Loss: 0.0998, Map:0.9939, Macro P: 0.9556, R: 0.9736, F1: 0.9640\n",
      "Per-class F1:\n",
      "  bird: P=1.000, R=0.984, F1=0.992\n",
      "  cat: P=0.941, R=0.923, F1=0.932\n",
      "  cow: P=0.971, R=1.000, F1=0.985\n",
      "  dog: P=0.980, R=0.941, F1=0.960\n",
      "  elephant: P=0.895, R=1.000, F1=0.944\n",
      "  horse: P=0.939, R=0.984, F1=0.961\n",
      "  lion: P=0.983, R=1.000, F1=0.991\n",
      "  sheep: P=0.936, R=0.957, F1=0.946\n",
      "Saved best model.\n"
     ]
    },
    {
     "name": "stderr",
     "output_type": "stream",
     "text": [
      "Epoch 9/100: 100%|██████████| 117/117 [00:12<00:00,  9.75it/s, loss=0.0294]\n"
     ]
    },
    {
     "name": "stdout",
     "output_type": "stream",
     "text": [
      "Val Loss: 0.1386, Map:0.9907, Macro P: 0.9453, R: 0.9631, F1: 0.9531\n",
      "Per-class F1:\n",
      "  bird: P=0.968, R=0.984, F1=0.976\n",
      "  cat: P=1.000, R=0.865, F1=0.928\n",
      "  cow: P=0.943, R=1.000, F1=0.971\n",
      "  dog: P=0.941, R=0.941, F1=0.941\n",
      "  elephant: P=0.944, R=1.000, F1=0.971\n",
      "  horse: P=0.894, R=0.937, F1=0.915\n",
      "  lion: P=0.934, R=1.000, F1=0.966\n",
      "  sheep: P=0.938, R=0.978, F1=0.957\n",
      "No improvement. Patience: 1/10\n"
     ]
    },
    {
     "name": "stderr",
     "output_type": "stream",
     "text": [
      "Epoch 10/100: 100%|██████████| 117/117 [00:12<00:00,  9.67it/s, loss=0.0359]\n"
     ]
    },
    {
     "name": "stdout",
     "output_type": "stream",
     "text": [
      "Val Loss: 0.1255, Map:0.9912, Macro P: 0.9331, R: 0.9728, F1: 0.9517\n",
      "Per-class F1:\n",
      "  bird: P=0.984, R=0.984, F1=0.984\n",
      "  cat: P=1.000, R=0.923, F1=0.960\n",
      "  cow: P=0.889, R=0.970, F1=0.928\n",
      "  dog: P=0.925, R=0.961, F1=0.942\n",
      "  elephant: P=0.895, R=1.000, F1=0.944\n",
      "  horse: P=0.939, R=0.984, F1=0.961\n",
      "  lion: P=0.933, R=0.982, F1=0.957\n",
      "  sheep: P=0.900, R=0.978, F1=0.938\n",
      "No improvement. Patience: 2/10\n"
     ]
    },
    {
     "name": "stderr",
     "output_type": "stream",
     "text": [
      "Epoch 11/100: 100%|██████████| 117/117 [00:12<00:00,  9.65it/s, loss=0.0241]\n"
     ]
    },
    {
     "name": "stdout",
     "output_type": "stream",
     "text": [
      "Val Loss: 0.1168, Map:0.9923, Macro P: 0.9371, R: 0.9632, F1: 0.9495\n",
      "Per-class F1:\n",
      "  bird: P=0.952, R=0.984, F1=0.968\n",
      "  cat: P=0.979, R=0.904, F1=0.940\n",
      "  cow: P=0.941, R=0.970, F1=0.955\n",
      "  dog: P=0.942, R=0.961, F1=0.951\n",
      "  elephant: P=0.926, R=0.980, F1=0.952\n",
      "  horse: P=0.924, R=0.968, F1=0.946\n",
      "  lion: P=0.933, R=0.982, F1=0.957\n",
      "  sheep: P=0.898, R=0.957, F1=0.926\n",
      "No improvement. Patience: 3/10\n"
     ]
    },
    {
     "name": "stderr",
     "output_type": "stream",
     "text": [
      "Epoch 12/100: 100%|██████████| 117/117 [00:12<00:00,  9.37it/s, loss=0.0155]\n"
     ]
    },
    {
     "name": "stdout",
     "output_type": "stream",
     "text": [
      "Val Loss: 0.0861, Map:0.9953, Macro P: 0.9519, R: 0.9716, F1: 0.9614\n",
      "Per-class F1:\n",
      "  bird: P=0.968, R=0.984, F1=0.976\n",
      "  cat: P=0.960, R=0.923, F1=0.941\n",
      "  cow: P=0.943, R=1.000, F1=0.971\n",
      "  dog: P=0.925, R=0.961, F1=0.942\n",
      "  elephant: P=1.000, R=0.980, F1=0.990\n",
      "  horse: P=0.953, R=0.968, F1=0.961\n",
      "  lion: P=0.950, R=1.000, F1=0.974\n",
      "  sheep: P=0.917, R=0.957, F1=0.936\n",
      "Saved best model.\n"
     ]
    },
    {
     "name": "stderr",
     "output_type": "stream",
     "text": [
      "Epoch 13/100: 100%|██████████| 117/117 [00:12<00:00,  9.30it/s, loss=0.0285]\n"
     ]
    },
    {
     "name": "stdout",
     "output_type": "stream",
     "text": [
      "Val Loss: 0.1140, Map:0.992, Macro P: 0.9218, R: 0.9698, F1: 0.9445\n",
      "Per-class F1:\n",
      "  bird: P=0.983, R=0.967, F1=0.975\n",
      "  cat: P=0.961, R=0.942, F1=0.951\n",
      "  cow: P=0.868, R=1.000, F1=0.930\n",
      "  dog: P=0.907, R=0.961, F1=0.933\n",
      "  elephant: P=0.891, R=0.961, F1=0.925\n",
      "  horse: P=0.899, R=0.984, F1=0.939\n",
      "  lion: P=0.965, R=0.965, F1=0.965\n",
      "  sheep: P=0.900, R=0.978, F1=0.938\n",
      "No improvement. Patience: 1/10\n"
     ]
    },
    {
     "name": "stderr",
     "output_type": "stream",
     "text": [
      "Epoch 14/100: 100%|██████████| 117/117 [00:12<00:00,  9.28it/s, loss=0.0135]\n"
     ]
    },
    {
     "name": "stdout",
     "output_type": "stream",
     "text": [
      "Val Loss: 0.0943, Map:0.9939, Macro P: 0.9420, R: 0.9779, F1: 0.9594\n",
      "Per-class F1:\n",
      "  bird: P=0.968, R=1.000, F1=0.984\n",
      "  cat: P=0.891, R=0.942, F1=0.916\n",
      "  cow: P=0.970, R=0.970, F1=0.970\n",
      "  dog: P=0.925, R=0.961, F1=0.942\n",
      "  elephant: P=0.962, R=1.000, F1=0.981\n",
      "  horse: P=0.953, R=0.968, F1=0.961\n",
      "  lion: P=0.966, R=0.982, F1=0.974\n",
      "  sheep: P=0.902, R=1.000, F1=0.948\n",
      "No improvement. Patience: 2/10\n"
     ]
    },
    {
     "name": "stderr",
     "output_type": "stream",
     "text": [
      "Epoch 15/100: 100%|██████████| 117/117 [00:13<00:00,  8.81it/s, loss=0.0185]\n"
     ]
    },
    {
     "name": "stdout",
     "output_type": "stream",
     "text": [
      "Val Loss: 0.1037, Map:0.9944, Macro P: 0.9535, R: 0.9783, F1: 0.9654\n",
      "Per-class F1:\n",
      "  bird: P=1.000, R=1.000, F1=1.000\n",
      "  cat: P=0.961, R=0.942, F1=0.951\n",
      "  cow: P=0.917, R=1.000, F1=0.957\n",
      "  dog: P=0.942, R=0.961, F1=0.951\n",
      "  elephant: P=0.927, R=1.000, F1=0.962\n",
      "  horse: P=0.954, R=0.984, F1=0.969\n",
      "  lion: P=0.949, R=0.982, F1=0.966\n",
      "  sheep: P=0.978, R=0.957, F1=0.967\n",
      "No improvement. Patience: 3/10\n"
     ]
    },
    {
     "name": "stderr",
     "output_type": "stream",
     "text": [
      "Epoch 16/100: 100%|██████████| 117/117 [00:12<00:00,  9.25it/s, loss=0.00964]\n"
     ]
    },
    {
     "name": "stdout",
     "output_type": "stream",
     "text": [
      "Val Loss: 0.0912, Map:0.9954, Macro P: 0.9537, R: 0.9794, F1: 0.9660\n",
      "Per-class F1:\n",
      "  bird: P=1.000, R=1.000, F1=1.000\n",
      "  cat: P=0.961, R=0.942, F1=0.951\n",
      "  cow: P=0.970, R=0.970, F1=0.970\n",
      "  dog: P=0.980, R=0.961, F1=0.970\n",
      "  elephant: P=0.927, R=1.000, F1=0.962\n",
      "  horse: P=0.954, R=0.984, F1=0.969\n",
      "  lion: P=0.919, R=1.000, F1=0.958\n",
      "  sheep: P=0.918, R=0.978, F1=0.947\n",
      "No improvement. Patience: 4/10\n"
     ]
    },
    {
     "name": "stderr",
     "output_type": "stream",
     "text": [
      "Epoch 17/100: 100%|██████████| 117/117 [00:12<00:00,  9.19it/s, loss=0.011] \n"
     ]
    },
    {
     "name": "stdout",
     "output_type": "stream",
     "text": [
      "Val Loss: 0.0660, Map:0.9971, Macro P: 0.9591, R: 0.9852, F1: 0.9713\n",
      "Per-class F1:\n",
      "  bird: P=1.000, R=1.000, F1=1.000\n",
      "  cat: P=0.961, R=0.942, F1=0.951\n",
      "  cow: P=0.943, R=1.000, F1=0.971\n",
      "  dog: P=1.000, R=0.961, F1=0.980\n",
      "  elephant: P=0.895, R=1.000, F1=0.944\n",
      "  horse: P=0.913, R=1.000, F1=0.955\n",
      "  lion: P=0.983, R=1.000, F1=0.991\n",
      "  sheep: P=0.978, R=0.978, F1=0.978\n",
      "Saved best model.\n"
     ]
    },
    {
     "name": "stderr",
     "output_type": "stream",
     "text": [
      "Epoch 18/100: 100%|██████████| 117/117 [00:12<00:00,  9.17it/s, loss=0.006]  \n"
     ]
    },
    {
     "name": "stdout",
     "output_type": "stream",
     "text": [
      "Val Loss: 0.0774, Map:0.9969, Macro P: 0.9646, R: 0.9825, F1: 0.9729\n",
      "Per-class F1:\n",
      "  bird: P=1.000, R=1.000, F1=1.000\n",
      "  cat: P=0.980, R=0.942, F1=0.961\n",
      "  cow: P=0.971, R=1.000, F1=0.985\n",
      "  dog: P=1.000, R=0.961, F1=0.980\n",
      "  elephant: P=0.927, R=1.000, F1=0.962\n",
      "  horse: P=0.926, R=1.000, F1=0.962\n",
      "  lion: P=0.934, R=1.000, F1=0.966\n",
      "  sheep: P=0.978, R=0.957, F1=0.967\n",
      "No improvement. Patience: 1/10\n"
     ]
    },
    {
     "name": "stderr",
     "output_type": "stream",
     "text": [
      "Epoch 19/100: 100%|██████████| 117/117 [00:12<00:00,  9.03it/s, loss=0.0239]\n"
     ]
    },
    {
     "name": "stdout",
     "output_type": "stream",
     "text": [
      "Val Loss: 0.1140, Map:0.9904, Macro P: 0.9584, R: 0.9780, F1: 0.9679\n",
      "Per-class F1:\n",
      "  bird: P=0.984, R=1.000, F1=0.992\n",
      "  cat: P=0.961, R=0.942, F1=0.951\n",
      "  cow: P=0.971, R=1.000, F1=0.985\n",
      "  dog: P=0.942, R=0.961, F1=0.951\n",
      "  elephant: P=0.943, R=0.980, F1=0.962\n",
      "  horse: P=0.954, R=0.984, F1=0.969\n",
      "  lion: P=0.934, R=1.000, F1=0.966\n",
      "  sheep: P=0.978, R=0.957, F1=0.967\n",
      "No improvement. Patience: 2/10\n"
     ]
    },
    {
     "name": "stderr",
     "output_type": "stream",
     "text": [
      "Epoch 20/100: 100%|██████████| 117/117 [00:13<00:00,  8.94it/s, loss=0.0159]\n"
     ]
    },
    {
     "name": "stdout",
     "output_type": "stream",
     "text": [
      "Val Loss: 0.1061, Map:0.9924, Macro P: 0.9395, R: 0.9740, F1: 0.9562\n",
      "Per-class F1:\n",
      "  bird: P=0.984, R=1.000, F1=0.992\n",
      "  cat: P=0.906, R=0.923, F1=0.914\n",
      "  cow: P=0.943, R=1.000, F1=0.971\n",
      "  dog: P=0.941, R=0.941, F1=0.941\n",
      "  elephant: P=0.961, R=0.961, F1=0.961\n",
      "  horse: P=0.954, R=0.984, F1=0.969\n",
      "  lion: P=0.889, R=0.982, F1=0.933\n",
      "  sheep: P=0.939, R=1.000, F1=0.968\n",
      "No improvement. Patience: 3/10\n"
     ]
    },
    {
     "name": "stderr",
     "output_type": "stream",
     "text": [
      "Epoch 21/100: 100%|██████████| 117/117 [00:12<00:00,  9.07it/s, loss=0.00585]\n"
     ]
    },
    {
     "name": "stdout",
     "output_type": "stream",
     "text": [
      "Val Loss: 0.0876, Map:0.995, Macro P: 0.9695, R: 0.9766, F1: 0.9728\n",
      "Per-class F1:\n",
      "  bird: P=1.000, R=0.984, F1=0.992\n",
      "  cat: P=1.000, R=0.942, F1=0.970\n",
      "  cow: P=0.941, R=0.970, F1=0.955\n",
      "  dog: P=0.925, R=0.961, F1=0.942\n",
      "  elephant: P=0.962, R=1.000, F1=0.981\n",
      "  horse: P=0.984, R=1.000, F1=0.992\n",
      "  lion: P=0.966, R=1.000, F1=0.983\n",
      "  sheep: P=0.978, R=0.957, F1=0.967\n",
      "No improvement. Patience: 4/10\n"
     ]
    },
    {
     "name": "stderr",
     "output_type": "stream",
     "text": [
      "Epoch 22/100: 100%|██████████| 117/117 [00:12<00:00,  9.11it/s, loss=0.00937]\n"
     ]
    },
    {
     "name": "stdout",
     "output_type": "stream",
     "text": [
      "Val Loss: 0.1303, Map:0.9924, Macro P: 0.9326, R: 0.9694, F1: 0.9498\n",
      "Per-class F1:\n",
      "  bird: P=0.984, R=0.984, F1=0.984\n",
      "  cat: P=0.979, R=0.904, F1=0.940\n",
      "  cow: P=0.917, R=1.000, F1=0.957\n",
      "  dog: P=0.942, R=0.961, F1=0.951\n",
      "  elephant: P=0.911, R=1.000, F1=0.953\n",
      "  horse: P=0.897, R=0.968, F1=0.931\n",
      "  lion: P=0.875, R=0.982, F1=0.926\n",
      "  sheep: P=0.957, R=0.957, F1=0.957\n",
      "No improvement. Patience: 5/10\n"
     ]
    },
    {
     "name": "stderr",
     "output_type": "stream",
     "text": [
      "Epoch 23/100: 100%|██████████| 117/117 [00:12<00:00,  9.16it/s, loss=0.0377]\n"
     ]
    },
    {
     "name": "stdout",
     "output_type": "stream",
     "text": [
      "Val Loss: 0.1540, Map:0.9877, Macro P: 0.9128, R: 0.9603, F1: 0.9351\n",
      "Per-class F1:\n",
      "  bird: P=0.937, R=0.967, F1=0.952\n",
      "  cat: P=0.857, R=0.923, F1=0.889\n",
      "  cow: P=1.000, R=1.000, F1=1.000\n",
      "  dog: P=0.941, R=0.941, F1=0.941\n",
      "  elephant: P=0.909, R=0.980, F1=0.943\n",
      "  horse: P=0.912, R=0.984, F1=0.947\n",
      "  lion: P=0.946, R=0.930, F1=0.938\n",
      "  sheep: P=0.800, R=0.957, F1=0.871\n",
      "No improvement. Patience: 6/10\n"
     ]
    },
    {
     "name": "stderr",
     "output_type": "stream",
     "text": [
      "Epoch 24/100: 100%|██████████| 117/117 [00:12<00:00,  9.38it/s, loss=0.0199]\n"
     ]
    },
    {
     "name": "stdout",
     "output_type": "stream",
     "text": [
      "Val Loss: 0.1290, Map:0.9924, Macro P: 0.9354, R: 0.9671, F1: 0.9500\n",
      "Per-class F1:\n",
      "  bird: P=0.923, R=0.984, F1=0.952\n",
      "  cat: P=0.957, R=0.865, F1=0.909\n",
      "  cow: P=0.943, R=1.000, F1=0.971\n",
      "  dog: P=0.980, R=0.941, F1=0.960\n",
      "  elephant: P=0.962, R=0.980, F1=0.971\n",
      "  horse: P=0.899, R=0.984, F1=0.939\n",
      "  lion: P=0.918, R=0.982, F1=0.949\n",
      "  sheep: P=0.902, R=1.000, F1=0.948\n",
      "No improvement. Patience: 7/10\n"
     ]
    },
    {
     "name": "stderr",
     "output_type": "stream",
     "text": [
      "Epoch 25/100: 100%|██████████| 117/117 [00:12<00:00,  9.31it/s, loss=0.00907]\n"
     ]
    },
    {
     "name": "stdout",
     "output_type": "stream",
     "text": [
      "Val Loss: 0.1076, Map:0.9933, Macro P: 0.9533, R: 0.9807, F1: 0.9661\n",
      "Per-class F1:\n",
      "  bird: P=0.938, R=1.000, F1=0.968\n",
      "  cat: P=0.979, R=0.885, F1=0.929\n",
      "  cow: P=0.971, R=1.000, F1=0.985\n",
      "  dog: P=0.961, R=0.961, F1=0.961\n",
      "  elephant: P=0.962, R=1.000, F1=0.981\n",
      "  horse: P=0.926, R=1.000, F1=0.962\n",
      "  lion: P=0.950, R=1.000, F1=0.974\n",
      "  sheep: P=0.939, R=1.000, F1=0.968\n",
      "No improvement. Patience: 8/10\n"
     ]
    },
    {
     "name": "stderr",
     "output_type": "stream",
     "text": [
      "Epoch 26/100: 100%|██████████| 117/117 [00:12<00:00,  9.33it/s, loss=0.00304]\n"
     ]
    },
    {
     "name": "stdout",
     "output_type": "stream",
     "text": [
      "Val Loss: 0.1141, Map:0.9929, Macro P: 0.9560, R: 0.9721, F1: 0.9636\n",
      "Per-class F1:\n",
      "  bird: P=0.983, R=0.967, F1=0.975\n",
      "  cat: P=0.959, R=0.904, F1=0.931\n",
      "  cow: P=0.943, R=1.000, F1=0.971\n",
      "  dog: P=0.942, R=0.961, F1=0.951\n",
      "  elephant: P=0.962, R=1.000, F1=0.981\n",
      "  horse: P=0.939, R=0.984, F1=0.961\n",
      "  lion: P=1.000, R=0.982, F1=0.991\n",
      "  sheep: P=0.918, R=0.978, F1=0.947\n",
      "No improvement. Patience: 9/10\n"
     ]
    },
    {
     "name": "stderr",
     "output_type": "stream",
     "text": [
      "Epoch 27/100: 100%|██████████| 117/117 [00:12<00:00,  9.02it/s, loss=0.0036] \n"
     ]
    },
    {
     "name": "stdout",
     "output_type": "stream",
     "text": [
      "Val Loss: 0.0984, Map:0.9949, Macro P: 0.9515, R: 0.9698, F1: 0.9601\n",
      "Per-class F1:\n",
      "  bird: P=1.000, R=0.967, F1=0.983\n",
      "  cat: P=0.906, R=0.923, F1=0.914\n",
      "  cow: P=0.971, R=1.000, F1=0.985\n",
      "  dog: P=0.980, R=0.941, F1=0.960\n",
      "  elephant: P=0.895, R=1.000, F1=0.944\n",
      "  horse: P=0.939, R=0.984, F1=0.961\n",
      "  lion: P=0.965, R=0.965, F1=0.965\n",
      "  sheep: P=0.957, R=0.978, F1=0.968\n",
      "No improvement. Patience: 10/10\n",
      "Early stopping.\n"
     ]
    }
   ],
   "source": [
    "model = ResNetClassifier(num_classes).to(device)\n",
    "criterion = nn.BCEWithLogitsLoss(pos_weight=pos_weight)\n",
    "optimizer = torch.optim.Adam(model.parameters(), lr=learning_rate)\n",
    "\n",
    "model_save_dir = Path(\"E:/LSE/ST311/ST311-Group-Project/experiment/aug_res\")\n",
    "model_save_dir.mkdir(parents=True, exist_ok=True)\n",
    "best_loss = float('inf')\n",
    "patience_counter = 0\n",
    "\n",
    "for epoch in range(num_epochs):\n",
    "    model.train()\n",
    "    total_loss = 0\n",
    "    loop = tqdm(train_loader, desc=f\"Epoch {epoch+1}/{num_epochs}\")\n",
    "    for inputs, targets in loop:\n",
    "        inputs, targets = inputs.to(device), targets.to(device)\n",
    "        outputs = model(inputs)\n",
    "        loss = criterion(outputs, targets)\n",
    "        optimizer.zero_grad()\n",
    "        loss.backward()\n",
    "        optimizer.step()\n",
    "        total_loss += loss.item()\n",
    "        loop.set_postfix(loss=total_loss / (loop.n + 1))\n",
    "\n",
    "    model.eval()\n",
    "    all_preds, all_targets = [], []\n",
    "    with torch.no_grad():\n",
    "        for inputs, targets in val_loader:\n",
    "            inputs, targets = inputs.to(device), targets.to(device)\n",
    "            outputs = model(inputs)\n",
    "            all_preds.append(outputs)\n",
    "            all_targets.append(targets)\n",
    "\n",
    "    all_preds = torch.cat(all_preds)\n",
    "    all_targets = torch.cat(all_targets)\n",
    "    val_loss = criterion(all_preds, all_targets).item()\n",
    "    macro_p, macro_r, macro_f1, macro_map, p_class, r_class, f_class = multilabel_metrics(all_preds, all_targets)\n",
    "\n",
    "    print(f\"Val Loss: {val_loss:.4f}, Map:{round(macro_map,4)}, Macro P: {macro_p:.4f}, R: {macro_r:.4f}, F1: {macro_f1:.4f}\")\n",
    "    print(\"Per-class F1:\")\n",
    "    for i, label in index_to_label.items():\n",
    "        print(f\"  {label}: P={p_class[i]:.3f}, R={r_class[i]:.3f}, F1={f_class[i]:.3f}\")\n",
    "\n",
    "    if val_loss < best_loss:\n",
    "        best_loss = val_loss\n",
    "        patience_counter = 0\n",
    "        torch.save(model.state_dict(), model_save_dir / f\"resnet_f1_{macro_f1:.4f}.pth\")\n",
    "        print(\"Saved best model.\")\n",
    "    else:\n",
    "        patience_counter += 1\n",
    "        print(f\"No improvement. Patience: {patience_counter}/{early_stop_patience}\")\n",
    "\n",
    "    if patience_counter >= early_stop_patience:\n",
    "        print(\"Early stopping.\")\n",
    "        break\n"
   ]
  },
  {
   "cell_type": "markdown",
   "id": "a3f030e5",
   "metadata": {},
   "source": [
    "## ResNet Classifier with dropout\n",
    "\n",
    "Batch size = 32, learning rate = 1e-4, dropout_rate = 0.3"
   ]
  },
  {
   "cell_type": "code",
   "execution_count": 188,
   "id": "b9ab4ed0",
   "metadata": {},
   "outputs": [
    {
     "name": "stderr",
     "output_type": "stream",
     "text": [
      "d:\\miniconda\\envs\\st311_final\\lib\\site-packages\\torchvision\\models\\_utils.py:208: UserWarning: The parameter 'pretrained' is deprecated since 0.13 and may be removed in the future, please use 'weights' instead.\n",
      "  warnings.warn(\n",
      "d:\\miniconda\\envs\\st311_final\\lib\\site-packages\\torchvision\\models\\_utils.py:223: UserWarning: Arguments other than a weight enum or `None` for 'weights' are deprecated since 0.13 and may be removed in the future. The current behavior is equivalent to passing `weights=ResNet18_Weights.IMAGENET1K_V1`. You can also use `weights=ResNet18_Weights.DEFAULT` to get the most up-to-date weights.\n",
      "  warnings.warn(msg)\n",
      "Epoch 1/100: 100%|██████████| 117/117 [00:12<00:00,  9.31it/s, loss=0.732]\n"
     ]
    },
    {
     "name": "stdout",
     "output_type": "stream",
     "text": [
      "Val Loss: 0.3399, Map:0.9353, Macro P: 0.6857, R: 0.9405, F1: 0.7849\n",
      "Per-class F1:\n",
      "  bird: P=0.892, R=0.951, F1=0.921\n",
      "  cat: P=0.811, R=0.827, F1=0.819\n",
      "  cow: P=0.647, R=1.000, F1=0.786\n",
      "  dog: P=0.800, R=0.941, F1=0.865\n",
      "  elephant: P=0.613, R=0.902, F1=0.730\n",
      "  horse: P=0.526, R=0.968, F1=0.682\n",
      "  lion: P=0.582, R=1.000, F1=0.735\n",
      "  sheep: P=0.614, R=0.935, F1=0.741\n",
      "Saved best model.\n"
     ]
    },
    {
     "name": "stderr",
     "output_type": "stream",
     "text": [
      "Epoch 2/100: 100%|██████████| 117/117 [00:12<00:00,  9.57it/s, loss=0.267]\n"
     ]
    },
    {
     "name": "stdout",
     "output_type": "stream",
     "text": [
      "Val Loss: 0.1956, Map:0.9772, Macro P: 0.8339, R: 0.9575, F1: 0.8868\n",
      "Per-class F1:\n",
      "  bird: P=0.938, R=0.984, F1=0.960\n",
      "  cat: P=0.904, R=0.904, F1=0.904\n",
      "  cow: P=0.846, R=1.000, F1=0.917\n",
      "  dog: P=0.889, R=0.941, F1=0.914\n",
      "  elephant: P=0.704, R=0.980, F1=0.820\n",
      "  horse: P=0.649, R=1.000, F1=0.787\n",
      "  lion: P=0.895, R=0.895, F1=0.895\n",
      "  sheep: P=0.846, R=0.957, F1=0.898\n",
      "Saved best model.\n"
     ]
    },
    {
     "name": "stderr",
     "output_type": "stream",
     "text": [
      "Epoch 3/100: 100%|██████████| 117/117 [00:12<00:00,  9.46it/s, loss=0.125]\n"
     ]
    },
    {
     "name": "stdout",
     "output_type": "stream",
     "text": [
      "Val Loss: 0.1738, Map:0.9765, Macro P: 0.8812, R: 0.9532, F1: 0.9129\n",
      "Per-class F1:\n",
      "  bird: P=0.983, R=0.967, F1=0.975\n",
      "  cat: P=0.821, R=0.885, F1=0.852\n",
      "  cow: P=0.892, R=1.000, F1=0.943\n",
      "  dog: P=0.941, R=0.941, F1=0.941\n",
      "  elephant: P=0.671, R=0.961, F1=0.790\n",
      "  horse: P=0.847, R=0.968, F1=0.904\n",
      "  lion: P=0.915, R=0.947, F1=0.931\n",
      "  sheep: P=0.978, R=0.957, F1=0.967\n",
      "Saved best model.\n"
     ]
    },
    {
     "name": "stderr",
     "output_type": "stream",
     "text": [
      "Epoch 4/100: 100%|██████████| 117/117 [00:12<00:00,  9.14it/s, loss=0.0757]\n"
     ]
    },
    {
     "name": "stdout",
     "output_type": "stream",
     "text": [
      "Val Loss: 0.1355, Map:0.9866, Macro P: 0.9091, R: 0.9562, F1: 0.9306\n",
      "Per-class F1:\n",
      "  bird: P=0.967, R=0.951, F1=0.959\n",
      "  cat: P=0.887, R=0.904, F1=0.895\n",
      "  cow: P=0.970, R=0.970, F1=0.970\n",
      "  dog: P=0.961, R=0.961, F1=0.961\n",
      "  elephant: P=0.873, R=0.941, F1=0.906\n",
      "  horse: P=0.827, R=0.984, F1=0.899\n",
      "  lion: P=0.812, R=0.982, F1=0.889\n",
      "  sheep: P=0.978, R=0.957, F1=0.967\n",
      "Saved best model.\n"
     ]
    },
    {
     "name": "stderr",
     "output_type": "stream",
     "text": [
      "Epoch 5/100: 100%|██████████| 117/117 [00:12<00:00,  9.69it/s, loss=0.0604]\n"
     ]
    },
    {
     "name": "stdout",
     "output_type": "stream",
     "text": [
      "Val Loss: 0.1313, Map:0.989, Macro P: 0.9404, R: 0.9589, F1: 0.9484\n",
      "Per-class F1:\n",
      "  bird: P=0.896, R=0.984, F1=0.938\n",
      "  cat: P=0.958, R=0.885, F1=0.920\n",
      "  cow: P=0.970, R=0.970, F1=0.970\n",
      "  dog: P=0.942, R=0.961, F1=0.951\n",
      "  elephant: P=0.980, R=0.980, F1=0.980\n",
      "  horse: P=0.838, R=0.984, F1=0.905\n",
      "  lion: P=0.981, R=0.930, F1=0.955\n",
      "  sheep: P=0.957, R=0.978, F1=0.968\n",
      "Saved best model.\n"
     ]
    },
    {
     "name": "stderr",
     "output_type": "stream",
     "text": [
      "Epoch 6/100: 100%|██████████| 117/117 [00:12<00:00,  9.54it/s, loss=0.0583]\n"
     ]
    },
    {
     "name": "stdout",
     "output_type": "stream",
     "text": [
      "Val Loss: 0.1015, Map:0.9923, Macro P: 0.9290, R: 0.9650, F1: 0.9457\n",
      "Per-class F1:\n",
      "  bird: P=0.968, R=0.984, F1=0.976\n",
      "  cat: P=0.902, R=0.885, F1=0.893\n",
      "  cow: P=0.970, R=0.970, F1=0.970\n",
      "  dog: P=0.941, R=0.941, F1=0.941\n",
      "  elephant: P=0.962, R=0.980, F1=0.971\n",
      "  horse: P=0.829, R=1.000, F1=0.906\n",
      "  lion: P=0.903, R=0.982, F1=0.941\n",
      "  sheep: P=0.957, R=0.978, F1=0.968\n",
      "Saved best model.\n"
     ]
    },
    {
     "name": "stderr",
     "output_type": "stream",
     "text": [
      "Epoch 7/100: 100%|██████████| 117/117 [00:12<00:00,  9.42it/s, loss=0.024] \n"
     ]
    },
    {
     "name": "stdout",
     "output_type": "stream",
     "text": [
      "Val Loss: 0.1118, Map:0.9895, Macro P: 0.9396, R: 0.9591, F1: 0.9485\n",
      "Per-class F1:\n",
      "  bird: P=0.968, R=1.000, F1=0.984\n",
      "  cat: P=0.920, R=0.885, F1=0.902\n",
      "  cow: P=0.917, R=1.000, F1=0.957\n",
      "  dog: P=0.923, R=0.941, F1=0.932\n",
      "  elephant: P=0.926, R=0.980, F1=0.952\n",
      "  horse: P=0.899, R=0.984, F1=0.939\n",
      "  lion: P=0.964, R=0.947, F1=0.956\n",
      "  sheep: P=1.000, R=0.935, F1=0.966\n",
      "No improvement. Patience: 1/10\n"
     ]
    },
    {
     "name": "stderr",
     "output_type": "stream",
     "text": [
      "Epoch 8/100: 100%|██████████| 117/117 [00:12<00:00,  9.16it/s, loss=0.0166]\n"
     ]
    },
    {
     "name": "stdout",
     "output_type": "stream",
     "text": [
      "Val Loss: 0.1223, Map:0.9918, Macro P: 0.9212, R: 0.9672, F1: 0.9424\n",
      "Per-class F1:\n",
      "  bird: P=0.968, R=1.000, F1=0.984\n",
      "  cat: P=0.958, R=0.885, F1=0.920\n",
      "  cow: P=0.825, R=1.000, F1=0.904\n",
      "  dog: P=0.961, R=0.961, F1=0.961\n",
      "  elephant: P=0.943, R=0.980, F1=0.962\n",
      "  horse: P=0.897, R=0.968, F1=0.931\n",
      "  lion: P=0.917, R=0.965, F1=0.940\n",
      "  sheep: P=0.900, R=0.978, F1=0.938\n",
      "No improvement. Patience: 2/10\n"
     ]
    },
    {
     "name": "stderr",
     "output_type": "stream",
     "text": [
      "Epoch 9/100: 100%|██████████| 117/117 [00:12<00:00,  9.30it/s, loss=0.0314]\n"
     ]
    },
    {
     "name": "stdout",
     "output_type": "stream",
     "text": [
      "Val Loss: 0.1501, Map:0.99, Macro P: 0.9410, R: 0.9598, F1: 0.9487\n",
      "Per-class F1:\n",
      "  bird: P=0.984, R=0.984, F1=0.984\n",
      "  cat: P=1.000, R=0.865, F1=0.928\n",
      "  cow: P=0.892, R=1.000, F1=0.943\n",
      "  dog: P=0.906, R=0.941, F1=0.923\n",
      "  elephant: P=0.907, R=0.961, F1=0.933\n",
      "  horse: P=0.861, R=0.984, F1=0.919\n",
      "  lion: P=1.000, R=0.965, F1=0.982\n",
      "  sheep: P=0.978, R=0.978, F1=0.978\n",
      "No improvement. Patience: 3/10\n"
     ]
    },
    {
     "name": "stderr",
     "output_type": "stream",
     "text": [
      "Epoch 10/100: 100%|██████████| 117/117 [00:11<00:00,  9.75it/s, loss=0.0924]\n"
     ]
    },
    {
     "name": "stdout",
     "output_type": "stream",
     "text": [
      "Val Loss: 0.1078, Map:0.9906, Macro P: 0.9194, R: 0.9698, F1: 0.9426\n",
      "Per-class F1:\n",
      "  bird: P=0.968, R=0.984, F1=0.976\n",
      "  cat: P=0.938, R=0.865, F1=0.900\n",
      "  cow: P=1.000, R=1.000, F1=1.000\n",
      "  dog: P=0.909, R=0.980, F1=0.943\n",
      "  elephant: P=0.944, R=1.000, F1=0.971\n",
      "  horse: P=0.836, R=0.968, F1=0.897\n",
      "  lion: P=0.824, R=0.982, F1=0.896\n",
      "  sheep: P=0.938, R=0.978, F1=0.957\n",
      "No improvement. Patience: 4/10\n"
     ]
    },
    {
     "name": "stderr",
     "output_type": "stream",
     "text": [
      "Epoch 11/100: 100%|██████████| 117/117 [00:11<00:00,  9.83it/s, loss=0.0188]\n"
     ]
    },
    {
     "name": "stdout",
     "output_type": "stream",
     "text": [
      "Val Loss: 0.1445, Map:0.9882, Macro P: 0.9325, R: 0.9598, F1: 0.9443\n",
      "Per-class F1:\n",
      "  bird: P=0.953, R=1.000, F1=0.976\n",
      "  cat: P=0.979, R=0.885, F1=0.929\n",
      "  cow: P=0.892, R=1.000, F1=0.943\n",
      "  dog: P=0.979, R=0.922, F1=0.949\n",
      "  elephant: P=0.803, R=0.961, F1=0.875\n",
      "  horse: P=0.910, R=0.968, F1=0.938\n",
      "  lion: P=0.965, R=0.965, F1=0.965\n",
      "  sheep: P=0.978, R=0.978, F1=0.978\n",
      "No improvement. Patience: 5/10\n"
     ]
    },
    {
     "name": "stderr",
     "output_type": "stream",
     "text": [
      "Epoch 12/100: 100%|██████████| 117/117 [00:12<00:00,  9.44it/s, loss=0.0126]\n"
     ]
    },
    {
     "name": "stdout",
     "output_type": "stream",
     "text": [
      "Val Loss: 0.1125, Map:0.9912, Macro P: 0.9486, R: 0.9711, F1: 0.9590\n",
      "Per-class F1:\n",
      "  bird: P=0.953, R=1.000, F1=0.976\n",
      "  cat: P=0.957, R=0.865, F1=0.909\n",
      "  cow: P=0.971, R=1.000, F1=0.985\n",
      "  dog: P=0.980, R=0.980, F1=0.980\n",
      "  elephant: P=0.927, R=1.000, F1=0.962\n",
      "  horse: P=0.925, R=0.984, F1=0.954\n",
      "  lion: P=0.918, R=0.982, F1=0.949\n",
      "  sheep: P=0.957, R=0.957, F1=0.957\n",
      "No improvement. Patience: 6/10\n"
     ]
    },
    {
     "name": "stderr",
     "output_type": "stream",
     "text": [
      "Epoch 13/100: 100%|██████████| 117/117 [00:12<00:00,  9.13it/s, loss=0.0121]\n"
     ]
    },
    {
     "name": "stdout",
     "output_type": "stream",
     "text": [
      "Val Loss: 0.1525, Map:0.9859, Macro P: 0.9471, R: 0.9688, F1: 0.9569\n",
      "Per-class F1:\n",
      "  bird: P=1.000, R=0.984, F1=0.992\n",
      "  cat: P=0.959, R=0.904, F1=0.931\n",
      "  cow: P=0.971, R=1.000, F1=0.985\n",
      "  dog: P=0.962, R=0.980, F1=0.971\n",
      "  elephant: P=0.961, R=0.961, F1=0.961\n",
      "  horse: P=0.851, R=1.000, F1=0.920\n",
      "  lion: P=0.917, R=0.965, F1=0.940\n",
      "  sheep: P=0.957, R=0.957, F1=0.957\n",
      "No improvement. Patience: 7/10\n"
     ]
    },
    {
     "name": "stderr",
     "output_type": "stream",
     "text": [
      "Epoch 14/100: 100%|██████████| 117/117 [00:12<00:00,  9.22it/s, loss=0.0158]\n"
     ]
    },
    {
     "name": "stdout",
     "output_type": "stream",
     "text": [
      "Val Loss: 0.1223, Map:0.9921, Macro P: 0.9426, R: 0.9570, F1: 0.9482\n",
      "Per-class F1:\n",
      "  bird: P=0.984, R=0.984, F1=0.984\n",
      "  cat: P=1.000, R=0.904, F1=0.949\n",
      "  cow: P=0.868, R=1.000, F1=0.930\n",
      "  dog: P=0.980, R=0.941, F1=0.960\n",
      "  elephant: P=0.960, R=0.941, F1=0.950\n",
      "  horse: P=0.863, R=1.000, F1=0.926\n",
      "  lion: P=0.930, R=0.930, F1=0.930\n",
      "  sheep: P=0.957, R=0.957, F1=0.957\n",
      "No improvement. Patience: 8/10\n"
     ]
    },
    {
     "name": "stderr",
     "output_type": "stream",
     "text": [
      "Epoch 15/100: 100%|██████████| 117/117 [00:13<00:00,  8.96it/s, loss=0.0467]\n"
     ]
    },
    {
     "name": "stdout",
     "output_type": "stream",
     "text": [
      "Val Loss: 0.1436, Map:0.9876, Macro P: 0.9205, R: 0.9673, F1: 0.9426\n",
      "Per-class F1:\n",
      "  bird: P=0.983, R=0.967, F1=0.975\n",
      "  cat: P=0.857, R=0.923, F1=0.889\n",
      "  cow: P=0.892, R=1.000, F1=0.943\n",
      "  dog: P=0.909, R=0.980, F1=0.943\n",
      "  elephant: P=0.942, R=0.961, F1=0.951\n",
      "  horse: P=0.847, R=0.968, F1=0.904\n",
      "  lion: P=0.933, R=0.982, F1=0.957\n",
      "  sheep: P=1.000, R=0.957, F1=0.978\n",
      "No improvement. Patience: 9/10\n"
     ]
    },
    {
     "name": "stderr",
     "output_type": "stream",
     "text": [
      "Epoch 16/100: 100%|██████████| 117/117 [00:13<00:00,  8.97it/s, loss=0.0178]\n"
     ]
    },
    {
     "name": "stdout",
     "output_type": "stream",
     "text": [
      "Val Loss: 0.1285, Map:0.9924, Macro P: 0.9304, R: 0.9583, F1: 0.9431\n",
      "Per-class F1:\n",
      "  bird: P=0.952, R=0.967, F1=0.959\n",
      "  cat: P=0.959, R=0.904, F1=0.931\n",
      "  cow: P=0.846, R=1.000, F1=0.917\n",
      "  dog: P=0.943, R=0.980, F1=0.962\n",
      "  elephant: P=0.960, R=0.941, F1=0.950\n",
      "  horse: P=0.857, R=0.952, F1=0.902\n",
      "  lion: P=0.948, R=0.965, F1=0.957\n",
      "  sheep: P=0.978, R=0.957, F1=0.967\n",
      "No improvement. Patience: 10/10\n",
      "Early stopping.\n"
     ]
    }
   ],
   "source": [
    "model = ResNetClassifier(num_classes,use_dropout=True).to(device)\n",
    "criterion = nn.BCEWithLogitsLoss(pos_weight=pos_weight)\n",
    "optimizer = torch.optim.Adam(model.parameters(), lr=learning_rate)\n",
    "\n",
    "model_save_dir = Path(\"E:/LSE/ST311/ST311-Group-Project/experiment/aug_res\")\n",
    "model_save_dir.mkdir(parents=True, exist_ok=True)\n",
    "best_loss = float('inf')\n",
    "patience_counter = 0\n",
    "\n",
    "for epoch in range(num_epochs):\n",
    "    model.train()\n",
    "    total_loss = 0\n",
    "    loop = tqdm(train_loader, desc=f\"Epoch {epoch+1}/{num_epochs}\")\n",
    "    for inputs, targets in loop:\n",
    "        inputs, targets = inputs.to(device), targets.to(device)\n",
    "        outputs = model(inputs)\n",
    "        loss = criterion(outputs, targets)\n",
    "        optimizer.zero_grad()\n",
    "        loss.backward()\n",
    "        optimizer.step()\n",
    "        total_loss += loss.item()\n",
    "        loop.set_postfix(loss=total_loss / (loop.n + 1))\n",
    "\n",
    "    model.eval()\n",
    "    all_preds, all_targets = [], []\n",
    "    with torch.no_grad():\n",
    "        for inputs, targets in val_loader:\n",
    "            inputs, targets = inputs.to(device), targets.to(device)\n",
    "            outputs = model(inputs)\n",
    "            all_preds.append(outputs)\n",
    "            all_targets.append(targets)\n",
    "\n",
    "    all_preds = torch.cat(all_preds)\n",
    "    all_targets = torch.cat(all_targets)\n",
    "    val_loss = criterion(all_preds, all_targets).item()\n",
    "    macro_p, macro_r, macro_f1, macro_map, p_class, r_class, f_class = multilabel_metrics(all_preds, all_targets)\n",
    "\n",
    "    print(f\"Val Loss: {val_loss:.4f}, Map:{round(macro_map,4)}, Macro P: {macro_p:.4f}, R: {macro_r:.4f}, F1: {macro_f1:.4f}\")\n",
    "    print(\"Per-class F1:\")\n",
    "    for i, label in index_to_label.items():\n",
    "        print(f\"  {label}: P={p_class[i]:.3f}, R={r_class[i]:.3f}, F1={f_class[i]:.3f}\")\n",
    "\n",
    "    if val_loss < best_loss:\n",
    "        best_loss = val_loss\n",
    "        patience_counter = 0\n",
    "        torch.save(model.state_dict(), model_save_dir / f\"resnet_dp_f1_{macro_f1:.4f}.pth\")\n",
    "        print(\"Saved best model.\")\n",
    "    else:\n",
    "        patience_counter += 1\n",
    "        print(f\"No improvement. Patience: {patience_counter}/{early_stop_patience}\")\n",
    "\n",
    "    if patience_counter >= early_stop_patience:\n",
    "        print(\"Early stopping.\")\n",
    "        break\n"
   ]
  },
  {
   "cell_type": "markdown",
   "id": "ebc5d44a",
   "metadata": {},
   "source": [
    "## ResNet Classifier\n",
    "\n",
    "Batch size = 32, learning rate = 3e-5"
   ]
  },
  {
   "cell_type": "code",
   "execution_count": 12,
   "id": "cad5aeae",
   "metadata": {},
   "outputs": [
    {
     "name": "stderr",
     "output_type": "stream",
     "text": [
      "d:\\miniconda\\envs\\st311_final\\lib\\site-packages\\torchvision\\models\\_utils.py:208: UserWarning: The parameter 'pretrained' is deprecated since 0.13 and may be removed in the future, please use 'weights' instead.\n",
      "  warnings.warn(\n",
      "d:\\miniconda\\envs\\st311_final\\lib\\site-packages\\torchvision\\models\\_utils.py:223: UserWarning: Arguments other than a weight enum or `None` for 'weights' are deprecated since 0.13 and may be removed in the future. The current behavior is equivalent to passing `weights=ResNet18_Weights.IMAGENET1K_V1`. You can also use `weights=ResNet18_Weights.DEFAULT` to get the most up-to-date weights.\n",
      "  warnings.warn(msg)\n",
      "Epoch 1/100: 100%|██████████| 117/117 [00:15<00:00,  7.76it/s, loss=0.997]\n"
     ]
    },
    {
     "name": "stdout",
     "output_type": "stream",
     "text": [
      "Val Loss: 0.6943, Map:0.8094, Macro P: 0.4641, R: 0.9133, F1: 0.5931\n",
      "Per-class F1:\n",
      "  bird: P=0.792, R=0.934, F1=0.857\n",
      "  cat: P=0.741, R=0.827, F1=0.782\n",
      "  cow: P=0.246, R=0.970, F1=0.393\n",
      "  dog: P=0.409, R=0.922, F1=0.566\n",
      "  elephant: P=0.333, R=0.843, F1=0.478\n",
      "  horse: P=0.355, R=0.937, F1=0.515\n",
      "  lion: P=0.400, R=0.982, F1=0.569\n",
      "  sheep: P=0.436, R=0.891, F1=0.586\n",
      "Saved best model.\n"
     ]
    },
    {
     "name": "stderr",
     "output_type": "stream",
     "text": [
      "Epoch 2/100: 100%|██████████| 117/117 [00:12<00:00,  9.61it/s, loss=0.541]\n"
     ]
    },
    {
     "name": "stdout",
     "output_type": "stream",
     "text": [
      "Val Loss: 0.4020, Map:0.9333, Macro P: 0.6667, R: 0.9283, F1: 0.7630\n",
      "Per-class F1:\n",
      "  bird: P=0.919, R=0.934, F1=0.927\n",
      "  cat: P=0.846, R=0.846, F1=0.846\n",
      "  cow: P=0.569, R=1.000, F1=0.725\n",
      "  dog: P=0.730, R=0.902, F1=0.807\n",
      "  elephant: P=0.540, R=0.922, F1=0.681\n",
      "  horse: P=0.536, R=0.952, F1=0.686\n",
      "  lion: P=0.479, R=1.000, F1=0.648\n",
      "  sheep: P=0.714, R=0.870, F1=0.784\n",
      "Saved best model.\n"
     ]
    },
    {
     "name": "stderr",
     "output_type": "stream",
     "text": [
      "Epoch 3/100: 100%|██████████| 117/117 [00:12<00:00,  9.13it/s, loss=0.301]\n"
     ]
    },
    {
     "name": "stdout",
     "output_type": "stream",
     "text": [
      "Val Loss: 0.2708, Map:0.9691, Macro P: 0.7845, R: 0.9472, F1: 0.8501\n",
      "Per-class F1:\n",
      "  bird: P=0.966, R=0.934, F1=0.950\n",
      "  cat: P=0.939, R=0.885, F1=0.911\n",
      "  cow: P=0.541, R=1.000, F1=0.702\n",
      "  dog: P=0.857, R=0.941, F1=0.897\n",
      "  elephant: P=0.770, R=0.922, F1=0.839\n",
      "  horse: P=0.723, R=0.952, F1=0.822\n",
      "  lion: P=0.753, R=0.965, F1=0.846\n",
      "  sheep: P=0.726, R=0.978, F1=0.833\n",
      "Saved best model.\n"
     ]
    },
    {
     "name": "stderr",
     "output_type": "stream",
     "text": [
      "Epoch 4/100: 100%|██████████| 117/117 [00:12<00:00,  9.00it/s, loss=0.167]\n"
     ]
    },
    {
     "name": "stdout",
     "output_type": "stream",
     "text": [
      "Val Loss: 0.1969, Map:0.98, Macro P: 0.8767, R: 0.9454, F1: 0.9083\n",
      "Per-class F1:\n",
      "  bird: P=0.952, R=0.967, F1=0.959\n",
      "  cat: P=0.902, R=0.885, F1=0.893\n",
      "  cow: P=0.914, R=0.970, F1=0.941\n",
      "  dog: P=0.887, R=0.922, F1=0.904\n",
      "  elephant: P=0.891, R=0.961, F1=0.925\n",
      "  horse: P=0.871, R=0.968, F1=0.917\n",
      "  lion: P=0.760, R=1.000, F1=0.864\n",
      "  sheep: P=0.837, R=0.891, F1=0.863\n",
      "Saved best model.\n"
     ]
    },
    {
     "name": "stderr",
     "output_type": "stream",
     "text": [
      "Epoch 5/100: 100%|██████████| 117/117 [00:13<00:00,  8.69it/s, loss=0.0961]\n"
     ]
    },
    {
     "name": "stdout",
     "output_type": "stream",
     "text": [
      "Val Loss: 0.1695, Map:0.9833, Macro P: 0.8975, R: 0.9467, F1: 0.9204\n",
      "Per-class F1:\n",
      "  bird: P=0.938, R=0.984, F1=0.960\n",
      "  cat: P=0.922, R=0.904, F1=0.913\n",
      "  cow: P=0.969, R=0.939, F1=0.954\n",
      "  dog: P=0.923, R=0.941, F1=0.932\n",
      "  elephant: P=0.803, R=0.961, F1=0.875\n",
      "  horse: P=0.861, R=0.984, F1=0.919\n",
      "  lion: P=0.871, R=0.947, F1=0.908\n",
      "  sheep: P=0.894, R=0.913, F1=0.903\n",
      "Saved best model.\n"
     ]
    },
    {
     "name": "stderr",
     "output_type": "stream",
     "text": [
      "Epoch 6/100: 100%|██████████| 117/117 [00:14<00:00,  7.87it/s, loss=0.0686]\n"
     ]
    },
    {
     "name": "stdout",
     "output_type": "stream",
     "text": [
      "Val Loss: 0.1691, Map:0.9815, Macro P: 0.9165, R: 0.9469, F1: 0.9306\n",
      "Per-class F1:\n",
      "  bird: P=1.000, R=0.984, F1=0.992\n",
      "  cat: P=0.922, R=0.904, F1=0.913\n",
      "  cow: P=0.969, R=0.939, F1=0.954\n",
      "  dog: P=0.941, R=0.941, F1=0.941\n",
      "  elephant: P=0.941, R=0.941, F1=0.941\n",
      "  horse: P=0.886, R=0.984, F1=0.932\n",
      "  lion: P=0.831, R=0.947, F1=0.885\n",
      "  sheep: P=0.843, R=0.935, F1=0.887\n",
      "Saved best model.\n"
     ]
    },
    {
     "name": "stderr",
     "output_type": "stream",
     "text": [
      "Epoch 7/100: 100%|██████████| 117/117 [00:13<00:00,  8.73it/s, loss=0.0579]\n"
     ]
    },
    {
     "name": "stdout",
     "output_type": "stream",
     "text": [
      "Val Loss: 0.1586, Map:0.9847, Macro P: 0.9239, R: 0.9430, F1: 0.9319\n",
      "Per-class F1:\n",
      "  bird: P=0.984, R=0.984, F1=0.984\n",
      "  cat: P=0.957, R=0.865, F1=0.909\n",
      "  cow: P=0.969, R=0.939, F1=0.954\n",
      "  dog: P=0.925, R=0.961, F1=0.942\n",
      "  elephant: P=0.960, R=0.941, F1=0.950\n",
      "  horse: P=0.908, R=0.937, F1=0.922\n",
      "  lion: P=0.812, R=0.982, F1=0.889\n",
      "  sheep: P=0.878, R=0.935, F1=0.905\n",
      "Saved best model.\n"
     ]
    },
    {
     "name": "stderr",
     "output_type": "stream",
     "text": [
      "Epoch 8/100: 100%|██████████| 117/117 [00:13<00:00,  8.97it/s, loss=0.0456]\n"
     ]
    },
    {
     "name": "stdout",
     "output_type": "stream",
     "text": [
      "Val Loss: 0.1497, Map:0.9851, Macro P: 0.9383, R: 0.9631, F1: 0.9495\n",
      "Per-class F1:\n",
      "  bird: P=1.000, R=0.984, F1=0.992\n",
      "  cat: P=0.940, R=0.904, F1=0.922\n",
      "  cow: P=0.971, R=1.000, F1=0.985\n",
      "  dog: P=0.980, R=0.941, F1=0.960\n",
      "  elephant: P=0.980, R=0.941, F1=0.960\n",
      "  horse: P=0.900, R=1.000, F1=0.947\n",
      "  lion: P=0.877, R=1.000, F1=0.934\n",
      "  sheep: P=0.860, R=0.935, F1=0.896\n",
      "Saved best model.\n"
     ]
    },
    {
     "name": "stderr",
     "output_type": "stream",
     "text": [
      "Epoch 9/100: 100%|██████████| 117/117 [00:12<00:00,  9.34it/s, loss=0.0272]\n"
     ]
    },
    {
     "name": "stdout",
     "output_type": "stream",
     "text": [
      "Val Loss: 0.1521, Map:0.9859, Macro P: 0.9288, R: 0.9477, F1: 0.9372\n",
      "Per-class F1:\n",
      "  bird: P=0.984, R=0.984, F1=0.984\n",
      "  cat: P=0.902, R=0.885, F1=0.893\n",
      "  cow: P=0.970, R=0.970, F1=0.970\n",
      "  dog: P=0.907, R=0.961, F1=0.933\n",
      "  elephant: P=1.000, R=0.941, F1=0.970\n",
      "  horse: P=0.847, R=0.968, F1=0.904\n",
      "  lion: P=0.889, R=0.982, F1=0.933\n",
      "  sheep: P=0.932, R=0.891, F1=0.911\n",
      "No improvement. Patience: 1/10\n"
     ]
    },
    {
     "name": "stderr",
     "output_type": "stream",
     "text": [
      "Epoch 10/100: 100%|██████████| 117/117 [00:13<00:00,  8.90it/s, loss=0.0213]\n"
     ]
    },
    {
     "name": "stdout",
     "output_type": "stream",
     "text": [
      "Val Loss: 0.1578, Map:0.9847, Macro P: 0.9368, R: 0.9526, F1: 0.9429\n",
      "Per-class F1:\n",
      "  bird: P=1.000, R=0.984, F1=0.992\n",
      "  cat: P=0.957, R=0.865, F1=0.909\n",
      "  cow: P=1.000, R=0.970, F1=0.985\n",
      "  dog: P=0.979, R=0.922, F1=0.949\n",
      "  elephant: P=0.960, R=0.941, F1=0.950\n",
      "  horse: P=0.863, R=1.000, F1=0.926\n",
      "  lion: P=0.889, R=0.982, F1=0.933\n",
      "  sheep: P=0.846, R=0.957, F1=0.898\n",
      "No improvement. Patience: 2/10\n"
     ]
    },
    {
     "name": "stderr",
     "output_type": "stream",
     "text": [
      "Epoch 11/100: 100%|██████████| 117/117 [00:13<00:00,  9.00it/s, loss=0.0175]\n"
     ]
    },
    {
     "name": "stdout",
     "output_type": "stream",
     "text": [
      "Val Loss: 0.1601, Map:0.9852, Macro P: 0.9237, R: 0.9596, F1: 0.9401\n",
      "Per-class F1:\n",
      "  bird: P=1.000, R=0.984, F1=0.992\n",
      "  cat: P=0.922, R=0.904, F1=0.913\n",
      "  cow: P=0.917, R=1.000, F1=0.957\n",
      "  dog: P=0.980, R=0.941, F1=0.960\n",
      "  elephant: P=0.980, R=0.941, F1=0.960\n",
      "  horse: P=0.910, R=0.968, F1=0.938\n",
      "  lion: P=0.836, R=0.982, F1=0.903\n",
      "  sheep: P=0.846, R=0.957, F1=0.898\n",
      "No improvement. Patience: 3/10\n"
     ]
    },
    {
     "name": "stderr",
     "output_type": "stream",
     "text": [
      "Epoch 12/100: 100%|██████████| 117/117 [00:13<00:00,  8.89it/s, loss=0.0113]\n"
     ]
    },
    {
     "name": "stdout",
     "output_type": "stream",
     "text": [
      "Val Loss: 0.1649, Map:0.9866, Macro P: 0.9324, R: 0.9443, F1: 0.9360\n",
      "Per-class F1:\n",
      "  bird: P=1.000, R=0.984, F1=0.992\n",
      "  cat: P=0.957, R=0.865, F1=0.909\n",
      "  cow: P=1.000, R=0.939, F1=0.969\n",
      "  dog: P=1.000, R=0.922, F1=0.959\n",
      "  elephant: P=0.960, R=0.941, F1=0.950\n",
      "  horse: P=0.884, R=0.968, F1=0.924\n",
      "  lion: P=0.814, R=1.000, F1=0.898\n",
      "  sheep: P=0.843, R=0.935, F1=0.887\n",
      "No improvement. Patience: 4/10\n"
     ]
    },
    {
     "name": "stderr",
     "output_type": "stream",
     "text": [
      "Epoch 13/100: 100%|██████████| 117/117 [00:12<00:00,  9.13it/s, loss=0.0109]\n"
     ]
    },
    {
     "name": "stdout",
     "output_type": "stream",
     "text": [
      "Val Loss: 0.1563, Map:0.9872, Macro P: 0.9359, R: 0.9548, F1: 0.9434\n",
      "Per-class F1:\n",
      "  bird: P=1.000, R=0.967, F1=0.983\n",
      "  cat: P=0.960, R=0.923, F1=0.941\n",
      "  cow: P=1.000, R=0.909, F1=0.952\n",
      "  dog: P=0.941, R=0.941, F1=0.941\n",
      "  elephant: P=0.980, R=0.941, F1=0.960\n",
      "  horse: P=0.900, R=1.000, F1=0.947\n",
      "  lion: P=0.826, R=1.000, F1=0.905\n",
      "  sheep: P=0.880, R=0.957, F1=0.917\n",
      "No improvement. Patience: 5/10\n"
     ]
    },
    {
     "name": "stderr",
     "output_type": "stream",
     "text": [
      "Epoch 14/100: 100%|██████████| 117/117 [00:13<00:00,  8.90it/s, loss=0.0105] \n"
     ]
    },
    {
     "name": "stdout",
     "output_type": "stream",
     "text": [
      "Val Loss: 0.1659, Map:0.9866, Macro P: 0.9412, R: 0.9455, F1: 0.9426\n",
      "Per-class F1:\n",
      "  bird: P=1.000, R=0.984, F1=0.992\n",
      "  cat: P=0.940, R=0.904, F1=0.922\n",
      "  cow: P=0.968, R=0.909, F1=0.938\n",
      "  dog: P=0.942, R=0.961, F1=0.951\n",
      "  elephant: P=0.960, R=0.941, F1=0.950\n",
      "  horse: P=0.909, R=0.952, F1=0.930\n",
      "  lion: P=0.877, R=1.000, F1=0.934\n",
      "  sheep: P=0.933, R=0.913, F1=0.923\n",
      "No improvement. Patience: 6/10\n"
     ]
    },
    {
     "name": "stderr",
     "output_type": "stream",
     "text": [
      "Epoch 15/100: 100%|██████████| 117/117 [00:13<00:00,  8.89it/s, loss=0.0237]\n"
     ]
    },
    {
     "name": "stdout",
     "output_type": "stream",
     "text": [
      "Val Loss: 0.1638, Map:0.9859, Macro P: 0.9133, R: 0.9538, F1: 0.9312\n",
      "Per-class F1:\n",
      "  bird: P=0.984, R=0.984, F1=0.984\n",
      "  cat: P=0.940, R=0.904, F1=0.922\n",
      "  cow: P=1.000, R=1.000, F1=1.000\n",
      "  dog: P=0.979, R=0.902, F1=0.939\n",
      "  elephant: P=0.750, R=0.941, F1=0.835\n",
      "  horse: P=0.875, R=1.000, F1=0.933\n",
      "  lion: P=0.902, R=0.965, F1=0.932\n",
      "  sheep: P=0.878, R=0.935, F1=0.905\n",
      "No improvement. Patience: 7/10\n"
     ]
    },
    {
     "name": "stderr",
     "output_type": "stream",
     "text": [
      "Epoch 16/100: 100%|██████████| 117/117 [00:13<00:00,  8.94it/s, loss=0.0124]\n"
     ]
    },
    {
     "name": "stdout",
     "output_type": "stream",
     "text": [
      "Val Loss: 0.1261, Map:0.9894, Macro P: 0.9388, R: 0.9666, F1: 0.9519\n",
      "Per-class F1:\n",
      "  bird: P=1.000, R=0.984, F1=0.992\n",
      "  cat: P=0.941, R=0.923, F1=0.932\n",
      "  cow: P=1.000, R=0.970, F1=0.985\n",
      "  dog: P=0.925, R=0.961, F1=0.942\n",
      "  elephant: P=0.961, R=0.961, F1=0.961\n",
      "  horse: P=0.887, R=1.000, F1=0.940\n",
      "  lion: P=0.919, R=1.000, F1=0.958\n",
      "  sheep: P=0.878, R=0.935, F1=0.905\n",
      "Saved best model.\n"
     ]
    },
    {
     "name": "stderr",
     "output_type": "stream",
     "text": [
      "Epoch 17/100: 100%|██████████| 117/117 [00:13<00:00,  8.65it/s, loss=0.00912]\n"
     ]
    },
    {
     "name": "stdout",
     "output_type": "stream",
     "text": [
      "Val Loss: 0.1206, Map:0.9912, Macro P: 0.9334, R: 0.9602, F1: 0.9460\n",
      "Per-class F1:\n",
      "  bird: P=1.000, R=0.984, F1=0.992\n",
      "  cat: P=0.941, R=0.923, F1=0.932\n",
      "  cow: P=0.970, R=0.970, F1=0.970\n",
      "  dog: P=0.925, R=0.961, F1=0.942\n",
      "  elephant: P=0.959, R=0.922, F1=0.940\n",
      "  horse: P=0.886, R=0.984, F1=0.932\n",
      "  lion: P=0.889, R=0.982, F1=0.933\n",
      "  sheep: P=0.898, R=0.957, F1=0.926\n",
      "Saved best model.\n"
     ]
    },
    {
     "name": "stderr",
     "output_type": "stream",
     "text": [
      "Epoch 18/100: 100%|██████████| 117/117 [00:13<00:00,  8.65it/s, loss=0.0103]\n"
     ]
    },
    {
     "name": "stdout",
     "output_type": "stream",
     "text": [
      "Val Loss: 0.1438, Map:0.9882, Macro P: 0.9472, R: 0.9599, F1: 0.9529\n",
      "Per-class F1:\n",
      "  bird: P=1.000, R=0.984, F1=0.992\n",
      "  cat: P=0.958, R=0.885, F1=0.920\n",
      "  cow: P=1.000, R=1.000, F1=1.000\n",
      "  dog: P=0.961, R=0.961, F1=0.961\n",
      "  elephant: P=0.941, R=0.941, F1=0.941\n",
      "  horse: P=0.896, R=0.952, F1=0.923\n",
      "  lion: P=0.905, R=1.000, F1=0.950\n",
      "  sheep: P=0.917, R=0.957, F1=0.936\n",
      "No improvement. Patience: 1/10\n"
     ]
    },
    {
     "name": "stderr",
     "output_type": "stream",
     "text": [
      "Epoch 19/100: 100%|██████████| 117/117 [00:13<00:00,  8.69it/s, loss=0.00639]\n"
     ]
    },
    {
     "name": "stdout",
     "output_type": "stream",
     "text": [
      "Val Loss: 0.1456, Map:0.9908, Macro P: 0.9497, R: 0.9625, F1: 0.9550\n",
      "Per-class F1:\n",
      "  bird: P=1.000, R=0.984, F1=0.992\n",
      "  cat: P=0.958, R=0.885, F1=0.920\n",
      "  cow: P=1.000, R=0.970, F1=0.985\n",
      "  dog: P=0.961, R=0.961, F1=0.961\n",
      "  elephant: P=0.980, R=0.961, F1=0.970\n",
      "  horse: P=0.899, R=0.984, F1=0.939\n",
      "  lion: P=0.864, R=1.000, F1=0.927\n",
      "  sheep: P=0.936, R=0.957, F1=0.946\n",
      "No improvement. Patience: 2/10\n"
     ]
    },
    {
     "name": "stderr",
     "output_type": "stream",
     "text": [
      "Epoch 20/100: 100%|██████████| 117/117 [00:13<00:00,  8.91it/s, loss=0.00777]\n"
     ]
    },
    {
     "name": "stdout",
     "output_type": "stream",
     "text": [
      "Val Loss: 0.1217, Map:0.9932, Macro P: 0.9540, R: 0.9600, F1: 0.9559\n",
      "Per-class F1:\n",
      "  bird: P=1.000, R=0.984, F1=0.992\n",
      "  cat: P=0.979, R=0.904, F1=0.940\n",
      "  cow: P=1.000, R=0.970, F1=0.985\n",
      "  dog: P=0.960, R=0.941, F1=0.950\n",
      "  elephant: P=1.000, R=0.941, F1=0.970\n",
      "  horse: P=0.886, R=0.984, F1=0.932\n",
      "  lion: P=0.891, R=1.000, F1=0.942\n",
      "  sheep: P=0.917, R=0.957, F1=0.936\n",
      "No improvement. Patience: 3/10\n"
     ]
    },
    {
     "name": "stderr",
     "output_type": "stream",
     "text": [
      "Epoch 21/100: 100%|██████████| 117/117 [00:13<00:00,  8.80it/s, loss=0.00623]\n"
     ]
    },
    {
     "name": "stdout",
     "output_type": "stream",
     "text": [
      "Val Loss: 0.1303, Map:0.992, Macro P: 0.9439, R: 0.9618, F1: 0.9519\n",
      "Per-class F1:\n",
      "  bird: P=1.000, R=0.984, F1=0.992\n",
      "  cat: P=0.979, R=0.904, F1=0.940\n",
      "  cow: P=1.000, R=1.000, F1=1.000\n",
      "  dog: P=0.959, R=0.922, F1=0.940\n",
      "  elephant: P=0.907, R=0.961, F1=0.933\n",
      "  horse: P=0.884, R=0.968, F1=0.924\n",
      "  lion: P=0.905, R=1.000, F1=0.950\n",
      "  sheep: P=0.917, R=0.957, F1=0.936\n",
      "No improvement. Patience: 4/10\n"
     ]
    },
    {
     "name": "stderr",
     "output_type": "stream",
     "text": [
      "Epoch 22/100: 100%|██████████| 117/117 [00:13<00:00,  8.78it/s, loss=0.0122]\n"
     ]
    },
    {
     "name": "stdout",
     "output_type": "stream",
     "text": [
      "Val Loss: 0.1504, Map:0.9891, Macro P: 0.9353, R: 0.9436, F1: 0.9381\n",
      "Per-class F1:\n",
      "  bird: P=0.984, R=0.984, F1=0.984\n",
      "  cat: P=0.939, R=0.885, F1=0.911\n",
      "  cow: P=1.000, R=0.909, F1=0.952\n",
      "  dog: P=0.959, R=0.922, F1=0.940\n",
      "  elephant: P=0.960, R=0.941, F1=0.950\n",
      "  horse: P=0.833, R=0.952, F1=0.889\n",
      "  lion: P=0.891, R=1.000, F1=0.942\n",
      "  sheep: P=0.917, R=0.957, F1=0.936\n",
      "No improvement. Patience: 5/10\n"
     ]
    },
    {
     "name": "stderr",
     "output_type": "stream",
     "text": [
      "Epoch 23/100: 100%|██████████| 117/117 [00:14<00:00,  8.32it/s, loss=0.00684]\n"
     ]
    },
    {
     "name": "stdout",
     "output_type": "stream",
     "text": [
      "Val Loss: 0.1542, Map:0.9888, Macro P: 0.9412, R: 0.9491, F1: 0.9443\n",
      "Per-class F1:\n",
      "  bird: P=1.000, R=0.984, F1=0.992\n",
      "  cat: P=0.958, R=0.885, F1=0.920\n",
      "  cow: P=0.939, R=0.939, F1=0.939\n",
      "  dog: P=0.941, R=0.941, F1=0.941\n",
      "  elephant: P=0.980, R=0.941, F1=0.960\n",
      "  horse: P=0.938, R=0.968, F1=0.953\n",
      "  lion: P=0.877, R=1.000, F1=0.934\n",
      "  sheep: P=0.896, R=0.935, F1=0.915\n",
      "No improvement. Patience: 6/10\n"
     ]
    },
    {
     "name": "stderr",
     "output_type": "stream",
     "text": [
      "Epoch 24/100: 100%|██████████| 117/117 [00:13<00:00,  8.60it/s, loss=0.00628]\n"
     ]
    },
    {
     "name": "stdout",
     "output_type": "stream",
     "text": [
      "Val Loss: 0.1644, Map:0.9885, Macro P: 0.9441, R: 0.9453, F1: 0.9436\n",
      "Per-class F1:\n",
      "  bird: P=1.000, R=0.984, F1=0.992\n",
      "  cat: P=0.959, R=0.904, F1=0.931\n",
      "  cow: P=1.000, R=0.909, F1=0.952\n",
      "  dog: P=0.941, R=0.941, F1=0.941\n",
      "  elephant: P=0.959, R=0.922, F1=0.940\n",
      "  horse: P=0.938, R=0.968, F1=0.953\n",
      "  lion: P=0.877, R=1.000, F1=0.934\n",
      "  sheep: P=0.878, R=0.935, F1=0.905\n",
      "No improvement. Patience: 7/10\n"
     ]
    },
    {
     "name": "stderr",
     "output_type": "stream",
     "text": [
      "Epoch 25/100: 100%|██████████| 117/117 [00:15<00:00,  7.64it/s, loss=0.0107] \n"
     ]
    },
    {
     "name": "stdout",
     "output_type": "stream",
     "text": [
      "Val Loss: 0.1628, Map:0.9858, Macro P: 0.9308, R: 0.9512, F1: 0.9402\n",
      "Per-class F1:\n",
      "  bird: P=0.968, R=0.984, F1=0.976\n",
      "  cat: P=0.958, R=0.885, F1=0.920\n",
      "  cow: P=0.889, R=0.970, F1=0.928\n",
      "  dog: P=0.923, R=0.941, F1=0.932\n",
      "  elephant: P=0.961, R=0.961, F1=0.961\n",
      "  horse: P=0.938, R=0.952, F1=0.945\n",
      "  lion: P=0.875, R=0.982, F1=0.926\n",
      "  sheep: P=0.935, R=0.935, F1=0.935\n",
      "No improvement. Patience: 8/10\n"
     ]
    },
    {
     "name": "stderr",
     "output_type": "stream",
     "text": [
      "Epoch 26/100: 100%|██████████| 117/117 [00:13<00:00,  8.44it/s, loss=0.0082] \n"
     ]
    },
    {
     "name": "stdout",
     "output_type": "stream",
     "text": [
      "Val Loss: 0.1505, Map:0.9892, Macro P: 0.9458, R: 0.9575, F1: 0.9509\n",
      "Per-class F1:\n",
      "  bird: P=1.000, R=0.984, F1=0.992\n",
      "  cat: P=0.959, R=0.904, F1=0.931\n",
      "  cow: P=1.000, R=0.939, F1=0.969\n",
      "  dog: P=0.925, R=0.961, F1=0.942\n",
      "  elephant: P=0.961, R=0.961, F1=0.961\n",
      "  horse: P=0.897, R=0.968, F1=0.931\n",
      "  lion: P=0.887, R=0.965, F1=0.924\n",
      "  sheep: P=0.938, R=0.978, F1=0.957\n",
      "No improvement. Patience: 9/10\n"
     ]
    },
    {
     "name": "stderr",
     "output_type": "stream",
     "text": [
      "Epoch 27/100: 100%|██████████| 117/117 [00:13<00:00,  8.94it/s, loss=0.00424]\n"
     ]
    },
    {
     "name": "stdout",
     "output_type": "stream",
     "text": [
      "Val Loss: 0.1650, Map:0.989, Macro P: 0.9577, R: 0.9550, F1: 0.9555\n",
      "Per-class F1:\n",
      "  bird: P=0.984, R=0.984, F1=0.984\n",
      "  cat: P=1.000, R=0.885, F1=0.939\n",
      "  cow: P=1.000, R=0.939, F1=0.969\n",
      "  dog: P=0.941, R=0.941, F1=0.941\n",
      "  elephant: P=0.942, R=0.961, F1=0.951\n",
      "  horse: P=0.938, R=0.952, F1=0.945\n",
      "  lion: P=0.919, R=1.000, F1=0.958\n",
      "  sheep: P=0.938, R=0.978, F1=0.957\n",
      "No improvement. Patience: 10/10\n",
      "Early stopping.\n"
     ]
    }
   ],
   "source": [
    "\n",
    "num_epochs = 100\n",
    "early_stop_patience = 10\n",
    "batch_size = 32\n",
    "\n",
    "csv_path = Path(\"E:/LSE/ST311/ST311-Group-Project/csv_files\")\n",
    "aug_split_dir = csv_path / \"augmented_splits\"\n",
    "processed_root = Path(\"E:/LSE/ST311/ST311-Group-Project/processed_data\")\n",
    "\n",
    "a_train_csv = aug_split_dir / \"train.csv\"\n",
    "a_test_csv = aug_split_dir / \"test.csv\"\n",
    "\n",
    "train_loader, val_loader, test_loader,all_labels, train_label_matrix = setup_dataloaders(\n",
    "    train_csv_path=a_train_csv,\n",
    "    test_csv_path=a_test_csv,\n",
    "    audio_root=processed_root,\n",
    "    batch_size=batch_size,\n",
    "    val_ratio=0.1\n",
    ")\n",
    "\n",
    "label_to_index = {label: i for i, label in enumerate(all_labels)}\n",
    "index_to_label = {i: label for i, label in enumerate(all_labels)}\n",
    "\n",
    "label_counts = train_label_matrix.sum(axis=0)\n",
    "total_samples = train_label_matrix.shape[0]\n",
    "num_classes = train_label_matrix.shape[1]\n",
    "\n",
    "pos_weight = total_samples / (label_counts)\n",
    "pos_weight = torch.tensor(pos_weight, dtype=torch.float32).to(device)\n",
    "\n",
    "learning_rate = 3e-5\n",
    "model = ResNetClassifier(num_classes).to(device)\n",
    "criterion = nn.BCEWithLogitsLoss(pos_weight=pos_weight)\n",
    "optimizer = torch.optim.Adam(model.parameters(), lr=learning_rate)\n",
    "\n",
    "model_save_dir = Path(\"E:/LSE/ST311/ST311-Group-Project/experiment/aug_res\")\n",
    "model_save_dir.mkdir(parents=True, exist_ok=True)\n",
    "best_loss = float('inf')\n",
    "patience_counter = 0\n",
    "\n",
    "for epoch in range(num_epochs):\n",
    "    model.train()\n",
    "    total_loss = 0\n",
    "    loop = tqdm(train_loader, desc=f\"Epoch {epoch+1}/{num_epochs}\")\n",
    "    for inputs, targets in loop:\n",
    "        inputs, targets = inputs.to(device), targets.to(device)\n",
    "        outputs = model(inputs)\n",
    "        loss = criterion(outputs, targets)\n",
    "        optimizer.zero_grad()\n",
    "        loss.backward()\n",
    "        optimizer.step()\n",
    "        total_loss += loss.item()\n",
    "        loop.set_postfix(loss=total_loss / (loop.n + 1))\n",
    "\n",
    "    model.eval()\n",
    "    all_preds, all_targets = [], []\n",
    "    with torch.no_grad():\n",
    "        for inputs, targets in val_loader:\n",
    "            inputs, targets = inputs.to(device), targets.to(device)\n",
    "            outputs = model(inputs)\n",
    "            all_preds.append(outputs)\n",
    "            all_targets.append(targets)\n",
    "\n",
    "    all_preds = torch.cat(all_preds)\n",
    "    all_targets = torch.cat(all_targets)\n",
    "    val_loss = criterion(all_preds, all_targets).item()\n",
    "    macro_p, macro_r, macro_f1, macro_map, p_class, r_class, f_class = multilabel_metrics(all_preds, all_targets)\n",
    "\n",
    "    print(f\"Val Loss: {val_loss:.4f}, Map:{round(macro_map,4)}, Macro P: {macro_p:.4f}, R: {macro_r:.4f}, F1: {macro_f1:.4f}\")\n",
    "    print(\"Per-class F1:\")\n",
    "    for i, label in index_to_label.items():\n",
    "        print(f\"  {label}: P={p_class[i]:.3f}, R={r_class[i]:.3f}, F1={f_class[i]:.3f}\")\n",
    "\n",
    "    if val_loss < best_loss:\n",
    "        best_loss = val_loss\n",
    "        patience_counter = 0\n",
    "        torch.save(model.state_dict(), model_save_dir / f\"resnet_3e_5_f1_{macro_f1:.4f}.pth\")\n",
    "        print(\"Saved best model.\")\n",
    "    else:\n",
    "        patience_counter += 1\n",
    "        print(f\"No improvement. Patience: {patience_counter}/{early_stop_patience}\")\n",
    "\n",
    "    if patience_counter >= early_stop_patience:\n",
    "        print(\"Early stopping.\")\n",
    "        break\n"
   ]
  },
  {
   "cell_type": "markdown",
   "id": "27f61323",
   "metadata": {},
   "source": [
    "# Evaluation"
   ]
  },
  {
   "cell_type": "code",
   "execution_count": 26,
   "id": "20b567e3",
   "metadata": {},
   "outputs": [],
   "source": [
    "def evaluate_model(model, dataloader, label_mapping, criterion, device, print_detail=True, threshold = 0.5):\n",
    "    model.eval()\n",
    "    all_preds, all_targets = [], []\n",
    "\n",
    "    with torch.no_grad():\n",
    "        for inputs, targets in dataloader:\n",
    "            inputs, targets = inputs.to(device), targets.to(device)\n",
    "            outputs = model(inputs)\n",
    "            all_preds.append(outputs)\n",
    "            all_targets.append(targets)\n",
    "\n",
    "    all_preds = torch.cat(all_preds)\n",
    "    all_targets = torch.cat(all_targets)\n",
    "    val_loss = criterion(all_preds, all_targets).item()\n",
    "    macro_p, macro_r, macro_f1, macro_map, p_class, r_class, f_class = multilabel_metrics(all_preds, all_targets, threshold=threshold)\n",
    "\n",
    "    if print_detail:\n",
    "        print(f\"Test Loss: {val_loss:.4f}, mAP: {macro_map:.4f}, Macro P: {macro_p:.4f}, R: {macro_r:.4f}, F1: {macro_f1:.4f}\")\n",
    "        print(\"Per-class F1:\")\n",
    "        for i, label in label_mapping.items():\n",
    "            print(f\"  {label}: P={p_class[i]:.3f}, R={r_class[i]:.3f}, F1={f_class[i]:.3f}\")\n",
    "\n",
    "    return macro_map, macro_p, macro_r, macro_f1, p_class, r_class, f_class\n",
    "\n",
    "def save_eval_results_to_csv(model_path, macro_map, macro_p, macro_r, macro_f1,\n",
    "                              p_class, r_class, f_class, label_list, output_dir=\"E:/LSE/ST311/ST311-Group-Project/experiment\"):\n",
    "    model_name = Path(model_path).stem\n",
    "    csv_path = Path(output_dir) / f\"{model_name}_metrics.csv\"\n",
    "    \n",
    "\n",
    "    df = pd.DataFrame({\n",
    "        'label': label_list,\n",
    "        'precision': p_class.cpu().numpy(),\n",
    "        'recall': r_class.cpu().numpy(),\n",
    "        'f1': f_class.cpu().numpy()\n",
    "    })\n",
    "\n",
    "    # Add summary rows\n",
    "    df.loc[len(df.index)] = ['OVERALL', round(macro_p, 4), round(macro_r, 4), round(macro_f1, 4)]\n",
    "    df.loc[len(df.index)] = ['mAP', round(macro_map, 4), '', '']\n",
    "\n",
    "    df.to_csv(csv_path, index=False)\n",
    "    print(f\"Saved evaluation results to: {csv_path}\")\n",
    "\n",
    "def load_model(model_path, model_class, num_classes, device, use_dropout=False):\n",
    "    if use_dropout:\n",
    "        model = model_class(num_classes, use_dropout=True)\n",
    "    else:\n",
    "        model = model_class(num_classes).to(device)\n",
    "    model = model.to(device)\n",
    "    model.load_state_dict(torch.load(model_path))\n",
    "    return model"
   ]
  },
  {
   "cell_type": "code",
   "execution_count": null,
   "id": "465a74c7",
   "metadata": {},
   "outputs": [
    {
     "name": "stderr",
     "output_type": "stream",
     "text": [
      "d:\\miniconda\\envs\\st311_final\\lib\\site-packages\\torchvision\\models\\_utils.py:208: UserWarning: The parameter 'pretrained' is deprecated since 0.13 and may be removed in the future, please use 'weights' instead.\n",
      "  warnings.warn(\n",
      "d:\\miniconda\\envs\\st311_final\\lib\\site-packages\\torchvision\\models\\_utils.py:223: UserWarning: Arguments other than a weight enum or `None` for 'weights' are deprecated since 0.13 and may be removed in the future. The current behavior is equivalent to passing `weights=ResNet18_Weights.IMAGENET1K_V1`. You can also use `weights=ResNet18_Weights.DEFAULT` to get the most up-to-date weights.\n",
      "  warnings.warn(msg)\n"
     ]
    },
    {
     "name": "stdout",
     "output_type": "stream",
     "text": [
      "Test Loss: 0.1613, mAP: 0.9809, Macro P: 0.9080, R: 0.9686, F1: 0.9367\n",
      "Per-class F1:\n",
      "  bird: P=0.972, R=0.993, F1=0.982\n",
      "  cat: P=0.931, R=0.964, F1=0.947\n",
      "  cow: P=0.961, R=0.924, F1=0.942\n",
      "  dog: P=0.896, R=0.986, F1=0.939\n",
      "  elephant: P=0.897, R=0.970, F1=0.932\n",
      "  horse: P=0.882, R=0.957, F1=0.918\n",
      "  lion: P=0.842, R=0.971, F1=0.902\n",
      "  sheep: P=0.884, R=0.984, F1=0.931\n",
      "Saved evaluation results to: E:\\LSE\\ST311\\ST311-Group-Project\\experiment\\resnet_transformer_f1_0.9477_metrics.csv\n"
     ]
    }
   ],
   "source": [
    "# ResNetTransformer evaluation\n",
    "model_path = \"E:/LSE/ST311/ST311-Group-Project/experiment/aug_restran/resnet_transformer_f1_0.9477.pth\"\n",
    "model = load_model(model_path, ResNetTransformerClassifier, num_classes, device)\n",
    "\n",
    "macro_map, macro_p, macro_r, macro_f1, p_class, r_class, f_class = evaluate_model(model, test_loader, index_to_label, criterion, device)\n",
    "\n",
    "# save results to CSV\n",
    "save_eval_results_to_csv(\n",
    "    model_path,\n",
    "    macro_map, macro_p, macro_r, macro_f1,\n",
    "    p_class, r_class, f_class,\n",
    "    list(label_to_index.keys())\n",
    ")"
   ]
  },
  {
   "cell_type": "code",
   "execution_count": 199,
   "id": "e15c0af9",
   "metadata": {},
   "outputs": [
    {
     "name": "stderr",
     "output_type": "stream",
     "text": [
      "d:\\miniconda\\envs\\st311_final\\lib\\site-packages\\torchvision\\models\\_utils.py:208: UserWarning: The parameter 'pretrained' is deprecated since 0.13 and may be removed in the future, please use 'weights' instead.\n",
      "  warnings.warn(\n",
      "d:\\miniconda\\envs\\st311_final\\lib\\site-packages\\torchvision\\models\\_utils.py:223: UserWarning: Arguments other than a weight enum or `None` for 'weights' are deprecated since 0.13 and may be removed in the future. The current behavior is equivalent to passing `weights=ResNet18_Weights.IMAGENET1K_V1`. You can also use `weights=ResNet18_Weights.DEFAULT` to get the most up-to-date weights.\n",
      "  warnings.warn(msg)\n"
     ]
    },
    {
     "name": "stdout",
     "output_type": "stream",
     "text": [
      "Test Loss: 0.2139, mAP: 0.9601, Macro P: 0.8746, R: 0.9539, F1: 0.9112\n",
      "Per-class F1:\n",
      "  bird: P=0.971, R=0.943, F1=0.957\n",
      "  cat: P=0.815, R=0.979, F1=0.890\n",
      "  cow: P=0.923, R=0.911, F1=0.917\n",
      "  dog: P=0.867, R=0.979, F1=0.919\n",
      "  elephant: P=0.828, R=0.926, F1=0.874\n",
      "  horse: P=0.845, R=0.971, F1=0.904\n",
      "  lion: P=0.826, R=0.971, F1=0.893\n",
      "  sheep: P=0.922, R=0.952, F1=0.937\n",
      "Saved evaluation results to: E:\\LSE\\ST311\\ST311-Group-Project\\experiment\\resnet_transformer_dp_f1_0.9217_metrics.csv\n"
     ]
    }
   ],
   "source": [
    "# ResNetTransformer evaluation(with dropout)\n",
    "model_path = \"E:/LSE/ST311/ST311-Group-Project/experiment/aug_restran/resnet_transformer_dp_f1_0.9217.pth\"\n",
    "model = load_model(model_path, ResNetTransformerClassifier, num_classes, device, use_dropout=True)\n",
    "\n",
    "macro_map, macro_p, macro_r, macro_f1, p_class, r_class, f_class = evaluate_model(model, test_loader, index_to_label, criterion, device)\n",
    "\n",
    "# save results to CSV\n",
    "save_eval_results_to_csv(\n",
    "    model_path,\n",
    "    macro_map, macro_p, macro_r, macro_f1,\n",
    "    p_class, r_class, f_class,\n",
    "    list(label_to_index.keys())\n",
    ")"
   ]
  },
  {
   "cell_type": "code",
   "execution_count": 18,
   "id": "8056a59d",
   "metadata": {},
   "outputs": [
    {
     "name": "stdout",
     "output_type": "stream",
     "text": [
      "Test Loss: 0.2405, mAP: 0.9744, Macro P: 0.9191, R: 0.9443, F1: 0.9311\n",
      "Per-class F1:\n",
      "  bird: P=0.964, R=0.964, F1=0.964\n",
      "  cat: P=0.942, R=0.936, F1=0.939\n",
      "  cow: P=0.960, R=0.911, F1=0.935\n",
      "  dog: P=0.930, R=0.950, F1=0.940\n",
      "  elephant: P=0.886, R=0.919, F1=0.902\n",
      "  horse: P=0.874, R=0.943, F1=0.907\n",
      "  lion: P=0.879, R=0.956, F1=0.916\n",
      "  sheep: P=0.917, R=0.976, F1=0.945\n",
      "Saved evaluation results to: E:\\LSE\\ST311\\ST311-Group-Project\\experiment\\resnettrans_3e_5_f1_0.9494_metrics.csv\n"
     ]
    }
   ],
   "source": [
    "# ResNetTransformer evaluation(lower_learning rate)\n",
    "model_path = \"E:/LSE/ST311/ST311-Group-Project/experiment/aug_restrans/resnettrans_3e_5_f1_0.9494.pth\"\n",
    "model = load_model(model_path, ResNetTransformerClassifier, num_classes, device)\n",
    "\n",
    "macro_map, macro_p, macro_r, macro_f1, p_class, r_class, f_class = evaluate_model(model, test_loader, index_to_label, criterion, device)\n",
    "\n",
    "# save results to CSV\n",
    "save_eval_results_to_csv(\n",
    "    model_path,\n",
    "    macro_map, macro_p, macro_r, macro_f1,\n",
    "    p_class, r_class, f_class,\n",
    "    list(label_to_index.keys())\n",
    ")"
   ]
  },
  {
   "cell_type": "code",
   "execution_count": 186,
   "id": "837a9fad",
   "metadata": {},
   "outputs": [
    {
     "name": "stderr",
     "output_type": "stream",
     "text": [
      "d:\\miniconda\\envs\\st311_final\\lib\\site-packages\\torchvision\\models\\_utils.py:208: UserWarning: The parameter 'pretrained' is deprecated since 0.13 and may be removed in the future, please use 'weights' instead.\n",
      "  warnings.warn(\n",
      "d:\\miniconda\\envs\\st311_final\\lib\\site-packages\\torchvision\\models\\_utils.py:223: UserWarning: Arguments other than a weight enum or `None` for 'weights' are deprecated since 0.13 and may be removed in the future. The current behavior is equivalent to passing `weights=ResNet18_Weights.IMAGENET1K_V1`. You can also use `weights=ResNet18_Weights.DEFAULT` to get the most up-to-date weights.\n",
      "  warnings.warn(msg)\n"
     ]
    },
    {
     "name": "stdout",
     "output_type": "stream",
     "text": [
      "Test Loss: 0.1389, mAP: 0.9897, Macro P: 0.9407, R: 0.9668, F1: 0.9533\n",
      "Per-class F1:\n",
      "  bird: P=0.993, R=0.986, F1=0.989\n",
      "  cat: P=0.957, R=0.957, F1=0.957\n",
      "  cow: P=0.938, R=0.962, F1=0.950\n",
      "  dog: P=0.920, R=0.986, F1=0.952\n",
      "  elephant: P=0.934, R=0.948, F1=0.941\n",
      "  horse: P=0.907, R=0.971, F1=0.938\n",
      "  lion: P=0.916, R=0.956, F1=0.936\n",
      "  sheep: P=0.960, R=0.968, F1=0.964\n",
      "Saved evaluation results to: E:\\LSE\\ST311\\ST311-Group-Project\\experiment\\resnet_f1_0.9713_metrics.csv\n"
     ]
    }
   ],
   "source": [
    "# ResNet evaluation\n",
    "model_path = \"E:/LSE/ST311/ST311-Group-Project/experiment/aug_res/resnet_f1_0.9713.pth\"\n",
    "model = load_model(model_path, ResNetClassifier, num_classes, device)\n",
    "\n",
    "macro_map, macro_p, macro_r, macro_f1, p_class, r_class, f_class = evaluate_model(model, test_loader, index_to_label, criterion, device)\n",
    "\n",
    "# save results to CSV\n",
    "save_eval_results_to_csv(\n",
    "    model_path,\n",
    "    macro_map, macro_p, macro_r, macro_f1,\n",
    "    p_class, r_class, f_class,\n",
    "    list(label_to_index.keys())\n",
    ")"
   ]
  },
  {
   "cell_type": "code",
   "execution_count": null,
   "id": "76c8eadd",
   "metadata": {},
   "outputs": [
    {
     "name": "stdout",
     "output_type": "stream",
     "text": [
      "Test Loss: 0.1931, mAP: 0.9802, Macro P: 0.9122, R: 0.9470, F1: 0.9283\n",
      "Per-class F1:\n",
      "  bird: P=0.920, R=0.986, F1=0.952\n",
      "  cat: P=0.949, R=0.936, F1=0.942\n",
      "  cow: P=0.947, R=0.899, F1=0.922\n",
      "  dog: P=0.900, R=0.964, F1=0.931\n",
      "  elephant: P=0.908, R=0.948, F1=0.928\n",
      "  horse: P=0.810, R=0.971, F1=0.883\n",
      "  lion: P=0.912, R=0.912, F1=0.912\n",
      "  sheep: P=0.952, R=0.960, F1=0.956\n",
      "Saved evaluation results to: E:\\LSE\\ST311\\ST311-Group-Project\\experiment\\resnet_dp_f1_0.9484_metrics.csv\n"
     ]
    }
   ],
   "source": [
    "# ResNet evaluation(with dropout)\n",
    "model_path = \"E:/LSE/ST311/ST311-Group-Project/experiment/aug_res/resnet_dp_f1_0.9484.pth\"\n",
    "model = load_model(model_path, ResNetClassifier, num_classes, device,use_dropout=True)\n",
    "\n",
    "macro_map, macro_p, macro_r, macro_f1, p_class, r_class, f_class = evaluate_model(model, test_loader, index_to_label, criterion, device)\n",
    "\n",
    "# save results to CSV\n",
    "save_eval_results_to_csv(\n",
    "    model_path,\n",
    "    macro_map, macro_p, macro_r, macro_f1,\n",
    "    p_class, r_class, f_class,\n",
    "    list(label_to_index.keys())\n",
    ")"
   ]
  },
  {
   "cell_type": "code",
   "execution_count": 15,
   "id": "27fe104c",
   "metadata": {},
   "outputs": [
    {
     "name": "stderr",
     "output_type": "stream",
     "text": [
      "d:\\miniconda\\envs\\st311_final\\lib\\site-packages\\torchvision\\models\\_utils.py:208: UserWarning: The parameter 'pretrained' is deprecated since 0.13 and may be removed in the future, please use 'weights' instead.\n",
      "  warnings.warn(\n",
      "d:\\miniconda\\envs\\st311_final\\lib\\site-packages\\torchvision\\models\\_utils.py:223: UserWarning: Arguments other than a weight enum or `None` for 'weights' are deprecated since 0.13 and may be removed in the future. The current behavior is equivalent to passing `weights=ResNet18_Weights.IMAGENET1K_V1`. You can also use `weights=ResNet18_Weights.DEFAULT` to get the most up-to-date weights.\n",
      "  warnings.warn(msg)\n"
     ]
    },
    {
     "name": "stdout",
     "output_type": "stream",
     "text": [
      "Test Loss: 0.1857, mAP: 0.9819, Macro P: 0.9230, R: 0.9473, F1: 0.9345\n",
      "Per-class F1:\n",
      "  bird: P=0.971, R=0.971, F1=0.971\n",
      "  cat: P=0.937, R=0.950, F1=0.943\n",
      "  cow: P=0.901, R=0.924, F1=0.913\n",
      "  dog: P=0.926, R=0.986, F1=0.955\n",
      "  elephant: P=0.976, R=0.911, F1=0.943\n",
      "  horse: P=0.882, R=0.957, F1=0.918\n",
      "  lion: P=0.876, R=0.927, F1=0.901\n",
      "  sheep: P=0.915, R=0.952, F1=0.933\n",
      "Saved evaluation results to: E:\\LSE\\ST311\\ST311-Group-Project\\experiment\\resnet_3e_5_f1_0.9519_metrics.csv\n"
     ]
    }
   ],
   "source": [
    "# ResNet evaluation(lower learning rate)\n",
    "model_path = \"E:/LSE/ST311/ST311-Group-Project/experiment/aug_res/resnet_3e_5_f1_0.9519.pth\"\n",
    "model = load_model(model_path, ResNetClassifier, num_classes, device)\n",
    "\n",
    "macro_map, macro_p, macro_r, macro_f1, p_class, r_class, f_class = evaluate_model(model, test_loader, index_to_label, criterion, device)\n",
    "\n",
    "# save results to CSV\n",
    "save_eval_results_to_csv(\n",
    "    model_path,\n",
    "    macro_map, macro_p, macro_r, macro_f1,\n",
    "    p_class, r_class, f_class,\n",
    "    list(label_to_index.keys())\n",
    ")"
   ]
  },
  {
   "cell_type": "markdown",
   "id": "d4826e38",
   "metadata": {},
   "source": [
    "ResNet without dropout with learning rate 1e-4 has the best performance."
   ]
  },
  {
   "cell_type": "markdown",
   "id": "34e96c84",
   "metadata": {},
   "source": [
    "# Prepare Mixed audios Dataset"
   ]
  },
  {
   "cell_type": "code",
   "execution_count": null,
   "id": "7202545f",
   "metadata": {},
   "outputs": [],
   "source": [
    "labels = df_combined['label'].unique().tolist()\n",
    "pairs = list(combinations(labels, 2))\n",
    "random.shuffle(pairs)\n",
    "\n",
    "mixed_entries = []\n",
    "\n",
    "for a, b in pairs:\n",
    "    files_a = df_combined[df_combined['label'] == a].sample(n=350, random_state=42)['file'].tolist()\n",
    "    files_b = df_combined[df_combined['label'] == b].sample(n=350, random_state=42)['file'].tolist()\n",
    "\n",
    "    for i in range(len(files_a)):\n",
    "        path_a = processed_root / a / files_a[i]\n",
    "        path_b = processed_root / b / files_b[i]\n",
    "\n",
    "        wav_a, sr_a = load(path_a)\n",
    "        wav_b, sr_b = load(path_b)\n",
    "\n",
    "        min_len = min(wav_a.shape[1], wav_b.shape[1])\n",
    "        mix = wav_a[:, :min_len] + wav_b[:, :min_len]\n",
    "\n",
    "        name = f\"{a}_{b}_mix_{i+1:03d}.wav\"\n",
    "        save_path = processed_root / \"mixed\" / name\n",
    "        save_path.parent.mkdir(exist_ok=True, parents=True)\n",
    "\n",
    "        save(save_path.as_posix(), mix, sr_a)\n",
    "        mixed_entries.append({\"file\": name, \"label\": f\"{a},{b}\"})\n"
   ]
  },
  {
   "cell_type": "code",
   "execution_count": 224,
   "id": "b94e450e",
   "metadata": {},
   "outputs": [],
   "source": [
    "df_mixed_350 = pd.DataFrame(mixed_entries)\n",
    "df_mixed_350.to_csv(csv_path / \"mixed_dataset_350.csv\", index=False)\n",
    "\n",
    "df_combined_sampled = df_combined.sample(frac=0.5, random_state=123).reset_index(drop=True)\n",
    "df_50 = pd.concat([df_combined_sampled, df_mixed_350], ignore_index=True)\n",
    "df_50.to_csv(csv_path / \"fifity_dataset.csv\", index=False)\n",
    "\n",
    "df_combined_sampled = df_combined.sample(frac=0.3, random_state=123).reset_index(drop=True)\n",
    "df_30 = pd.concat([df_combined_sampled, df_mixed_350], ignore_index=True)\n",
    "df_30.to_csv(csv_path / \"thirty_dataset.csv\", index=False)"
   ]
  },
  {
   "cell_type": "markdown",
   "id": "72456292",
   "metadata": {},
   "source": [
    "# Trainining second-stage model on mixed audio dataset"
   ]
  },
  {
   "cell_type": "markdown",
   "id": "594943ff",
   "metadata": {},
   "source": [
    "### ResNet\n",
    "\n",
    "learning_rate = 1e-4, batch_size = 32"
   ]
  },
  {
   "cell_type": "code",
   "execution_count": null,
   "id": "92b7e8e7",
   "metadata": {},
   "outputs": [
    {
     "name": "stdout",
     "output_type": "stream",
     "text": [
      "Train CSV saved to: E:\\LSE\\ST311\\ST311-Group-Project\\csv_files\\mixed_splits\\train.csv\n",
      "Test CSV saved to: E:\\LSE\\ST311\\ST311-Group-Project\\csv_files\\mixed_splits\\test.csv\n"
     ]
    }
   ],
   "source": [
    "target_per_class = 700\n",
    "train_ratio = 0.8\n",
    "\n",
    "mix_split_dir = csv_path / \"mixed_splits\"\n",
    "final_csv_file = csv_path / \"mixed_dataset_350.csv\"\n",
    "\n",
    "m_train_csv, m_test_csv = prepare_balanced_dataset(master_dataset=final_csv_file,\n",
    "                                               split_dir=mix_split_dir,\n",
    "                                               target_per_class=target_per_class, train_ratio=train_ratio)"
   ]
  },
  {
   "cell_type": "code",
   "execution_count": 22,
   "id": "fc1164ec",
   "metadata": {},
   "outputs": [],
   "source": [
    "num_epochs = 100\n",
    "early_stop_patience = 10\n",
    "learning_rate = 1e-4\n",
    "batch_size = 32\n",
    "\n",
    "mix_split_dir = csv_path / \"mixed_splits\"\n",
    "\n",
    "m_train_csv = mix_split_dir / \"train.csv\"\n",
    "m_test_csv = mix_split_dir / \"test.csv\"\n",
    "\n",
    "m_train_loader, m_val_loader, m_test_loader, m_all_labels, m_train_label_matrix = setup_dataloaders(\n",
    "    train_csv_path=m_train_csv,\n",
    "    test_csv_path=m_test_csv,\n",
    "    audio_root=processed_root,\n",
    "    batch_size=batch_size,\n",
    "    val_ratio=0.15\n",
    ")\n",
    "\n",
    "m_label_to_index = {label: i for i, label in enumerate(m_all_labels)}\n",
    "m_index_to_label = {i: label for i, label in enumerate(m_all_labels)}\n",
    "\n",
    "m_label_counts = m_train_label_matrix.sum(axis=0)\n",
    "m_total_samples = m_train_label_matrix.shape[0]\n",
    "m_num_classes = m_train_label_matrix.shape[1]\n",
    "\n",
    "m_pos_weight = m_total_samples / (m_label_counts)\n",
    "m_pos_weight = torch.tensor(m_pos_weight, dtype=torch.float32).to(device)"
   ]
  },
  {
   "cell_type": "code",
   "execution_count": 23,
   "id": "0266a491",
   "metadata": {},
   "outputs": [
    {
     "name": "stderr",
     "output_type": "stream",
     "text": [
      "d:\\miniconda\\envs\\st311_final\\lib\\site-packages\\torchvision\\models\\_utils.py:208: UserWarning: The parameter 'pretrained' is deprecated since 0.13 and may be removed in the future, please use 'weights' instead.\n",
      "  warnings.warn(\n",
      "d:\\miniconda\\envs\\st311_final\\lib\\site-packages\\torchvision\\models\\_utils.py:223: UserWarning: Arguments other than a weight enum or `None` for 'weights' are deprecated since 0.13 and may be removed in the future. The current behavior is equivalent to passing `weights=ResNet18_Weights.IMAGENET1K_V1`. You can also use `weights=ResNet18_Weights.DEFAULT` to get the most up-to-date weights.\n",
      "  warnings.warn(msg)\n",
      "Epoch 1/100: 100%|██████████| 117/117 [00:13<00:00,  8.67it/s, loss=0.0109] \n"
     ]
    },
    {
     "name": "stdout",
     "output_type": "stream",
     "text": [
      "Val Loss: 0.0935, Map:0.989, Macro P: 0.9224, R: 0.9684, F1: 0.9441\n",
      "Per-class F1:\n",
      "  bird: P=0.938, R=0.984, F1=0.960\n",
      "  cat: P=0.961, R=0.942, F1=0.951\n",
      "  cow: P=0.846, R=1.000, F1=0.917\n",
      "  dog: P=0.909, R=0.980, F1=0.943\n",
      "  elephant: P=0.960, R=0.941, F1=0.950\n",
      "  horse: P=0.896, R=0.952, F1=0.923\n",
      "  lion: P=0.931, R=0.947, F1=0.939\n",
      "  sheep: P=0.939, R=1.000, F1=0.968\n",
      "Saved best model.\n"
     ]
    },
    {
     "name": "stderr",
     "output_type": "stream",
     "text": [
      "Epoch 2/100: 100%|██████████| 117/117 [00:13<00:00,  8.83it/s, loss=0.0206]\n"
     ]
    },
    {
     "name": "stdout",
     "output_type": "stream",
     "text": [
      "Val Loss: 0.0722, Map:0.9943, Macro P: 0.9344, R: 0.9768, F1: 0.9537\n",
      "Per-class F1:\n",
      "  bird: P=1.000, R=0.984, F1=0.992\n",
      "  cat: P=0.817, R=0.942, F1=0.875\n",
      "  cow: P=0.943, R=1.000, F1=0.971\n",
      "  dog: P=1.000, R=0.922, F1=0.959\n",
      "  elephant: P=0.944, R=1.000, F1=0.971\n",
      "  horse: P=0.827, R=0.984, F1=0.899\n",
      "  lion: P=0.966, R=0.982, F1=0.974\n",
      "  sheep: P=0.979, R=1.000, F1=0.989\n",
      "Saved best model.\n"
     ]
    },
    {
     "name": "stderr",
     "output_type": "stream",
     "text": [
      "Epoch 3/100: 100%|██████████| 117/117 [00:13<00:00,  8.50it/s, loss=0.0256]\n"
     ]
    },
    {
     "name": "stdout",
     "output_type": "stream",
     "text": [
      "Val Loss: 0.0658, Map:0.9936, Macro P: 0.9158, R: 0.9701, F1: 0.9416\n",
      "Per-class F1:\n",
      "  bird: P=0.968, R=1.000, F1=0.984\n",
      "  cat: P=0.923, R=0.923, F1=0.923\n",
      "  cow: P=0.892, R=1.000, F1=0.943\n",
      "  dog: P=0.875, R=0.961, F1=0.916\n",
      "  elephant: P=0.909, R=0.980, F1=0.943\n",
      "  horse: P=0.912, R=0.984, F1=0.947\n",
      "  lion: P=0.945, R=0.912, F1=0.929\n",
      "  sheep: P=0.902, R=1.000, F1=0.948\n",
      "Saved best model.\n"
     ]
    },
    {
     "name": "stderr",
     "output_type": "stream",
     "text": [
      "Epoch 4/100: 100%|██████████| 117/117 [00:14<00:00,  8.31it/s, loss=0.0224]\n"
     ]
    },
    {
     "name": "stdout",
     "output_type": "stream",
     "text": [
      "Val Loss: 0.0820, Map:0.9916, Macro P: 0.9171, R: 0.9641, F1: 0.9388\n",
      "Per-class F1:\n",
      "  bird: P=0.984, R=1.000, F1=0.992\n",
      "  cat: P=0.907, R=0.942, F1=0.925\n",
      "  cow: P=0.967, R=0.879, F1=0.921\n",
      "  dog: P=0.879, R=1.000, F1=0.936\n",
      "  elephant: P=0.911, R=1.000, F1=0.953\n",
      "  horse: P=0.857, R=0.952, F1=0.902\n",
      "  lion: P=0.875, R=0.982, F1=0.926\n",
      "  sheep: P=0.957, R=0.957, F1=0.957\n",
      "No improvement. Patience: 1/10\n"
     ]
    },
    {
     "name": "stderr",
     "output_type": "stream",
     "text": [
      "Epoch 5/100: 100%|██████████| 117/117 [00:13<00:00,  8.41it/s, loss=0.00481]\n"
     ]
    },
    {
     "name": "stdout",
     "output_type": "stream",
     "text": [
      "Val Loss: 0.0511, Map:0.996, Macro P: 0.9430, R: 0.9783, F1: 0.9600\n",
      "Per-class F1:\n",
      "  bird: P=1.000, R=1.000, F1=1.000\n",
      "  cat: P=0.941, R=0.923, F1=0.932\n",
      "  cow: P=0.943, R=1.000, F1=0.971\n",
      "  dog: P=0.926, R=0.980, F1=0.952\n",
      "  elephant: P=0.962, R=1.000, F1=0.981\n",
      "  horse: P=0.912, R=0.984, F1=0.947\n",
      "  lion: P=0.903, R=0.982, F1=0.941\n",
      "  sheep: P=0.957, R=0.957, F1=0.957\n",
      "Saved best model.\n"
     ]
    },
    {
     "name": "stderr",
     "output_type": "stream",
     "text": [
      "Epoch 6/100: 100%|██████████| 117/117 [00:14<00:00,  8.24it/s, loss=0.00612]\n"
     ]
    },
    {
     "name": "stdout",
     "output_type": "stream",
     "text": [
      "Val Loss: 0.0535, Map:0.9949, Macro P: 0.9503, R: 0.9784, F1: 0.9641\n",
      "Per-class F1:\n",
      "  bird: P=1.000, R=1.000, F1=1.000\n",
      "  cat: P=0.906, R=0.923, F1=0.914\n",
      "  cow: P=0.912, R=0.939, F1=0.925\n",
      "  dog: P=0.943, R=0.980, F1=0.962\n",
      "  elephant: P=0.981, R=1.000, F1=0.990\n",
      "  horse: P=0.939, R=0.984, F1=0.961\n",
      "  lion: P=0.983, R=1.000, F1=0.991\n",
      "  sheep: P=0.939, R=1.000, F1=0.968\n",
      "No improvement. Patience: 1/10\n"
     ]
    },
    {
     "name": "stderr",
     "output_type": "stream",
     "text": [
      "Epoch 7/100: 100%|██████████| 117/117 [00:13<00:00,  8.40it/s, loss=0.00209]\n"
     ]
    },
    {
     "name": "stdout",
     "output_type": "stream",
     "text": [
      "Val Loss: 0.0573, Map:0.9963, Macro P: 0.9517, R: 0.9721, F1: 0.9615\n",
      "Per-class F1:\n",
      "  bird: P=1.000, R=1.000, F1=1.000\n",
      "  cat: P=0.959, R=0.904, F1=0.931\n",
      "  cow: P=0.889, R=0.970, F1=0.928\n",
      "  dog: P=0.925, R=0.961, F1=0.942\n",
      "  elephant: P=0.962, R=0.980, F1=0.971\n",
      "  horse: P=0.939, R=0.984, F1=0.961\n",
      "  lion: P=0.983, R=1.000, F1=0.991\n",
      "  sheep: P=0.957, R=0.978, F1=0.968\n",
      "No improvement. Patience: 2/10\n"
     ]
    },
    {
     "name": "stderr",
     "output_type": "stream",
     "text": [
      "Epoch 8/100: 100%|██████████| 117/117 [00:13<00:00,  8.67it/s, loss=0.00118]\n"
     ]
    },
    {
     "name": "stdout",
     "output_type": "stream",
     "text": [
      "Val Loss: 0.0575, Map:0.9968, Macro P: 0.9545, R: 0.9773, F1: 0.9654\n",
      "Per-class F1:\n",
      "  bird: P=1.000, R=1.000, F1=1.000\n",
      "  cat: P=0.959, R=0.904, F1=0.931\n",
      "  cow: P=0.914, R=0.970, F1=0.941\n",
      "  dog: P=0.925, R=0.961, F1=0.942\n",
      "  elephant: P=0.944, R=1.000, F1=0.971\n",
      "  horse: P=0.969, R=0.984, F1=0.976\n",
      "  lion: P=0.966, R=1.000, F1=0.983\n",
      "  sheep: P=0.958, R=1.000, F1=0.979\n",
      "No improvement. Patience: 3/10\n"
     ]
    },
    {
     "name": "stderr",
     "output_type": "stream",
     "text": [
      "Epoch 9/100: 100%|██████████| 117/117 [00:14<00:00,  8.14it/s, loss=0.00219]\n"
     ]
    },
    {
     "name": "stdout",
     "output_type": "stream",
     "text": [
      "Val Loss: 0.0580, Map:0.9966, Macro P: 0.9633, R: 0.9773, F1: 0.9698\n",
      "Per-class F1:\n",
      "  bird: P=1.000, R=1.000, F1=1.000\n",
      "  cat: P=1.000, R=0.904, F1=0.949\n",
      "  cow: P=0.941, R=0.970, F1=0.955\n",
      "  dog: P=0.925, R=0.961, F1=0.942\n",
      "  elephant: P=0.962, R=1.000, F1=0.981\n",
      "  horse: P=0.954, R=0.984, F1=0.969\n",
      "  lion: P=0.966, R=1.000, F1=0.983\n",
      "  sheep: P=0.958, R=1.000, F1=0.979\n",
      "No improvement. Patience: 4/10\n"
     ]
    },
    {
     "name": "stderr",
     "output_type": "stream",
     "text": [
      "Epoch 10/100: 100%|██████████| 117/117 [00:13<00:00,  8.45it/s, loss=0.00172]\n"
     ]
    },
    {
     "name": "stdout",
     "output_type": "stream",
     "text": [
      "Val Loss: 0.0627, Map:0.9969, Macro P: 0.9578, R: 0.9762, F1: 0.9662\n",
      "Per-class F1:\n",
      "  bird: P=1.000, R=1.000, F1=1.000\n",
      "  cat: P=1.000, R=0.885, F1=0.939\n",
      "  cow: P=0.943, R=1.000, F1=0.971\n",
      "  dog: P=0.925, R=0.961, F1=0.942\n",
      "  elephant: P=0.962, R=0.980, F1=0.971\n",
      "  horse: P=0.925, R=0.984, F1=0.954\n",
      "  lion: P=0.950, R=1.000, F1=0.974\n",
      "  sheep: P=0.958, R=1.000, F1=0.979\n",
      "No improvement. Patience: 5/10\n"
     ]
    },
    {
     "name": "stderr",
     "output_type": "stream",
     "text": [
      "Epoch 11/100: 100%|██████████| 117/117 [00:13<00:00,  8.45it/s, loss=0.00967]\n"
     ]
    },
    {
     "name": "stdout",
     "output_type": "stream",
     "text": [
      "Val Loss: 0.0838, Map:0.9925, Macro P: 0.9442, R: 0.9667, F1: 0.9549\n",
      "Per-class F1:\n",
      "  bird: P=1.000, R=1.000, F1=1.000\n",
      "  cat: P=0.940, R=0.904, F1=0.922\n",
      "  cow: P=0.939, R=0.939, F1=0.939\n",
      "  dog: P=0.942, R=0.961, F1=0.951\n",
      "  elephant: P=0.893, R=0.980, F1=0.935\n",
      "  horse: P=0.954, R=0.984, F1=0.969\n",
      "  lion: P=0.965, R=0.965, F1=0.965\n",
      "  sheep: P=0.920, R=1.000, F1=0.958\n",
      "No improvement. Patience: 6/10\n"
     ]
    },
    {
     "name": "stderr",
     "output_type": "stream",
     "text": [
      "Epoch 12/100: 100%|██████████| 117/117 [00:13<00:00,  8.59it/s, loss=0.0256]\n"
     ]
    },
    {
     "name": "stdout",
     "output_type": "stream",
     "text": [
      "Val Loss: 0.0682, Map:0.9942, Macro P: 0.9110, R: 0.9833, F1: 0.9433\n",
      "Per-class F1:\n",
      "  bird: P=1.000, R=1.000, F1=1.000\n",
      "  cat: P=0.980, R=0.923, F1=0.950\n",
      "  cow: P=0.846, R=1.000, F1=0.917\n",
      "  dog: P=0.961, R=0.961, F1=0.961\n",
      "  elephant: P=0.879, R=1.000, F1=0.936\n",
      "  horse: P=0.750, R=1.000, F1=0.857\n",
      "  lion: P=0.933, R=0.982, F1=0.957\n",
      "  sheep: P=0.939, R=1.000, F1=0.968\n",
      "No improvement. Patience: 7/10\n"
     ]
    },
    {
     "name": "stderr",
     "output_type": "stream",
     "text": [
      "Epoch 13/100: 100%|██████████| 117/117 [00:14<00:00,  8.29it/s, loss=0.0329]\n"
     ]
    },
    {
     "name": "stdout",
     "output_type": "stream",
     "text": [
      "Val Loss: 0.0566, Map:0.9945, Macro P: 0.9415, R: 0.9743, F1: 0.9574\n",
      "Per-class F1:\n",
      "  bird: P=0.984, R=1.000, F1=0.992\n",
      "  cat: P=0.906, R=0.923, F1=0.914\n",
      "  cow: P=0.941, R=0.970, F1=0.955\n",
      "  dog: P=0.960, R=0.941, F1=0.950\n",
      "  elephant: P=0.944, R=1.000, F1=0.971\n",
      "  horse: P=0.913, R=1.000, F1=0.955\n",
      "  lion: P=0.966, R=0.982, F1=0.974\n",
      "  sheep: P=0.918, R=0.978, F1=0.947\n",
      "No improvement. Patience: 8/10\n"
     ]
    },
    {
     "name": "stderr",
     "output_type": "stream",
     "text": [
      "Epoch 14/100: 100%|██████████| 117/117 [00:14<00:00,  7.80it/s, loss=0.00568]\n"
     ]
    },
    {
     "name": "stdout",
     "output_type": "stream",
     "text": [
      "Val Loss: 0.0585, Map:0.9954, Macro P: 0.9420, R: 0.9807, F1: 0.9607\n",
      "Per-class F1:\n",
      "  bird: P=1.000, R=0.984, F1=0.992\n",
      "  cat: P=0.923, R=0.923, F1=0.923\n",
      "  cow: P=0.943, R=1.000, F1=0.971\n",
      "  dog: P=0.943, R=0.980, F1=0.962\n",
      "  elephant: P=0.893, R=0.980, F1=0.935\n",
      "  horse: P=0.926, R=1.000, F1=0.962\n",
      "  lion: P=0.950, R=1.000, F1=0.974\n",
      "  sheep: P=0.957, R=0.978, F1=0.968\n",
      "No improvement. Patience: 9/10\n"
     ]
    },
    {
     "name": "stderr",
     "output_type": "stream",
     "text": [
      "Epoch 15/100: 100%|██████████| 117/117 [00:13<00:00,  8.51it/s, loss=0.00228]\n"
     ]
    },
    {
     "name": "stdout",
     "output_type": "stream",
     "text": [
      "Val Loss: 0.0542, Map:0.9963, Macro P: 0.9572, R: 0.9807, F1: 0.9686\n",
      "Per-class F1:\n",
      "  bird: P=0.984, R=0.984, F1=0.984\n",
      "  cat: P=0.941, R=0.923, F1=0.932\n",
      "  cow: P=0.943, R=1.000, F1=0.971\n",
      "  dog: P=0.961, R=0.961, F1=0.961\n",
      "  elephant: P=0.962, R=1.000, F1=0.981\n",
      "  horse: P=0.926, R=1.000, F1=0.962\n",
      "  lion: P=0.983, R=1.000, F1=0.991\n",
      "  sheep: P=0.957, R=0.978, F1=0.968\n",
      "No improvement. Patience: 10/10\n",
      "Early stopping.\n"
     ]
    }
   ],
   "source": [
    "# Model\n",
    "model = ResNetClassifier(m_num_classes).to(device)\n",
    "model.load_state_dict(torch.load(\"E:/LSE/ST311/ST311-Group-Project/experiment/aug_res/resnet_f1_0.9713.pth\"))\n",
    "criterion = nn.BCEWithLogitsLoss(pos_weight=m_pos_weight)\n",
    "optimizer = torch.optim.Adam(model.parameters(), lr=learning_rate)\n",
    "\n",
    "model_save_dir = Path(\"E:/LSE/ST311/ST311-Group-Project/experiment/mixed_res\")\n",
    "model_save_dir.mkdir(parents=True, exist_ok=True)\n",
    "best_loss = float('inf')\n",
    "patience_counter = 0\n",
    "\n",
    "train_losses = []\n",
    "val_losses = []\n",
    "f1_scores = []\n",
    "\n",
    "for epoch in range(num_epochs):\n",
    "    model.train()\n",
    "    total_loss = 0\n",
    "    loop = tqdm(train_loader, desc=f\"Epoch {epoch+1}/{num_epochs}\")\n",
    "    for inputs, targets in loop:\n",
    "        inputs, targets = inputs.to(device), targets.to(device)\n",
    "        outputs = model(inputs)\n",
    "        loss = criterion(outputs, targets)\n",
    "        optimizer.zero_grad()\n",
    "        loss.backward()\n",
    "        optimizer.step()\n",
    "        total_loss += loss.item()\n",
    "        loop.set_postfix(loss=total_loss / (loop.n + 1))\n",
    "\n",
    "    model.eval()\n",
    "    all_preds, all_targets = [], []\n",
    "    with torch.no_grad():\n",
    "        for inputs, targets in val_loader:\n",
    "            inputs, targets = inputs.to(device), targets.to(device)\n",
    "            outputs = model(inputs)\n",
    "            all_preds.append(outputs)\n",
    "            all_targets.append(targets)\n",
    "\n",
    "    all_preds = torch.cat(all_preds)\n",
    "    all_targets = torch.cat(all_targets)\n",
    "    val_loss = criterion(all_preds, all_targets).item()\n",
    "    macro_p, macro_r, macro_f1, macro_map, p_class, r_class, f_class = multilabel_metrics(all_preds, all_targets, threshold=0.3)\n",
    "\n",
    "    print(f\"Val Loss: {val_loss:.4f}, Map:{round(macro_map,4)}, Macro P: {macro_p:.4f}, R: {macro_r:.4f}, F1: {macro_f1:.4f}\")\n",
    "    print(\"Per-class F1:\")\n",
    "    for i, label in index_to_label.items():\n",
    "        print(f\"  {label}: P={p_class[i]:.3f}, R={r_class[i]:.3f}, F1={f_class[i]:.3f}\")\n",
    "        \n",
    "    train_losses.append(total_loss / len(train_loader))\n",
    "    val_losses.append(val_loss)\n",
    "    f1_scores.append(macro_f1)\n",
    "\n",
    "    if val_loss < best_loss:\n",
    "        best_loss = val_loss\n",
    "        patience_counter = 0\n",
    "        torch.save(model.state_dict(), model_save_dir / f\"resnet_f1_{macro_f1:.4f}.pth\")\n",
    "        print(\"Saved best model.\")\n",
    "    else:\n",
    "        patience_counter += 1\n",
    "        print(f\"No improvement. Patience: {patience_counter}/{early_stop_patience}\")\n",
    "\n",
    "    if patience_counter >= early_stop_patience:\n",
    "        print(\"Early stopping.\")\n",
    "        break\n"
   ]
  },
  {
   "cell_type": "code",
   "execution_count": 24,
   "id": "3c1d3536",
   "metadata": {},
   "outputs": [
    {
     "data": {
      "image/png": "[encoded data removed]",
      "text/plain": [
       "<Figure size 1000x500 with 1 Axes>"
      ]
     },
     "metadata": {},
     "output_type": "display_data"
    },
    {
     "data": {
      "image/png": "[encoded data removed]",
      "text/plain": [
       "<Figure size 1000x500 with 1 Axes>"
      ]
     },
     "metadata": {},
     "output_type": "display_data"
    }
   ],
   "source": [
    "import matplotlib.pyplot as plt\n",
    "\n",
    "plt.figure(figsize=(10, 5))\n",
    "plt.plot(train_losses, label=\"Train Loss\")\n",
    "plt.plot(val_losses, label=\"Val Loss\")\n",
    "plt.xlabel(\"Epoch\")\n",
    "plt.ylabel(\"Loss\")\n",
    "plt.title(\"Loss Curve\")\n",
    "plt.legend()\n",
    "plt.grid()\n",
    "plt.show()\n",
    "\n",
    "plt.figure(figsize=(10, 5))\n",
    "plt.plot(f1_scores, label=\"Val F1\")\n",
    "plt.xlabel(\"Epoch\")\n",
    "plt.ylabel(\"F1 Score\")\n",
    "plt.title(\"Validation F1 Curve\")\n",
    "plt.legend()\n",
    "plt.grid()\n",
    "plt.show()"
   ]
  },
  {
   "cell_type": "markdown",
   "id": "75339b53",
   "metadata": {},
   "source": [
    "### Performance on Training set\n",
    "\n",
    "To try out the best evaluation threshold"
   ]
  },
  {
   "cell_type": "code",
   "execution_count": 29,
   "id": "404432ad",
   "metadata": {},
   "outputs": [
    {
     "name": "stderr",
     "output_type": "stream",
     "text": [
      "d:\\miniconda\\envs\\st311_final\\lib\\site-packages\\torchvision\\models\\_utils.py:208: UserWarning: The parameter 'pretrained' is deprecated since 0.13 and may be removed in the future, please use 'weights' instead.\n",
      "  warnings.warn(\n",
      "d:\\miniconda\\envs\\st311_final\\lib\\site-packages\\torchvision\\models\\_utils.py:223: UserWarning: Arguments other than a weight enum or `None` for 'weights' are deprecated since 0.13 and may be removed in the future. The current behavior is equivalent to passing `weights=ResNet18_Weights.IMAGENET1K_V1`. You can also use `weights=ResNet18_Weights.DEFAULT` to get the most up-to-date weights.\n",
      "  warnings.warn(msg)\n"
     ]
    },
    {
     "name": "stdout",
     "output_type": "stream",
     "text": [
      "Test Loss: 3.3244, mAP: 0.8264, Macro P: 0.9685, R: 0.5338, F1: 0.6757\n",
      "Per-class F1:\n",
      "  bird: P=0.998, R=0.330, F1=0.496\n",
      "  cat: P=0.945, R=0.437, F1=0.598\n",
      "  cow: P=0.994, R=0.757, F1=0.859\n",
      "  dog: P=0.982, R=0.417, F1=0.585\n",
      "  elephant: P=0.979, R=0.583, F1=0.731\n",
      "  horse: P=0.955, R=0.401, F1=0.564\n",
      "  lion: P=0.957, R=0.637, F1=0.764\n",
      "  sheep: P=0.939, R=0.709, F1=0.808\n",
      "Saved evaluation results to: E:\\LSE\\ST311\\ST311-Group-Project\\experiment\\resnet_f1_0.9744_metrics.csv\n"
     ]
    }
   ],
   "source": [
    "# ResNet evaluation\n",
    "model_path = \"E:/LSE/ST311/ST311-Group-Project/experiment/mixed_res/resnet_f1_0.9744.pth\"\n",
    "model = load_model(model_path, ResNetClassifier, m_num_classes, device)\n",
    "\n",
    "macro_map, macro_p, macro_r, macro_f1, p_class, r_class, f_class = evaluate_model(model, m_train_loader, m_index_to_label, criterion, device, threshold =0.3)\n",
    "\n",
    "# save results to CSV\n",
    "save_eval_results_to_csv(\n",
    "    model_path,\n",
    "    macro_map, macro_p, macro_r, macro_f1,\n",
    "    p_class, r_class, f_class,\n",
    "    list(m_label_to_index.keys())\n",
    ")"
   ]
  },
  {
   "cell_type": "code",
   "execution_count": 30,
   "id": "2c79e0fe",
   "metadata": {},
   "outputs": [
    {
     "name": "stdout",
     "output_type": "stream",
     "text": [
      "Test Loss: 3.3244, mAP: 0.8264, Macro P: 0.9598, R: 0.5510, F1: 0.6884\n",
      "Per-class F1:\n",
      "  bird: P=0.995, R=0.347, F1=0.514\n",
      "  cat: P=0.931, R=0.459, F1=0.615\n",
      "  cow: P=0.991, R=0.771, F1=0.867\n",
      "  dog: P=0.968, R=0.440, F1=0.605\n",
      "  elephant: P=0.974, R=0.600, F1=0.743\n",
      "  horse: P=0.946, R=0.418, F1=0.580\n",
      "  lion: P=0.952, R=0.656, F1=0.777\n",
      "  sheep: P=0.921, R=0.718, F1=0.807\n",
      "Saved evaluation results to: E:\\LSE\\ST311\\ST311-Group-Project\\experiment\\resnet_f1_0.9744_metrics.csv\n"
     ]
    }
   ],
   "source": [
    "macro_map, macro_p, macro_r, macro_f1, p_class, r_class, f_class = evaluate_model(model, m_train_loader, m_index_to_label, criterion, device, threshold=0.2)\n",
    "\n",
    "# save results to CSV\n",
    "save_eval_results_to_csv(\n",
    "    model_path,\n",
    "    macro_map, macro_p, macro_r, macro_f1,\n",
    "    p_class, r_class, f_class,\n",
    "    list(m_label_to_index.keys())\n",
    ")"
   ]
  },
  {
   "cell_type": "code",
   "execution_count": 31,
   "id": "94c00413",
   "metadata": {},
   "outputs": [
    {
     "name": "stdout",
     "output_type": "stream",
     "text": [
      "Test Loss: 3.3244, mAP: 0.8264, Macro P: 0.9473, R: 0.5779, F1: 0.7068\n",
      "Per-class F1:\n",
      "  bird: P=0.992, R=0.380, F1=0.549\n",
      "  cat: P=0.905, R=0.493, F1=0.638\n",
      "  cow: P=0.984, R=0.798, F1=0.881\n",
      "  dog: P=0.961, R=0.466, F1=0.627\n",
      "  elephant: P=0.964, R=0.630, F1=0.762\n",
      "  horse: P=0.935, R=0.440, F1=0.598\n",
      "  lion: P=0.942, R=0.679, F1=0.789\n",
      "  sheep: P=0.896, R=0.738, F1=0.809\n",
      "Saved evaluation results to: E:\\LSE\\ST311\\ST311-Group-Project\\experiment\\resnet_f1_0.9744_metrics.csv\n"
     ]
    }
   ],
   "source": [
    "macro_map, macro_p, macro_r, macro_f1, p_class, r_class, f_class = evaluate_model(model, m_train_loader, m_index_to_label, criterion, device, threshold=0.1)\n",
    "\n",
    "# save results to CSV\n",
    "save_eval_results_to_csv(\n",
    "    model_path,\n",
    "    macro_map, macro_p, macro_r, macro_f1,\n",
    "    p_class, r_class, f_class,\n",
    "    list(m_label_to_index.keys())\n",
    ")"
   ]
  },
  {
   "cell_type": "markdown",
   "id": "2c0de5d0",
   "metadata": {},
   "source": [
    "#### ResNetTranformer\n",
    "\n",
    "learning_rate = 1e-4, batch_size = 32"
   ]
  },
  {
   "cell_type": "code",
   "execution_count": 33,
   "id": "59cb48df",
   "metadata": {},
   "outputs": [
    {
     "name": "stderr",
     "output_type": "stream",
     "text": [
      "Epoch 1/100: 100%|██████████| 117/117 [00:14<00:00,  7.84it/s, loss=0.0252]\n"
     ]
    },
    {
     "name": "stdout",
     "output_type": "stream",
     "text": [
      "Val Loss: 0.1106, Map:0.977, Macro P: 0.9223, R: 0.9603, F1: 0.9400\n",
      "Per-class F1:\n",
      "  bird: P=0.922, R=0.967, F1=0.944\n",
      "  cat: P=0.959, R=0.904, F1=0.931\n",
      "  cow: P=0.868, R=1.000, F1=0.930\n",
      "  dog: P=0.923, R=0.941, F1=0.932\n",
      "  elephant: P=0.911, R=1.000, F1=0.953\n",
      "  horse: P=0.912, R=0.984, F1=0.947\n",
      "  lion: P=0.883, R=0.930, F1=0.906\n",
      "  sheep: P=1.000, R=0.957, F1=0.978\n",
      "Saved best model.\n"
     ]
    },
    {
     "name": "stderr",
     "output_type": "stream",
     "text": [
      "Epoch 2/100: 100%|██████████| 117/117 [00:16<00:00,  7.27it/s, loss=0.0208]\n"
     ]
    },
    {
     "name": "stdout",
     "output_type": "stream",
     "text": [
      "Val Loss: 0.0826, Map:0.9901, Macro P: 0.9378, R: 0.9657, F1: 0.9513\n",
      "Per-class F1:\n",
      "  bird: P=0.952, R=0.984, F1=0.968\n",
      "  cat: P=0.960, R=0.923, F1=0.941\n",
      "  cow: P=0.917, R=1.000, F1=0.957\n",
      "  dog: P=0.942, R=0.961, F1=0.951\n",
      "  elephant: P=0.926, R=0.980, F1=0.952\n",
      "  horse: P=0.952, R=0.952, F1=0.952\n",
      "  lion: P=0.915, R=0.947, F1=0.931\n",
      "  sheep: P=0.938, R=0.978, F1=0.957\n",
      "Saved best model.\n"
     ]
    },
    {
     "name": "stderr",
     "output_type": "stream",
     "text": [
      "Epoch 3/100: 100%|██████████| 117/117 [00:16<00:00,  7.16it/s, loss=0.0268]\n"
     ]
    },
    {
     "name": "stdout",
     "output_type": "stream",
     "text": [
      "Val Loss: 0.0739, Map:0.9832, Macro P: 0.9506, R: 0.9669, F1: 0.9580\n",
      "Per-class F1:\n",
      "  bird: P=0.984, R=0.984, F1=0.984\n",
      "  cat: P=1.000, R=0.923, F1=0.960\n",
      "  cow: P=1.000, R=1.000, F1=1.000\n",
      "  dog: P=0.887, R=0.922, F1=0.904\n",
      "  elephant: P=1.000, R=0.961, F1=0.980\n",
      "  horse: P=0.897, R=0.968, F1=0.931\n",
      "  lion: P=0.919, R=1.000, F1=0.958\n",
      "  sheep: P=0.918, R=0.978, F1=0.947\n",
      "Saved best model.\n"
     ]
    },
    {
     "name": "stderr",
     "output_type": "stream",
     "text": [
      "Epoch 4/100: 100%|██████████| 117/117 [00:16<00:00,  7.08it/s, loss=0.0196]\n"
     ]
    },
    {
     "name": "stdout",
     "output_type": "stream",
     "text": [
      "Val Loss: 0.1391, Map:0.9783, Macro P: 0.9384, R: 0.9549, F1: 0.9458\n",
      "Per-class F1:\n",
      "  bird: P=0.966, R=0.934, F1=0.950\n",
      "  cat: P=0.940, R=0.904, F1=0.922\n",
      "  cow: P=1.000, R=0.970, F1=0.985\n",
      "  dog: P=0.906, R=0.941, F1=0.923\n",
      "  elephant: P=0.962, R=0.980, F1=0.971\n",
      "  horse: P=0.849, R=0.984, F1=0.912\n",
      "  lion: P=0.947, R=0.947, F1=0.947\n",
      "  sheep: P=0.938, R=0.978, F1=0.957\n",
      "No improvement. Patience: 1/10\n"
     ]
    },
    {
     "name": "stderr",
     "output_type": "stream",
     "text": [
      "Epoch 5/100: 100%|██████████| 117/117 [00:16<00:00,  6.98it/s, loss=0.0214]\n"
     ]
    },
    {
     "name": "stdout",
     "output_type": "stream",
     "text": [
      "Val Loss: 0.1174, Map:0.9786, Macro P: 0.9332, R: 0.9643, F1: 0.9476\n",
      "Per-class F1:\n",
      "  bird: P=0.896, R=0.984, F1=0.938\n",
      "  cat: P=0.958, R=0.885, F1=0.920\n",
      "  cow: P=0.917, R=1.000, F1=0.957\n",
      "  dog: P=0.909, R=0.980, F1=0.943\n",
      "  elephant: P=0.980, R=0.980, F1=0.980\n",
      "  horse: P=0.910, R=0.968, F1=0.938\n",
      "  lion: P=0.918, R=0.982, F1=0.949\n",
      "  sheep: P=0.977, R=0.935, F1=0.956\n",
      "No improvement. Patience: 2/10\n"
     ]
    },
    {
     "name": "stderr",
     "output_type": "stream",
     "text": [
      "Epoch 6/100: 100%|██████████| 117/117 [00:17<00:00,  6.71it/s, loss=0.0272]\n"
     ]
    },
    {
     "name": "stdout",
     "output_type": "stream",
     "text": [
      "Val Loss: 0.1137, Map:0.9903, Macro P: 0.9288, R: 0.9610, F1: 0.9429\n",
      "Per-class F1:\n",
      "  bird: P=0.923, R=0.984, F1=0.952\n",
      "  cat: P=0.957, R=0.846, F1=0.898\n",
      "  cow: P=1.000, R=1.000, F1=1.000\n",
      "  dog: P=0.820, R=0.980, F1=0.893\n",
      "  elephant: P=0.980, R=0.980, F1=0.980\n",
      "  horse: P=0.952, R=0.937, F1=0.944\n",
      "  lion: P=0.862, R=0.982, F1=0.918\n",
      "  sheep: P=0.938, R=0.978, F1=0.957\n",
      "No improvement. Patience: 3/10\n"
     ]
    },
    {
     "name": "stderr",
     "output_type": "stream",
     "text": [
      "Epoch 7/100: 100%|██████████| 117/117 [00:17<00:00,  6.79it/s, loss=0.0115]\n"
     ]
    },
    {
     "name": "stdout",
     "output_type": "stream",
     "text": [
      "Val Loss: 0.0819, Map:0.9962, Macro P: 0.9568, R: 0.9645, F1: 0.9604\n",
      "Per-class F1:\n",
      "  bird: P=0.968, R=0.984, F1=0.976\n",
      "  cat: P=0.940, R=0.904, F1=0.922\n",
      "  cow: P=0.971, R=1.000, F1=0.985\n",
      "  dog: P=0.960, R=0.941, F1=0.950\n",
      "  elephant: P=0.980, R=0.980, F1=0.980\n",
      "  horse: P=0.924, R=0.968, F1=0.946\n",
      "  lion: P=0.933, R=0.982, F1=0.957\n",
      "  sheep: P=0.978, R=0.957, F1=0.967\n",
      "No improvement. Patience: 4/10\n"
     ]
    },
    {
     "name": "stderr",
     "output_type": "stream",
     "text": [
      "Epoch 8/100: 100%|██████████| 117/117 [00:18<00:00,  6.40it/s, loss=0.0121] \n"
     ]
    },
    {
     "name": "stdout",
     "output_type": "stream",
     "text": [
      "Val Loss: 0.1144, Map:0.9918, Macro P: 0.9377, R: 0.9599, F1: 0.9478\n",
      "Per-class F1:\n",
      "  bird: P=0.952, R=0.984, F1=0.968\n",
      "  cat: P=0.904, R=0.904, F1=0.904\n",
      "  cow: P=1.000, R=0.939, F1=0.969\n",
      "  dog: P=0.960, R=0.941, F1=0.950\n",
      "  elephant: P=0.980, R=0.980, F1=0.980\n",
      "  horse: P=0.938, R=0.952, F1=0.945\n",
      "  lion: P=0.934, R=1.000, F1=0.966\n",
      "  sheep: P=0.833, R=0.978, F1=0.900\n",
      "No improvement. Patience: 5/10\n"
     ]
    },
    {
     "name": "stderr",
     "output_type": "stream",
     "text": [
      "Epoch 9/100: 100%|██████████| 117/117 [00:17<00:00,  6.64it/s, loss=0.0239]\n"
     ]
    },
    {
     "name": "stdout",
     "output_type": "stream",
     "text": [
      "Val Loss: 0.1073, Map:0.9779, Macro P: 0.9499, R: 0.9689, F1: 0.9578\n",
      "Per-class F1:\n",
      "  bird: P=0.910, R=1.000, F1=0.953\n",
      "  cat: P=1.000, R=0.865, F1=0.928\n",
      "  cow: P=0.971, R=1.000, F1=0.985\n",
      "  dog: P=0.980, R=0.980, F1=0.980\n",
      "  elephant: P=0.962, R=1.000, F1=0.981\n",
      "  horse: P=0.849, R=0.984, F1=0.912\n",
      "  lion: P=0.948, R=0.965, F1=0.957\n",
      "  sheep: P=0.978, R=0.957, F1=0.967\n",
      "No improvement. Patience: 6/10\n"
     ]
    },
    {
     "name": "stderr",
     "output_type": "stream",
     "text": [
      "Epoch 10/100: 100%|██████████| 117/117 [00:17<00:00,  6.58it/s, loss=0.0108] \n"
     ]
    },
    {
     "name": "stdout",
     "output_type": "stream",
     "text": [
      "Val Loss: 0.0931, Map:0.9769, Macro P: 0.9626, R: 0.9693, F1: 0.9656\n",
      "Per-class F1:\n",
      "  bird: P=0.968, R=0.984, F1=0.976\n",
      "  cat: P=0.958, R=0.885, F1=0.920\n",
      "  cow: P=0.971, R=1.000, F1=0.985\n",
      "  dog: P=0.942, R=0.961, F1=0.951\n",
      "  elephant: P=0.980, R=0.980, F1=0.980\n",
      "  horse: P=0.954, R=0.984, F1=0.969\n",
      "  lion: P=0.949, R=0.982, F1=0.966\n",
      "  sheep: P=0.978, R=0.978, F1=0.978\n",
      "No improvement. Patience: 7/10\n"
     ]
    },
    {
     "name": "stderr",
     "output_type": "stream",
     "text": [
      "Epoch 11/100: 100%|██████████| 117/117 [00:18<00:00,  6.22it/s, loss=0.0241]\n"
     ]
    },
    {
     "name": "stdout",
     "output_type": "stream",
     "text": [
      "Val Loss: 0.0663, Map:0.9939, Macro P: 0.9386, R: 0.9723, F1: 0.9546\n",
      "Per-class F1:\n",
      "  bird: P=0.984, R=0.984, F1=0.984\n",
      "  cat: P=0.941, R=0.923, F1=0.932\n",
      "  cow: P=0.943, R=1.000, F1=0.971\n",
      "  dog: P=0.926, R=0.980, F1=0.952\n",
      "  elephant: P=0.944, R=1.000, F1=0.971\n",
      "  horse: P=0.896, R=0.952, F1=0.923\n",
      "  lion: P=0.875, R=0.982, F1=0.926\n",
      "  sheep: P=1.000, R=0.957, F1=0.978\n",
      "Saved best model.\n"
     ]
    },
    {
     "name": "stderr",
     "output_type": "stream",
     "text": [
      "Epoch 12/100: 100%|██████████| 117/117 [00:18<00:00,  6.37it/s, loss=0.0119]\n"
     ]
    },
    {
     "name": "stdout",
     "output_type": "stream",
     "text": [
      "Val Loss: 0.0704, Map:0.9941, Macro P: 0.9457, R: 0.9725, F1: 0.9583\n",
      "Per-class F1:\n",
      "  bird: P=0.983, R=0.967, F1=0.975\n",
      "  cat: P=0.877, R=0.962, F1=0.917\n",
      "  cow: P=0.892, R=1.000, F1=0.943\n",
      "  dog: P=0.959, R=0.922, F1=0.940\n",
      "  elephant: P=0.980, R=0.980, F1=0.980\n",
      "  horse: P=0.925, R=0.984, F1=0.954\n",
      "  lion: P=0.948, R=0.965, F1=0.957\n",
      "  sheep: P=1.000, R=1.000, F1=1.000\n",
      "No improvement. Patience: 1/10\n"
     ]
    },
    {
     "name": "stderr",
     "output_type": "stream",
     "text": [
      "Epoch 13/100: 100%|██████████| 117/117 [00:17<00:00,  6.50it/s, loss=0.00616]\n"
     ]
    },
    {
     "name": "stdout",
     "output_type": "stream",
     "text": [
      "Val Loss: 0.0876, Map:0.9933, Macro P: 0.9475, R: 0.9694, F1: 0.9577\n",
      "Per-class F1:\n",
      "  bird: P=1.000, R=0.951, F1=0.975\n",
      "  cat: P=0.942, R=0.942, F1=0.942\n",
      "  cow: P=0.892, R=1.000, F1=0.943\n",
      "  dog: P=0.943, R=0.980, F1=0.962\n",
      "  elephant: P=1.000, R=1.000, F1=1.000\n",
      "  horse: P=0.921, R=0.921, F1=0.921\n",
      "  lion: P=0.903, R=0.982, F1=0.941\n",
      "  sheep: P=0.978, R=0.978, F1=0.978\n",
      "No improvement. Patience: 2/10\n"
     ]
    },
    {
     "name": "stderr",
     "output_type": "stream",
     "text": [
      "Epoch 14/100: 100%|██████████| 117/117 [00:17<00:00,  6.67it/s, loss=0.0148]\n"
     ]
    },
    {
     "name": "stdout",
     "output_type": "stream",
     "text": [
      "Val Loss: 0.1297, Map:0.9781, Macro P: 0.9096, R: 0.9547, F1: 0.9301\n",
      "Per-class F1:\n",
      "  bird: P=0.921, R=0.951, F1=0.935\n",
      "  cat: P=0.889, R=0.923, F1=0.906\n",
      "  cow: P=0.968, R=0.909, F1=0.938\n",
      "  dog: P=0.959, R=0.922, F1=0.940\n",
      "  elephant: P=0.962, R=0.980, F1=0.971\n",
      "  horse: P=0.789, R=0.952, F1=0.863\n",
      "  lion: P=0.851, R=1.000, F1=0.919\n",
      "  sheep: P=0.939, R=1.000, F1=0.968\n",
      "No improvement. Patience: 3/10\n"
     ]
    },
    {
     "name": "stderr",
     "output_type": "stream",
     "text": [
      "Epoch 15/100: 100%|██████████| 117/117 [00:18<00:00,  6.40it/s, loss=0.0226]\n"
     ]
    },
    {
     "name": "stdout",
     "output_type": "stream",
     "text": [
      "Val Loss: 0.0949, Map:0.9913, Macro P: 0.9479, R: 0.9615, F1: 0.9539\n",
      "Per-class F1:\n",
      "  bird: P=1.000, R=0.934, F1=0.966\n",
      "  cat: P=0.961, R=0.942, F1=0.951\n",
      "  cow: P=1.000, R=0.939, F1=0.969\n",
      "  dog: P=0.925, R=0.961, F1=0.942\n",
      "  elephant: P=0.927, R=1.000, F1=0.962\n",
      "  horse: P=0.894, R=0.937, F1=0.915\n",
      "  lion: P=0.919, R=1.000, F1=0.958\n",
      "  sheep: P=0.957, R=0.978, F1=0.968\n",
      "No improvement. Patience: 4/10\n"
     ]
    },
    {
     "name": "stderr",
     "output_type": "stream",
     "text": [
      "Epoch 16/100: 100%|██████████| 117/117 [00:17<00:00,  6.54it/s, loss=0.0281]\n"
     ]
    },
    {
     "name": "stdout",
     "output_type": "stream",
     "text": [
      "Val Loss: 0.1386, Map:0.9857, Macro P: 0.9105, R: 0.9437, F1: 0.9250\n",
      "Per-class F1:\n",
      "  bird: P=0.968, R=1.000, F1=0.984\n",
      "  cat: P=0.923, R=0.923, F1=0.923\n",
      "  cow: P=0.800, R=0.970, F1=0.877\n",
      "  dog: P=0.877, R=0.980, F1=0.926\n",
      "  elephant: P=0.906, R=0.941, F1=0.923\n",
      "  horse: P=0.952, R=0.937, F1=0.944\n",
      "  lion: P=0.960, R=0.842, F1=0.897\n",
      "  sheep: P=0.898, R=0.957, F1=0.926\n",
      "No improvement. Patience: 5/10\n"
     ]
    },
    {
     "name": "stderr",
     "output_type": "stream",
     "text": [
      "Epoch 17/100: 100%|██████████| 117/117 [00:18<00:00,  6.36it/s, loss=0.0127]\n"
     ]
    },
    {
     "name": "stdout",
     "output_type": "stream",
     "text": [
      "Val Loss: 0.0978, Map:0.9913, Macro P: 0.9494, R: 0.9731, F1: 0.9607\n",
      "Per-class F1:\n",
      "  bird: P=0.983, R=0.934, F1=0.958\n",
      "  cat: P=0.907, R=0.942, F1=0.925\n",
      "  cow: P=0.943, R=1.000, F1=0.971\n",
      "  dog: P=0.962, R=0.980, F1=0.971\n",
      "  elephant: P=0.962, R=1.000, F1=0.981\n",
      "  horse: P=0.899, R=0.984, F1=0.939\n",
      "  lion: P=0.982, R=0.965, F1=0.973\n",
      "  sheep: P=0.957, R=0.978, F1=0.968\n",
      "No improvement. Patience: 6/10\n"
     ]
    },
    {
     "name": "stderr",
     "output_type": "stream",
     "text": [
      "Epoch 18/100: 100%|██████████| 117/117 [00:17<00:00,  6.53it/s, loss=0.0129]\n"
     ]
    },
    {
     "name": "stdout",
     "output_type": "stream",
     "text": [
      "Val Loss: 0.0952, Map:0.9911, Macro P: 0.9509, R: 0.9618, F1: 0.9559\n",
      "Per-class F1:\n",
      "  bird: P=0.983, R=0.967, F1=0.975\n",
      "  cat: P=0.961, R=0.942, F1=0.951\n",
      "  cow: P=1.000, R=0.970, F1=0.985\n",
      "  dog: P=0.942, R=0.961, F1=0.951\n",
      "  elephant: P=0.911, R=1.000, F1=0.953\n",
      "  horse: P=0.910, R=0.968, F1=0.938\n",
      "  lion: P=0.964, R=0.930, F1=0.946\n",
      "  sheep: P=0.936, R=0.957, F1=0.946\n",
      "No improvement. Patience: 7/10\n"
     ]
    },
    {
     "name": "stderr",
     "output_type": "stream",
     "text": [
      "Epoch 19/100: 100%|██████████| 117/117 [00:18<00:00,  6.33it/s, loss=0.00664]\n"
     ]
    },
    {
     "name": "stdout",
     "output_type": "stream",
     "text": [
      "Val Loss: 0.0835, Map:0.992, Macro P: 0.9470, R: 0.9725, F1: 0.9588\n",
      "Per-class F1:\n",
      "  bird: P=0.983, R=0.967, F1=0.975\n",
      "  cat: P=0.961, R=0.942, F1=0.951\n",
      "  cow: P=0.868, R=1.000, F1=0.930\n",
      "  dog: P=0.943, R=0.980, F1=0.962\n",
      "  elephant: P=1.000, R=0.980, F1=0.990\n",
      "  horse: P=0.899, R=0.984, F1=0.939\n",
      "  lion: P=0.964, R=0.947, F1=0.956\n",
      "  sheep: P=0.957, R=0.978, F1=0.968\n",
      "No improvement. Patience: 8/10\n"
     ]
    },
    {
     "name": "stderr",
     "output_type": "stream",
     "text": [
      "Epoch 20/100: 100%|██████████| 117/117 [00:18<00:00,  6.37it/s, loss=0.0121] \n"
     ]
    },
    {
     "name": "stdout",
     "output_type": "stream",
     "text": [
      "Val Loss: 0.0691, Map:0.9949, Macro P: 0.9577, R: 0.9696, F1: 0.9632\n",
      "Per-class F1:\n",
      "  bird: P=0.967, R=0.967, F1=0.967\n",
      "  cat: P=0.960, R=0.923, F1=0.941\n",
      "  cow: P=0.943, R=1.000, F1=0.971\n",
      "  dog: P=0.961, R=0.961, F1=0.961\n",
      "  elephant: P=1.000, R=0.980, F1=0.990\n",
      "  horse: P=0.900, R=1.000, F1=0.947\n",
      "  lion: P=0.931, R=0.947, F1=0.939\n",
      "  sheep: P=1.000, R=0.978, F1=0.989\n",
      "No improvement. Patience: 9/10\n"
     ]
    },
    {
     "name": "stderr",
     "output_type": "stream",
     "text": [
      "Epoch 21/100: 100%|██████████| 117/117 [00:17<00:00,  6.78it/s, loss=0.00275]\n"
     ]
    },
    {
     "name": "stdout",
     "output_type": "stream",
     "text": [
      "Val Loss: 0.0664, Map:0.9917, Macro P: 0.9689, R: 0.9793, F1: 0.9738\n",
      "Per-class F1:\n",
      "  bird: P=0.967, R=0.967, F1=0.967\n",
      "  cat: P=0.980, R=0.942, F1=0.961\n",
      "  cow: P=0.971, R=1.000, F1=0.985\n",
      "  dog: P=0.962, R=0.980, F1=0.971\n",
      "  elephant: P=1.000, R=1.000, F1=1.000\n",
      "  horse: P=0.969, R=0.984, F1=0.976\n",
      "  lion: P=0.903, R=0.982, F1=0.941\n",
      "  sheep: P=1.000, R=0.978, F1=0.989\n",
      "No improvement. Patience: 10/10\n",
      "Early stopping.\n"
     ]
    }
   ],
   "source": [
    "# Model\n",
    "model = ResNetTransformerClassifier(m_num_classes).to(device)\n",
    "model.load_state_dict(torch.load(\"E:/LSE/ST311/ST311-Group-Project/experiment/aug_restran/resnet_transformer_f1_0.9477.pth\"))\n",
    "criterion = nn.BCEWithLogitsLoss(pos_weight=m_pos_weight)\n",
    "optimizer = torch.optim.Adam(model.parameters(), lr=learning_rate)\n",
    "\n",
    "model_save_dir = Path(\"E:/LSE/ST311/ST311-Group-Project/experiment/mixed_restran\")\n",
    "model_save_dir.mkdir(parents=True, exist_ok=True)\n",
    "best_loss = float('inf')\n",
    "patience_counter = 0\n",
    "\n",
    "train_losses = []\n",
    "val_losses = []\n",
    "f1_scores = []\n",
    "\n",
    "for epoch in range(num_epochs):\n",
    "    model.train()\n",
    "    total_loss = 0\n",
    "    loop = tqdm(train_loader, desc=f\"Epoch {epoch+1}/{num_epochs}\")\n",
    "    for inputs, targets in loop:\n",
    "        inputs, targets = inputs.to(device), targets.to(device)\n",
    "        outputs = model(inputs)\n",
    "        loss = criterion(outputs, targets)\n",
    "        optimizer.zero_grad()\n",
    "        loss.backward()\n",
    "        optimizer.step()\n",
    "        total_loss += loss.item()\n",
    "        loop.set_postfix(loss=total_loss / (loop.n + 1))\n",
    "\n",
    "    model.eval()\n",
    "    all_preds, all_targets = [], []\n",
    "    with torch.no_grad():\n",
    "        for inputs, targets in val_loader:\n",
    "            inputs, targets = inputs.to(device), targets.to(device)\n",
    "            outputs = model(inputs)\n",
    "            all_preds.append(outputs)\n",
    "            all_targets.append(targets)\n",
    "\n",
    "    all_preds = torch.cat(all_preds)\n",
    "    all_targets = torch.cat(all_targets)\n",
    "    val_loss = criterion(all_preds, all_targets).item()\n",
    "    macro_p, macro_r, macro_f1, macro_map, p_class, r_class, f_class = multilabel_metrics(all_preds, all_targets)\n",
    "\n",
    "    print(f\"Val Loss: {val_loss:.4f}, Map:{round(macro_map,4)}, Macro P: {macro_p:.4f}, R: {macro_r:.4f}, F1: {macro_f1:.4f}\")\n",
    "    print(\"Per-class F1:\")\n",
    "    for i, label in index_to_label.items():\n",
    "        print(f\"  {label}: P={p_class[i]:.3f}, R={r_class[i]:.3f}, F1={f_class[i]:.3f}\")\n",
    "        \n",
    "    train_losses.append(total_loss / len(train_loader))\n",
    "    val_losses.append(val_loss)\n",
    "    f1_scores.append(macro_f1)\n",
    "\n",
    "    if val_loss < best_loss:\n",
    "        best_loss = val_loss\n",
    "        patience_counter = 0\n",
    "        torch.save(model.state_dict(), model_save_dir / f\"resnet_tran_f1_{macro_f1:.4f}.pth\")\n",
    "        print(\"Saved best model.\")\n",
    "    else:\n",
    "        patience_counter += 1\n",
    "        print(f\"No improvement. Patience: {patience_counter}/{early_stop_patience}\")\n",
    "\n",
    "    if patience_counter >= early_stop_patience:\n",
    "        print(\"Early stopping.\")\n",
    "        break\n"
   ]
  },
  {
   "cell_type": "code",
   "execution_count": 37,
   "id": "21880426",
   "metadata": {},
   "outputs": [
    {
     "data": {
      "image/png": "[encoded data removed]",
      "text/plain": [
       "<Figure size 1000x500 with 1 Axes>"
      ]
     },
     "metadata": {},
     "output_type": "display_data"
    },
    {
     "data": {
      "image/png": "[encoded data removed]",
      "text/plain": [
       "<Figure size 1000x500 with 1 Axes>"
      ]
     },
     "metadata": {},
     "output_type": "display_data"
    }
   ],
   "source": [
    "\n",
    "plt.figure(figsize=(10, 5))\n",
    "plt.plot(train_losses, label=\"Train Loss\")\n",
    "plt.plot(val_losses, label=\"Val Loss\")\n",
    "plt.xlabel(\"Epoch\")\n",
    "plt.ylabel(\"Loss\")\n",
    "plt.title(\"Loss Curve\")\n",
    "plt.legend()\n",
    "plt.grid()\n",
    "plt.show()\n",
    "\n",
    "plt.figure(figsize=(10, 5))\n",
    "plt.plot(f1_scores, label=\"Val F1\")\n",
    "plt.xlabel(\"Epoch\")\n",
    "plt.ylabel(\"F1 Score\")\n",
    "plt.title(\"Validation F1 Curve\")\n",
    "plt.legend()\n",
    "plt.grid()\n",
    "plt.show()"
   ]
  },
  {
   "cell_type": "markdown",
   "id": "eb824065",
   "metadata": {},
   "source": [
    "#### Performance on Training Set"
   ]
  },
  {
   "cell_type": "code",
   "execution_count": 34,
   "id": "a38da8a2",
   "metadata": {},
   "outputs": [
    {
     "name": "stdout",
     "output_type": "stream",
     "text": [
      "Test Loss: 2.9304, mAP: 0.7967, Macro P: 0.9486, R: 0.5148, F1: 0.6594\n",
      "Per-class F1:\n",
      "  bird: P=1.000, R=0.310, F1=0.473\n",
      "  cat: P=0.946, R=0.394, F1=0.557\n",
      "  cow: P=0.988, R=0.643, F1=0.779\n",
      "  dog: P=0.914, R=0.498, F1=0.644\n",
      "  elephant: P=0.976, R=0.566, F1=0.716\n",
      "  horse: P=0.888, R=0.469, F1=0.614\n",
      "  lion: P=0.937, R=0.604, F1=0.735\n",
      "  sheep: P=0.939, R=0.635, F1=0.758\n",
      "Saved evaluation results to: E:\\LSE\\ST311\\ST311-Group-Project\\experiment\\resnet_tran_f1_0.9580_metrics.csv\n"
     ]
    }
   ],
   "source": [
    "# evaluation\n",
    "model_path = \"E:/LSE/ST311/ST311-Group-Project/experiment/mixed_restran/resnet_tran_f1_0.9580.pth\"\n",
    "model = load_model(model_path, ResNetTransformerClassifier, m_num_classes, device)\n",
    "\n",
    "macro_map, macro_p, macro_r, macro_f1, p_class, r_class, f_class = evaluate_model(model, m_train_loader, m_index_to_label, criterion, device)\n",
    "\n",
    "# save results to CSV\n",
    "save_eval_results_to_csv(\n",
    "    model_path,\n",
    "    macro_map, macro_p, macro_r, macro_f1,\n",
    "    p_class, r_class, f_class,\n",
    "    list(m_label_to_index.keys())\n",
    ")"
   ]
  },
  {
   "cell_type": "code",
   "execution_count": 36,
   "id": "6461b1d4",
   "metadata": {},
   "outputs": [
    {
     "name": "stdout",
     "output_type": "stream",
     "text": [
      "Test Loss: 2.9304, mAP: 0.7967, Macro P: 0.9143, R: 0.5642, F1: 0.6908\n",
      "Per-class F1:\n",
      "  bird: P=0.997, R=0.367, F1=0.536\n",
      "  cat: P=0.900, R=0.445, F1=0.596\n",
      "  cow: P=0.984, R=0.692, F1=0.812\n",
      "  dog: P=0.852, R=0.545, F1=0.665\n",
      "  elephant: P=0.938, R=0.622, F1=0.748\n",
      "  horse: P=0.834, R=0.521, F1=0.641\n",
      "  lion: P=0.904, R=0.653, F1=0.758\n",
      "  sheep: P=0.906, R=0.669, F1=0.770\n",
      "Saved evaluation results to: E:\\LSE\\ST311\\ST311-Group-Project\\experiment\\resnet_tran_f1_0.9580_metrics.csv\n"
     ]
    }
   ],
   "source": [
    "# evaluation\n",
    "model_path = \"E:/LSE/ST311/ST311-Group-Project/experiment/mixed_restran/resnet_tran_f1_0.9580.pth\"\n",
    "model = load_model(model_path, ResNetTransformerClassifier, m_num_classes, device)\n",
    "\n",
    "macro_map, macro_p, macro_r, macro_f1, p_class, r_class, f_class = evaluate_model(model, m_train_loader, m_index_to_label, criterion, device, threshold=0.1)\n",
    "\n",
    "# save results to CSV\n",
    "save_eval_results_to_csv(\n",
    "    model_path,\n",
    "    macro_map, macro_p, macro_r, macro_f1,\n",
    "    p_class, r_class, f_class,\n",
    "    list(m_label_to_index.keys())\n",
    ")"
   ]
  },
  {
   "cell_type": "markdown",
   "id": "e060a69c",
   "metadata": {},
   "source": [
    "# Train on Pure Mixed Audios"
   ]
  },
  {
   "cell_type": "markdown",
   "id": "a1f2f5ef",
   "metadata": {},
   "source": [
    "### ResNetTransform\n",
    "\n",
    "learning_rate = 1e-4, batch_size = 32"
   ]
  },
  {
   "cell_type": "code",
   "execution_count": null,
   "id": "6e9820eb",
   "metadata": {},
   "outputs": [
    {
     "name": "stderr",
     "output_type": "stream",
     "text": [
      "d:\\miniconda\\envs\\st311_final\\lib\\site-packages\\torchvision\\models\\_utils.py:208: UserWarning: The parameter 'pretrained' is deprecated since 0.13 and may be removed in the future, please use 'weights' instead.\n",
      "  warnings.warn(\n",
      "d:\\miniconda\\envs\\st311_final\\lib\\site-packages\\torchvision\\models\\_utils.py:223: UserWarning: Arguments other than a weight enum or `None` for 'weights' are deprecated since 0.13 and may be removed in the future. The current behavior is equivalent to passing `weights=ResNet18_Weights.IMAGENET1K_V1`. You can also use `weights=ResNet18_Weights.DEFAULT` to get the most up-to-date weights.\n",
      "  warnings.warn(msg)\n",
      "Epoch 1/100: 100%|██████████| 117/117 [00:16<00:00,  7.25it/s, loss=0.435]\n"
     ]
    },
    {
     "name": "stdout",
     "output_type": "stream",
     "text": [
      "Val Loss: 0.2071, Map:0.947, Macro P: 0.8129, R: 0.9363, F1: 0.8636\n",
      "Per-class F1:\n",
      "  bird: P=0.905, R=0.934, F1=0.919\n",
      "  cat: P=0.938, R=0.865, F1=0.900\n",
      "  cow: P=0.786, R=1.000, F1=0.880\n",
      "  dog: P=0.889, R=0.941, F1=0.914\n",
      "  elephant: P=0.653, R=0.922, F1=0.764\n",
      "  horse: P=0.875, R=0.889, F1=0.882\n",
      "  lion: P=0.596, R=0.982, F1=0.742\n",
      "  sheep: P=0.863, R=0.957, F1=0.907\n",
      "Saved best model.\n"
     ]
    },
    {
     "name": "stderr",
     "output_type": "stream",
     "text": [
      "Epoch 2/100: 100%|██████████| 117/117 [00:15<00:00,  7.77it/s, loss=0.147]\n"
     ]
    },
    {
     "name": "stdout",
     "output_type": "stream",
     "text": [
      "Val Loss: 0.1307, Map:0.975, Macro P: 0.8834, R: 0.9360, F1: 0.9071\n",
      "Per-class F1:\n",
      "  bird: P=0.967, R=0.951, F1=0.959\n",
      "  cat: P=0.868, R=0.885, F1=0.876\n",
      "  cow: P=0.906, R=0.879, F1=0.892\n",
      "  dog: P=0.959, R=0.922, F1=0.940\n",
      "  elephant: P=0.873, R=0.941, F1=0.906\n",
      "  horse: P=0.753, R=0.968, F1=0.847\n",
      "  lion: P=0.859, R=0.965, F1=0.909\n",
      "  sheep: P=0.882, R=0.978, F1=0.928\n",
      "Saved best model.\n"
     ]
    },
    {
     "name": "stderr",
     "output_type": "stream",
     "text": [
      "Epoch 3/100: 100%|██████████| 117/117 [00:15<00:00,  7.70it/s, loss=0.0913]\n"
     ]
    },
    {
     "name": "stdout",
     "output_type": "stream",
     "text": [
      "Val Loss: 0.1666, Map:0.9547, Macro P: 0.8724, R: 0.9339, F1: 0.8969\n",
      "Per-class F1:\n",
      "  bird: P=1.000, R=0.934, F1=0.966\n",
      "  cat: P=0.939, R=0.885, F1=0.911\n",
      "  cow: P=0.744, R=0.970, F1=0.842\n",
      "  dog: P=0.794, R=0.980, F1=0.877\n",
      "  elephant: P=0.900, R=0.882, F1=0.891\n",
      "  horse: P=0.981, R=0.841, F1=0.906\n",
      "  lion: P=0.803, R=1.000, F1=0.891\n",
      "  sheep: P=0.818, R=0.978, F1=0.891\n",
      "No improvement. Patience: 1/10\n"
     ]
    },
    {
     "name": "stderr",
     "output_type": "stream",
     "text": [
      "Epoch 4/100: 100%|██████████| 117/117 [00:15<00:00,  7.34it/s, loss=0.0675]\n"
     ]
    },
    {
     "name": "stdout",
     "output_type": "stream",
     "text": [
      "Val Loss: 0.1257, Map:0.9754, Macro P: 0.9119, R: 0.9480, F1: 0.9287\n",
      "Per-class F1:\n",
      "  bird: P=0.922, R=0.967, F1=0.944\n",
      "  cat: P=0.902, R=0.885, F1=0.893\n",
      "  cow: P=0.892, R=1.000, F1=0.943\n",
      "  dog: P=0.941, R=0.941, F1=0.941\n",
      "  elephant: P=0.860, R=0.961, F1=0.907\n",
      "  horse: P=0.870, R=0.952, F1=0.909\n",
      "  lion: P=0.932, R=0.965, F1=0.948\n",
      "  sheep: P=0.977, R=0.913, F1=0.944\n",
      "Saved best model.\n"
     ]
    },
    {
     "name": "stderr",
     "output_type": "stream",
     "text": [
      "Epoch 5/100: 100%|██████████| 117/117 [00:15<00:00,  7.39it/s, loss=0.042] \n"
     ]
    },
    {
     "name": "stdout",
     "output_type": "stream",
     "text": [
      "Val Loss: 0.1732, Map:0.9603, Macro P: 0.9018, R: 0.9219, F1: 0.9096\n",
      "Per-class F1:\n",
      "  bird: P=0.894, R=0.967, F1=0.929\n",
      "  cat: P=0.939, R=0.885, F1=0.911\n",
      "  cow: P=0.886, R=0.939, F1=0.912\n",
      "  dog: P=0.845, R=0.961, F1=0.899\n",
      "  elephant: P=0.978, R=0.882, F1=0.928\n",
      "  horse: P=0.848, R=0.889, F1=0.868\n",
      "  lion: P=0.848, R=0.982, F1=0.911\n",
      "  sheep: P=0.976, R=0.870, F1=0.920\n",
      "No improvement. Patience: 1/10\n"
     ]
    },
    {
     "name": "stderr",
     "output_type": "stream",
     "text": [
      "Epoch 6/100: 100%|██████████| 117/117 [00:15<00:00,  7.49it/s, loss=0.0407]\n"
     ]
    },
    {
     "name": "stdout",
     "output_type": "stream",
     "text": [
      "Val Loss: 0.1075, Map:0.9748, Macro P: 0.9257, R: 0.9554, F1: 0.9385\n",
      "Per-class F1:\n",
      "  bird: P=0.968, R=1.000, F1=0.984\n",
      "  cat: P=0.978, R=0.846, F1=0.907\n",
      "  cow: P=0.969, R=0.939, F1=0.954\n",
      "  dog: P=0.961, R=0.961, F1=0.961\n",
      "  elephant: P=0.911, R=1.000, F1=0.953\n",
      "  horse: P=0.868, R=0.937, F1=0.901\n",
      "  lion: P=0.933, R=0.982, F1=0.957\n",
      "  sheep: P=0.818, R=0.978, F1=0.891\n",
      "Saved best model.\n"
     ]
    },
    {
     "name": "stderr",
     "output_type": "stream",
     "text": [
      "Epoch 7/100: 100%|██████████| 117/117 [00:15<00:00,  7.33it/s, loss=0.0377]\n"
     ]
    },
    {
     "name": "stdout",
     "output_type": "stream",
     "text": [
      "Val Loss: 0.1255, Map:0.9775, Macro P: 0.9097, R: 0.9417, F1: 0.9229\n",
      "Per-class F1:\n",
      "  bird: P=0.984, R=1.000, F1=0.992\n",
      "  cat: P=0.887, R=0.904, F1=0.895\n",
      "  cow: P=0.966, R=0.848, F1=0.903\n",
      "  dog: P=0.941, R=0.941, F1=0.941\n",
      "  elephant: P=0.769, R=0.980, F1=0.862\n",
      "  horse: P=0.951, R=0.921, F1=0.935\n",
      "  lion: P=0.966, R=0.982, F1=0.974\n",
      "  sheep: P=0.815, R=0.957, F1=0.880\n",
      "No improvement. Patience: 1/10\n"
     ]
    },
    {
     "name": "stderr",
     "output_type": "stream",
     "text": [
      "Epoch 8/100: 100%|██████████| 117/117 [00:15<00:00,  7.49it/s, loss=0.0401]\n"
     ]
    },
    {
     "name": "stdout",
     "output_type": "stream",
     "text": [
      "Val Loss: 0.1024, Map:0.9779, Macro P: 0.9387, R: 0.9660, F1: 0.9504\n",
      "Per-class F1:\n",
      "  bird: P=1.000, R=0.967, F1=0.983\n",
      "  cat: P=1.000, R=0.885, F1=0.939\n",
      "  cow: P=0.941, R=0.970, F1=0.955\n",
      "  dog: P=0.943, R=0.980, F1=0.962\n",
      "  elephant: P=0.942, R=0.961, F1=0.951\n",
      "  horse: P=0.913, R=1.000, F1=0.955\n",
      "  lion: P=0.948, R=0.965, F1=0.957\n",
      "  sheep: P=0.821, R=1.000, F1=0.902\n",
      "Saved best model.\n"
     ]
    },
    {
     "name": "stderr",
     "output_type": "stream",
     "text": [
      "Epoch 9/100: 100%|██████████| 117/117 [00:17<00:00,  6.88it/s, loss=0.0291]\n"
     ]
    },
    {
     "name": "stdout",
     "output_type": "stream",
     "text": [
      "Val Loss: 0.1177, Map:0.9852, Macro P: 0.9389, R: 0.9530, F1: 0.9448\n",
      "Per-class F1:\n",
      "  bird: P=1.000, R=0.934, F1=0.966\n",
      "  cat: P=0.958, R=0.885, F1=0.920\n",
      "  cow: P=0.941, R=0.970, F1=0.955\n",
      "  dog: P=0.960, R=0.941, F1=0.950\n",
      "  elephant: P=0.961, R=0.961, F1=0.961\n",
      "  horse: P=0.836, R=0.968, F1=0.897\n",
      "  lion: P=0.917, R=0.965, F1=0.940\n",
      "  sheep: P=0.939, R=1.000, F1=0.968\n",
      "No improvement. Patience: 1/10\n"
     ]
    },
    {
     "name": "stderr",
     "output_type": "stream",
     "text": [
      "Epoch 10/100: 100%|██████████| 117/117 [00:17<00:00,  6.66it/s, loss=0.0346]\n"
     ]
    },
    {
     "name": "stdout",
     "output_type": "stream",
     "text": [
      "Val Loss: 0.1116, Map:0.9783, Macro P: 0.9351, R: 0.9637, F1: 0.9479\n",
      "Per-class F1:\n",
      "  bird: P=1.000, R=0.967, F1=0.983\n",
      "  cat: P=0.958, R=0.885, F1=0.920\n",
      "  cow: P=0.970, R=0.970, F1=0.970\n",
      "  dog: P=0.943, R=0.980, F1=0.962\n",
      "  elephant: P=0.961, R=0.961, F1=0.961\n",
      "  horse: P=0.924, R=0.968, F1=0.946\n",
      "  lion: P=0.891, R=1.000, F1=0.942\n",
      "  sheep: P=0.833, R=0.978, F1=0.900\n",
      "No improvement. Patience: 2/10\n"
     ]
    },
    {
     "name": "stderr",
     "output_type": "stream",
     "text": [
      "Epoch 11/100: 100%|██████████| 117/117 [00:16<00:00,  7.07it/s, loss=0.028] \n"
     ]
    },
    {
     "name": "stdout",
     "output_type": "stream",
     "text": [
      "Val Loss: 0.1015, Map:0.9925, Macro P: 0.9243, R: 0.9542, F1: 0.9377\n",
      "Per-class F1:\n",
      "  bird: P=0.951, R=0.951, F1=0.951\n",
      "  cat: P=1.000, R=0.885, F1=0.939\n",
      "  cow: P=1.000, R=0.970, F1=0.985\n",
      "  dog: P=0.909, R=0.980, F1=0.943\n",
      "  elephant: P=0.862, R=0.980, F1=0.917\n",
      "  horse: P=0.897, R=0.968, F1=0.931\n",
      "  lion: P=0.932, R=0.965, F1=0.948\n",
      "  sheep: P=0.843, R=0.935, F1=0.887\n",
      "Saved best model.\n"
     ]
    },
    {
     "name": "stderr",
     "output_type": "stream",
     "text": [
      "Epoch 12/100: 100%|██████████| 117/117 [00:16<00:00,  7.13it/s, loss=0.0119]\n"
     ]
    },
    {
     "name": "stdout",
     "output_type": "stream",
     "text": [
      "Val Loss: 0.1479, Map:0.9639, Macro P: 0.9073, R: 0.9504, F1: 0.9263\n",
      "Per-class F1:\n",
      "  bird: P=0.952, R=0.967, F1=0.959\n",
      "  cat: P=0.958, R=0.885, F1=0.920\n",
      "  cow: P=0.767, R=1.000, F1=0.868\n",
      "  dog: P=0.942, R=0.961, F1=0.951\n",
      "  elephant: P=0.893, R=0.980, F1=0.935\n",
      "  horse: P=0.937, R=0.937, F1=0.937\n",
      "  lion: P=0.918, R=0.982, F1=0.949\n",
      "  sheep: P=0.891, R=0.891, F1=0.891\n",
      "No improvement. Patience: 1/10\n"
     ]
    },
    {
     "name": "stderr",
     "output_type": "stream",
     "text": [
      "Epoch 13/100: 100%|██████████| 117/117 [00:16<00:00,  7.17it/s, loss=0.0297]\n"
     ]
    },
    {
     "name": "stdout",
     "output_type": "stream",
     "text": [
      "Val Loss: 0.1456, Map:0.9707, Macro P: 0.8918, R: 0.9453, F1: 0.9150\n",
      "Per-class F1:\n",
      "  bird: P=0.984, R=0.984, F1=0.984\n",
      "  cat: P=0.939, R=0.885, F1=0.911\n",
      "  cow: P=0.882, R=0.909, F1=0.896\n",
      "  dog: P=0.960, R=0.941, F1=0.950\n",
      "  elephant: P=0.847, R=0.980, F1=0.909\n",
      "  horse: P=0.921, R=0.921, F1=0.921\n",
      "  lion: P=0.887, R=0.965, F1=0.924\n",
      "  sheep: P=0.714, R=0.978, F1=0.826\n",
      "No improvement. Patience: 2/10\n"
     ]
    },
    {
     "name": "stderr",
     "output_type": "stream",
     "text": [
      "Epoch 14/100: 100%|██████████| 117/117 [00:17<00:00,  6.84it/s, loss=0.0218]\n"
     ]
    },
    {
     "name": "stdout",
     "output_type": "stream",
     "text": [
      "Val Loss: 0.1291, Map:0.9657, Macro P: 0.9404, R: 0.9529, F1: 0.9451\n",
      "Per-class F1:\n",
      "  bird: P=0.968, R=0.984, F1=0.976\n",
      "  cat: P=1.000, R=0.923, F1=0.960\n",
      "  cow: P=0.939, R=0.939, F1=0.939\n",
      "  dog: P=0.980, R=0.941, F1=0.960\n",
      "  elephant: P=0.942, R=0.961, F1=0.951\n",
      "  horse: P=0.894, R=0.937, F1=0.915\n",
      "  lion: P=0.800, R=0.982, F1=0.882\n",
      "  sheep: P=1.000, R=0.957, F1=0.978\n",
      "No improvement. Patience: 3/10\n"
     ]
    },
    {
     "name": "stderr",
     "output_type": "stream",
     "text": [
      "Epoch 15/100: 100%|██████████| 117/117 [00:16<00:00,  6.89it/s, loss=0.0353]\n"
     ]
    },
    {
     "name": "stdout",
     "output_type": "stream",
     "text": [
      "Val Loss: 0.1010, Map:0.9793, Macro P: 0.9479, R: 0.9674, F1: 0.9572\n",
      "Per-class F1:\n",
      "  bird: P=0.968, R=0.984, F1=0.976\n",
      "  cat: P=0.961, R=0.942, F1=0.951\n",
      "  cow: P=1.000, R=1.000, F1=1.000\n",
      "  dog: P=0.960, R=0.941, F1=0.950\n",
      "  elephant: P=0.926, R=0.980, F1=0.952\n",
      "  horse: P=0.952, R=0.952, F1=0.952\n",
      "  lion: P=0.918, R=0.982, F1=0.949\n",
      "  sheep: P=0.898, R=0.957, F1=0.926\n",
      "Saved best model.\n"
     ]
    },
    {
     "name": "stderr",
     "output_type": "stream",
     "text": [
      "Epoch 16/100: 100%|██████████| 117/117 [00:18<00:00,  6.46it/s, loss=0.0339]\n"
     ]
    },
    {
     "name": "stdout",
     "output_type": "stream",
     "text": [
      "Val Loss: 0.1515, Map:0.9767, Macro P: 0.9171, R: 0.9333, F1: 0.9229\n",
      "Per-class F1:\n",
      "  bird: P=1.000, R=0.951, F1=0.975\n",
      "  cat: P=0.902, R=0.885, F1=0.893\n",
      "  cow: P=1.000, R=0.818, F1=0.900\n",
      "  dog: P=0.907, R=0.961, F1=0.933\n",
      "  elephant: P=0.907, R=0.961, F1=0.933\n",
      "  horse: P=0.882, R=0.952, F1=0.916\n",
      "  lion: P=0.875, R=0.982, F1=0.926\n",
      "  sheep: P=0.863, R=0.957, F1=0.907\n",
      "No improvement. Patience: 1/10\n"
     ]
    },
    {
     "name": "stderr",
     "output_type": "stream",
     "text": [
      "Epoch 17/100: 100%|██████████| 117/117 [00:18<00:00,  6.46it/s, loss=0.0325]\n"
     ]
    },
    {
     "name": "stdout",
     "output_type": "stream",
     "text": [
      "Val Loss: 0.1185, Map:0.9794, Macro P: 0.9288, R: 0.9649, F1: 0.9456\n",
      "Per-class F1:\n",
      "  bird: P=0.896, R=0.984, F1=0.938\n",
      "  cat: P=0.957, R=0.865, F1=0.909\n",
      "  cow: P=0.971, R=1.000, F1=0.985\n",
      "  dog: P=0.925, R=0.961, F1=0.942\n",
      "  elephant: P=0.943, R=0.980, F1=0.962\n",
      "  horse: P=0.924, R=0.968, F1=0.946\n",
      "  lion: P=0.949, R=0.982, F1=0.966\n",
      "  sheep: P=0.865, R=0.978, F1=0.918\n",
      "No improvement. Patience: 2/10\n"
     ]
    },
    {
     "name": "stderr",
     "output_type": "stream",
     "text": [
      "Epoch 18/100: 100%|██████████| 117/117 [00:18<00:00,  6.46it/s, loss=0.012]  \n"
     ]
    },
    {
     "name": "stdout",
     "output_type": "stream",
     "text": [
      "Val Loss: 0.1136, Map:0.9902, Macro P: 0.9477, R: 0.9589, F1: 0.9521\n",
      "Per-class F1:\n",
      "  bird: P=1.000, R=0.967, F1=0.983\n",
      "  cat: P=0.959, R=0.904, F1=0.931\n",
      "  cow: P=1.000, R=0.909, F1=0.952\n",
      "  dog: P=0.980, R=0.961, F1=0.970\n",
      "  elephant: P=0.962, R=1.000, F1=0.981\n",
      "  horse: P=0.857, R=0.952, F1=0.902\n",
      "  lion: P=0.905, R=1.000, F1=0.950\n",
      "  sheep: P=0.918, R=0.978, F1=0.947\n",
      "No improvement. Patience: 3/10\n"
     ]
    },
    {
     "name": "stderr",
     "output_type": "stream",
     "text": [
      "Epoch 19/100: 100%|██████████| 117/117 [00:17<00:00,  6.75it/s, loss=0.0329]\n"
     ]
    },
    {
     "name": "stdout",
     "output_type": "stream",
     "text": [
      "Val Loss: 0.0938, Map:0.9906, Macro P: 0.9471, R: 0.9562, F1: 0.9510\n",
      "Per-class F1:\n",
      "  bird: P=0.984, R=0.984, F1=0.984\n",
      "  cat: P=0.922, R=0.904, F1=0.913\n",
      "  cow: P=1.000, R=0.939, F1=0.969\n",
      "  dog: P=0.961, R=0.961, F1=0.961\n",
      "  elephant: P=0.962, R=0.980, F1=0.971\n",
      "  horse: P=0.951, R=0.921, F1=0.935\n",
      "  lion: P=0.933, R=0.982, F1=0.957\n",
      "  sheep: P=0.865, R=0.978, F1=0.918\n",
      "Saved best model.\n"
     ]
    },
    {
     "name": "stderr",
     "output_type": "stream",
     "text": [
      "Epoch 20/100: 100%|██████████| 117/117 [00:16<00:00,  6.95it/s, loss=0.00758]\n"
     ]
    },
    {
     "name": "stdout",
     "output_type": "stream",
     "text": [
      "Val Loss: 0.1112, Map:0.9844, Macro P: 0.9385, R: 0.9621, F1: 0.9497\n",
      "Per-class F1:\n",
      "  bird: P=0.953, R=1.000, F1=0.976\n",
      "  cat: P=0.960, R=0.923, F1=0.941\n",
      "  cow: P=0.969, R=0.939, F1=0.954\n",
      "  dog: P=0.941, R=0.941, F1=0.941\n",
      "  elephant: P=0.962, R=0.980, F1=0.971\n",
      "  horse: P=0.882, R=0.952, F1=0.916\n",
      "  lion: P=0.903, R=0.982, F1=0.941\n",
      "  sheep: P=0.938, R=0.978, F1=0.957\n",
      "No improvement. Patience: 1/10\n"
     ]
    },
    {
     "name": "stderr",
     "output_type": "stream",
     "text": [
      "Epoch 21/100: 100%|██████████| 117/117 [00:16<00:00,  7.07it/s, loss=0.00769]\n"
     ]
    },
    {
     "name": "stdout",
     "output_type": "stream",
     "text": [
      "Val Loss: 0.0960, Map:0.9912, Macro P: 0.9525, R: 0.9640, F1: 0.9578\n",
      "Per-class F1:\n",
      "  bird: P=0.984, R=0.984, F1=0.984\n",
      "  cat: P=0.958, R=0.885, F1=0.920\n",
      "  cow: P=0.970, R=0.970, F1=0.970\n",
      "  dog: P=0.961, R=0.961, F1=0.961\n",
      "  elephant: P=0.962, R=1.000, F1=0.981\n",
      "  horse: P=0.882, R=0.952, F1=0.916\n",
      "  lion: P=0.966, R=0.982, F1=0.974\n",
      "  sheep: P=0.938, R=0.978, F1=0.957\n",
      "No improvement. Patience: 2/10\n"
     ]
    },
    {
     "name": "stderr",
     "output_type": "stream",
     "text": [
      "Epoch 22/100: 100%|██████████| 117/117 [00:16<00:00,  6.99it/s, loss=0.00376]\n"
     ]
    },
    {
     "name": "stdout",
     "output_type": "stream",
     "text": [
      "Val Loss: 0.1202, Map:0.9817, Macro P: 0.9537, R: 0.9664, F1: 0.9597\n",
      "Per-class F1:\n",
      "  bird: P=0.984, R=1.000, F1=0.992\n",
      "  cat: P=0.959, R=0.904, F1=0.931\n",
      "  cow: P=1.000, R=0.970, F1=0.985\n",
      "  dog: P=0.961, R=0.961, F1=0.961\n",
      "  elephant: P=0.962, R=1.000, F1=0.981\n",
      "  horse: P=0.908, R=0.937, F1=0.922\n",
      "  lion: P=0.918, R=0.982, F1=0.949\n",
      "  sheep: P=0.938, R=0.978, F1=0.957\n",
      "No improvement. Patience: 3/10\n"
     ]
    },
    {
     "name": "stderr",
     "output_type": "stream",
     "text": [
      "Epoch 23/100: 100%|██████████| 117/117 [00:16<00:00,  7.23it/s, loss=0.00233]\n"
     ]
    },
    {
     "name": "stdout",
     "output_type": "stream",
     "text": [
      "Val Loss: 0.0990, Map:0.9883, Macro P: 0.9621, R: 0.9678, F1: 0.9646\n",
      "Per-class F1:\n",
      "  bird: P=0.984, R=0.984, F1=0.984\n",
      "  cat: P=0.958, R=0.885, F1=0.920\n",
      "  cow: P=1.000, R=1.000, F1=1.000\n",
      "  dog: P=0.942, R=0.961, F1=0.951\n",
      "  elephant: P=0.962, R=1.000, F1=0.981\n",
      "  horse: P=0.923, R=0.952, F1=0.938\n",
      "  lion: P=0.949, R=0.982, F1=0.966\n",
      "  sheep: P=0.978, R=0.978, F1=0.978\n",
      "No improvement. Patience: 4/10\n"
     ]
    },
    {
     "name": "stderr",
     "output_type": "stream",
     "text": [
      "Epoch 24/100: 100%|██████████| 117/117 [00:16<00:00,  7.17it/s, loss=0.0165]\n"
     ]
    },
    {
     "name": "stdout",
     "output_type": "stream",
     "text": [
      "Val Loss: 0.1105, Map:0.9904, Macro P: 0.9420, R: 0.9637, F1: 0.9511\n",
      "Per-class F1:\n",
      "  bird: P=0.968, R=0.984, F1=0.976\n",
      "  cat: P=1.000, R=0.904, F1=0.949\n",
      "  cow: P=1.000, R=0.970, F1=0.985\n",
      "  dog: P=0.979, R=0.902, F1=0.939\n",
      "  elephant: P=0.927, R=1.000, F1=0.962\n",
      "  horse: P=0.824, R=0.968, F1=0.891\n",
      "  lion: P=0.918, R=0.982, F1=0.949\n",
      "  sheep: P=0.920, R=1.000, F1=0.958\n",
      "No improvement. Patience: 5/10\n"
     ]
    },
    {
     "name": "stderr",
     "output_type": "stream",
     "text": [
      "Epoch 25/100: 100%|██████████| 117/117 [00:15<00:00,  7.33it/s, loss=0.0197]\n"
     ]
    },
    {
     "name": "stdout",
     "output_type": "stream",
     "text": [
      "Val Loss: 0.1369, Map:0.9793, Macro P: 0.9284, R: 0.9585, F1: 0.9426\n",
      "Per-class F1:\n",
      "  bird: P=0.983, R=0.967, F1=0.975\n",
      "  cat: P=0.922, R=0.904, F1=0.913\n",
      "  cow: P=0.971, R=1.000, F1=0.985\n",
      "  dog: P=0.891, R=0.961, F1=0.925\n",
      "  elephant: P=0.961, R=0.961, F1=0.961\n",
      "  horse: P=0.937, R=0.937, F1=0.937\n",
      "  lion: P=0.933, R=0.982, F1=0.957\n",
      "  sheep: P=0.830, R=0.957, F1=0.889\n",
      "No improvement. Patience: 6/10\n"
     ]
    },
    {
     "name": "stderr",
     "output_type": "stream",
     "text": [
      "Epoch 26/100: 100%|██████████| 117/117 [00:15<00:00,  7.42it/s, loss=0.0133] \n"
     ]
    },
    {
     "name": "stdout",
     "output_type": "stream",
     "text": [
      "Val Loss: 0.1338, Map:0.977, Macro P: 0.9306, R: 0.9572, F1: 0.9426\n",
      "Per-class F1:\n",
      "  bird: P=0.983, R=0.967, F1=0.975\n",
      "  cat: P=0.958, R=0.885, F1=0.920\n",
      "  cow: P=0.935, R=0.879, F1=0.906\n",
      "  dog: P=0.925, R=0.961, F1=0.942\n",
      "  elephant: P=0.944, R=1.000, F1=0.971\n",
      "  horse: P=0.899, R=0.984, F1=0.939\n",
      "  lion: P=0.862, R=0.982, F1=0.918\n",
      "  sheep: P=0.939, R=1.000, F1=0.968\n",
      "No improvement. Patience: 7/10\n"
     ]
    },
    {
     "name": "stderr",
     "output_type": "stream",
     "text": [
      "Epoch 27/100: 100%|██████████| 117/117 [00:16<00:00,  7.15it/s, loss=0.0354]\n"
     ]
    },
    {
     "name": "stdout",
     "output_type": "stream",
     "text": [
      "Val Loss: 0.1626, Map:0.9764, Macro P: 0.9398, R: 0.9541, F1: 0.9453\n",
      "Per-class F1:\n",
      "  bird: P=1.000, R=0.951, F1=0.975\n",
      "  cat: P=0.978, R=0.846, F1=0.907\n",
      "  cow: P=0.941, R=0.970, F1=0.955\n",
      "  dog: P=0.909, R=0.980, F1=0.943\n",
      "  elephant: P=0.981, R=1.000, F1=0.990\n",
      "  horse: P=0.836, R=0.968, F1=0.897\n",
      "  lion: P=0.918, R=0.982, F1=0.949\n",
      "  sheep: P=0.956, R=0.935, F1=0.945\n",
      "No improvement. Patience: 8/10\n"
     ]
    },
    {
     "name": "stderr",
     "output_type": "stream",
     "text": [
      "Epoch 28/100: 100%|██████████| 117/117 [00:16<00:00,  7.22it/s, loss=0.0105]\n"
     ]
    },
    {
     "name": "stdout",
     "output_type": "stream",
     "text": [
      "Val Loss: 0.1212, Map:0.9828, Macro P: 0.9534, R: 0.9612, F1: 0.9564\n",
      "Per-class F1:\n",
      "  bird: P=0.983, R=0.967, F1=0.975\n",
      "  cat: P=0.957, R=0.865, F1=0.909\n",
      "  cow: P=1.000, R=0.970, F1=0.985\n",
      "  dog: P=0.926, R=0.980, F1=0.952\n",
      "  elephant: P=0.927, R=1.000, F1=0.962\n",
      "  horse: P=0.884, R=0.968, F1=0.924\n",
      "  lion: P=0.949, R=0.982, F1=0.966\n",
      "  sheep: P=1.000, R=0.957, F1=0.978\n",
      "No improvement. Patience: 9/10\n"
     ]
    },
    {
     "name": "stderr",
     "output_type": "stream",
     "text": [
      "Epoch 29/100: 100%|██████████| 117/117 [00:16<00:00,  7.28it/s, loss=0.0166]\n"
     ]
    },
    {
     "name": "stdout",
     "output_type": "stream",
     "text": [
      "Val Loss: 0.1186, Map:0.9858, Macro P: 0.9425, R: 0.9600, F1: 0.9491\n",
      "Per-class F1:\n",
      "  bird: P=0.984, R=0.984, F1=0.984\n",
      "  cat: P=1.000, R=0.904, F1=0.949\n",
      "  cow: P=1.000, R=0.970, F1=0.985\n",
      "  dog: P=0.960, R=0.941, F1=0.950\n",
      "  elephant: P=0.911, R=1.000, F1=0.953\n",
      "  horse: P=0.951, R=0.921, F1=0.935\n",
      "  lion: P=0.778, R=0.982, F1=0.868\n",
      "  sheep: P=0.957, R=0.978, F1=0.968\n",
      "No improvement. Patience: 10/10\n",
      "Early stopping.\n"
     ]
    }
   ],
   "source": [
    "# Model\n",
    "learning_rate = 1e-4\n",
    "early_stop_patience = 10\n",
    "\n",
    "model = ResNetClassifier(m_num_classes).to(device)\n",
    "criterion = nn.BCEWithLogitsLoss(pos_weight=m_pos_weight)\n",
    "optimizer = torch.optim.Adam(model.parameters(), lr=learning_rate)\n",
    "\n",
    "model_save_dir = Path(\"E:/LSE/ST311/ST311-Group-Project/experiment/pure_mixed_restran\")\n",
    "model_save_dir.mkdir(parents=True, exist_ok=True)\n",
    "best_loss = float('inf')\n",
    "patience_counter = 0\n",
    "\n",
    "train_losses = []\n",
    "val_losses = []\n",
    "f1_scores = []\n",
    "\n",
    "for epoch in range(num_epochs):\n",
    "    model.train()\n",
    "    total_loss = 0\n",
    "    loop = tqdm(train_loader, desc=f\"Epoch {epoch+1}/{num_epochs}\")\n",
    "    for inputs, targets in loop:\n",
    "        inputs, targets = inputs.to(device), targets.to(device)\n",
    "        outputs = model(inputs)\n",
    "        loss = criterion(outputs, targets)\n",
    "        optimizer.zero_grad()\n",
    "        loss.backward()\n",
    "        optimizer.step()\n",
    "        total_loss += loss.item()\n",
    "        loop.set_postfix(loss=total_loss / (loop.n + 1))\n",
    "\n",
    "    model.eval()\n",
    "    all_preds, all_targets = [], []\n",
    "    with torch.no_grad():\n",
    "        for inputs, targets in val_loader:\n",
    "            inputs, targets = inputs.to(device), targets.to(device)\n",
    "            outputs = model(inputs)\n",
    "            all_preds.append(outputs)\n",
    "            all_targets.append(targets)\n",
    "\n",
    "    all_preds = torch.cat(all_preds)\n",
    "    all_targets = torch.cat(all_targets)\n",
    "    val_loss = criterion(all_preds, all_targets).item()\n",
    "    macro_p, macro_r, macro_f1, macro_map, p_class, r_class, f_class = multilabel_metrics(all_preds, all_targets)\n",
    "\n",
    "    print(f\"Val Loss: {val_loss:.4f}, Map:{round(macro_map,4)}, Macro P: {macro_p:.4f}, R: {macro_r:.4f}, F1: {macro_f1:.4f}\")\n",
    "    print(\"Per-class F1:\")\n",
    "    for i, label in index_to_label.items():\n",
    "        print(f\"  {label}: P={p_class[i]:.3f}, R={r_class[i]:.3f}, F1={f_class[i]:.3f}\")\n",
    "        \n",
    "    train_losses.append(total_loss / len(train_loader))\n",
    "    val_losses.append(val_loss)\n",
    "    f1_scores.append(macro_f1)\n",
    "\n",
    "    if val_loss < best_loss:\n",
    "        best_loss = val_loss\n",
    "        patience_counter = 0\n",
    "        torch.save(model.state_dict(), model_save_dir / f\"res_f1_{macro_f1:.4f}.pth\")\n",
    "        print(\"Saved best model.\")\n",
    "    else:\n",
    "        patience_counter += 1\n",
    "        print(f\"No improvement. Patience: {patience_counter}/{early_stop_patience}\")\n",
    "\n",
    "    if patience_counter >= early_stop_patience:\n",
    "        print(\"Early stopping.\")\n",
    "        break"
   ]
  },
  {
   "cell_type": "code",
   "execution_count": null,
   "id": "9b08cf3e",
   "metadata": {},
   "outputs": [
    {
     "data": {
      "image/png": "[encoded data removed]",
      "text/plain": [
       "<Figure size 1000x500 with 1 Axes>"
      ]
     },
     "metadata": {},
     "output_type": "display_data"
    },
    {
     "data": {
      "image/png": "[encoded data removed]",
      "text/plain": [
       "<Figure size 1000x500 with 1 Axes>"
      ]
     },
     "metadata": {},
     "output_type": "display_data"
    }
   ],
   "source": [
    "plt.figure(figsize=(10, 5))\n",
    "plt.plot(train_losses, label=\"Train Loss\")\n",
    "plt.plot(val_losses, label=\"Val Loss\")\n",
    "plt.xlabel(\"Epoch\")\n",
    "plt.ylabel(\"Loss\")\n",
    "plt.title(\"Loss Curve\")\n",
    "plt.legend()\n",
    "plt.grid()\n",
    "plt.show()\n",
    "\n",
    "plt.figure(figsize=(10, 5))\n",
    "plt.plot(f1_scores, label=\"Val F1\")\n",
    "plt.xlabel(\"Epoch\")\n",
    "plt.ylabel(\"F1 Score\")\n",
    "plt.title(\"Validation F1 Curve\")\n",
    "plt.legend()\n",
    "plt.grid()\n",
    "plt.show()"
   ]
  },
  {
   "cell_type": "markdown",
   "id": "36f1d432",
   "metadata": {},
   "source": [
    "#### Performance on Training Set"
   ]
  },
  {
   "cell_type": "code",
   "execution_count": null,
   "id": "fc0d41b2",
   "metadata": {},
   "outputs": [
    {
     "name": "stderr",
     "output_type": "stream",
     "text": [
      "d:\\miniconda\\envs\\st311_final\\lib\\site-packages\\torchvision\\models\\_utils.py:208: UserWarning: The parameter 'pretrained' is deprecated since 0.13 and may be removed in the future, please use 'weights' instead.\n",
      "  warnings.warn(\n",
      "d:\\miniconda\\envs\\st311_final\\lib\\site-packages\\torchvision\\models\\_utils.py:223: UserWarning: Arguments other than a weight enum or `None` for 'weights' are deprecated since 0.13 and may be removed in the future. The current behavior is equivalent to passing `weights=ResNet18_Weights.IMAGENET1K_V1`. You can also use `weights=ResNet18_Weights.DEFAULT` to get the most up-to-date weights.\n",
      "  warnings.warn(msg)\n"
     ]
    },
    {
     "name": "stdout",
     "output_type": "stream",
     "text": [
      "Test Loss: 2.7912, mAP: 0.7921, Macro P: 0.9508, R: 0.5138, F1: 0.6541\n",
      "Per-class F1:\n",
      "  bird: P=0.986, R=0.460, F1=0.627\n",
      "  cat: P=0.942, R=0.387, F1=0.548\n",
      "  cow: P=0.960, R=0.741, F1=0.837\n",
      "  dog: P=0.977, R=0.268, F1=0.421\n",
      "  elephant: P=0.937, R=0.597, F1=0.730\n",
      "  horse: P=0.908, R=0.432, F1=0.586\n",
      "  lion: P=0.958, R=0.561, F1=0.708\n",
      "  sheep: P=0.938, R=0.663, F1=0.777\n",
      "Saved evaluation results to: E:\\LSE\\ST311\\ST311-Group-Project\\experiment\\restran_3e_5_lr_f1_0.9572_metrics.csv\n"
     ]
    }
   ],
   "source": [
    "# ResNetTransform evaluation\n",
    "model_path = \"E:/LSE/ST311/ST311-Group-Project/experiment/pure_mixed_restran/restran_f1_0.9572.pth\"\n",
    "model = load_model(model_path, ResNetTransformerClassifier, m_num_classes, device)\n",
    "\n",
    "macro_map, macro_p, macro_r, macro_f1, p_class, r_class, f_class = evaluate_model(model, m_train_loader, m_index_to_label, criterion, device)\n",
    "\n",
    "# save results to CSV\n",
    "save_eval_results_to_csv(\n",
    "    model_path,\n",
    "    macro_map, macro_p, macro_r, macro_f1,\n",
    "    p_class, r_class, f_class,\n",
    "    list(m_label_to_index.keys())\n",
    ")"
   ]
  },
  {
   "cell_type": "code",
   "execution_count": 40,
   "id": "b7ff17ac",
   "metadata": {},
   "outputs": [
    {
     "name": "stdout",
     "output_type": "stream",
     "text": [
      "Test Loss: 2.7969, mAP: 0.7913, Macro P: 0.9079, R: 0.5598, F1: 0.6813\n",
      "Per-class F1:\n",
      "  bird: P=0.967, R=0.496, F1=0.656\n",
      "  cat: P=0.895, R=0.445, F1=0.595\n",
      "  cow: P=0.938, R=0.772, F1=0.847\n",
      "  dog: P=0.944, R=0.320, F1=0.478\n",
      "  elephant: P=0.866, R=0.651, F1=0.743\n",
      "  horse: P=0.825, R=0.477, F1=0.605\n",
      "  lion: P=0.941, R=0.611, F1=0.741\n",
      "  sheep: P=0.887, R=0.706, F1=0.786\n",
      "Saved evaluation results to: E:\\LSE\\ST311\\ST311-Group-Project\\experiment\\restran_3e_5_lr_f1_0.9572_metrics.csv\n"
     ]
    }
   ],
   "source": [
    "# ResNetTransform evaluation\n",
    "model_path = \"E:/LSE/ST311/ST311-Group-Project/experiment/pure_mixed_restran/restran_f1_0.9572.pth\"\n",
    "model = load_model(model_path, ResNetTransformerClassifier, m_num_classes, device)\n",
    "\n",
    "macro_map, macro_p, macro_r, macro_f1, p_class, r_class, f_class = evaluate_model(model, m_train_loader, m_index_to_label, criterion, device, threshold=0.1)\n",
    "\n",
    "# save results to CSV\n",
    "save_eval_results_to_csv(\n",
    "    model_path,\n",
    "    macro_map, macro_p, macro_r, macro_f1,\n",
    "    p_class, r_class, f_class,\n",
    "    list(m_label_to_index.keys())\n",
    ")"
   ]
  },
  {
   "cell_type": "markdown",
   "id": "58cdb92d",
   "metadata": {},
   "source": [
    "### ResNet\n",
    "\n",
    "learning_rate = 1e-4, batch_size = 32"
   ]
  },
  {
   "cell_type": "code",
   "execution_count": 41,
   "id": "57650edd",
   "metadata": {},
   "outputs": [
    {
     "name": "stderr",
     "output_type": "stream",
     "text": [
      "d:\\miniconda\\envs\\st311_final\\lib\\site-packages\\torchvision\\models\\_utils.py:208: UserWarning: The parameter 'pretrained' is deprecated since 0.13 and may be removed in the future, please use 'weights' instead.\n",
      "  warnings.warn(\n",
      "d:\\miniconda\\envs\\st311_final\\lib\\site-packages\\torchvision\\models\\_utils.py:223: UserWarning: Arguments other than a weight enum or `None` for 'weights' are deprecated since 0.13 and may be removed in the future. The current behavior is equivalent to passing `weights=ResNet18_Weights.IMAGENET1K_V1`. You can also use `weights=ResNet18_Weights.DEFAULT` to get the most up-to-date weights.\n",
      "  warnings.warn(msg)\n",
      "Epoch 1/100: 100%|██████████| 117/117 [00:12<00:00,  9.64it/s, loss=0.45] \n"
     ]
    },
    {
     "name": "stdout",
     "output_type": "stream",
     "text": [
      "Val Loss: 0.1766, Map:0.9635, Macro P: 0.8309, R: 0.9202, F1: 0.8699\n",
      "Per-class F1:\n",
      "  bird: P=0.909, R=0.984, F1=0.945\n",
      "  cat: P=0.915, R=0.827, F1=0.869\n",
      "  cow: P=0.681, R=0.970, F1=0.800\n",
      "  dog: P=0.902, R=0.902, F1=0.902\n",
      "  elephant: P=0.721, R=0.863, F1=0.786\n",
      "  horse: P=0.800, R=0.952, F1=0.870\n",
      "  lion: P=0.841, R=0.930, F1=0.883\n",
      "  sheep: P=0.878, R=0.935, F1=0.905\n",
      "Saved best model.\n"
     ]
    },
    {
     "name": "stderr",
     "output_type": "stream",
     "text": [
      "Epoch 2/100: 100%|██████████| 117/117 [00:12<00:00,  9.63it/s, loss=0.134]\n"
     ]
    },
    {
     "name": "stdout",
     "output_type": "stream",
     "text": [
      "Val Loss: 0.1234, Map:0.9771, Macro P: 0.8855, R: 0.9460, F1: 0.9123\n",
      "Per-class F1:\n",
      "  bird: P=0.952, R=0.967, F1=0.959\n",
      "  cat: P=0.906, R=0.923, F1=0.914\n",
      "  cow: P=0.939, R=0.939, F1=0.939\n",
      "  dog: P=0.938, R=0.882, F1=0.909\n",
      "  elephant: P=0.721, R=0.961, F1=0.824\n",
      "  horse: P=0.909, R=0.952, F1=0.930\n",
      "  lion: P=0.917, R=0.965, F1=0.940\n",
      "  sheep: P=0.804, R=0.978, F1=0.882\n",
      "Saved best model.\n"
     ]
    },
    {
     "name": "stderr",
     "output_type": "stream",
     "text": [
      "Epoch 3/100: 100%|██████████| 117/117 [00:12<00:00,  9.63it/s, loss=0.0677]\n"
     ]
    },
    {
     "name": "stdout",
     "output_type": "stream",
     "text": [
      "Val Loss: 0.0979, Map:0.9847, Macro P: 0.9044, R: 0.9515, F1: 0.9251\n",
      "Per-class F1:\n",
      "  bird: P=0.983, R=0.967, F1=0.975\n",
      "  cat: P=0.977, R=0.827, F1=0.896\n",
      "  cow: P=0.800, R=0.970, F1=0.877\n",
      "  dog: P=0.943, R=0.980, F1=0.962\n",
      "  elephant: P=0.875, R=0.961, F1=0.916\n",
      "  horse: P=0.897, R=0.968, F1=0.931\n",
      "  lion: P=0.862, R=0.982, F1=0.918\n",
      "  sheep: P=0.898, R=0.957, F1=0.926\n",
      "Saved best model.\n"
     ]
    },
    {
     "name": "stderr",
     "output_type": "stream",
     "text": [
      "Epoch 4/100: 100%|██████████| 117/117 [00:12<00:00,  9.29it/s, loss=0.0307]\n"
     ]
    },
    {
     "name": "stdout",
     "output_type": "stream",
     "text": [
      "Val Loss: 0.0979, Map:0.9871, Macro P: 0.9147, R: 0.9495, F1: 0.9302\n",
      "Per-class F1:\n",
      "  bird: P=0.952, R=0.984, F1=0.968\n",
      "  cat: P=0.922, R=0.904, F1=0.913\n",
      "  cow: P=0.939, R=0.939, F1=0.939\n",
      "  dog: P=0.960, R=0.941, F1=0.950\n",
      "  elephant: P=0.907, R=0.961, F1=0.933\n",
      "  horse: P=0.966, R=0.889, F1=0.926\n",
      "  lion: P=0.838, R=1.000, F1=0.912\n",
      "  sheep: P=0.833, R=0.978, F1=0.900\n",
      "Saved best model.\n"
     ]
    },
    {
     "name": "stderr",
     "output_type": "stream",
     "text": [
      "Epoch 5/100: 100%|██████████| 117/117 [00:12<00:00,  9.50it/s, loss=0.0255]\n"
     ]
    },
    {
     "name": "stdout",
     "output_type": "stream",
     "text": [
      "Val Loss: 0.0702, Map:0.9922, Macro P: 0.9324, R: 0.9671, F1: 0.9488\n",
      "Per-class F1:\n",
      "  bird: P=0.923, R=0.984, F1=0.952\n",
      "  cat: P=0.898, R=0.846, F1=0.871\n",
      "  cow: P=0.971, R=1.000, F1=0.985\n",
      "  dog: P=0.980, R=0.961, F1=0.970\n",
      "  elephant: P=0.962, R=1.000, F1=0.981\n",
      "  horse: P=0.938, R=0.968, F1=0.953\n",
      "  lion: P=0.905, R=1.000, F1=0.950\n",
      "  sheep: P=0.882, R=0.978, F1=0.928\n",
      "Saved best model.\n"
     ]
    },
    {
     "name": "stderr",
     "output_type": "stream",
     "text": [
      "Epoch 6/100: 100%|██████████| 117/117 [00:12<00:00,  9.28it/s, loss=0.0304]\n"
     ]
    },
    {
     "name": "stdout",
     "output_type": "stream",
     "text": [
      "Val Loss: 0.0754, Map:0.9923, Macro P: 0.9228, R: 0.9566, F1: 0.9383\n",
      "Per-class F1:\n",
      "  bird: P=1.000, R=0.951, F1=0.975\n",
      "  cat: P=0.922, R=0.904, F1=0.913\n",
      "  cow: P=0.842, R=0.970, F1=0.901\n",
      "  dog: P=0.925, R=0.961, F1=0.942\n",
      "  elephant: P=0.926, R=0.980, F1=0.952\n",
      "  horse: P=0.950, R=0.905, F1=0.927\n",
      "  lion: P=0.933, R=0.982, F1=0.957\n",
      "  sheep: P=0.885, R=1.000, F1=0.939\n",
      "No improvement. Patience: 1/10\n"
     ]
    },
    {
     "name": "stderr",
     "output_type": "stream",
     "text": [
      "Epoch 7/100: 100%|██████████| 117/117 [00:12<00:00,  9.23it/s, loss=0.0117]\n"
     ]
    },
    {
     "name": "stdout",
     "output_type": "stream",
     "text": [
      "Val Loss: 0.0655, Map:0.9941, Macro P: 0.9589, R: 0.9751, F1: 0.9667\n",
      "Per-class F1:\n",
      "  bird: P=1.000, R=1.000, F1=1.000\n",
      "  cat: P=0.922, R=0.904, F1=0.913\n",
      "  cow: P=1.000, R=1.000, F1=1.000\n",
      "  dog: P=0.961, R=0.961, F1=0.961\n",
      "  elephant: P=0.944, R=1.000, F1=0.971\n",
      "  horse: P=0.952, R=0.937, F1=0.944\n",
      "  lion: P=0.934, R=1.000, F1=0.966\n",
      "  sheep: P=0.958, R=1.000, F1=0.979\n",
      "Saved best model.\n"
     ]
    },
    {
     "name": "stderr",
     "output_type": "stream",
     "text": [
      "Epoch 8/100: 100%|██████████| 117/117 [00:12<00:00,  9.23it/s, loss=0.0115]\n"
     ]
    },
    {
     "name": "stdout",
     "output_type": "stream",
     "text": [
      "Val Loss: 0.0819, Map:0.9919, Macro P: 0.9441, R: 0.9621, F1: 0.9522\n",
      "Per-class F1:\n",
      "  bird: P=1.000, R=0.984, F1=0.992\n",
      "  cat: P=0.922, R=0.904, F1=0.913\n",
      "  cow: P=0.969, R=0.939, F1=0.954\n",
      "  dog: P=0.962, R=0.980, F1=0.971\n",
      "  elephant: P=0.962, R=0.980, F1=0.971\n",
      "  horse: P=0.952, R=0.952, F1=0.952\n",
      "  lion: P=0.851, R=1.000, F1=0.919\n",
      "  sheep: P=0.936, R=0.957, F1=0.946\n",
      "No improvement. Patience: 1/10\n"
     ]
    },
    {
     "name": "stderr",
     "output_type": "stream",
     "text": [
      "Epoch 9/100: 100%|██████████| 117/117 [00:13<00:00,  8.66it/s, loss=0.0211]\n"
     ]
    },
    {
     "name": "stdout",
     "output_type": "stream",
     "text": [
      "Val Loss: 0.1084, Map:0.9826, Macro P: 0.9333, R: 0.9597, F1: 0.9450\n",
      "Per-class F1:\n",
      "  bird: P=0.968, R=1.000, F1=0.984\n",
      "  cat: P=0.957, R=0.865, F1=0.909\n",
      "  cow: P=0.970, R=0.970, F1=0.970\n",
      "  dog: P=0.942, R=0.961, F1=0.951\n",
      "  elephant: P=0.806, R=0.980, F1=0.885\n",
      "  horse: P=0.952, R=0.937, F1=0.944\n",
      "  lion: P=0.932, R=0.965, F1=0.948\n",
      "  sheep: P=0.939, R=1.000, F1=0.968\n",
      "No improvement. Patience: 2/10\n"
     ]
    },
    {
     "name": "stderr",
     "output_type": "stream",
     "text": [
      "Epoch 10/100: 100%|██████████| 117/117 [00:13<00:00,  8.95it/s, loss=0.00799]\n"
     ]
    },
    {
     "name": "stdout",
     "output_type": "stream",
     "text": [
      "Val Loss: 0.0859, Map:0.9914, Macro P: 0.9426, R: 0.9577, F1: 0.9491\n",
      "Per-class F1:\n",
      "  bird: P=0.968, R=1.000, F1=0.984\n",
      "  cat: P=0.958, R=0.885, F1=0.920\n",
      "  cow: P=1.000, R=0.970, F1=0.985\n",
      "  dog: P=0.925, R=0.961, F1=0.942\n",
      "  elephant: P=0.833, R=0.980, F1=0.901\n",
      "  horse: P=0.952, R=0.937, F1=0.944\n",
      "  lion: P=0.946, R=0.930, F1=0.938\n",
      "  sheep: P=0.958, R=1.000, F1=0.979\n",
      "No improvement. Patience: 3/10\n"
     ]
    },
    {
     "name": "stderr",
     "output_type": "stream",
     "text": [
      "Epoch 11/100: 100%|██████████| 117/117 [00:13<00:00,  8.73it/s, loss=0.0183] \n"
     ]
    },
    {
     "name": "stdout",
     "output_type": "stream",
     "text": [
      "Val Loss: 0.0683, Map:0.9931, Macro P: 0.9498, R: 0.9745, F1: 0.9614\n",
      "Per-class F1:\n",
      "  bird: P=0.968, R=1.000, F1=0.984\n",
      "  cat: P=0.959, R=0.904, F1=0.931\n",
      "  cow: P=0.971, R=1.000, F1=0.985\n",
      "  dog: P=0.980, R=0.961, F1=0.970\n",
      "  elephant: P=0.962, R=0.980, F1=0.971\n",
      "  horse: P=0.938, R=0.968, F1=0.953\n",
      "  lion: P=0.918, R=0.982, F1=0.949\n",
      "  sheep: P=0.902, R=1.000, F1=0.948\n",
      "No improvement. Patience: 4/10\n"
     ]
    },
    {
     "name": "stderr",
     "output_type": "stream",
     "text": [
      "Epoch 12/100: 100%|██████████| 117/117 [00:13<00:00,  8.64it/s, loss=0.0369]\n"
     ]
    },
    {
     "name": "stdout",
     "output_type": "stream",
     "text": [
      "Val Loss: 0.0809, Map:0.9875, Macro P: 0.9407, R: 0.9664, F1: 0.9531\n",
      "Per-class F1:\n",
      "  bird: P=0.924, R=1.000, F1=0.961\n",
      "  cat: P=0.904, R=0.904, F1=0.904\n",
      "  cow: P=0.912, R=0.939, F1=0.925\n",
      "  dog: P=0.980, R=0.961, F1=0.970\n",
      "  elephant: P=0.980, R=0.980, F1=0.980\n",
      "  horse: P=0.897, R=0.968, F1=0.931\n",
      "  lion: P=0.950, R=1.000, F1=0.974\n",
      "  sheep: P=0.978, R=0.978, F1=0.978\n",
      "No improvement. Patience: 5/10\n"
     ]
    },
    {
     "name": "stderr",
     "output_type": "stream",
     "text": [
      "Epoch 13/100: 100%|██████████| 117/117 [00:13<00:00,  8.88it/s, loss=0.0107]\n"
     ]
    },
    {
     "name": "stdout",
     "output_type": "stream",
     "text": [
      "Val Loss: 0.0818, Map:0.9912, Macro P: 0.9436, R: 0.9689, F1: 0.9558\n",
      "Per-class F1:\n",
      "  bird: P=0.967, R=0.967, F1=0.967\n",
      "  cat: P=0.925, R=0.942, F1=0.933\n",
      "  cow: P=0.941, R=0.970, F1=0.955\n",
      "  dog: P=0.877, R=0.980, F1=0.926\n",
      "  elephant: P=0.942, R=0.961, F1=0.951\n",
      "  horse: P=0.952, R=0.952, F1=0.952\n",
      "  lion: P=0.966, R=1.000, F1=0.983\n",
      "  sheep: P=0.978, R=0.978, F1=0.978\n",
      "No improvement. Patience: 6/10\n"
     ]
    },
    {
     "name": "stderr",
     "output_type": "stream",
     "text": [
      "Epoch 14/100: 100%|██████████| 117/117 [00:14<00:00,  8.19it/s, loss=0.00724]\n"
     ]
    },
    {
     "name": "stdout",
     "output_type": "stream",
     "text": [
      "Val Loss: 0.0670, Map:0.9929, Macro P: 0.9633, R: 0.9771, F1: 0.9696\n",
      "Per-class F1:\n",
      "  bird: P=1.000, R=0.984, F1=0.992\n",
      "  cat: P=0.979, R=0.885, F1=0.929\n",
      "  cow: P=0.943, R=1.000, F1=0.971\n",
      "  dog: P=0.943, R=0.980, F1=0.962\n",
      "  elephant: P=0.944, R=1.000, F1=0.971\n",
      "  horse: P=0.968, R=0.968, F1=0.968\n",
      "  lion: P=0.950, R=1.000, F1=0.974\n",
      "  sheep: P=0.979, R=1.000, F1=0.989\n",
      "No improvement. Patience: 7/10\n"
     ]
    },
    {
     "name": "stderr",
     "output_type": "stream",
     "text": [
      "Epoch 15/100: 100%|██████████| 117/117 [00:13<00:00,  8.84it/s, loss=0.00711]\n"
     ]
    },
    {
     "name": "stdout",
     "output_type": "stream",
     "text": [
      "Val Loss: 0.0781, Map:0.9939, Macro P: 0.9564, R: 0.9636, F1: 0.9594\n",
      "Per-class F1:\n",
      "  bird: P=1.000, R=0.967, F1=0.983\n",
      "  cat: P=0.959, R=0.904, F1=0.931\n",
      "  cow: P=1.000, R=0.970, F1=0.985\n",
      "  dog: P=0.942, R=0.961, F1=0.951\n",
      "  elephant: P=0.944, R=1.000, F1=0.971\n",
      "  horse: P=0.938, R=0.968, F1=0.953\n",
      "  lion: P=0.889, R=0.982, F1=0.933\n",
      "  sheep: P=0.978, R=0.957, F1=0.967\n",
      "No improvement. Patience: 8/10\n"
     ]
    },
    {
     "name": "stderr",
     "output_type": "stream",
     "text": [
      "Epoch 16/100: 100%|██████████| 117/117 [00:13<00:00,  8.71it/s, loss=0.00985]\n"
     ]
    },
    {
     "name": "stdout",
     "output_type": "stream",
     "text": [
      "Val Loss: 0.0894, Map:0.9921, Macro P: 0.9414, R: 0.9615, F1: 0.9502\n",
      "Per-class F1:\n",
      "  bird: P=0.968, R=0.984, F1=0.976\n",
      "  cat: P=0.978, R=0.865, F1=0.918\n",
      "  cow: P=0.971, R=1.000, F1=0.985\n",
      "  dog: P=0.875, R=0.961, F1=0.916\n",
      "  elephant: P=0.879, R=1.000, F1=0.936\n",
      "  horse: P=0.968, R=0.952, F1=0.960\n",
      "  lion: P=0.914, R=0.930, F1=0.922\n",
      "  sheep: P=0.979, R=1.000, F1=0.989\n",
      "No improvement. Patience: 9/10\n"
     ]
    },
    {
     "name": "stderr",
     "output_type": "stream",
     "text": [
      "Epoch 17/100: 100%|██████████| 117/117 [00:13<00:00,  8.72it/s, loss=0.00875]\n"
     ]
    },
    {
     "name": "stdout",
     "output_type": "stream",
     "text": [
      "Val Loss: 0.0811, Map:0.993, Macro P: 0.9440, R: 0.9638, F1: 0.9533\n",
      "Per-class F1:\n",
      "  bird: P=0.968, R=0.984, F1=0.976\n",
      "  cat: P=0.958, R=0.885, F1=0.920\n",
      "  cow: P=0.917, R=1.000, F1=0.957\n",
      "  dog: P=0.925, R=0.961, F1=0.942\n",
      "  elephant: P=0.962, R=1.000, F1=0.981\n",
      "  horse: P=0.935, R=0.921, F1=0.928\n",
      "  lion: P=0.949, R=0.982, F1=0.966\n",
      "  sheep: P=0.938, R=0.978, F1=0.957\n",
      "No improvement. Patience: 10/10\n",
      "Early stopping.\n"
     ]
    }
   ],
   "source": [
    "# Model\n",
    "learning_rate = 1e-4\n",
    "early_stop_patience = 10\n",
    "\n",
    "model = ResNetClassifier(m_num_classes).to(device)\n",
    "criterion = nn.BCEWithLogitsLoss(pos_weight=m_pos_weight)\n",
    "optimizer = torch.optim.Adam(model.parameters(), lr=learning_rate)\n",
    "\n",
    "model_save_dir = Path(\"E:/LSE/ST311/ST311-Group-Project/experiment/pure_mixed_res\")\n",
    "model_save_dir.mkdir(parents=True, exist_ok=True)\n",
    "best_loss = float('inf')\n",
    "patience_counter = 0\n",
    "\n",
    "train_losses = []\n",
    "val_losses = []\n",
    "f1_scores = []\n",
    "\n",
    "for epoch in range(num_epochs):\n",
    "    model.train()\n",
    "    total_loss = 0\n",
    "    loop = tqdm(train_loader, desc=f\"Epoch {epoch+1}/{num_epochs}\")\n",
    "    for inputs, targets in loop:\n",
    "        inputs, targets = inputs.to(device), targets.to(device)\n",
    "        outputs = model(inputs)\n",
    "        loss = criterion(outputs, targets)\n",
    "        optimizer.zero_grad()\n",
    "        loss.backward()\n",
    "        optimizer.step()\n",
    "        total_loss += loss.item()\n",
    "        loop.set_postfix(loss=total_loss / (loop.n + 1))\n",
    "\n",
    "    model.eval()\n",
    "    all_preds, all_targets = [], []\n",
    "    with torch.no_grad():\n",
    "        for inputs, targets in val_loader:\n",
    "            inputs, targets = inputs.to(device), targets.to(device)\n",
    "            outputs = model(inputs)\n",
    "            all_preds.append(outputs)\n",
    "            all_targets.append(targets)\n",
    "\n",
    "    all_preds = torch.cat(all_preds)\n",
    "    all_targets = torch.cat(all_targets)\n",
    "    val_loss = criterion(all_preds, all_targets).item()\n",
    "    macro_p, macro_r, macro_f1, macro_map, p_class, r_class, f_class = multilabel_metrics(all_preds, all_targets)\n",
    "\n",
    "    print(f\"Val Loss: {val_loss:.4f}, Map:{round(macro_map,4)}, Macro P: {macro_p:.4f}, R: {macro_r:.4f}, F1: {macro_f1:.4f}\")\n",
    "    print(\"Per-class F1:\")\n",
    "    for i, label in index_to_label.items():\n",
    "        print(f\"  {label}: P={p_class[i]:.3f}, R={r_class[i]:.3f}, F1={f_class[i]:.3f}\")\n",
    "        \n",
    "    train_losses.append(total_loss / len(train_loader))\n",
    "    val_losses.append(val_loss)\n",
    "    f1_scores.append(macro_f1)\n",
    "\n",
    "    if val_loss < best_loss:\n",
    "        best_loss = val_loss\n",
    "        patience_counter = 0\n",
    "        torch.save(model.state_dict(), model_save_dir / f\"res_1e_4_lr_f1_{macro_f1:.4f}.pth\")\n",
    "        print(\"Saved best model.\")\n",
    "    else:\n",
    "        patience_counter += 1\n",
    "        print(f\"No improvement. Patience: {patience_counter}/{early_stop_patience}\")\n",
    "\n",
    "    if patience_counter >= early_stop_patience:\n",
    "        print(\"Early stopping.\")\n",
    "        break"
   ]
  },
  {
   "cell_type": "code",
   "execution_count": 42,
   "id": "c0f890a3",
   "metadata": {},
   "outputs": [
    {
     "data": {
      "image/png": "[encoded data removed]",
      "text/plain": [
       "<Figure size 1000x500 with 1 Axes>"
      ]
     },
     "metadata": {},
     "output_type": "display_data"
    },
    {
     "data": {
      "image/png": "[encoded data removed]",
      "text/plain": [
       "<Figure size 1000x500 with 1 Axes>"
      ]
     },
     "metadata": {},
     "output_type": "display_data"
    }
   ],
   "source": [
    "plt.figure(figsize=(10, 5))\n",
    "plt.plot(train_losses, label=\"Train Loss\")\n",
    "plt.plot(val_losses, label=\"Val Loss\")\n",
    "plt.xlabel(\"Epoch\")\n",
    "plt.ylabel(\"Loss\")\n",
    "plt.title(\"Loss Curve\")\n",
    "plt.legend()\n",
    "plt.grid()\n",
    "plt.show()\n",
    "\n",
    "plt.figure(figsize=(10, 5))\n",
    "plt.plot(f1_scores, label=\"Val F1\")\n",
    "plt.xlabel(\"Epoch\")\n",
    "plt.ylabel(\"F1 Score\")\n",
    "plt.title(\"Validation F1 Curve\")\n",
    "plt.legend()\n",
    "plt.grid()\n",
    "plt.show()"
   ]
  },
  {
   "cell_type": "code",
   "execution_count": 43,
   "id": "de6e5a59",
   "metadata": {},
   "outputs": [
    {
     "name": "stdout",
     "output_type": "stream",
     "text": [
      "Test Loss: 2.5057, mAP: 0.8176, Macro P: 0.8968, R: 0.6009, F1: 0.7038\n",
      "Per-class F1:\n",
      "  bird: P=0.986, R=0.467, F1=0.634\n",
      "  cat: P=0.898, R=0.393, F1=0.547\n",
      "  cow: P=0.797, R=0.885, F1=0.839\n",
      "  dog: P=0.880, R=0.486, F1=0.626\n",
      "  elephant: P=0.910, R=0.654, F1=0.761\n",
      "  horse: P=0.931, R=0.508, F1=0.658\n",
      "  lion: P=0.840, R=0.759, F1=0.797\n",
      "  sheep: P=0.932, R=0.655, F1=0.769\n",
      "Saved evaluation results to: E:\\LSE\\ST311\\ST311-Group-Project\\experiment\\res_1e_4_lr_f1_0.9667_metrics.csv\n"
     ]
    }
   ],
   "source": [
    "# ResNetTransform evaluation\n",
    "model_path = \"E:/LSE/ST311/ST311-Group-Project/experiment/pure_mixed_res/res_1e_4_lr_f1_0.9667.pth\"\n",
    "model = load_model(model_path, ResNetClassifier, m_num_classes, device)\n",
    "\n",
    "macro_map, macro_p, macro_r, macro_f1, p_class, r_class, f_class = evaluate_model(model, m_train_loader, m_index_to_label, criterion, device, threshold=0.1)\n",
    "\n",
    "# save results to CSV\n",
    "save_eval_results_to_csv(\n",
    "    model_path,\n",
    "    macro_map, macro_p, macro_r, macro_f1,\n",
    "    p_class, r_class, f_class,\n",
    "    list(m_label_to_index.keys())\n",
    ")"
   ]
  },
  {
   "cell_type": "markdown",
   "id": "c2b09b9a",
   "metadata": {},
   "source": [
    "## ResNet on combined dataset"
   ]
  },
  {
   "cell_type": "code",
   "execution_count": null,
   "id": "e9857135",
   "metadata": {},
   "outputs": [],
   "source": [
    "# Model\n",
    "learning_rate = 1e-4\n",
    "early_stop_patience = 10\n",
    "\n",
    "model = ResNetClassifier(m_num_classes).to(device)\n",
    "criterion = nn.BCEWithLogitsLoss(pos_weight=m_pos_weight)\n",
    "optimizer = torch.optim.Adam(model.parameters(), lr=learning_rate)\n",
    "\n",
    "model_save_dir = Path(\"E:/LSE/ST311/ST311-Group-Project/experiment/pure_mixed_res\")\n",
    "model_save_dir.mkdir(parents=True, exist_ok=True)\n",
    "best_loss = float('inf')\n",
    "patience_counter = 0\n",
    "\n",
    "train_losses = []\n",
    "val_losses = []\n",
    "f1_scores = []\n",
    "\n",
    "for epoch in range(num_epochs):\n",
    "    model.train()\n",
    "    total_loss = 0\n",
    "    loop = tqdm(train_loader, desc=f\"Epoch {epoch+1}/{num_epochs}\")\n",
    "    for inputs, targets in loop:\n",
    "        inputs, targets = inputs.to(device), targets.to(device)\n",
    "        outputs = model(inputs)\n",
    "        loss = criterion(outputs, targets)\n",
    "        optimizer.zero_grad()\n",
    "        loss.backward()\n",
    "        optimizer.step()\n",
    "        total_loss += loss.item()\n",
    "        loop.set_postfix(loss=total_loss / (loop.n + 1))\n",
    "\n",
    "    model.eval()\n",
    "    all_preds, all_targets = [], []\n",
    "    with torch.no_grad():\n",
    "        for inputs, targets in val_loader:\n",
    "            inputs, targets = inputs.to(device), targets.to(device)\n",
    "            outputs = model(inputs)\n",
    "            all_preds.append(outputs)\n",
    "            all_targets.append(targets)\n",
    "\n",
    "    all_preds = torch.cat(all_preds)\n",
    "    all_targets = torch.cat(all_targets)\n",
    "    val_loss = criterion(all_preds, all_targets).item()\n",
    "    macro_p, macro_r, macro_f1, macro_map, p_class, r_class, f_class = multilabel_metrics(all_preds, all_targets)\n",
    "\n",
    "    print(f\"Val Loss: {val_loss:.4f}, Map:{round(macro_map,4)}, Macro P: {macro_p:.4f}, R: {macro_r:.4f}, F1: {macro_f1:.4f}\")\n",
    "    print(\"Per-class F1:\")\n",
    "    for i, label in index_to_label.items():\n",
    "        print(f\"  {label}: P={p_class[i]:.3f}, R={r_class[i]:.3f}, F1={f_class[i]:.3f}\")\n",
    "        \n",
    "    train_losses.append(total_loss / len(train_loader))\n",
    "    val_losses.append(val_loss)\n",
    "    f1_scores.append(macro_f1)\n",
    "\n",
    "    if val_loss < best_loss:\n",
    "        best_loss = val_loss\n",
    "        patience_counter = 0\n",
    "        torch.save(model.state_dict(), model_save_dir / f\"res_1e_4_lr_f1_{macro_f1:.4f}.pth\")\n",
    "        print(\"Saved best model.\")\n",
    "    else:\n",
    "        patience_counter += 1\n",
    "        print(f\"No improvement. Patience: {patience_counter}/{early_stop_patience}\")\n",
    "\n",
    "    if patience_counter >= early_stop_patience:\n",
    "        print(\"Early stopping.\")\n",
    "        break"
   ]
  },
  {
   "cell_type": "markdown",
   "id": "aa4bf646",
   "metadata": {},
   "source": [
    "## Evaluation"
   ]
  },
  {
   "cell_type": "markdown",
   "id": "08050259",
   "metadata": {},
   "source": [
    "Two Stage Trained models"
   ]
  },
  {
   "cell_type": "code",
   "execution_count": 44,
   "id": "5a23c219",
   "metadata": {},
   "outputs": [
    {
     "name": "stderr",
     "output_type": "stream",
     "text": [
      "d:\\miniconda\\envs\\st311_final\\lib\\site-packages\\torchvision\\models\\_utils.py:208: UserWarning: The parameter 'pretrained' is deprecated since 0.13 and may be removed in the future, please use 'weights' instead.\n",
      "  warnings.warn(\n",
      "d:\\miniconda\\envs\\st311_final\\lib\\site-packages\\torchvision\\models\\_utils.py:223: UserWarning: Arguments other than a weight enum or `None` for 'weights' are deprecated since 0.13 and may be removed in the future. The current behavior is equivalent to passing `weights=ResNet18_Weights.IMAGENET1K_V1`. You can also use `weights=ResNet18_Weights.DEFAULT` to get the most up-to-date weights.\n",
      "  warnings.warn(msg)\n"
     ]
    },
    {
     "name": "stdout",
     "output_type": "stream",
     "text": [
      "Test Loss: 3.2406, mAP: 0.8281, Macro P: 0.9432, R: 0.5870, F1: 0.7080\n",
      "Per-class F1:\n",
      "  bird: P=0.988, R=0.337, F1=0.502\n",
      "  cat: P=0.888, R=0.518, F1=0.655\n",
      "  cow: P=0.986, R=0.835, F1=0.904\n",
      "  dog: P=0.975, R=0.398, F1=0.565\n",
      "  elephant: P=0.921, R=0.688, F1=0.787\n",
      "  horse: P=0.947, R=0.469, F1=0.628\n",
      "  lion: P=0.920, R=0.708, F1=0.800\n",
      "  sheep: P=0.922, R=0.743, F1=0.823\n",
      "Saved evaluation results to: E:\\LSE\\ST311\\ST311-Group-Project\\experiment\\resnet_f1_0.9744_metrics.csv\n"
     ]
    }
   ],
   "source": [
    "model_path = \"E:/LSE/ST311/ST311-Group-Project/experiment/mixed_res/resnet_f1_0.9744.pth\"\n",
    "model = load_model(model_path, ResNetClassifier, m_num_classes, device)\n",
    "\n",
    "macro_map, macro_p, macro_r, macro_f1, p_class, r_class, f_class = evaluate_model(model, m_test_loader, m_index_to_label, criterion, device, threshold=0.1)\n",
    "\n",
    "# save results to CSV\n",
    "save_eval_results_to_csv(\n",
    "    model_path,\n",
    "    macro_map, macro_p, macro_r, macro_f1,\n",
    "    p_class, r_class, f_class,\n",
    "    list(m_label_to_index.keys())\n",
    ")"
   ]
  },
  {
   "cell_type": "code",
   "execution_count": 45,
   "id": "bdf6d73d",
   "metadata": {},
   "outputs": [
    {
     "name": "stderr",
     "output_type": "stream",
     "text": [
      "d:\\miniconda\\envs\\st311_final\\lib\\site-packages\\torchvision\\models\\_utils.py:208: UserWarning: The parameter 'pretrained' is deprecated since 0.13 and may be removed in the future, please use 'weights' instead.\n",
      "  warnings.warn(\n",
      "d:\\miniconda\\envs\\st311_final\\lib\\site-packages\\torchvision\\models\\_utils.py:223: UserWarning: Arguments other than a weight enum or `None` for 'weights' are deprecated since 0.13 and may be removed in the future. The current behavior is equivalent to passing `weights=ResNet18_Weights.IMAGENET1K_V1`. You can also use `weights=ResNet18_Weights.DEFAULT` to get the most up-to-date weights.\n",
      "  warnings.warn(msg)\n"
     ]
    },
    {
     "name": "stdout",
     "output_type": "stream",
     "text": [
      "Test Loss: 2.9352, mAP: 0.7945, Macro P: 0.9049, R: 0.5671, F1: 0.6864\n",
      "Per-class F1:\n",
      "  bird: P=0.993, R=0.306, F1=0.468\n",
      "  cat: P=0.879, R=0.459, F1=0.603\n",
      "  cow: P=0.972, R=0.706, F1=0.818\n",
      "  dog: P=0.862, R=0.496, F1=0.630\n",
      "  elephant: P=0.934, R=0.633, F1=0.754\n",
      "  horse: P=0.828, R=0.588, F1=0.687\n",
      "  lion: P=0.880, R=0.645, F1=0.744\n",
      "  sheep: P=0.891, R=0.704, F1=0.787\n",
      "Saved evaluation results to: E:\\LSE\\ST311\\ST311-Group-Project\\experiment\\resnet_tran_f1_0.9580_metrics.csv\n"
     ]
    }
   ],
   "source": [
    "# Rest Trans evaluation\n",
    "model_path = \"E:/LSE/ST311/ST311-Group-Project/experiment/mixed_restran/resnet_tran_f1_0.9580.pth\"\n",
    "model = load_model(model_path, ResNetTransformerClassifier, m_num_classes, device)\n",
    "\n",
    "macro_map, macro_p, macro_r, macro_f1, p_class, r_class, f_class = evaluate_model(model, m_test_loader, m_index_to_label, criterion, device, threshold=0.1)\n",
    "\n",
    "# save results to CSV\n",
    "save_eval_results_to_csv(\n",
    "    model_path,\n",
    "    macro_map, macro_p, macro_r, macro_f1,\n",
    "    p_class, r_class, f_class,\n",
    "    list(m_label_to_index.keys())\n",
    ")"
   ]
  },
  {
   "cell_type": "markdown",
   "id": "ba361e5f",
   "metadata": {},
   "source": [
    "Pure mixed audiso trained models"
   ]
  },
  {
   "cell_type": "code",
   "execution_count": 47,
   "id": "661a1272",
   "metadata": {},
   "outputs": [
    {
     "name": "stdout",
     "output_type": "stream",
     "text": [
      "Test Loss: 2.7847, mAP: 0.7913, Macro P: 0.9035, R: 0.5663, F1: 0.6804\n",
      "Per-class F1:\n",
      "  bird: P=0.969, R=0.453, F1=0.618\n",
      "  cat: P=0.892, R=0.437, F1=0.586\n",
      "  cow: P=0.957, R=0.816, F1=0.881\n",
      "  dog: P=0.915, R=0.265, F1=0.411\n",
      "  elephant: P=0.878, R=0.663, F1=0.756\n",
      "  horse: P=0.839, R=0.533, F1=0.652\n",
      "  lion: P=0.915, R=0.639, F1=0.752\n",
      "  sheep: P=0.862, R=0.724, F1=0.787\n",
      "Saved evaluation results to: E:\\LSE\\ST311\\ST311-Group-Project\\experiment\\restran_3e_5_lr_f1_0.9572_metrics.csv\n"
     ]
    }
   ],
   "source": [
    "# ResNetTransform evaluation\n",
    "model_path = \"E:/LSE/ST311/ST311-Group-Project/experiment/pure_mixed_restran/restran_f1_0.9572.pth\"\n",
    "model = load_model(model_path, ResNetTransformerClassifier, m_num_classes, device)\n",
    "\n",
    "macro_map, macro_p, macro_r, macro_f1, p_class, r_class, f_class = evaluate_model(model, m_test_loader, m_index_to_label, criterion, device, threshold=0.1)\n",
    "\n",
    "# save results to CSV\n",
    "save_eval_results_to_csv(\n",
    "    model_path,\n",
    "    macro_map, macro_p, macro_r, macro_f1,\n",
    "    p_class, r_class, f_class,\n",
    "    list(m_label_to_index.keys())\n",
    ")"
   ]
  },
  {
   "cell_type": "code",
   "execution_count": 48,
   "id": "41bcc7d0",
   "metadata": {},
   "outputs": [
    {
     "name": "stderr",
     "output_type": "stream",
     "text": [
      "d:\\miniconda\\envs\\st311_final\\lib\\site-packages\\torchvision\\models\\_utils.py:208: UserWarning: The parameter 'pretrained' is deprecated since 0.13 and may be removed in the future, please use 'weights' instead.\n",
      "  warnings.warn(\n",
      "d:\\miniconda\\envs\\st311_final\\lib\\site-packages\\torchvision\\models\\_utils.py:223: UserWarning: Arguments other than a weight enum or `None` for 'weights' are deprecated since 0.13 and may be removed in the future. The current behavior is equivalent to passing `weights=ResNet18_Weights.IMAGENET1K_V1`. You can also use `weights=ResNet18_Weights.DEFAULT` to get the most up-to-date weights.\n",
      "  warnings.warn(msg)\n"
     ]
    },
    {
     "name": "stdout",
     "output_type": "stream",
     "text": [
      "Test Loss: 2.5236, mAP: 0.8173, Macro P: 0.9143, R: 0.5987, F1: 0.7039\n",
      "Per-class F1:\n",
      "  bird: P=0.985, R=0.410, F1=0.579\n",
      "  cat: P=0.932, R=0.394, F1=0.554\n",
      "  cow: P=0.818, R=0.918, F1=0.865\n",
      "  dog: P=0.960, R=0.437, F1=0.600\n",
      "  elephant: P=0.915, R=0.655, F1=0.763\n",
      "  horse: P=0.918, R=0.547, F1=0.685\n",
      "  lion: P=0.854, R=0.751, F1=0.799\n",
      "  sheep: P=0.933, R=0.678, F1=0.785\n",
      "Saved evaluation results to: E:\\LSE\\ST311\\ST311-Group-Project\\experiment\\res_1e_4_lr_f1_0.9667_metrics.csv\n"
     ]
    }
   ],
   "source": [
    "# ResNet evaluation\n",
    "model_path = \"E:/LSE/ST311/ST311-Group-Project/experiment/pure_mixed_res/res_1e_4_lr_f1_0.9667.pth\"\n",
    "model = load_model(model_path, ResNetClassifier, m_num_classes, device)\n",
    "\n",
    "macro_map, macro_p, macro_r, macro_f1, p_class, r_class, f_class = evaluate_model(model, m_test_loader, m_index_to_label, criterion, device, threshold=0.1)\n",
    "\n",
    "# save results to CSV\n",
    "save_eval_results_to_csv(\n",
    "    model_path,\n",
    "    macro_map, macro_p, macro_r, macro_f1,\n",
    "    p_class, r_class, f_class,\n",
    "    list(m_label_to_index.keys())\n",
    ")"
   ]
  },
  {
   "cell_type": "markdown",
   "id": "708d9e93",
   "metadata": {},
   "source": [
    "ResNet has better performance than ResNetTransformer. Two-stage training gives higher precisions while direct train on mixed audio dataset makes the model more stable and having higher recall.\n",
    "\n",
    "Overall, two-stage trained ResNetClassifier perform the best"
   ]
  }
 ],
 "metadata": {
  "kernelspec": {
   "display_name": "st311_final",
   "language": "python",
   "name": "python3"
  },
  "language_info": {
   "codemirror_mode": {
    "name": "ipython",
    "version": 3
   },
   "file_extension": ".py",
   "mimetype": "text/x-python",
   "name": "python",
   "nbconvert_exporter": "python",
   "pygments_lexer": "ipython3",
   "version": "3.9.21"
  }
 },
 "nbformat": 4,
 "nbformat_minor": 5
}
