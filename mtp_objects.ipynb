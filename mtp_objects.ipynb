{
  "cells": [
    {
      "cell_type": "markdown",
      "metadata": {},
      "source": [
        "# Identifiy multiple objects and produce mixed audios"
      ]
    },
    {
      "cell_type": "markdown",
      "metadata": {},
      "source": [
        "## Installing packages\n",
        "\n",
        "Following code has been excuted in local terminal"
      ]
    },
    {
      "cell_type": "code",
      "execution_count": null,
      "metadata": {
        "colab": {
          "base_uri": "https://localhost:8080/"
        },
        "id": "o_tlYmf2uzuu",
        "outputId": "77b0d21b-88a8-4c42-ff40-035126d88ca3"
      },
      "outputs": [
        {
          "name": "stdout",
          "output_type": "stream",
          "text": [
            "fatal: destination path 'im2wav' already exists and is not an empty directory.\n"
          ]
        }
      ],
      "source": [
        "#!git clone https://github.com/RoySheffer/im2wav.git\n",
        "#%cd im2wav\n",
        "#!pip install -r requirements.txt"
      ]
    },
    {
      "cell_type": "markdown",
      "metadata": {},
      "source": [
        "### Code for process images"
      ]
    },
    {
      "cell_type": "code",
      "execution_count": 2,
      "metadata": {},
      "outputs": [],
      "source": [
        "import os\n",
        "from PIL import Image\n",
        "from ultralytics import YOLO\n",
        "from pathlib import Path\n",
        "import subprocess\n",
        "from pydub import AudioSegment\n",
        "import sys\n",
        "from collections import defaultdict"
      ]
    },
    {
      "cell_type": "markdown",
      "metadata": {},
      "source": [
        "## Crop Images"
      ]
    },
    {
      "cell_type": "code",
      "execution_count": 28,
      "metadata": {},
      "outputs": [],
      "source": [
        "#  Create directories for cropped images\n",
        "def setup_directories(crops_dir):\n",
        "    os.makedirs(crops_dir, exist_ok=True)\n",
        "    \n",
        "# Using YOLOv8 for animal detection and cropping\n",
        "def detect_and_crop_animals(image_path, crops_dir, yolo, threshold=0.5):\n",
        "    img = Image.open(image_path).convert('RGB')\n",
        "    results = yolo(image_path)[0]\n",
        "\n",
        "    TARGET_CLASSES = {\"dog\", \"cat\", \"cow\", \"sheep\", \"horse\", \"elephant\", \"bird\", \"lion\"}\n",
        "    detections = []\n",
        "    for box, conf, cls_id in zip(results.boxes.xyxy.cpu(), results.boxes.conf.cpu(), results.boxes.cls.cpu()):\n",
        "        name = yolo.names[int(cls_id)]\n",
        "        if name in TARGET_CLASSES and conf > threshold:\n",
        "            detections.append((name, conf.item(), box.tolist()))\n",
        "\n",
        "    best_detections = {}\n",
        "    for name, conf, box in detections:\n",
        "        if name not in best_detections or conf > best_detections[name][0]:\n",
        "            best_detections[name] = (conf, box)\n",
        "\n",
        "    if not best_detections:\n",
        "        print(f\"No valid animals detected in {image_path}.\")\n",
        "        return []\n",
        "\n",
        "    saved_crop_paths = []\n",
        "    for idx, (name, (conf, box)) in enumerate(best_detections.items()):\n",
        "        x1, y1, x2, y2 = map(int, box)\n",
        "        crop = img.crop((x1, y1, x2, y2))\n",
        "        crop_filename = f\"{Path(image_path).stem}_{name}{idx}.jpg\"\n",
        "        crop_path = os.path.join(crops_dir, crop_filename)\n",
        "        crop.save(crop_path)\n",
        "        saved_crop_paths.append(crop_path)\n",
        "        print(f\"Animal Identified: {name}. Crop saved: {crop_path}\")\n",
        "    \n",
        "    return saved_crop_paths\n",
        "\n",
        "def process_folder(folder_path, crops_dir, threshold=0.5, has_lion=False):\n",
        "    os.makedirs(crops_dir, exist_ok=True)\n",
        "    if has_lion: \n",
        "        yolo = YOLO(\"E:/LSE/ST311/ST311-Group-Project/YOLOv8-Experiments/best.pt\")\n",
        "    else:\n",
        "        yolo = YOLO('yolov8x.pt')\n",
        "    image_extensions = {\".jpg\", \".jpeg\", \".png\", \".bmp\"}\n",
        "\n",
        "    for file in os.listdir(folder_path):\n",
        "        if Path(file).suffix.lower() in image_extensions:\n",
        "            image_path = os.path.join(folder_path, file)\n",
        "            print(f\"\\nProcessing: {image_path}\")\n",
        "            detect_and_crop_animals(image_path, crops_dir, yolo, threshold=threshold)"
      ]
    },
    {
      "cell_type": "code",
      "execution_count": null,
      "metadata": {},
      "outputs": [
        {
          "name": "stdout",
          "output_type": "stream",
          "text": [
            "\n",
            "Processing: E:\\LSE\\ST311\\ST311-Group-Project\\Mixed animals\\cow_dog1.jpg\n",
            "\n",
            "image 1/1 E:\\LSE\\ST311\\ST311-Group-Project\\Mixed animals\\cow_dog1.jpg: 448x640 1 dog, 1 cow, 62.6ms\n",
            "Speed: 3.3ms preprocess, 62.6ms inference, 1.6ms postprocess per image at shape (1, 3, 448, 640)\n",
            "Animal Identified: cow. Crop saved: E:\\LSE\\ST311\\ST311-Group-Project\\mixed_crop\\cow_dog1_cow0.jpg\n",
            "Animal Identified: dog. Crop saved: E:\\LSE\\ST311\\ST311-Group-Project\\mixed_crop\\cow_dog1_dog1.jpg\n",
            "\n",
            "Processing: E:\\LSE\\ST311\\ST311-Group-Project\\Mixed animals\\cow_dog2.jpg\n",
            "\n",
            "image 1/1 E:\\LSE\\ST311\\ST311-Group-Project\\Mixed animals\\cow_dog2.jpg: 448x640 1 dog, 4 cows, 61.4ms\n",
            "Speed: 2.0ms preprocess, 61.4ms inference, 7.1ms postprocess per image at shape (1, 3, 448, 640)\n",
            "Animal Identified: cow. Crop saved: E:\\LSE\\ST311\\ST311-Group-Project\\mixed_crop\\cow_dog2_cow0.jpg\n",
            "Animal Identified: dog. Crop saved: E:\\LSE\\ST311\\ST311-Group-Project\\mixed_crop\\cow_dog2_dog1.jpg\n",
            "\n",
            "Processing: E:\\LSE\\ST311\\ST311-Group-Project\\Mixed animals\\cow_dog3.jpg\n",
            "\n",
            "image 1/1 E:\\LSE\\ST311\\ST311-Group-Project\\Mixed animals\\cow_dog3.jpg: 448x640 1 bench, 1 dog, 1 cow, 61.4ms\n",
            "Speed: 2.3ms preprocess, 61.4ms inference, 1.9ms postprocess per image at shape (1, 3, 448, 640)\n",
            "Animal Identified: dog. Crop saved: E:\\LSE\\ST311\\ST311-Group-Project\\mixed_crop\\cow_dog3_dog0.jpg\n",
            "Animal Identified: cow. Crop saved: E:\\LSE\\ST311\\ST311-Group-Project\\mixed_crop\\cow_dog3_cow1.jpg\n",
            "\n",
            "Processing: E:\\LSE\\ST311\\ST311-Group-Project\\Mixed animals\\cow_dog5.jpg\n",
            "\n",
            "image 1/1 E:\\LSE\\ST311\\ST311-Group-Project\\Mixed animals\\cow_dog5.jpg: 512x640 1 dog, 1 cow, 66.0ms\n",
            "Speed: 1.9ms preprocess, 66.0ms inference, 2.0ms postprocess per image at shape (1, 3, 512, 640)\n",
            "Animal Identified: cow. Crop saved: E:\\LSE\\ST311\\ST311-Group-Project\\mixed_crop\\cow_dog5_cow0.jpg\n",
            "Animal Identified: dog. Crop saved: E:\\LSE\\ST311\\ST311-Group-Project\\mixed_crop\\cow_dog5_dog1.jpg\n",
            "\n",
            "Processing: E:\\LSE\\ST311\\ST311-Group-Project\\Mixed animals\\cow_horse1.jpg\n",
            "\n",
            "image 1/1 E:\\LSE\\ST311\\ST311-Group-Project\\Mixed animals\\cow_horse1.jpg: 384x640 1 horse, 1 cow, 50.1ms\n",
            "Speed: 1.6ms preprocess, 50.1ms inference, 1.8ms postprocess per image at shape (1, 3, 384, 640)\n",
            "Animal Identified: horse. Crop saved: E:\\LSE\\ST311\\ST311-Group-Project\\mixed_crop\\cow_horse1_horse0.jpg\n",
            "Animal Identified: cow. Crop saved: E:\\LSE\\ST311\\ST311-Group-Project\\mixed_crop\\cow_horse1_cow1.jpg\n",
            "\n",
            "Processing: E:\\LSE\\ST311\\ST311-Group-Project\\Mixed animals\\cow_horse2.jpg\n",
            "\n",
            "image 1/1 E:\\LSE\\ST311\\ST311-Group-Project\\Mixed animals\\cow_horse2.jpg: 416x640 1 horse, 4 cows, 58.4ms\n",
            "Speed: 1.8ms preprocess, 58.4ms inference, 3.8ms postprocess per image at shape (1, 3, 416, 640)\n",
            "Animal Identified: cow. Crop saved: E:\\LSE\\ST311\\ST311-Group-Project\\mixed_crop\\cow_horse2_cow0.jpg\n",
            "Animal Identified: horse. Crop saved: E:\\LSE\\ST311\\ST311-Group-Project\\mixed_crop\\cow_horse2_horse1.jpg\n",
            "\n",
            "Processing: E:\\LSE\\ST311\\ST311-Group-Project\\Mixed animals\\cow_horse3.jpg\n",
            "\n",
            "image 1/1 E:\\LSE\\ST311\\ST311-Group-Project\\Mixed animals\\cow_horse3.jpg: 448x640 3 horses, 2 cows, 58.3ms\n",
            "Speed: 1.6ms preprocess, 58.3ms inference, 1.9ms postprocess per image at shape (1, 3, 448, 640)\n",
            "Animal Identified: cow. Crop saved: E:\\LSE\\ST311\\ST311-Group-Project\\mixed_crop\\cow_horse3_cow0.jpg\n",
            "Animal Identified: horse. Crop saved: E:\\LSE\\ST311\\ST311-Group-Project\\mixed_crop\\cow_horse3_horse1.jpg\n",
            "\n",
            "Processing: E:\\LSE\\ST311\\ST311-Group-Project\\Mixed animals\\cow_horse4.jpg\n",
            "\n",
            "image 1/1 E:\\LSE\\ST311\\ST311-Group-Project\\Mixed animals\\cow_horse4.jpg: 480x640 1 horse, 1 cow, 65.1ms\n",
            "Speed: 2.1ms preprocess, 65.1ms inference, 1.7ms postprocess per image at shape (1, 3, 480, 640)\n",
            "Animal Identified: horse. Crop saved: E:\\LSE\\ST311\\ST311-Group-Project\\mixed_crop\\cow_horse4_horse0.jpg\n",
            "Animal Identified: cow. Crop saved: E:\\LSE\\ST311\\ST311-Group-Project\\mixed_crop\\cow_horse4_cow1.jpg\n",
            "\n",
            "Processing: E:\\LSE\\ST311\\ST311-Group-Project\\Mixed animals\\cow_sheep2.jpg\n",
            "\n",
            "image 1/1 E:\\LSE\\ST311\\ST311-Group-Project\\Mixed animals\\cow_sheep2.jpg: 384x640 10 sheeps, 3 cows, 51.7ms\n",
            "Speed: 2.0ms preprocess, 51.7ms inference, 1.8ms postprocess per image at shape (1, 3, 384, 640)\n",
            "Animal Identified: cow. Crop saved: E:\\LSE\\ST311\\ST311-Group-Project\\mixed_crop\\cow_sheep2_cow0.jpg\n",
            "Animal Identified: sheep. Crop saved: E:\\LSE\\ST311\\ST311-Group-Project\\mixed_crop\\cow_sheep2_sheep1.jpg\n",
            "\n",
            "Processing: E:\\LSE\\ST311\\ST311-Group-Project\\Mixed animals\\cow_sheep3.jpg\n",
            "\n",
            "image 1/1 E:\\LSE\\ST311\\ST311-Group-Project\\Mixed animals\\cow_sheep3.jpg: 448x640 1 sheep, 1 cow, 62.9ms\n",
            "Speed: 1.5ms preprocess, 62.9ms inference, 1.7ms postprocess per image at shape (1, 3, 448, 640)\n",
            "Animal Identified: cow. Crop saved: E:\\LSE\\ST311\\ST311-Group-Project\\mixed_crop\\cow_sheep3_cow0.jpg\n",
            "Animal Identified: sheep. Crop saved: E:\\LSE\\ST311\\ST311-Group-Project\\mixed_crop\\cow_sheep3_sheep1.jpg\n",
            "\n",
            "Processing: E:\\LSE\\ST311\\ST311-Group-Project\\Mixed animals\\cow_sheep4.jpg\n",
            "\n",
            "image 1/1 E:\\LSE\\ST311\\ST311-Group-Project\\Mixed animals\\cow_sheep4.jpg: 320x640 1 sheep, 1 cow, 43.7ms\n",
            "Speed: 1.6ms preprocess, 43.7ms inference, 2.4ms postprocess per image at shape (1, 3, 320, 640)\n",
            "Animal Identified: cow. Crop saved: E:\\LSE\\ST311\\ST311-Group-Project\\mixed_crop\\cow_sheep4_cow0.jpg\n",
            "Animal Identified: sheep. Crop saved: E:\\LSE\\ST311\\ST311-Group-Project\\mixed_crop\\cow_sheep4_sheep1.jpg\n",
            "\n",
            "Processing: E:\\LSE\\ST311\\ST311-Group-Project\\Mixed animals\\dog_bird1.jpg\n",
            "\n",
            "image 1/1 E:\\LSE\\ST311\\ST311-Group-Project\\Mixed animals\\dog_bird1.jpg: 320x640 1 bird, 1 dog, 43.4ms\n",
            "Speed: 1.4ms preprocess, 43.4ms inference, 2.2ms postprocess per image at shape (1, 3, 320, 640)\n",
            "Animal Identified: dog. Crop saved: E:\\LSE\\ST311\\ST311-Group-Project\\mixed_crop\\dog_bird1_dog0.jpg\n",
            "Animal Identified: bird. Crop saved: E:\\LSE\\ST311\\ST311-Group-Project\\mixed_crop\\dog_bird1_bird1.jpg\n",
            "\n",
            "Processing: E:\\LSE\\ST311\\ST311-Group-Project\\Mixed animals\\dog_bird2.jpg\n",
            "\n",
            "image 1/1 E:\\LSE\\ST311\\ST311-Group-Project\\Mixed animals\\dog_bird2.jpg: 448x640 1 bird, 1 dog, 56.6ms\n",
            "Speed: 1.9ms preprocess, 56.6ms inference, 1.8ms postprocess per image at shape (1, 3, 448, 640)\n",
            "Animal Identified: dog. Crop saved: E:\\LSE\\ST311\\ST311-Group-Project\\mixed_crop\\dog_bird2_dog0.jpg\n",
            "Animal Identified: bird. Crop saved: E:\\LSE\\ST311\\ST311-Group-Project\\mixed_crop\\dog_bird2_bird1.jpg\n",
            "\n",
            "Processing: E:\\LSE\\ST311\\ST311-Group-Project\\Mixed animals\\dog_cat2.jpg\n",
            "\n",
            "image 1/1 E:\\LSE\\ST311\\ST311-Group-Project\\Mixed animals\\dog_cat2.jpg: 448x640 2 cats, 1 dog, 57.9ms\n",
            "Speed: 2.7ms preprocess, 57.9ms inference, 1.9ms postprocess per image at shape (1, 3, 448, 640)\n",
            "Animal Identified: dog. Crop saved: E:\\LSE\\ST311\\ST311-Group-Project\\mixed_crop\\dog_cat2_dog0.jpg\n",
            "Animal Identified: cat. Crop saved: E:\\LSE\\ST311\\ST311-Group-Project\\mixed_crop\\dog_cat2_cat1.jpg\n",
            "\n",
            "Processing: E:\\LSE\\ST311\\ST311-Group-Project\\Mixed animals\\dog_cat4.jpg\n",
            "\n",
            "image 1/1 E:\\LSE\\ST311\\ST311-Group-Project\\Mixed animals\\dog_cat4.jpg: 480x640 1 cat, 1 dog, 1 bed, 62.2ms\n",
            "Speed: 2.5ms preprocess, 62.2ms inference, 4.9ms postprocess per image at shape (1, 3, 480, 640)\n",
            "Animal Identified: cat. Crop saved: E:\\LSE\\ST311\\ST311-Group-Project\\mixed_crop\\dog_cat4_cat0.jpg\n",
            "Animal Identified: dog. Crop saved: E:\\LSE\\ST311\\ST311-Group-Project\\mixed_crop\\dog_cat4_dog1.jpg\n",
            "\n",
            "Processing: E:\\LSE\\ST311\\ST311-Group-Project\\Mixed animals\\dog_cat6.jpg\n",
            "\n",
            "image 1/1 E:\\LSE\\ST311\\ST311-Group-Project\\Mixed animals\\dog_cat6.jpg: 416x640 1 cat, 1 dog, 1 frisbee, 56.9ms\n",
            "Speed: 2.7ms preprocess, 56.9ms inference, 5.3ms postprocess per image at shape (1, 3, 416, 640)\n",
            "Animal Identified: dog. Crop saved: E:\\LSE\\ST311\\ST311-Group-Project\\mixed_crop\\dog_cat6_dog0.jpg\n",
            "Animal Identified: cat. Crop saved: E:\\LSE\\ST311\\ST311-Group-Project\\mixed_crop\\dog_cat6_cat1.jpg\n",
            "\n",
            "Processing: E:\\LSE\\ST311\\ST311-Group-Project\\Mixed animals\\dog_horse2.jpg\n",
            "\n",
            "image 1/1 E:\\LSE\\ST311\\ST311-Group-Project\\Mixed animals\\dog_horse2.jpg: 512x640 1 dog, 1 horse, 78.1ms\n",
            "Speed: 2.4ms preprocess, 78.1ms inference, 5.5ms postprocess per image at shape (1, 3, 512, 640)\n",
            "Animal Identified: horse. Crop saved: E:\\LSE\\ST311\\ST311-Group-Project\\mixed_crop\\dog_horse2_horse0.jpg\n",
            "Animal Identified: dog. Crop saved: E:\\LSE\\ST311\\ST311-Group-Project\\mixed_crop\\dog_horse2_dog1.jpg\n",
            "\n",
            "Processing: E:\\LSE\\ST311\\ST311-Group-Project\\Mixed animals\\dog_horse3.jpg\n",
            "\n",
            "image 1/1 E:\\LSE\\ST311\\ST311-Group-Project\\Mixed animals\\dog_horse3.jpg: 448x640 2 dogs, 1 horse, 77.7ms\n",
            "Speed: 2.6ms preprocess, 77.7ms inference, 2.2ms postprocess per image at shape (1, 3, 448, 640)\n",
            "Animal Identified: horse. Crop saved: E:\\LSE\\ST311\\ST311-Group-Project\\mixed_crop\\dog_horse3_horse0.jpg\n",
            "Animal Identified: dog. Crop saved: E:\\LSE\\ST311\\ST311-Group-Project\\mixed_crop\\dog_horse3_dog1.jpg\n",
            "\n",
            "Processing: E:\\LSE\\ST311\\ST311-Group-Project\\Mixed animals\\dog_horse5.jpg\n",
            "\n",
            "image 1/1 E:\\LSE\\ST311\\ST311-Group-Project\\Mixed animals\\dog_horse5.jpg: 640x448 1 cat, 1 dog, 1 horse, 84.1ms\n",
            "Speed: 2.4ms preprocess, 84.1ms inference, 3.7ms postprocess per image at shape (1, 3, 640, 448)\n",
            "Animal Identified: dog. Crop saved: E:\\LSE\\ST311\\ST311-Group-Project\\mixed_crop\\dog_horse5_dog0.jpg\n",
            "Animal Identified: horse. Crop saved: E:\\LSE\\ST311\\ST311-Group-Project\\mixed_crop\\dog_horse5_horse1.jpg\n",
            "\n",
            "Processing: E:\\LSE\\ST311\\ST311-Group-Project\\Mixed animals\\dog_horse6.jpg\n",
            "\n",
            "image 1/1 E:\\LSE\\ST311\\ST311-Group-Project\\Mixed animals\\dog_horse6.jpg: 512x640 1 dog, 1 horse, 117.4ms\n",
            "Speed: 3.4ms preprocess, 117.4ms inference, 6.5ms postprocess per image at shape (1, 3, 512, 640)\n",
            "Animal Identified: dog. Crop saved: E:\\LSE\\ST311\\ST311-Group-Project\\mixed_crop\\dog_horse6_dog0.jpg\n",
            "Animal Identified: horse. Crop saved: E:\\LSE\\ST311\\ST311-Group-Project\\mixed_crop\\dog_horse6_horse1.jpg\n",
            "\n",
            "Processing: E:\\LSE\\ST311\\ST311-Group-Project\\Mixed animals\\dog_horse7.jpg\n",
            "\n",
            "image 1/1 E:\\LSE\\ST311\\ST311-Group-Project\\Mixed animals\\dog_horse7.jpg: 448x640 1 dog, 1 horse, 72.8ms\n",
            "Speed: 2.5ms preprocess, 72.8ms inference, 3.4ms postprocess per image at shape (1, 3, 448, 640)\n",
            "Animal Identified: horse. Crop saved: E:\\LSE\\ST311\\ST311-Group-Project\\mixed_crop\\dog_horse7_horse0.jpg\n",
            "Animal Identified: dog. Crop saved: E:\\LSE\\ST311\\ST311-Group-Project\\mixed_crop\\dog_horse7_dog1.jpg\n"
          ]
        }
      ],
      "source": [
        "# Crop images\n",
        "folder_path = Path(\"E:/LSE/ST311/ST311-Group-Project/Mixed animals\")\n",
        "crops_dir = Path(\"E:/LSE/ST311/ST311-Group-Project/mixed_crop\")\n",
        "\n",
        "process_folder(folder_path, crops_dir, threshold=0.3)\n",
        "# To expanding the dataset, we use the same method added the crops of elephant_bird, horse_sheep, and cat_bird"
      ]
    },
    {
      "cell_type": "markdown",
      "metadata": {},
      "source": [
        "Crop images with lions(a species that yolov8 hasn't been trained on)"
      ]
    },
    {
      "cell_type": "code",
      "execution_count": 29,
      "metadata": {},
      "outputs": [
        {
          "name": "stdout",
          "output_type": "stream",
          "text": [
            "\n",
            "Processing: E:\\LSE\\ST311\\ST311-Group-Project\\Mixed animals\\elephant_lion\\elephant_lion1.jpg\n",
            "\n",
            "image 1/1 E:\\LSE\\ST311\\ST311-Group-Project\\Mixed animals\\elephant_lion\\elephant_lion1.jpg: 416x640 1 cow, 1 elephant, 1 zebra, 151.8ms\n",
            "Speed: 1.8ms preprocess, 151.8ms inference, 2.4ms postprocess per image at shape (1, 3, 416, 640)\n",
            "Animal Identified: elephant. Crop saved: E:\\LSE\\ST311\\ST311-Group-Project\\mixed_crop\\elephant_lion\\elephant_lion1_elephant0.jpg\n",
            "Animal Identified: cow. Crop saved: E:\\LSE\\ST311\\ST311-Group-Project\\mixed_crop\\elephant_lion\\elephant_lion1_cow1.jpg\n",
            "\n",
            "Processing: E:\\LSE\\ST311\\ST311-Group-Project\\Mixed animals\\elephant_lion\\elephant_lion3.jpg\n",
            "\n",
            "image 1/1 E:\\LSE\\ST311\\ST311-Group-Project\\Mixed animals\\elephant_lion\\elephant_lion3.jpg: 640x512 1 elephant, 150.7ms\n",
            "Speed: 2.7ms preprocess, 150.7ms inference, 1.9ms postprocess per image at shape (1, 3, 640, 512)\n",
            "Animal Identified: elephant. Crop saved: E:\\LSE\\ST311\\ST311-Group-Project\\mixed_crop\\elephant_lion\\elephant_lion3_elephant0.jpg\n",
            "\n",
            "Processing: E:\\LSE\\ST311\\ST311-Group-Project\\Mixed animals\\elephant_lion\\elephant_lion4.jpg\n",
            "\n",
            "image 1/1 E:\\LSE\\ST311\\ST311-Group-Project\\Mixed animals\\elephant_lion\\elephant_lion4.jpg: 384x640 4 cows, 1 elephant, 48.5ms\n",
            "Speed: 2.4ms preprocess, 48.5ms inference, 2.3ms postprocess per image at shape (1, 3, 384, 640)\n",
            "Animal Identified: elephant. Crop saved: E:\\LSE\\ST311\\ST311-Group-Project\\mixed_crop\\elephant_lion\\elephant_lion4_elephant0.jpg\n",
            "Animal Identified: cow. Crop saved: E:\\LSE\\ST311\\ST311-Group-Project\\mixed_crop\\elephant_lion\\elephant_lion4_cow1.jpg\n"
          ]
        }
      ],
      "source": [
        "# Crop images\n",
        "folder_path = Path(\"E:/LSE/ST311/ST311-Group-Project/Mixed animals/elephant_lion\")\n",
        "crops_dir = Path(\"E:/LSE/ST311/ST311-Group-Project/mixed_crop/elephant_lion\")\n",
        "\n",
        "process_folder(folder_path, crops_dir, threshold=0.3)"
      ]
    },
    {
      "cell_type": "markdown",
      "metadata": {},
      "source": [
        "Original YOLO model successfully identified and cropped elephants, however neither failed to detect lions nor misclassified some lion as cows"
      ]
    },
    {
      "cell_type": "code",
      "execution_count": 27,
      "metadata": {},
      "outputs": [
        {
          "name": "stdout",
          "output_type": "stream",
          "text": [
            "\n",
            "Processing: E:\\LSE\\ST311\\ST311-Group-Project\\Mixed animals\\elephant_lion\\elephant_lion1.jpg\n",
            "\n",
            "image 1/1 E:\\LSE\\ST311\\ST311-Group-Project\\Mixed animals\\elephant_lion\\elephant_lion1.jpg: 416x640 2 lions, 47.0ms\n",
            "Speed: 4.8ms preprocess, 47.0ms inference, 4.0ms postprocess per image at shape (1, 3, 416, 640)\n",
            "Animal Identified: lion. Crop saved: E:\\LSE\\ST311\\ST311-Group-Project\\mixed_crop\\elephant_lion\\elephant_lion1_lion0.jpg\n",
            "\n",
            "Processing: E:\\LSE\\ST311\\ST311-Group-Project\\Mixed animals\\elephant_lion\\elephant_lion2.jpg\n",
            "\n",
            "image 1/1 E:\\LSE\\ST311\\ST311-Group-Project\\Mixed animals\\elephant_lion\\elephant_lion2.jpg: 384x640 2 lions, 40.1ms\n",
            "Speed: 4.3ms preprocess, 40.1ms inference, 4.4ms postprocess per image at shape (1, 3, 384, 640)\n",
            "Animal Identified: lion. Crop saved: E:\\LSE\\ST311\\ST311-Group-Project\\mixed_crop\\elephant_lion\\elephant_lion2_lion0.jpg\n",
            "\n",
            "Processing: E:\\LSE\\ST311\\ST311-Group-Project\\Mixed animals\\elephant_lion\\elephant_lion3.jpg\n",
            "\n",
            "image 1/1 E:\\LSE\\ST311\\ST311-Group-Project\\Mixed animals\\elephant_lion\\elephant_lion3.jpg: 640x512 2 lions, 10.3ms\n",
            "Speed: 3.3ms preprocess, 10.3ms inference, 2.1ms postprocess per image at shape (1, 3, 640, 512)\n",
            "Animal Identified: lion. Crop saved: E:\\LSE\\ST311\\ST311-Group-Project\\mixed_crop\\elephant_lion\\elephant_lion3_lion0.jpg\n",
            "\n",
            "Processing: E:\\LSE\\ST311\\ST311-Group-Project\\Mixed animals\\elephant_lion\\elephant_lion4.jpg\n",
            "\n",
            "image 1/1 E:\\LSE\\ST311\\ST311-Group-Project\\Mixed animals\\elephant_lion\\elephant_lion4.jpg: 384x640 2 lions, 9.8ms\n",
            "Speed: 1.7ms preprocess, 9.8ms inference, 1.9ms postprocess per image at shape (1, 3, 384, 640)\n",
            "Animal Identified: lion. Crop saved: E:\\LSE\\ST311\\ST311-Group-Project\\mixed_crop\\elephant_lion\\elephant_lion4_lion0.jpg\n"
          ]
        }
      ],
      "source": [
        "# Crop images\n",
        "folder_path = Path(\"E:/LSE/ST311/ST311-Group-Project/Mixed animals/elephant_lion\")\n",
        "crops_dir = Path(\"E:/LSE/ST311/ST311-Group-Project/mixed_crop/elephant_lion\")\n",
        "\n",
        "process_folder(folder_path, crops_dir, threshold=0.3, has_lion=True)"
      ]
    },
    {
      "cell_type": "markdown",
      "metadata": {},
      "source": [
        "By loading the YOLO model finetuned on a lion-specific dataset, we successfully extracted high-quality lion crops. However, this finetuning process caused the model to lose its ability to recognize other animal species. This situation called catastrophic forgetting, which occurs when the model is updated with new information at the expense of previously learned knowledge. \n",
        "\n",
        "In future work, given adequate computational resources, we plan to explore more balanced and comprehensive datasets that allow us to finetune YOLO on additional animal classes while preserving its original recognition capabilities."
      ]
    },
    {
      "cell_type": "code",
      "execution_count": 30,
      "metadata": {},
      "outputs": [],
      "source": [
        "# Clip embeddings\n",
        "\n",
        "def run_clip_for_each_folder(mixed_crop_dir, output_pickle_dir, img_clip_script_path):\n",
        "    os.makedirs(output_pickle_dir, exist_ok=True)\n",
        "\n",
        "    for folder_name in os.listdir(mixed_crop_dir):\n",
        "        folder_path = os.path.join(mixed_crop_dir, folder_name)\n",
        "        if not os.path.isdir(folder_path):\n",
        "            continue\n",
        "\n",
        "        print(f\"\\nProcessing folder: {folder_name}\")\n",
        "        \n",
        "        image_paths = [os.path.join(folder_path, f) for f in os.listdir(folder_path)\n",
        "                       if f.lower().endswith(('.png', '.jpg', '.jpeg'))]\n",
        "\n",
        "        if not image_paths:\n",
        "            print(f\"  No images found in {folder_path}. Skipping.\")\n",
        "            continue\n",
        "\n",
        "        path_list_txt = os.path.join(output_pickle_dir, f\"{folder_name}_paths.txt\")\n",
        "        with open(path_list_txt, 'w') as f:\n",
        "            for path in image_paths:\n",
        "                f.write(path + '\\n')\n",
        "\n",
        "        try:\n",
        "            result = subprocess.run(\n",
        "                [\n",
        "                    sys.executable,\n",
        "                    img_clip_script_path,\n",
        "                    \"-save_dir\", output_pickle_dir,\n",
        "                    \"-path_list\", path_list_txt,\n",
        "                    \"-file_name\", folder_name\n",
        "                ],\n",
        "                check=True,\n",
        "                capture_output=True,\n",
        "                text=True\n",
        "            )\n",
        "            print(result.stdout)\n",
        "        except subprocess.CalledProcessError as e:\n",
        "            print(f\"Failed to generate CLIP for {folder_name}\")\n",
        "            print(\"stdout:\", e.stdout)\n",
        "            print(\"stderr:\", e.stderr)"
      ]
    },
    {
      "cell_type": "code",
      "execution_count": 32,
      "metadata": {},
      "outputs": [
        {
          "name": "stdout",
          "output_type": "stream",
          "text": [
            "E:\\LSE\\ST311\\ST311-Group-Project\\im2wav\\run\n",
            "E:\\LSE\\ST311\\ST311-Group-Project\\im2wav\\run\n"
          ]
        }
      ],
      "source": [
        "print(os.getcwd())\n",
        "os.chdir(Path(\"E:/LSE/ST311/ST311-Group-Project/im2wav/run\"))\n",
        "print(os.getcwd())"
      ]
    },
    {
      "cell_type": "code",
      "execution_count": null,
      "metadata": {},
      "outputs": [
        {
          "name": "stdout",
          "output_type": "stream",
          "text": [
            "\n",
            "Processing folder: cat_bird\n",
            "{'save_dir': 'E:\\\\LSE\\\\ST311\\\\ST311-Group-Project\\\\clip_pickles', 'path_list': 'E:\\\\LSE\\\\ST311\\\\ST311-Group-Project\\\\clip_pickles\\\\cat_bird_paths.txt', 'single_pickle': False, 'file_name': 'cat_bird'}\n",
            "image features class:  cat_bird1_bird1 (1, 512)\n",
            "image features class:  cat_bird1_cat0 (1, 512)\n",
            "image features class:  cat_bird2_bird1 (1, 512)\n",
            "image features class:  cat_bird2_cat0 (1, 512)\n",
            "Saved all features into E:\\LSE\\ST311\\ST311-Group-Project\\clip_pickles\\cat_bird.pickle\n",
            "\n",
            "\n",
            "Processing folder: cow_dog\n",
            "{'save_dir': 'E:\\\\LSE\\\\ST311\\\\ST311-Group-Project\\\\clip_pickles', 'path_list': 'E:\\\\LSE\\\\ST311\\\\ST311-Group-Project\\\\clip_pickles\\\\cow_dog_paths.txt', 'single_pickle': False, 'file_name': 'cow_dog'}\n",
            "image features class:  cow_dog1_cow0 (1, 512)\n",
            "image features class:  cow_dog1_dog1 (1, 512)\n",
            "image features class:  cow_dog2_cow0 (1, 512)\n",
            "image features class:  cow_dog2_dog1 (1, 512)\n",
            "image features class:  cow_dog5_cow0 (1, 512)\n",
            "image features class:  cow_dog5_dog1 (1, 512)\n",
            "Saved all features into E:\\LSE\\ST311\\ST311-Group-Project\\clip_pickles\\cow_dog.pickle\n",
            "\n",
            "\n",
            "Processing folder: cow_horse\n",
            "{'save_dir': 'E:\\\\LSE\\\\ST311\\\\ST311-Group-Project\\\\clip_pickles', 'path_list': 'E:\\\\LSE\\\\ST311\\\\ST311-Group-Project\\\\clip_pickles\\\\cow_horse_paths.txt', 'single_pickle': False, 'file_name': 'cow_horse'}\n",
            "image features class:  cow_horse1_cow1 (1, 512)\n",
            "image features class:  cow_horse1_horse0 (1, 512)\n",
            "image features class:  cow_horse2_cow0 (1, 512)\n",
            "image features class:  cow_horse2_horse1 (1, 512)\n",
            "image features class:  cow_horse3_cow0 (1, 512)\n",
            "image features class:  cow_horse3_horse1 (1, 512)\n",
            "image features class:  cow_horse4_cow1 (1, 512)\n",
            "image features class:  cow_horse4_horse0 (1, 512)\n",
            "Saved all features into E:\\LSE\\ST311\\ST311-Group-Project\\clip_pickles\\cow_horse.pickle\n",
            "\n",
            "\n",
            "Processing folder: cow_sheep\n",
            "{'save_dir': 'E:\\\\LSE\\\\ST311\\\\ST311-Group-Project\\\\clip_pickles', 'path_list': 'E:\\\\LSE\\\\ST311\\\\ST311-Group-Project\\\\clip_pickles\\\\cow_sheep_paths.txt', 'single_pickle': False, 'file_name': 'cow_sheep'}\n",
            "image features class:  cow_sheep2_cow0 (1, 512)\n",
            "image features class:  cow_sheep2_sheep1 (1, 512)\n",
            "image features class:  cow_sheep3_cow0 (1, 512)\n",
            "image features class:  cow_sheep3_sheep1 (1, 512)\n",
            "image features class:  cow_sheep4_cow0 (1, 512)\n",
            "image features class:  cow_sheep4_sheep1 (1, 512)\n",
            "Saved all features into E:\\LSE\\ST311\\ST311-Group-Project\\clip_pickles\\cow_sheep.pickle\n",
            "\n",
            "\n",
            "Processing folder: dog_bird\n",
            "{'save_dir': 'E:\\\\LSE\\\\ST311\\\\ST311-Group-Project\\\\clip_pickles', 'path_list': 'E:\\\\LSE\\\\ST311\\\\ST311-Group-Project\\\\clip_pickles\\\\dog_bird_paths.txt', 'single_pickle': False, 'file_name': 'dog_bird'}\n",
            "image features class:  dog_bird1_bird1 (1, 512)\n",
            "image features class:  dog_bird1_dog0 (1, 512)\n",
            "Saved all features into E:\\LSE\\ST311\\ST311-Group-Project\\clip_pickles\\dog_bird.pickle\n",
            "\n",
            "\n",
            "Processing folder: dog_cat\n",
            "{'save_dir': 'E:\\\\LSE\\\\ST311\\\\ST311-Group-Project\\\\clip_pickles', 'path_list': 'E:\\\\LSE\\\\ST311\\\\ST311-Group-Project\\\\clip_pickles\\\\dog_cat_paths.txt', 'single_pickle': False, 'file_name': 'dog_cat'}\n",
            "image features class:  dog_cat2_cat1 (1, 512)\n",
            "image features class:  dog_cat2_dog0 (1, 512)\n",
            "image features class:  dog_cat4_cat0 (1, 512)\n",
            "image features class:  dog_cat4_dog1 (1, 512)\n",
            "image features class:  dog_cat6_cat1 (1, 512)\n",
            "image features class:  dog_cat6_dog0 (1, 512)\n",
            "Saved all features into E:\\LSE\\ST311\\ST311-Group-Project\\clip_pickles\\dog_cat.pickle\n",
            "\n",
            "\n",
            "Processing folder: dog_horse\n",
            "{'save_dir': 'E:\\\\LSE\\\\ST311\\\\ST311-Group-Project\\\\clip_pickles', 'path_list': 'E:\\\\LSE\\\\ST311\\\\ST311-Group-Project\\\\clip_pickles\\\\dog_horse_paths.txt', 'single_pickle': False, 'file_name': 'dog_horse'}\n",
            "image features class:  dog_horse2_dog1 (1, 512)\n",
            "image features class:  dog_horse2_horse0 (1, 512)\n",
            "image features class:  dog_horse3_dog1 (1, 512)\n",
            "image features class:  dog_horse3_horse0 (1, 512)\n",
            "image features class:  dog_horse7_dog1 (1, 512)\n",
            "image features class:  dog_horse7_horse0 (1, 512)\n",
            "Saved all features into E:\\LSE\\ST311\\ST311-Group-Project\\clip_pickles\\dog_horse.pickle\n",
            "\n"
          ]
        }
      ],
      "source": [
        "output_pickle_dir = Path(\"E:/LSE/ST311/ST311-Group-Project/clip_pickles\")\n",
        "img_clip_script_path = Path(\"E:/LSE/ST311/ST311-Group-Project/im2wav/Data/preprocess/img_clip.py\")\n",
        "\n",
        "run_clip_for_each_folder(crops_dir, output_pickle_dir, img_clip_script_path)\n",
        "# To expanding the dataset, we use the same method added the crops of elephant_bird, horse_sheep, and elephant_lion"
      ]
    },
    {
      "cell_type": "markdown",
      "metadata": {},
      "source": [
        "## Inference"
      ]
    },
    {
      "cell_type": "code",
      "execution_count": 3,
      "metadata": {},
      "outputs": [],
      "source": [
        "def run_sample_generation(run_dir, pkl_file, sample_script_path, experiment_name, run_script_dir):\n",
        "    '''\n",
        "    Generate audio from crops using the im2wav model\n",
        "    '''\n",
        "    print(\"Generating audio from crops...\")\n",
        "    try:\n",
        "        subprocess.run(\n",
        "            [\n",
        "                \"python\", sample_script_path,\n",
        "                \"-bs\", \"2\",\n",
        "                \"-wav_per_object\", \"1\",\n",
        "                \"-experiment_name\", experiment_name,\n",
        "                \"-CLIP_dict\", pkl_file,\n",
        "                \"-models\", \"im2wav\",\n",
        "                \"-save_dir\", run_dir\n",
        "            ],\n",
        "            check=True,\n",
        "            cwd=run_script_dir,\n",
        "                capture_output=True,\n",
        "                text=True             \n",
        "        )\n",
        "    except subprocess.CalledProcessError as e:\n",
        "        print(\"Subprocess failed with error:\\n\")\n",
        "        print(\">>> STDOUT:\\n\", e.stdout)\n",
        "        print(\">>> STDERR:\\n\", e.stderr)\n",
        "        raise\n",
        "\n",
        "    audios_dir = os.path.join(run_dir, f\"/{experiment_name}/k_top0_p_top0/im2wav/l1\")\n",
        "    return audios_dir"
      ]
    },
    {
      "cell_type": "code",
      "execution_count": 4,
      "metadata": {},
      "outputs": [
        {
          "name": "stdout",
          "output_type": "stream",
          "text": [
            "e:\\LSE\\ST311\\ST311-Group-Project\n",
            "E:\\LSE\\ST311\\ST311-Group-Project\\im2wav\\run\n"
          ]
        }
      ],
      "source": [
        "print(os.getcwd())\n",
        "os.chdir(Path(\"E:/LSE/ST311/ST311-Group-Project/im2wav/run\"))\n",
        "print(os.getcwd())"
      ]
    },
    {
      "cell_type": "code",
      "execution_count": 43,
      "metadata": {},
      "outputs": [
        {
          "name": "stdout",
          "output_type": "stream",
          "text": [
            "Generating audio from crops...\n"
          ]
        },
        {
          "data": {
            "text/plain": [
              "'E:/cow_horse/k_top0_p_top0/im2wav/l1'"
            ]
          },
          "execution_count": 43,
          "metadata": {},
          "output_type": "execute_result"
        }
      ],
      "source": [
        "animal_name = \"cow_horse\"\n",
        "\n",
        "sample_script_path = os.path.abspath(\"E:/LSE/ST311/ST311-Group-Project/im2wav/models/sample.py\")\n",
        "run_script_dir = os.path.dirname(sample_script_path)\n",
        "run_dir = os.path.abspath(\"E:/LSE/ST311/ST311-Group-Project/audio_output\")\n",
        "pickle_path = os.path.abspath(f\"E:/LSE/ST311/ST311-Group-Project/clip_pickles/{animal_name}.pickle\")\n",
        "run_sample_generation(run_dir, pickle_path, sample_script_path, animal_name, run_script_dir)"
      ]
    },
    {
      "cell_type": "markdown",
      "metadata": {},
      "source": [
        "## Mix audios"
      ]
    },
    {
      "cell_type": "code",
      "execution_count": 46,
      "metadata": {},
      "outputs": [],
      "source": [
        "from collections import defaultdict\n",
        "from pydub import AudioSegment\n",
        "\n",
        "def mix_wav_files(audios_dir, output_audio_dir):\n",
        "    os.makedirs(output_audio_dir, exist_ok=True)\n",
        "\n",
        "    wav_files = [f for f in os.listdir(audios_dir) if f.endswith('.wav')]\n",
        "\n",
        "    grouped = defaultdict(list)\n",
        "    for wav in wav_files:\n",
        "        parts = wav.split(\"_\")\n",
        "        if len(parts) >= 3:\n",
        "            group_key = parts[1] + \"_\" + parts[2]  # 'cat_bird1'\n",
        "            grouped[group_key].append(wav)\n",
        "\n",
        "    if not grouped:\n",
        "        print(f\"No groups found in: {audios_dir}\")\n",
        "        return\n",
        "\n",
        "    for group_key, files in grouped.items():\n",
        "        if len(files) < 2:\n",
        "            print(f\"Skipping group '{group_key}' (only {len(files)} file)\")\n",
        "            continue\n",
        "\n",
        "        base_audio = AudioSegment.from_file(os.path.join(audios_dir, files[0]))\n",
        "        for wav in files[1:]:\n",
        "            new_audio = AudioSegment.from_file(os.path.join(audios_dir, wav))\n",
        "            base_audio = base_audio.overlay(new_audio)\n",
        "\n",
        "        output_path = os.path.join(output_audio_dir, f\"mixed_{group_key}.wav\")\n",
        "        base_audio.export(output_path, format=\"wav\")\n",
        "        print(f\"Mixed: {output_path}\")\n",
        "\n",
        "def mix_all_in_audio_output(audio_output_dir):\n",
        "    for exp_name in os.listdir(audio_output_dir):\n",
        "        exp_path = os.path.join(audio_output_dir, exp_name)\n",
        "        if not os.path.isdir(exp_path):\n",
        "            continue\n",
        "\n",
        "        l1_path = os.path.join(exp_path, \"k_top0_p_top0\", \"im2wav\", \"l1\")\n",
        "        if not os.path.exists(l1_path):\n",
        "            print(f\"Skip {exp_name}: l1 path not found.\")\n",
        "            continue\n",
        "\n",
        "        print(f\"\\nProcessing: {exp_name}\")\n",
        "        output_mix_dir = os.path.join(exp_path, \"mixed\")\n",
        "        mix_wav_files(l1_path, output_mix_dir)"
      ]
    },
    {
      "cell_type": "code",
      "execution_count": 47,
      "metadata": {},
      "outputs": [
        {
          "name": "stdout",
          "output_type": "stream",
          "text": [
            "\n",
            "Processing: cat_bird\n",
            "Mixed: E:/LSE/ST311/ST311-Group-Project/audio_output\\cat_bird\\mixed\\mixed_cat_bird1.wav\n",
            "Mixed: E:/LSE/ST311/ST311-Group-Project/audio_output\\cat_bird\\mixed\\mixed_cat_bird2.wav\n",
            "\n",
            "Processing: cow_dog\n",
            "Mixed: E:/LSE/ST311/ST311-Group-Project/audio_output\\cow_dog\\mixed\\mixed_cow_dog1.wav\n",
            "Mixed: E:/LSE/ST311/ST311-Group-Project/audio_output\\cow_dog\\mixed\\mixed_cow_dog2.wav\n",
            "Mixed: E:/LSE/ST311/ST311-Group-Project/audio_output\\cow_dog\\mixed\\mixed_cow_dog5.wav\n",
            "\n",
            "Processing: cow_horse\n",
            "Mixed: E:/LSE/ST311/ST311-Group-Project/audio_output\\cow_horse\\mixed\\mixed_cow_horse1.wav\n",
            "Mixed: E:/LSE/ST311/ST311-Group-Project/audio_output\\cow_horse\\mixed\\mixed_cow_horse2.wav\n",
            "Mixed: E:/LSE/ST311/ST311-Group-Project/audio_output\\cow_horse\\mixed\\mixed_cow_horse3.wav\n",
            "Mixed: E:/LSE/ST311/ST311-Group-Project/audio_output\\cow_horse\\mixed\\mixed_cow_horse4.wav\n",
            "\n",
            "Processing: cow_sheep\n",
            "Mixed: E:/LSE/ST311/ST311-Group-Project/audio_output\\cow_sheep\\mixed\\mixed_cow_sheep2.wav\n",
            "Mixed: E:/LSE/ST311/ST311-Group-Project/audio_output\\cow_sheep\\mixed\\mixed_cow_sheep3.wav\n",
            "Mixed: E:/LSE/ST311/ST311-Group-Project/audio_output\\cow_sheep\\mixed\\mixed_cow_sheep4.wav\n",
            "\n",
            "Processing: dog_bird\n",
            "Mixed: E:/LSE/ST311/ST311-Group-Project/audio_output\\dog_bird\\mixed\\mixed_dog_bird1.wav\n",
            "\n",
            "Processing: dog_cat\n",
            "Mixed: E:/LSE/ST311/ST311-Group-Project/audio_output\\dog_cat\\mixed\\mixed_dog_cat2.wav\n",
            "Mixed: E:/LSE/ST311/ST311-Group-Project/audio_output\\dog_cat\\mixed\\mixed_dog_cat4.wav\n",
            "Mixed: E:/LSE/ST311/ST311-Group-Project/audio_output\\dog_cat\\mixed\\mixed_dog_cat6.wav\n",
            "\n",
            "Processing: dog_horse\n",
            "Mixed: E:/LSE/ST311/ST311-Group-Project/audio_output\\dog_horse\\mixed\\mixed_dog_horse2.wav\n",
            "Mixed: E:/LSE/ST311/ST311-Group-Project/audio_output\\dog_horse\\mixed\\mixed_dog_horse3.wav\n",
            "Mixed: E:/LSE/ST311/ST311-Group-Project/audio_output\\dog_horse\\mixed\\mixed_dog_horse7.wav\n",
            "\n",
            "Processing: elephant_bird\n",
            "Mixed: E:/LSE/ST311/ST311-Group-Project/audio_output\\elephant_bird\\mixed\\mixed_elephant_bird1.wav\n",
            "\n",
            "Processing: elephant_lion\n",
            "Mixed: E:/LSE/ST311/ST311-Group-Project/audio_output\\elephant_lion\\mixed\\mixed_elephant_lion1.wav\n",
            "Mixed: E:/LSE/ST311/ST311-Group-Project/audio_output\\elephant_lion\\mixed\\mixed_elephant_lion3.wav\n",
            "Mixed: E:/LSE/ST311/ST311-Group-Project/audio_output\\elephant_lion\\mixed\\mixed_elephant_lion4.wav\n",
            "\n",
            "Processing: horse_sheep\n",
            "Mixed: E:/LSE/ST311/ST311-Group-Project/audio_output\\horse_sheep\\mixed\\mixed_horse_sheep1.wav\n",
            "Mixed: E:/LSE/ST311/ST311-Group-Project/audio_output\\horse_sheep\\mixed\\mixed_horse_sheep2.wav\n",
            "Skip mixed_test_audios: l1 path not found.\n",
            "Skip single_object_audios: l1 path not found.\n"
          ]
        }
      ],
      "source": [
        "mix_all_in_audio_output(\"E:/LSE/ST311/ST311-Group-Project/audio_output\")"
      ]
    }
  ],
  "metadata": {
    "accelerator": "GPU",
    "colab": {
      "gpuType": "T4",
      "provenance": []
    },
    "kernelspec": {
      "display_name": ".venv",
      "language": "python",
      "name": "python3"
    },
    "language_info": {
      "codemirror_mode": {
        "name": "ipython",
        "version": 3
      },
      "file_extension": ".py",
      "mimetype": "text/x-python",
      "name": "python",
      "nbconvert_exporter": "python",
      "pygments_lexer": "ipython3",
      "version": "3.9.13"
    }
  },
  "nbformat": 4,
  "nbformat_minor": 0
}
